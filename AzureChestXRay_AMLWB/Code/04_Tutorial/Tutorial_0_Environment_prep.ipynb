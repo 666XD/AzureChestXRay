{
 "cells": [
  {
   "cell_type": "markdown",
   "metadata": {},
   "source": [
    "# Dependency"
   ]
  },
  {
   "cell_type": "code",
   "execution_count": 1,
   "metadata": {
    "scrolled": false
   },
   "outputs": [
    {
     "name": "stdout",
     "output_type": "stream",
     "text": [
      "--2018-09-03 17:44:55--  https://raw.githubusercontent.com/Azure/AzureChestXRay/master/AzureChestXRay_AMLWB/Code/Tutorial/Tutorial_Using_Microsoft_AI_to_Build_a_Lung-Disease_Prediction_Model_Using_Chest_X-Ray_Images.ipynb\n",
      "Resolving raw.githubusercontent.com (raw.githubusercontent.com)... 151.101.40.133\n",
      "Connecting to raw.githubusercontent.com (raw.githubusercontent.com)|151.101.40.133|:443... connected.\n",
      "HTTP request sent, awaiting response... 200 OK\n",
      "Length: 236171 (231K) [text/plain]\n",
      "Saving to: ‘Tutorial_Using_Microsoft_AI_to_Build_a_Lung-Disease_Prediction_Model_Using_Chest_X-Ray_Images.ipynb.1’\n",
      "\n",
      "Tutorial_Using_Micr 100%[===================>] 230.64K  --.-KB/s    in 0.01s   \n",
      "\n",
      "2018-09-03 17:44:55 (19.9 MB/s) - ‘Tutorial_Using_Microsoft_AI_to_Build_a_Lung-Disease_Prediction_Model_Using_Chest_X-Ray_Images.ipynb.1’ saved [236171/236171]\n",
      "\n",
      "\u001b[33mThe directory '/home/xiaoyzhu/.cache/pip/http' or its parent directory is not owned by the current user and the cache has been disabled. Please check the permissions and owner of that directory. If executing pip with sudo, you may want sudo's -H flag.\u001b[0m\n",
      "\u001b[33mThe directory '/home/xiaoyzhu/.cache/pip' or its parent directory is not owned by the current user and caching wheels has been disabled. check the permissions and owner of that directory. If executing pip with sudo, you may want sudo's -H flag.\u001b[0m\n",
      "Collecting pip\n",
      "\u001b[?25l  Downloading https://files.pythonhosted.org/packages/5f/25/e52d3f31441505a5f3af41213346e5b6c221c9e086a166f3703d2ddaf940/pip-18.0-py2.py3-none-any.whl (1.3MB)\n",
      "\u001b[K    100% |████████████████████████████████| 1.3MB 22.8MB/s ta 0:00:01\n",
      "\u001b[31mmxnet-model-server 0.4 requires mxnet-mkl>=1.2, which is not installed.\u001b[0m\n",
      "\u001b[31mmxnet-model-server 0.4 has requirement onnx==1.1.1, but you'll have onnx 1.2.2 which is incompatible.\u001b[0m\n",
      "\u001b[31mblobxfer 1.3.1 has requirement requests==2.19.1, but you'll have requests 2.18.4 which is incompatible.\u001b[0m\n",
      "\u001b[31mblobxfer 1.3.1 has requirement ruamel.yaml==0.15.41, but you'll have ruamel-yaml 0.15.35 which is incompatible.\u001b[0m\n",
      "\u001b[?25hInstalling collected packages: pip\n",
      "  Found existing installation: pip 10.0.1\n",
      "    Uninstalling pip-10.0.1:\n",
      "      Successfully uninstalled pip-10.0.1\n",
      "Successfully installed pip-18.0\n",
      "\u001b[33mThe directory '/home/xiaoyzhu/.cache/pip/http' or its parent directory is not owned by the current user and the cache has been disabled. Please check the permissions and owner of that directory. If executing pip with sudo, you may want sudo's -H flag.\u001b[0m\n",
      "\u001b[33mThe directory '/home/xiaoyzhu/.cache/pip' or its parent directory is not owned by the current user and caching wheels has been disabled. check the permissions and owner of that directory. If executing pip with sudo, you may want sudo's -H flag.\u001b[0m\n",
      "Collecting git+https://www.github.com/keras-team/keras-contrib.git\n",
      "  Cloning https://www.github.com/keras-team/keras-contrib.git to /tmp/pip-req-build-rxvf690z\n",
      "Requirement already satisfied: keras in /anaconda/envs/py35/lib/python3.5/site-packages (from keras-contrib==2.0.8) (2.2.0)\n",
      "Requirement already satisfied: six>=1.9.0 in /anaconda/envs/py35/lib/python3.5/site-packages (from keras->keras-contrib==2.0.8) (1.11.0)\n",
      "Requirement already satisfied: numpy>=1.9.1 in /anaconda/envs/py35/lib/python3.5/site-packages (from keras->keras-contrib==2.0.8) (1.14.5)\n",
      "Requirement already satisfied: keras-applications==1.0.2 in /anaconda/envs/py35/lib/python3.5/site-packages (from keras->keras-contrib==2.0.8) (1.0.2)\n",
      "Requirement already satisfied: keras-preprocessing==1.0.1 in /anaconda/envs/py35/lib/python3.5/site-packages (from keras->keras-contrib==2.0.8) (1.0.1)\n",
      "Requirement already satisfied: pyyaml in /anaconda/envs/py35/lib/python3.5/site-packages (from keras->keras-contrib==2.0.8) (3.12)\n",
      "Requirement already satisfied: h5py in /anaconda/envs/py35/lib/python3.5/site-packages (from keras->keras-contrib==2.0.8) (2.7.1)\n",
      "Requirement already satisfied: scipy>=0.14 in /anaconda/envs/py35/lib/python3.5/site-packages (from keras->keras-contrib==2.0.8) (1.1.0)\n",
      "Installing collected packages: keras-contrib\n",
      "  Running setup.py install for keras-contrib ... \u001b[?25ldone\n",
      "\u001b[?25hSuccessfully installed keras-contrib-2.0.8\n",
      "\u001b[33mThe directory '/home/xiaoyzhu/.cache/pip/http' or its parent directory is not owned by the current user and the cache has been disabled. Please check the permissions and owner of that directory. If executing pip with sudo, you may want sudo's -H flag.\u001b[0m\n",
      "\u001b[33mThe directory '/home/xiaoyzhu/.cache/pip' or its parent directory is not owned by the current user and caching wheels has been disabled. check the permissions and owner of that directory. If executing pip with sudo, you may want sudo's -H flag.\u001b[0m\n",
      "Collecting git+https://github.com/onnx/onnxmltools\n",
      "  Cloning https://github.com/onnx/onnxmltools to /tmp/pip-req-build-nlys3x9a\n",
      "Requirement already satisfied: six in /anaconda/envs/py35/lib/python3.5/site-packages (from onnxmltools==1.2.2.129) (1.11.0)\n",
      "Requirement already satisfied: numpy in /anaconda/envs/py35/lib/python3.5/site-packages (from onnxmltools==1.2.2.129) (1.14.5)\n",
      "Requirement already satisfied: protobuf in /anaconda/envs/py35/lib/python3.5/site-packages (from onnxmltools==1.2.2.129) (3.6.0)\n",
      "Requirement already satisfied: onnx in /anaconda/envs/py35/lib/python3.5/site-packages (from onnxmltools==1.2.2.129) (1.2.2)\n",
      "Requirement already satisfied: setuptools in /anaconda/envs/py35/lib/python3.5/site-packages (from protobuf->onnxmltools==1.2.2.129) (39.1.0)\n",
      "Requirement already satisfied: typing>=3.6.4 in /anaconda/envs/py35/lib/python3.5/site-packages (from onnx->onnxmltools==1.2.2.129) (3.6.4)\n",
      "Requirement already satisfied: typing-extensions>=3.6.2.1 in /anaconda/envs/py35/lib/python3.5/site-packages (from onnx->onnxmltools==1.2.2.129) (3.6.5)\n",
      "Installing collected packages: onnxmltools\n",
      "  Found existing installation: onnxmltools 1.0.0.0\n",
      "    Uninstalling onnxmltools-1.0.0.0:\n",
      "      Successfully uninstalled onnxmltools-1.0.0.0\n",
      "  Running setup.py install for onnxmltools ... \u001b[?25ldone\n",
      "\u001b[?25hSuccessfully installed onnxmltools-1.2.2.129\n",
      "\u001b[33mThe directory '/home/xiaoyzhu/.cache/pip/http' or its parent directory is not owned by the current user and the cache has been disabled. Please check the permissions and owner of that directory. If executing pip with sudo, you may want sudo's -H flag.\u001b[0m\n",
      "\u001b[33mThe directory '/home/xiaoyzhu/.cache/pip' or its parent directory is not owned by the current user and caching wheels has been disabled. check the permissions and owner of that directory. If executing pip with sudo, you may want sudo's -H flag.\u001b[0m\n",
      "Collecting git+https://github.com/apple/coremltools\n",
      "  Cloning https://github.com/apple/coremltools to /tmp/pip-req-build-5hlyjm4m\n",
      "Requirement already satisfied: numpy>=1.10.0 in /anaconda/envs/py35/lib/python3.5/site-packages (from coremltools==2.0b1) (1.14.5)\n",
      "Requirement already satisfied: protobuf>=3.1.0 in /anaconda/envs/py35/lib/python3.5/site-packages (from coremltools==2.0b1) (3.6.0)\n",
      "Collecting six==1.10.0 (from coremltools==2.0b1)\n",
      "  Downloading https://files.pythonhosted.org/packages/c8/0a/b6723e1bc4c516cb687841499455a8505b44607ab535be01091c0f24f079/six-1.10.0-py2.py3-none-any.whl\n",
      "Requirement already satisfied: setuptools in /anaconda/envs/py35/lib/python3.5/site-packages (from protobuf>=3.1.0->coremltools==2.0b1) (39.1.0)\n",
      "\u001b[31mblobxfer 1.3.1 has requirement requests==2.19.1, but you'll have requests 2.18.4 which is incompatible.\u001b[0m\n",
      "\u001b[31mblobxfer 1.3.1 has requirement ruamel.yaml==0.15.41, but you'll have ruamel-yaml 0.15.35 which is incompatible.\u001b[0m\n",
      "Installing collected packages: six, coremltools\n",
      "  Found existing installation: six 1.11.0\n",
      "    Uninstalling six-1.11.0:\n",
      "      Successfully uninstalled six-1.11.0\n",
      "  Running setup.py install for coremltools ... \u001b[?25ldone\n",
      "\u001b[?25hSuccessfully installed coremltools-2.0b1 six-1.10.0\n"
     ]
    }
   ],
   "source": [
    "!wget https://raw.githubusercontent.com/Azure/AzureChestXRay/master/AzureChestXRay_AMLWB/Code/Tutorial/Tutorial_Using_Microsoft_AI_to_Build_a_Lung-Disease_Prediction_Model_Using_Chest_X-Ray_Images.ipynb\n",
    "!sudo /anaconda/envs/py35/bin/python -m pip install --upgrade pip\n",
    "!sudo /anaconda/envs/py35/bin/python -m pip install git+https://github.com/keisen/keras-contrib/tree/issues/%23291-updated.git\n",
    "# may need to use this repo instead: https://github.com/xiaoyongzhu/keras-contrib.git\n",
    "!sudo /anaconda/envs/py35/bin/python -m pip install git+https://github.com/onnx/onnxmltools\n",
    "!sudo /anaconda/envs/py35/bin/python -m pip install git+https://github.com/apple/coremltools\n",
    "!sudo mkdir -p /usr/local/share/xraytutorial\n",
    "!sudo chmod 666 /usr/local/share/xraytutorial"
   ]
  },
  {
   "cell_type": "markdown",
   "metadata": {},
   "source": [
    "# Create Users"
   ]
  },
  {
   "cell_type": "code",
   "execution_count": 5,
   "metadata": {},
   "outputs": [],
   "source": [
    "!sudo mkdir -p /usr/local/share/xraytutorial\n",
    "!sudo chmod 777 /usr/local/share/xraytutorial\n",
    "!sudo mkdir -p /mnt/xraytutorial\n",
    "!sudo chmod 777 /mnt/xraytutorial"
   ]
  },
  {
   "cell_type": "code",
   "execution_count": 3,
   "metadata": {
    "scrolled": false
   },
   "outputs": [
    {
     "name": "stdout",
     "output_type": "stream",
     "text": [
      "sudo useradd -p22tFtxxh45K.Y xrayuser0 -m\n",
      "sudo cp Tutorial_Using_Microsoft_AI_to_Build_a_Lung-Disease_Prediction_Model_Using_Chest_X-Ray_Images.ipynb  /home/xrayuser0/notebooks/\n",
      "xrayuser0 is created!\n",
      "sudo useradd -p22tFtxxh45K.Y xrayuser1 -m\n",
      "sudo cp Tutorial_Using_Microsoft_AI_to_Build_a_Lung-Disease_Prediction_Model_Using_Chest_X-Ray_Images.ipynb  /home/xrayuser1/notebooks/\n",
      "xrayuser1 is created!\n",
      "sudo useradd -p22tFtxxh45K.Y xrayuser2 -m\n",
      "sudo cp Tutorial_Using_Microsoft_AI_to_Build_a_Lung-Disease_Prediction_Model_Using_Chest_X-Ray_Images.ipynb  /home/xrayuser2/notebooks/\n",
      "xrayuser2 is created!\n",
      "sudo useradd -p22tFtxxh45K.Y xrayuser3 -m\n",
      "sudo cp Tutorial_Using_Microsoft_AI_to_Build_a_Lung-Disease_Prediction_Model_Using_Chest_X-Ray_Images.ipynb  /home/xrayuser3/notebooks/\n",
      "xrayuser3 is created!\n"
     ]
    }
   ],
   "source": [
    "import os\n",
    "import crypt\n",
    "import shutil \n",
    "\n",
    "total_user_amount = 4\n",
    "username_prefix = \"xrayuser\"\n",
    "password =\"xrayuserpw\" \n",
    "\n",
    "for i in range(total_user_amount):\n",
    "    username = username_prefix+str(i)\n",
    "    encPass = crypt.crypt(password,\"22\")\n",
    "    cmd = \"sudo useradd -p\"+encPass+\" \" + username + \" -m\"\n",
    "    print(cmd)\n",
    "    ret = os.system(cmd)\n",
    "    if ret == 0:\n",
    "        cmd = \"sudo cp -r ../../../../AzureChestXRay/  /home/\" + username + \"/notebooks/\"\n",
    "        print(cmd)\n",
    "        os.system(cmd)\n",
    "        cmd = \"sudo chown -R \" + username + \" /home/\"+ username + \"/notebooks/AzureChestXRay/\"\n",
    "        os.system(cmd)\n",
    "        print(username, \"is created!\")\n",
    "        \n",
    "    else:\n",
    "        print(username, \"creation failed\")\n",
    "# os.system(\"sudo useradd -m LOGIN\")\n",
    "\n",
    "\n"
   ]
  },
  {
   "cell_type": "markdown",
   "metadata": {},
   "source": [
    "# Prep the files"
   ]
  },
  {
   "cell_type": "code",
   "execution_count": 4,
   "metadata": {},
   "outputs": [],
   "source": [
    "from requests import get  # to make GET request\n",
    "def download(url, file_name):\n",
    "    # open in binary mode\n",
    "    with open(file_name, \"wb\") as file:\n",
    "        # get request\n",
    "        response = get(url)\n",
    "        # write to file\n",
    "        file.write(response.content)\n",
    "\n",
    "data_path = \"/usr/local/share/xraytutorial\"\n",
    "images_path = os.path.join(data_path, 'images.zip')\n",
    "images_extracted_path = os.path.join(data_path, 'images')\n",
    "pre_trained_model_path = os.path.join(data_path, 'chexray_14_weights_712split_epoch_054_val_loss_191.2588.hdf5')\n",
    "label_path = os.path.join(data_path, 'Data_Entry_2017.csv')\n",
    "\n",
    "download('https://chestxray.blob.core.windows.net/chestxraytutorial/tutorial_xray/images.zip', images_path)\n",
    "download('https://chestxray.blob.core.windows.net/chestxraytutorial/tutorial_xray/Data_Entry_2017.csv', label_path)\n",
    "download('https://chestxray.blob.core.windows.net/chestxraytutorial/tutorial_xray/chexray_14_weights_712split_epoch_054_val_loss_191.2588.hdf5', pre_trained_model_path)\n",
    "\n",
    "import zipfile\n",
    "with zipfile.ZipFile(images_path,\"r\") as zip_ref:\n",
    "    zip_ref.extractall(images_extracted_path)"
   ]
  },
  {
   "cell_type": "markdown",
   "metadata": {},
   "source": [
    "# Clean up users"
   ]
  },
  {
   "cell_type": "code",
   "execution_count": 5,
   "metadata": {},
   "outputs": [],
   "source": [
    "#cleanup function\n",
    "for i in range(total_user_amount):\n",
    "    username = \"xrayuser\"+str(i)\n",
    "    os.system(\"sudo userdel -r \" + username)\n"
   ]
  },
  {
   "cell_type": "code",
   "execution_count": null,
   "metadata": {},
   "outputs": [],
   "source": []
  }
 ],
 "metadata": {
  "kernelspec": {
   "display_name": "Python 3",
   "language": "python",
   "name": "python3"
  },
  "language_info": {
   "codemirror_mode": {
    "name": "ipython",
    "version": 3
   },
   "file_extension": ".py",
   "mimetype": "text/x-python",
   "name": "python",
   "nbconvert_exporter": "python",
   "pygments_lexer": "ipython3",
   "version": "3.5.5"
  }
 },
 "nbformat": 4,
 "nbformat_minor": 2
}
