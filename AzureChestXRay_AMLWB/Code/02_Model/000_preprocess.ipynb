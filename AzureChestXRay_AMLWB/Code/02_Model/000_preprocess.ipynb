{
 "cells": [
  {
   "cell_type": "markdown",
   "metadata": {},
   "source": [
    "## Data preprocessing\n",
    "\n",
    "##### Copyright (C) Microsoft Corporation.  \n",
    "see license file for details "
   ]
  },
  {
   "cell_type": "code",
   "execution_count": 1,
   "metadata": {},
   "outputs": [],
   "source": [
    "# Allow multiple displays per cell\n",
    "from IPython.core.interactiveshell import InteractiveShell\n",
    "InteractiveShell.ast_node_interactivity = \"all\""
   ]
  },
  {
   "cell_type": "code",
   "execution_count": 2,
   "metadata": {},
   "outputs": [
    {
     "data": {
      "text/plain": [
       "'/azureml-share/'"
      ]
     },
     "execution_count": 2,
     "metadata": {},
     "output_type": "execute_result"
    }
   ],
   "source": [
    "# AZUREML_NATIVE_SHARE_DIRECTORY mapping to host dir is set by _nativeSharedDirectory_ in .compute file \n",
    "\n",
    "import os\n",
    "try:\n",
    "    amlWBSharedDir = os.environ['AZUREML_NATIVE_SHARE_DIRECTORY']    \n",
    "except:\n",
    "    amlWBSharedDir = ''\n",
    "    print('not using aml services?')\n",
    "    \n",
    "amlWBSharedDir"
   ]
  },
  {
   "cell_type": "code",
   "execution_count": 3,
   "metadata": {},
   "outputs": [],
   "source": [
    "# Use the Azure Machine Learning data collector to log various metrics\n",
    "from azureml.logging import get_azureml_logger\n",
    "logger = get_azureml_logger()"
   ]
  },
  {
   "cell_type": "code",
   "execution_count": 4,
   "metadata": {},
   "outputs": [],
   "source": [
    "# Use Azure Machine Learning history magic to control history collection\n",
    "# History is off by default, options are \"on\", \"off\", or \"show\"\n",
    "# %azureml history on"
   ]
  },
  {
   "cell_type": "code",
   "execution_count": 5,
   "metadata": {},
   "outputs": [
    {
     "data": {
      "text/plain": [
       "[None]"
      ]
     },
     "execution_count": 5,
     "metadata": {},
     "output_type": "execute_result"
    }
   ],
   "source": [
    "# import utlity functions\n",
    "\n",
    "import sys, os\n",
    "paths_to_append = [os.path.join(os.getcwd(), os.path.join(*(['Code',  'src'])))]\n",
    "def add_path_to_sys_path(path_to_append):\n",
    "    if not (any(path_to_append in paths for paths in sys.path)):\n",
    "        sys.path.append(path_to_append)\n",
    "\n",
    "[add_path_to_sys_path(crt_path) for crt_path in paths_to_append]\n",
    "\n",
    "import azure_chestxray_utils"
   ]
  },
  {
   "cell_type": "markdown",
   "metadata": {},
   "source": [
    "#### Path variables"
   ]
  },
  {
   "cell_type": "code",
   "execution_count": 6,
   "metadata": {},
   "outputs": [
    {
     "data": {
      "text/plain": [
       "'/azureml-share/chestxray/data/ChestX-ray8'"
      ]
     },
     "execution_count": 6,
     "metadata": {},
     "output_type": "execute_result"
    },
    {
     "data": {
      "text/plain": [
       "'/azureml-share/chestxray/output'"
      ]
     },
     "execution_count": 6,
     "metadata": {},
     "output_type": "execute_result"
    }
   ],
   "source": [
    "# create base directories for the file path variables \n",
    "# paths are tipically container level dirs mapped to a host dir for data persistence.\n",
    "\n",
    "prj_consts = azure_chestxray_utils.chestxray_consts()\n",
    "\n",
    "data_base_input_dir=os.path.join(amlWBSharedDir, os.path.join(*(prj_consts.BASE_INPUT_DIR_list)))\n",
    "data_base_output_dir=os.path.join(amlWBSharedDir, os.path.join(*(prj_consts.BASE_OUTPUT_DIR_list)))  \n",
    "\n",
    "data_base_input_dir\n",
    "data_base_output_dir\n"
   ]
  },
  {
   "cell_type": "code",
   "execution_count": 7,
   "metadata": {},
   "outputs": [
    {
     "data": {
      "text/plain": [
       "'/azureml-share/chestxray/data/ChestX-ray8/ChestXray-NIHCC'"
      ]
     },
     "execution_count": 7,
     "metadata": {},
     "output_type": "execute_result"
    },
    {
     "name": "stdout",
     "output_type": "stream",
     "text": [
      "orig images number:['112120'] \n"
     ]
    }
   ],
   "source": [
    "# chest xray images are in nih_chest_xray_data_dir\n",
    "nih_chest_xray_data_dir=os.path.join(data_base_input_dir, \n",
    "                                     os.path.join(*(prj_consts.ChestXray_IMAGES_DIR_list)))\n",
    "nih_chest_xray_data_dir\n",
    "\n",
    "# check if we have all 112120 images in nih_chest_xray_data_dir\n",
    "orig_images_no = !find $nih_chest_xray_data_dir -type f | wc -l\n",
    "print(\"orig images number:{} \".format(orig_images_no))"
   ]
  },
  {
   "cell_type": "code",
   "execution_count": 8,
   "metadata": {},
   "outputs": [
    {
     "data": {
      "text/plain": [
       "'/azureml-share/chestxray/data/ChestX-ray8/ChestXray-NIHCC_other'"
      ]
     },
     "execution_count": 8,
     "metadata": {},
     "output_type": "execute_result"
    },
    {
     "data": {
      "text/plain": [
       "'/azureml-share/chestxray/data/ChestX-ray8/ChestXray-NIHCC_other/blacklist.csv'"
      ]
     },
     "execution_count": 8,
     "metadata": {},
     "output_type": "execute_result"
    },
    {
     "name": "stdout",
     "output_type": "stream",
     "text": [
      "BBox_List_2017.csv  Data_Entry_2017.csv  blacklist.csv\r\n"
     ]
    }
   ],
   "source": [
    "# check if we have patients file list Data_Entry_2017.csv and BBox_List_2017.csv (https://nihcc.app.box.com/v/ChestXray-NIHCC)\n",
    "# blacklist.csv is genrated by data scientists with no medical background\n",
    "\n",
    "other_data_dir=os.path.join(data_base_input_dir, os.path.join(*(prj_consts.ChestXray_OTHER_DATA_DIR_list)))\n",
    "other_data_dir\n",
    "# !mkdir -p {other_data_dir}\n",
    "\n",
    "import shutil\n",
    "shutil.copyfile(os.path.join(os.getcwd(), os.path.join(*(['Code','src','finding_lungs','blacklist_non_PA_AP_view.csv']))),\n",
    "                os.path.join(other_data_dir,'blacklist.csv'))\n",
    "\n",
    "!ls $other_data_dir\n",
    "\n",
    "# data is split into train/test/validation partitions\n",
    "data_partitions_dir=os.path.join(data_base_output_dir, os.path.join(*(prj_consts.DATA_PARTITIONS_DIR_list)))  \n",
    "!mkdir -p {data_partitions_dir}"
   ]
  },
  {
   "cell_type": "code",
   "execution_count": 9,
   "metadata": {},
   "outputs": [],
   "source": [
    "import pickle\n",
    "import random\n",
    "import re\n",
    "import tqdm\n",
    "\n",
    "import cv2\n",
    "import numpy as np\n",
    "import pandas as pd\n",
    "import sklearn.model_selection "
   ]
  },
  {
   "cell_type": "markdown",
   "metadata": {},
   "source": [
    "#### Train/Validation/Test Data partitioning \n",
    " - remove the images in the blacklist.csv where the image has low quality. \n",
    " - remove the NIH bounding box patients since we will save those patients for later validation use. \n",
    " - We will also divide data into train/valid/test dataset using a 7:1:2 ratio."
   ]
  },
  {
   "cell_type": "code",
   "execution_count": 10,
   "metadata": {},
   "outputs": [
    {
     "name": "stdout",
     "output_type": "stream",
     "text": [
      "len of original patient id is 30805\n",
      "len of cleaned patient id is 30079\n",
      "len of unique patient id with annotated data 726\n",
      "len of patient id with annotated data 984\n"
     ]
    }
   ],
   "source": [
    "# remove NIH manually annotated data (groung truth with heavy pathologies, no healthy patients) \n",
    "# exclude what visusally looks like bad images to data scientists with no medical background\n",
    "# todo\n",
    "# This should prob be a generic function\n",
    "\n",
    "\n",
    "total_patient_number = 30805\n",
    "NIH_annotated_file = 'BBox_List_2017.csv' # exclude from train pathology annotated by radiologists \n",
    "manually_selected_bad_images_file = 'blacklist.csv'# exclude what viusally looks like bad images\n",
    "\n",
    "patient_id_original = [i for i in range(1,total_patient_number + 1)]\n",
    "\n",
    "# ignored images list is used later, since this is not a patient ID level issue\n",
    "ignored_images_set = set()\n",
    "with open(os.path.join(other_data_dir, manually_selected_bad_images_file), 'r') as f:\n",
    "    for line in f:\n",
    "        # delete the last char which is \\n\n",
    "        ignored_images_set.add(line[:-1])\n",
    "        if int(line[:-9]) >= 30805:\n",
    "            print(line[:-1])\n",
    "\n",
    "bbox_df = pd.read_csv(os.path.join(other_data_dir, NIH_annotated_file))\n",
    "bbox_patient_index_df = bbox_df['Image Index'].str.slice(3, 8)\n",
    "\n",
    "bbox_patient_index_list = []\n",
    "for index, item in bbox_patient_index_df.iteritems():\n",
    "    bbox_patient_index_list.append(int(item))\n",
    "\n",
    "patient_id = list(set(patient_id_original) - set(bbox_patient_index_list))\n",
    "print(\"len of original patient id is\", len(patient_id_original))\n",
    "print(\"len of cleaned patient id is\", len(patient_id))\n",
    "print(\"len of unique patient id with annotated data\", \n",
    "      len(list(set(bbox_patient_index_list))))\n",
    "print(\"len of patient id with annotated data\",bbox_df.shape[0])\n"
   ]
  },
  {
   "cell_type": "code",
   "execution_count": 11,
   "metadata": {},
   "outputs": [
    {
     "name": "stderr",
     "output_type": "stream",
     "text": [
      "\r",
      "  0%|          | 0/984 [00:00<?, ?it/s]"
     ]
    },
    {
     "name": "stdout",
     "output_type": "stream",
     "text": [
      "WARNING: image file 00013118_008.png already exists in /azureml-share/chestxray/data/ChestX-ray8/test_images\n"
     ]
    },
    {
     "data": {
      "text/plain": [
       "'/azureml-share/chestxray/data/ChestX-ray8/test_images/00013118_008.png'"
      ]
     },
     "execution_count": 11,
     "metadata": {},
     "output_type": "execute_result"
    },
    {
     "name": "stdout",
     "output_type": "stream",
     "text": [
      "WARNING: image file 00014716_007.png already exists in /azureml-share/chestxray/data/ChestX-ray8/test_images\n"
     ]
    },
    {
     "data": {
      "text/plain": [
       "'/azureml-share/chestxray/data/ChestX-ray8/test_images/00014716_007.png'"
      ]
     },
     "execution_count": 11,
     "metadata": {},
     "output_type": "execute_result"
    },
    {
     "name": "stdout",
     "output_type": "stream",
     "text": [
      "WARNING: image file 00029817_009.png already exists in /azureml-share/chestxray/data/ChestX-ray8/test_images\n"
     ]
    },
    {
     "data": {
      "text/plain": [
       "'/azureml-share/chestxray/data/ChestX-ray8/test_images/00029817_009.png'"
      ]
     },
     "execution_count": 11,
     "metadata": {},
     "output_type": "execute_result"
    },
    {
     "name": "stdout",
     "output_type": "stream",
     "text": [
      "WARNING: image file 00014687_001.png already exists in /azureml-share/chestxray/data/ChestX-ray8/test_images\n"
     ]
    },
    {
     "data": {
      "text/plain": [
       "'/azureml-share/chestxray/data/ChestX-ray8/test_images/00014687_001.png'"
      ]
     },
     "execution_count": 11,
     "metadata": {},
     "output_type": "execute_result"
    },
    {
     "name": "stdout",
     "output_type": "stream",
     "text": [
      "WARNING: image file 00017877_001.png already exists in /azureml-share/chestxray/data/ChestX-ray8/test_images\n"
     ]
    },
    {
     "data": {
      "text/plain": [
       "'/azureml-share/chestxray/data/ChestX-ray8/test_images/00017877_001.png'"
      ]
     },
     "execution_count": 11,
     "metadata": {},
     "output_type": "execute_result"
    },
    {
     "name": "stdout",
     "output_type": "stream",
     "text": [
      "WARNING: image file 00003148_004.png already exists in /azureml-share/chestxray/data/ChestX-ray8/test_images\n"
     ]
    },
    {
     "data": {
      "text/plain": [
       "'/azureml-share/chestxray/data/ChestX-ray8/test_images/00003148_004.png'"
      ]
     },
     "execution_count": 11,
     "metadata": {},
     "output_type": "execute_result"
    },
    {
     "name": "stdout",
     "output_type": "stream",
     "text": [
      "WARNING: image file 00012515_002.png already exists in /azureml-share/chestxray/data/ChestX-ray8/test_images\n"
     ]
    },
    {
     "data": {
      "text/plain": [
       "'/azureml-share/chestxray/data/ChestX-ray8/test_images/00012515_002.png'"
      ]
     },
     "execution_count": 11,
     "metadata": {},
     "output_type": "execute_result"
    },
    {
     "name": "stdout",
     "output_type": "stream",
     "text": [
      "WARNING: image file 00022098_006.png already exists in /azureml-share/chestxray/data/ChestX-ray8/test_images\n"
     ]
    },
    {
     "data": {
      "text/plain": [
       "'/azureml-share/chestxray/data/ChestX-ray8/test_images/00022098_006.png'"
      ]
     },
     "execution_count": 11,
     "metadata": {},
     "output_type": "execute_result"
    },
    {
     "name": "stdout",
     "output_type": "stream",
     "text": [
      "WARNING: image file 00014198_000.png already exists in /azureml-share/chestxray/data/ChestX-ray8/test_images\n"
     ]
    },
    {
     "data": {
      "text/plain": [
       "'/azureml-share/chestxray/data/ChestX-ray8/test_images/00014198_000.png'"
      ]
     },
     "execution_count": 11,
     "metadata": {},
     "output_type": "execute_result"
    },
    {
     "name": "stdout",
     "output_type": "stream",
     "text": [
      "WARNING: image file 00021007_000.png already exists in /azureml-share/chestxray/data/ChestX-ray8/test_images\n"
     ]
    },
    {
     "data": {
      "text/plain": [
       "'/azureml-share/chestxray/data/ChestX-ray8/test_images/00021007_000.png'"
      ]
     },
     "execution_count": 11,
     "metadata": {},
     "output_type": "execute_result"
    },
    {
     "name": "stdout",
     "output_type": "stream",
     "text": [
      "WARNING: image file 00030674_000.png already exists in /azureml-share/chestxray/data/ChestX-ray8/test_images\n"
     ]
    },
    {
     "data": {
      "text/plain": [
       "'/azureml-share/chestxray/data/ChestX-ray8/test_images/00030674_000.png'"
      ]
     },
     "execution_count": 11,
     "metadata": {},
     "output_type": "execute_result"
    },
    {
     "name": "stdout",
     "output_type": "stream",
     "text": [
      "WARNING: image file 00003945_004.png already exists in /azureml-share/chestxray/data/ChestX-ray8/test_images\n"
     ]
    },
    {
     "data": {
      "text/plain": [
       "'/azureml-share/chestxray/data/ChestX-ray8/test_images/00003945_004.png'"
      ]
     },
     "execution_count": 11,
     "metadata": {},
     "output_type": "execute_result"
    },
    {
     "name": "stdout",
     "output_type": "stream",
     "text": [
      "WARNING: image file 00000808_002.png already exists in /azureml-share/chestxray/data/ChestX-ray8/test_images\n"
     ]
    },
    {
     "data": {
      "text/plain": [
       "'/azureml-share/chestxray/data/ChestX-ray8/test_images/00000808_002.png'"
      ]
     },
     "execution_count": 11,
     "metadata": {},
     "output_type": "execute_result"
    },
    {
     "name": "stdout",
     "output_type": "stream",
     "text": [
      "WARNING: image file 00006621_004.png already exists in /azureml-share/chestxray/data/ChestX-ray8/test_images\n"
     ]
    },
    {
     "data": {
      "text/plain": [
       "'/azureml-share/chestxray/data/ChestX-ray8/test_images/00006621_004.png'"
      ]
     },
     "execution_count": 11,
     "metadata": {},
     "output_type": "execute_result"
    },
    {
     "name": "stdout",
     "output_type": "stream",
     "text": [
      "WARNING: image file 00000865_006.png already exists in /azureml-share/chestxray/data/ChestX-ray8/test_images\n"
     ]
    },
    {
     "data": {
      "text/plain": [
       "'/azureml-share/chestxray/data/ChestX-ray8/test_images/00000865_006.png'"
      ]
     },
     "execution_count": 11,
     "metadata": {},
     "output_type": "execute_result"
    },
    {
     "name": "stdout",
     "output_type": "stream",
     "text": [
      "WARNING: image file 00028452_001.png already exists in /azureml-share/chestxray/data/ChestX-ray8/test_images\n"
     ]
    },
    {
     "data": {
      "text/plain": [
       "'/azureml-share/chestxray/data/ChestX-ray8/test_images/00028452_001.png'"
      ]
     },
     "execution_count": 11,
     "metadata": {},
     "output_type": "execute_result"
    },
    {
     "name": "stdout",
     "output_type": "stream",
     "text": [
      "WARNING: image file 00007557_026.png already exists in /azureml-share/chestxray/data/ChestX-ray8/test_images\n"
     ]
    },
    {
     "data": {
      "text/plain": [
       "'/azureml-share/chestxray/data/ChestX-ray8/test_images/00007557_026.png'"
      ]
     },
     "execution_count": 11,
     "metadata": {},
     "output_type": "execute_result"
    },
    {
     "name": "stdout",
     "output_type": "stream",
     "text": [
      "WARNING: image file 00000181_061.png already exists in /azureml-share/chestxray/data/ChestX-ray8/test_images\n"
     ]
    },
    {
     "data": {
      "text/plain": [
       "'/azureml-share/chestxray/data/ChestX-ray8/test_images/00000181_061.png'"
      ]
     },
     "execution_count": 11,
     "metadata": {},
     "output_type": "execute_result"
    },
    {
     "name": "stdout",
     "output_type": "stream",
     "text": [
      "WARNING: image file 00009669_003.png already exists in /azureml-share/chestxray/data/ChestX-ray8/test_images\n"
     ]
    },
    {
     "data": {
      "text/plain": [
       "'/azureml-share/chestxray/data/ChestX-ray8/test_images/00009669_003.png'"
      ]
     },
     "execution_count": 11,
     "metadata": {},
     "output_type": "execute_result"
    },
    {
     "name": "stdout",
     "output_type": "stream",
     "text": [
      "WARNING: image file 00025368_014.png already exists in /azureml-share/chestxray/data/ChestX-ray8/test_images\n"
     ]
    },
    {
     "data": {
      "text/plain": [
       "'/azureml-share/chestxray/data/ChestX-ray8/test_images/00025368_014.png'"
      ]
     },
     "execution_count": 11,
     "metadata": {},
     "output_type": "execute_result"
    },
    {
     "name": "stdout",
     "output_type": "stream",
     "text": [
      "WARNING: image file 00000468_033.png already exists in /azureml-share/chestxray/data/ChestX-ray8/test_images\n"
     ]
    },
    {
     "data": {
      "text/plain": [
       "'/azureml-share/chestxray/data/ChestX-ray8/test_images/00000468_033.png'"
      ]
     },
     "execution_count": 11,
     "metadata": {},
     "output_type": "execute_result"
    },
    {
     "name": "stdout",
     "output_type": "stream",
     "text": [
      "WARNING: image file 00010770_000.png already exists in /azureml-share/chestxray/data/ChestX-ray8/test_images\n"
     ]
    },
    {
     "data": {
      "text/plain": [
       "'/azureml-share/chestxray/data/ChestX-ray8/test_images/00010770_000.png'"
      ]
     },
     "execution_count": 11,
     "metadata": {},
     "output_type": "execute_result"
    },
    {
     "name": "stdout",
     "output_type": "stream",
     "text": [
      "WARNING: image file 00016972_019.png already exists in /azureml-share/chestxray/data/ChestX-ray8/test_images\n"
     ]
    },
    {
     "data": {
      "text/plain": [
       "'/azureml-share/chestxray/data/ChestX-ray8/test_images/00016972_019.png'"
      ]
     },
     "execution_count": 11,
     "metadata": {},
     "output_type": "execute_result"
    },
    {
     "name": "stderr",
     "output_type": "stream",
     "text": [
      "\r",
      "  2%|▏         | 23/984 [00:00<00:04, 222.34it/s]"
     ]
    },
    {
     "name": "stdout",
     "output_type": "stream",
     "text": [
      "WARNING: image file 00030635_001.png already exists in /azureml-share/chestxray/data/ChestX-ray8/test_images\n"
     ]
    },
    {
     "data": {
      "text/plain": [
       "'/azureml-share/chestxray/data/ChestX-ray8/test_images/00030635_001.png'"
      ]
     },
     "execution_count": 11,
     "metadata": {},
     "output_type": "execute_result"
    },
    {
     "name": "stdout",
     "output_type": "stream",
     "text": [
      "WARNING: image file 00021481_014.png already exists in /azureml-share/chestxray/data/ChestX-ray8/test_images\n"
     ]
    },
    {
     "data": {
      "text/plain": [
       "'/azureml-share/chestxray/data/ChestX-ray8/test_images/00021481_014.png'"
      ]
     },
     "execution_count": 11,
     "metadata": {},
     "output_type": "execute_result"
    },
    {
     "name": "stdout",
     "output_type": "stream",
     "text": [
      "WARNING: image file 00019124_045.png already exists in /azureml-share/chestxray/data/ChestX-ray8/test_images\n"
     ]
    },
    {
     "data": {
      "text/plain": [
       "'/azureml-share/chestxray/data/ChestX-ray8/test_images/00019124_045.png'"
      ]
     },
     "execution_count": 11,
     "metadata": {},
     "output_type": "execute_result"
    },
    {
     "name": "stdout",
     "output_type": "stream",
     "text": [
      "WARNING: image file 00022883_002.png already exists in /azureml-share/chestxray/data/ChestX-ray8/test_images\n"
     ]
    },
    {
     "data": {
      "text/plain": [
       "'/azureml-share/chestxray/data/ChestX-ray8/test_images/00022883_002.png'"
      ]
     },
     "execution_count": 11,
     "metadata": {},
     "output_type": "execute_result"
    },
    {
     "name": "stdout",
     "output_type": "stream",
     "text": [
      "WARNING: image file 00028173_016.png already exists in /azureml-share/chestxray/data/ChestX-ray8/test_images\n"
     ]
    },
    {
     "data": {
      "text/plain": [
       "'/azureml-share/chestxray/data/ChestX-ray8/test_images/00028173_016.png'"
      ]
     },
     "execution_count": 11,
     "metadata": {},
     "output_type": "execute_result"
    },
    {
     "name": "stdout",
     "output_type": "stream",
     "text": [
      "WARNING: image file 00027094_003.png already exists in /azureml-share/chestxray/data/ChestX-ray8/test_images\n"
     ]
    },
    {
     "data": {
      "text/plain": [
       "'/azureml-share/chestxray/data/ChestX-ray8/test_images/00027094_003.png'"
      ]
     },
     "execution_count": 11,
     "metadata": {},
     "output_type": "execute_result"
    },
    {
     "name": "stdout",
     "output_type": "stream",
     "text": [
      "WARNING: image file 00012123_001.png already exists in /azureml-share/chestxray/data/ChestX-ray8/test_images\n"
     ]
    },
    {
     "data": {
      "text/plain": [
       "'/azureml-share/chestxray/data/ChestX-ray8/test_images/00012123_001.png'"
      ]
     },
     "execution_count": 11,
     "metadata": {},
     "output_type": "execute_result"
    },
    {
     "name": "stdout",
     "output_type": "stream",
     "text": [
      "WARNING: image file 00020113_017.png already exists in /azureml-share/chestxray/data/ChestX-ray8/test_images\n"
     ]
    },
    {
     "data": {
      "text/plain": [
       "'/azureml-share/chestxray/data/ChestX-ray8/test_images/00020113_017.png'"
      ]
     },
     "execution_count": 11,
     "metadata": {},
     "output_type": "execute_result"
    },
    {
     "name": "stdout",
     "output_type": "stream",
     "text": [
      "WARNING: image file 00004968_003.png already exists in /azureml-share/chestxray/data/ChestX-ray8/test_images\n"
     ]
    },
    {
     "data": {
      "text/plain": [
       "'/azureml-share/chestxray/data/ChestX-ray8/test_images/00004968_003.png'"
      ]
     },
     "execution_count": 11,
     "metadata": {},
     "output_type": "execute_result"
    },
    {
     "name": "stdout",
     "output_type": "stream",
     "text": [
      "WARNING: image file 00028012_001.png already exists in /azureml-share/chestxray/data/ChestX-ray8/test_images\n"
     ]
    },
    {
     "data": {
      "text/plain": [
       "'/azureml-share/chestxray/data/ChestX-ray8/test_images/00028012_001.png'"
      ]
     },
     "execution_count": 11,
     "metadata": {},
     "output_type": "execute_result"
    },
    {
     "name": "stdout",
     "output_type": "stream",
     "text": [
      "WARNING: image file 00029464_006.png already exists in /azureml-share/chestxray/data/ChestX-ray8/test_images\n"
     ]
    },
    {
     "data": {
      "text/plain": [
       "'/azureml-share/chestxray/data/ChestX-ray8/test_images/00029464_006.png'"
      ]
     },
     "execution_count": 11,
     "metadata": {},
     "output_type": "execute_result"
    },
    {
     "name": "stdout",
     "output_type": "stream",
     "text": [
      "WARNING: image file 00001170_046.png already exists in /azureml-share/chestxray/data/ChestX-ray8/test_images\n"
     ]
    },
    {
     "data": {
      "text/plain": [
       "'/azureml-share/chestxray/data/ChestX-ray8/test_images/00001170_046.png'"
      ]
     },
     "execution_count": 11,
     "metadata": {},
     "output_type": "execute_result"
    },
    {
     "name": "stdout",
     "output_type": "stream",
     "text": [
      "WARNING: image file 00016267_000.png already exists in /azureml-share/chestxray/data/ChestX-ray8/test_images\n"
     ]
    },
    {
     "data": {
      "text/plain": [
       "'/azureml-share/chestxray/data/ChestX-ray8/test_images/00016267_000.png'"
      ]
     },
     "execution_count": 11,
     "metadata": {},
     "output_type": "execute_result"
    },
    {
     "name": "stdout",
     "output_type": "stream",
     "text": [
      "WARNING: image file 00018412_001.png already exists in /azureml-share/chestxray/data/ChestX-ray8/test_images\n"
     ]
    },
    {
     "data": {
      "text/plain": [
       "'/azureml-share/chestxray/data/ChestX-ray8/test_images/00018412_001.png'"
      ]
     },
     "execution_count": 11,
     "metadata": {},
     "output_type": "execute_result"
    },
    {
     "name": "stdout",
     "output_type": "stream",
     "text": [
      "WARNING: image file 00020673_005.png already exists in /azureml-share/chestxray/data/ChestX-ray8/test_images\n"
     ]
    },
    {
     "data": {
      "text/plain": [
       "'/azureml-share/chestxray/data/ChestX-ray8/test_images/00020673_005.png'"
      ]
     },
     "execution_count": 11,
     "metadata": {},
     "output_type": "execute_result"
    },
    {
     "name": "stdout",
     "output_type": "stream",
     "text": [
      "WARNING: image file 00027474_005.png already exists in /azureml-share/chestxray/data/ChestX-ray8/test_images\n"
     ]
    },
    {
     "data": {
      "text/plain": [
       "'/azureml-share/chestxray/data/ChestX-ray8/test_images/00027474_005.png'"
      ]
     },
     "execution_count": 11,
     "metadata": {},
     "output_type": "execute_result"
    },
    {
     "name": "stdout",
     "output_type": "stream",
     "text": [
      "WARNING: image file 00007124_008.png already exists in /azureml-share/chestxray/data/ChestX-ray8/test_images\n"
     ]
    },
    {
     "data": {
      "text/plain": [
       "'/azureml-share/chestxray/data/ChestX-ray8/test_images/00007124_008.png'"
      ]
     },
     "execution_count": 11,
     "metadata": {},
     "output_type": "execute_result"
    },
    {
     "name": "stdout",
     "output_type": "stream",
     "text": [
      "WARNING: image file 00027866_002.png already exists in /azureml-share/chestxray/data/ChestX-ray8/test_images\n"
     ]
    },
    {
     "data": {
      "text/plain": [
       "'/azureml-share/chestxray/data/ChestX-ray8/test_images/00027866_002.png'"
      ]
     },
     "execution_count": 11,
     "metadata": {},
     "output_type": "execute_result"
    },
    {
     "name": "stdout",
     "output_type": "stream",
     "text": [
      "WARNING: image file 00000149_006.png already exists in /azureml-share/chestxray/data/ChestX-ray8/test_images\n"
     ]
    },
    {
     "data": {
      "text/plain": [
       "'/azureml-share/chestxray/data/ChestX-ray8/test_images/00000149_006.png'"
      ]
     },
     "execution_count": 11,
     "metadata": {},
     "output_type": "execute_result"
    },
    {
     "name": "stdout",
     "output_type": "stream",
     "text": [
      "WARNING: image file 00030434_000.png already exists in /azureml-share/chestxray/data/ChestX-ray8/test_images\n"
     ]
    },
    {
     "data": {
      "text/plain": [
       "'/azureml-share/chestxray/data/ChestX-ray8/test_images/00030434_000.png'"
      ]
     },
     "execution_count": 11,
     "metadata": {},
     "output_type": "execute_result"
    },
    {
     "name": "stdout",
     "output_type": "stream",
     "text": [
      "WARNING: image file 00019271_030.png already exists in /azureml-share/chestxray/data/ChestX-ray8/test_images\n"
     ]
    },
    {
     "data": {
      "text/plain": [
       "'/azureml-share/chestxray/data/ChestX-ray8/test_images/00019271_030.png'"
      ]
     },
     "execution_count": 11,
     "metadata": {},
     "output_type": "execute_result"
    },
    {
     "name": "stdout",
     "output_type": "stream",
     "text": [
      "WARNING: image file 00020408_037.png already exists in /azureml-share/chestxray/data/ChestX-ray8/test_images\n"
     ]
    },
    {
     "data": {
      "text/plain": [
       "'/azureml-share/chestxray/data/ChestX-ray8/test_images/00020408_037.png'"
      ]
     },
     "execution_count": 11,
     "metadata": {},
     "output_type": "execute_result"
    },
    {
     "name": "stdout",
     "output_type": "stream",
     "text": [
      "WARNING: image file 00023176_010.png already exists in /azureml-share/chestxray/data/ChestX-ray8/test_images\n"
     ]
    },
    {
     "data": {
      "text/plain": [
       "'/azureml-share/chestxray/data/ChestX-ray8/test_images/00023176_010.png'"
      ]
     },
     "execution_count": 11,
     "metadata": {},
     "output_type": "execute_result"
    },
    {
     "name": "stdout",
     "output_type": "stream",
     "text": [
      "WARNING: image file 00016191_017.png already exists in /azureml-share/chestxray/data/ChestX-ray8/test_images\n"
     ]
    },
    {
     "data": {
      "text/plain": [
       "'/azureml-share/chestxray/data/ChestX-ray8/test_images/00016191_017.png'"
      ]
     },
     "execution_count": 11,
     "metadata": {},
     "output_type": "execute_result"
    },
    {
     "name": "stdout",
     "output_type": "stream",
     "text": [
      "WARNING: image file 00010478_012.png already exists in /azureml-share/chestxray/data/ChestX-ray8/test_images\n"
     ]
    },
    {
     "data": {
      "text/plain": [
       "'/azureml-share/chestxray/data/ChestX-ray8/test_images/00010478_012.png'"
      ]
     },
     "execution_count": 11,
     "metadata": {},
     "output_type": "execute_result"
    },
    {
     "name": "stderr",
     "output_type": "stream",
     "text": [
      "\r",
      "  5%|▍         | 48/984 [00:00<00:04, 228.58it/s]"
     ]
    },
    {
     "name": "stdout",
     "output_type": "stream",
     "text": [
      "WARNING: image file 00025228_005.png already exists in /azureml-share/chestxray/data/ChestX-ray8/test_images\n"
     ]
    },
    {
     "data": {
      "text/plain": [
       "'/azureml-share/chestxray/data/ChestX-ray8/test_images/00025228_005.png'"
      ]
     },
     "execution_count": 11,
     "metadata": {},
     "output_type": "execute_result"
    },
    {
     "name": "stdout",
     "output_type": "stream",
     "text": [
      "WARNING: image file 00021796_000.png already exists in /azureml-share/chestxray/data/ChestX-ray8/test_images\n"
     ]
    },
    {
     "data": {
      "text/plain": [
       "'/azureml-share/chestxray/data/ChestX-ray8/test_images/00021796_000.png'"
      ]
     },
     "execution_count": 11,
     "metadata": {},
     "output_type": "execute_result"
    },
    {
     "name": "stdout",
     "output_type": "stream",
     "text": [
      "WARNING: image file 00008005_004.png already exists in /azureml-share/chestxray/data/ChestX-ray8/test_images\n"
     ]
    },
    {
     "data": {
      "text/plain": [
       "'/azureml-share/chestxray/data/ChestX-ray8/test_images/00008005_004.png'"
      ]
     },
     "execution_count": 11,
     "metadata": {},
     "output_type": "execute_result"
    },
    {
     "name": "stdout",
     "output_type": "stream",
     "text": [
      "WARNING: image file 00021495_005.png already exists in /azureml-share/chestxray/data/ChestX-ray8/test_images\n"
     ]
    },
    {
     "data": {
      "text/plain": [
       "'/azureml-share/chestxray/data/ChestX-ray8/test_images/00021495_005.png'"
      ]
     },
     "execution_count": 11,
     "metadata": {},
     "output_type": "execute_result"
    },
    {
     "name": "stdout",
     "output_type": "stream",
     "text": [
      "WARNING: image file 00018496_006.png already exists in /azureml-share/chestxray/data/ChestX-ray8/test_images\n"
     ]
    },
    {
     "data": {
      "text/plain": [
       "'/azureml-share/chestxray/data/ChestX-ray8/test_images/00018496_006.png'"
      ]
     },
     "execution_count": 11,
     "metadata": {},
     "output_type": "execute_result"
    },
    {
     "name": "stdout",
     "output_type": "stream",
     "text": [
      "WARNING: image file 00029088_023.png already exists in /azureml-share/chestxray/data/ChestX-ray8/test_images\n"
     ]
    },
    {
     "data": {
      "text/plain": [
       "'/azureml-share/chestxray/data/ChestX-ray8/test_images/00029088_023.png'"
      ]
     },
     "execution_count": 11,
     "metadata": {},
     "output_type": "execute_result"
    },
    {
     "name": "stdout",
     "output_type": "stream",
     "text": [
      "WARNING: image file 00014607_007.png already exists in /azureml-share/chestxray/data/ChestX-ray8/test_images\n"
     ]
    },
    {
     "data": {
      "text/plain": [
       "'/azureml-share/chestxray/data/ChestX-ray8/test_images/00014607_007.png'"
      ]
     },
     "execution_count": 11,
     "metadata": {},
     "output_type": "execute_result"
    },
    {
     "name": "stdout",
     "output_type": "stream",
     "text": [
      "WARNING: image file 00004968_004.png already exists in /azureml-share/chestxray/data/ChestX-ray8/test_images\n"
     ]
    },
    {
     "data": {
      "text/plain": [
       "'/azureml-share/chestxray/data/ChestX-ray8/test_images/00004968_004.png'"
      ]
     },
     "execution_count": 11,
     "metadata": {},
     "output_type": "execute_result"
    },
    {
     "name": "stdout",
     "output_type": "stream",
     "text": [
      "WARNING: image file 00019271_064.png already exists in /azureml-share/chestxray/data/ChestX-ray8/test_images\n"
     ]
    },
    {
     "data": {
      "text/plain": [
       "'/azureml-share/chestxray/data/ChestX-ray8/test_images/00019271_064.png'"
      ]
     },
     "execution_count": 11,
     "metadata": {},
     "output_type": "execute_result"
    },
    {
     "name": "stdout",
     "output_type": "stream",
     "text": [
      "WARNING: image file 00010936_011.png already exists in /azureml-share/chestxray/data/ChestX-ray8/test_images\n"
     ]
    },
    {
     "data": {
      "text/plain": [
       "'/azureml-share/chestxray/data/ChestX-ray8/test_images/00010936_011.png'"
      ]
     },
     "execution_count": 11,
     "metadata": {},
     "output_type": "execute_result"
    },
    {
     "name": "stdout",
     "output_type": "stream",
     "text": [
      "WARNING: image file 00000211_010.png already exists in /azureml-share/chestxray/data/ChestX-ray8/test_images\n"
     ]
    },
    {
     "data": {
      "text/plain": [
       "'/azureml-share/chestxray/data/ChestX-ray8/test_images/00000211_010.png'"
      ]
     },
     "execution_count": 11,
     "metadata": {},
     "output_type": "execute_result"
    },
    {
     "name": "stdout",
     "output_type": "stream",
     "text": [
      "WARNING: image file 00017255_001.png already exists in /azureml-share/chestxray/data/ChestX-ray8/test_images\n"
     ]
    },
    {
     "data": {
      "text/plain": [
       "'/azureml-share/chestxray/data/ChestX-ray8/test_images/00017255_001.png'"
      ]
     },
     "execution_count": 11,
     "metadata": {},
     "output_type": "execute_result"
    },
    {
     "name": "stdout",
     "output_type": "stream",
     "text": [
      "WARNING: image file 00007676_002.png already exists in /azureml-share/chestxray/data/ChestX-ray8/test_images\n"
     ]
    },
    {
     "data": {
      "text/plain": [
       "'/azureml-share/chestxray/data/ChestX-ray8/test_images/00007676_002.png'"
      ]
     },
     "execution_count": 11,
     "metadata": {},
     "output_type": "execute_result"
    },
    {
     "name": "stdout",
     "output_type": "stream",
     "text": [
      "WARNING: image file 00005089_002.png already exists in /azureml-share/chestxray/data/ChestX-ray8/test_images\n"
     ]
    },
    {
     "data": {
      "text/plain": [
       "'/azureml-share/chestxray/data/ChestX-ray8/test_images/00005089_002.png'"
      ]
     },
     "execution_count": 11,
     "metadata": {},
     "output_type": "execute_result"
    },
    {
     "name": "stdout",
     "output_type": "stream",
     "text": [
      "WARNING: image file 00020857_008.png already exists in /azureml-share/chestxray/data/ChestX-ray8/test_images\n"
     ]
    },
    {
     "data": {
      "text/plain": [
       "'/azureml-share/chestxray/data/ChestX-ray8/test_images/00020857_008.png'"
      ]
     },
     "execution_count": 11,
     "metadata": {},
     "output_type": "execute_result"
    },
    {
     "name": "stdout",
     "output_type": "stream",
     "text": [
      "WARNING: image file 00012291_008.png already exists in /azureml-share/chestxray/data/ChestX-ray8/test_images\n"
     ]
    },
    {
     "data": {
      "text/plain": [
       "'/azureml-share/chestxray/data/ChestX-ray8/test_images/00012291_008.png'"
      ]
     },
     "execution_count": 11,
     "metadata": {},
     "output_type": "execute_result"
    },
    {
     "name": "stdout",
     "output_type": "stream",
     "text": [
      "WARNING: image file 00018762_002.png already exists in /azureml-share/chestxray/data/ChestX-ray8/test_images\n"
     ]
    },
    {
     "data": {
      "text/plain": [
       "'/azureml-share/chestxray/data/ChestX-ray8/test_images/00018762_002.png'"
      ]
     },
     "execution_count": 11,
     "metadata": {},
     "output_type": "execute_result"
    },
    {
     "name": "stdout",
     "output_type": "stream",
     "text": [
      "WARNING: image file 00000468_017.png already exists in /azureml-share/chestxray/data/ChestX-ray8/test_images\n"
     ]
    },
    {
     "data": {
      "text/plain": [
       "'/azureml-share/chestxray/data/ChestX-ray8/test_images/00000468_017.png'"
      ]
     },
     "execution_count": 11,
     "metadata": {},
     "output_type": "execute_result"
    },
    {
     "name": "stdout",
     "output_type": "stream",
     "text": [
      "WARNING: image file 00014253_042.png already exists in /azureml-share/chestxray/data/ChestX-ray8/test_images\n"
     ]
    },
    {
     "data": {
      "text/plain": [
       "'/azureml-share/chestxray/data/ChestX-ray8/test_images/00014253_042.png'"
      ]
     },
     "execution_count": 11,
     "metadata": {},
     "output_type": "execute_result"
    },
    {
     "name": "stderr",
     "output_type": "stream",
     "text": [
      "\r",
      "  7%|▋         | 67/984 [00:00<00:04, 213.37it/s]"
     ]
    },
    {
     "name": "stdout",
     "output_type": "stream",
     "text": [
      "WARNING: image file 00026136_002.png already exists in /azureml-share/chestxray/data/ChestX-ray8/test_images\n"
     ]
    },
    {
     "data": {
      "text/plain": [
       "'/azureml-share/chestxray/data/ChestX-ray8/test_images/00026136_002.png'"
      ]
     },
     "execution_count": 11,
     "metadata": {},
     "output_type": "execute_result"
    },
    {
     "name": "stdout",
     "output_type": "stream",
     "text": [
      "WARNING: image file 00013685_000.png already exists in /azureml-share/chestxray/data/ChestX-ray8/test_images\n"
     ]
    },
    {
     "data": {
      "text/plain": [
       "'/azureml-share/chestxray/data/ChestX-ray8/test_images/00013685_000.png'"
      ]
     },
     "execution_count": 11,
     "metadata": {},
     "output_type": "execute_result"
    },
    {
     "name": "stdout",
     "output_type": "stream",
     "text": [
      "WARNING: image file 00003787_003.png already exists in /azureml-share/chestxray/data/ChestX-ray8/test_images\n"
     ]
    },
    {
     "data": {
      "text/plain": [
       "'/azureml-share/chestxray/data/ChestX-ray8/test_images/00003787_003.png'"
      ]
     },
     "execution_count": 11,
     "metadata": {},
     "output_type": "execute_result"
    },
    {
     "name": "stdout",
     "output_type": "stream",
     "text": [
      "WARNING: image file 00030106_008.png already exists in /azureml-share/chestxray/data/ChestX-ray8/test_images\n"
     ]
    },
    {
     "data": {
      "text/plain": [
       "'/azureml-share/chestxray/data/ChestX-ray8/test_images/00030106_008.png'"
      ]
     },
     "execution_count": 11,
     "metadata": {},
     "output_type": "execute_result"
    },
    {
     "name": "stdout",
     "output_type": "stream",
     "text": [
      "WARNING: image file 00030260_005.png already exists in /azureml-share/chestxray/data/ChestX-ray8/test_images\n"
     ]
    },
    {
     "data": {
      "text/plain": [
       "'/azureml-share/chestxray/data/ChestX-ray8/test_images/00030260_005.png'"
      ]
     },
     "execution_count": 11,
     "metadata": {},
     "output_type": "execute_result"
    },
    {
     "name": "stdout",
     "output_type": "stream",
     "text": [
      "WARNING: image file 00015262_005.png already exists in /azureml-share/chestxray/data/ChestX-ray8/test_images\n"
     ]
    },
    {
     "data": {
      "text/plain": [
       "'/azureml-share/chestxray/data/ChestX-ray8/test_images/00015262_005.png'"
      ]
     },
     "execution_count": 11,
     "metadata": {},
     "output_type": "execute_result"
    },
    {
     "name": "stdout",
     "output_type": "stream",
     "text": [
      "WARNING: image file 00010625_014.png already exists in /azureml-share/chestxray/data/ChestX-ray8/test_images\n"
     ]
    },
    {
     "data": {
      "text/plain": [
       "'/azureml-share/chestxray/data/ChestX-ray8/test_images/00010625_014.png'"
      ]
     },
     "execution_count": 11,
     "metadata": {},
     "output_type": "execute_result"
    },
    {
     "name": "stdout",
     "output_type": "stream",
     "text": [
      "WARNING: image file 00006851_034.png already exists in /azureml-share/chestxray/data/ChestX-ray8/test_images\n"
     ]
    },
    {
     "data": {
      "text/plain": [
       "'/azureml-share/chestxray/data/ChestX-ray8/test_images/00006851_034.png'"
      ]
     },
     "execution_count": 11,
     "metadata": {},
     "output_type": "execute_result"
    },
    {
     "name": "stdout",
     "output_type": "stream",
     "text": [
      "WARNING: image file 00019495_004.png already exists in /azureml-share/chestxray/data/ChestX-ray8/test_images\n"
     ]
    },
    {
     "data": {
      "text/plain": [
       "'/azureml-share/chestxray/data/ChestX-ray8/test_images/00019495_004.png'"
      ]
     },
     "execution_count": 11,
     "metadata": {},
     "output_type": "execute_result"
    },
    {
     "name": "stdout",
     "output_type": "stream",
     "text": [
      "WARNING: image file 00019089_004.png already exists in /azureml-share/chestxray/data/ChestX-ray8/test_images\n"
     ]
    },
    {
     "data": {
      "text/plain": [
       "'/azureml-share/chestxray/data/ChestX-ray8/test_images/00019089_004.png'"
      ]
     },
     "execution_count": 11,
     "metadata": {},
     "output_type": "execute_result"
    },
    {
     "name": "stdout",
     "output_type": "stream",
     "text": [
      "WARNING: image file 00017151_003.png already exists in /azureml-share/chestxray/data/ChestX-ray8/test_images\n"
     ]
    },
    {
     "data": {
      "text/plain": [
       "'/azureml-share/chestxray/data/ChestX-ray8/test_images/00017151_003.png'"
      ]
     },
     "execution_count": 11,
     "metadata": {},
     "output_type": "execute_result"
    },
    {
     "name": "stdout",
     "output_type": "stream",
     "text": [
      "WARNING: image file 00020349_006.png already exists in /azureml-share/chestxray/data/ChestX-ray8/test_images\n"
     ]
    },
    {
     "data": {
      "text/plain": [
       "'/azureml-share/chestxray/data/ChestX-ray8/test_images/00020349_006.png'"
      ]
     },
     "execution_count": 11,
     "metadata": {},
     "output_type": "execute_result"
    },
    {
     "name": "stdout",
     "output_type": "stream",
     "text": [
      "WARNING: image file 00006851_033.png already exists in /azureml-share/chestxray/data/ChestX-ray8/test_images\n"
     ]
    },
    {
     "data": {
      "text/plain": [
       "'/azureml-share/chestxray/data/ChestX-ray8/test_images/00006851_033.png'"
      ]
     },
     "execution_count": 11,
     "metadata": {},
     "output_type": "execute_result"
    },
    {
     "name": "stdout",
     "output_type": "stream",
     "text": [
      "WARNING: image file 00000744_006.png already exists in /azureml-share/chestxray/data/ChestX-ray8/test_images\n"
     ]
    },
    {
     "data": {
      "text/plain": [
       "'/azureml-share/chestxray/data/ChestX-ray8/test_images/00000744_006.png'"
      ]
     },
     "execution_count": 11,
     "metadata": {},
     "output_type": "execute_result"
    },
    {
     "name": "stdout",
     "output_type": "stream",
     "text": [
      "WARNING: image file 00013685_028.png already exists in /azureml-share/chestxray/data/ChestX-ray8/test_images\n"
     ]
    },
    {
     "data": {
      "text/plain": [
       "'/azureml-share/chestxray/data/ChestX-ray8/test_images/00013685_028.png'"
      ]
     },
     "execution_count": 11,
     "metadata": {},
     "output_type": "execute_result"
    },
    {
     "name": "stdout",
     "output_type": "stream",
     "text": [
      "WARNING: image file 00010481_021.png already exists in /azureml-share/chestxray/data/ChestX-ray8/test_images\n"
     ]
    },
    {
     "data": {
      "text/plain": [
       "'/azureml-share/chestxray/data/ChestX-ray8/test_images/00010481_021.png'"
      ]
     },
     "execution_count": 11,
     "metadata": {},
     "output_type": "execute_result"
    },
    {
     "name": "stdout",
     "output_type": "stream",
     "text": [
      "WARNING: image file 00026886_004.png already exists in /azureml-share/chestxray/data/ChestX-ray8/test_images\n"
     ]
    },
    {
     "data": {
      "text/plain": [
       "'/azureml-share/chestxray/data/ChestX-ray8/test_images/00026886_004.png'"
      ]
     },
     "execution_count": 11,
     "metadata": {},
     "output_type": "execute_result"
    },
    {
     "name": "stderr",
     "output_type": "stream",
     "text": [
      "\r",
      "  9%|▊         | 84/984 [00:00<00:04, 197.28it/s]"
     ]
    },
    {
     "name": "stdout",
     "output_type": "stream",
     "text": [
      "WARNING: image file 00016403_003.png already exists in /azureml-share/chestxray/data/ChestX-ray8/test_images\n"
     ]
    },
    {
     "data": {
      "text/plain": [
       "'/azureml-share/chestxray/data/ChestX-ray8/test_images/00016403_003.png'"
      ]
     },
     "execution_count": 11,
     "metadata": {},
     "output_type": "execute_result"
    },
    {
     "name": "stdout",
     "output_type": "stream",
     "text": [
      "WARNING: image file 00010575_002.png already exists in /azureml-share/chestxray/data/ChestX-ray8/test_images\n"
     ]
    },
    {
     "data": {
      "text/plain": [
       "'/azureml-share/chestxray/data/ChestX-ray8/test_images/00010575_002.png'"
      ]
     },
     "execution_count": 11,
     "metadata": {},
     "output_type": "execute_result"
    },
    {
     "name": "stdout",
     "output_type": "stream",
     "text": [
      "WARNING: image file 00011857_001.png already exists in /azureml-share/chestxray/data/ChestX-ray8/test_images\n"
     ]
    },
    {
     "data": {
      "text/plain": [
       "'/azureml-share/chestxray/data/ChestX-ray8/test_images/00011857_001.png'"
      ]
     },
     "execution_count": 11,
     "metadata": {},
     "output_type": "execute_result"
    },
    {
     "name": "stdout",
     "output_type": "stream",
     "text": [
      "WARNING: image file 00022155_008.png already exists in /azureml-share/chestxray/data/ChestX-ray8/test_images\n"
     ]
    },
    {
     "data": {
      "text/plain": [
       "'/azureml-share/chestxray/data/ChestX-ray8/test_images/00022155_008.png'"
      ]
     },
     "execution_count": 11,
     "metadata": {},
     "output_type": "execute_result"
    },
    {
     "name": "stdout",
     "output_type": "stream",
     "text": [
      "WARNING: image file 00014870_004.png already exists in /azureml-share/chestxray/data/ChestX-ray8/test_images\n"
     ]
    },
    {
     "data": {
      "text/plain": [
       "'/azureml-share/chestxray/data/ChestX-ray8/test_images/00014870_004.png'"
      ]
     },
     "execution_count": 11,
     "metadata": {},
     "output_type": "execute_result"
    },
    {
     "name": "stdout",
     "output_type": "stream",
     "text": [
      "WARNING: image file 00025221_001.png already exists in /azureml-share/chestxray/data/ChestX-ray8/test_images\n"
     ]
    },
    {
     "data": {
      "text/plain": [
       "'/azureml-share/chestxray/data/ChestX-ray8/test_images/00025221_001.png'"
      ]
     },
     "execution_count": 11,
     "metadata": {},
     "output_type": "execute_result"
    },
    {
     "name": "stdout",
     "output_type": "stream",
     "text": [
      "WARNING: image file 00018253_017.png already exists in /azureml-share/chestxray/data/ChestX-ray8/test_images\n"
     ]
    },
    {
     "data": {
      "text/plain": [
       "'/azureml-share/chestxray/data/ChestX-ray8/test_images/00018253_017.png'"
      ]
     },
     "execution_count": 11,
     "metadata": {},
     "output_type": "execute_result"
    },
    {
     "name": "stdout",
     "output_type": "stream",
     "text": [
      "WARNING: image file 00019373_036.png already exists in /azureml-share/chestxray/data/ChestX-ray8/test_images\n"
     ]
    },
    {
     "data": {
      "text/plain": [
       "'/azureml-share/chestxray/data/ChestX-ray8/test_images/00019373_036.png'"
      ]
     },
     "execution_count": 11,
     "metadata": {},
     "output_type": "execute_result"
    },
    {
     "name": "stdout",
     "output_type": "stream",
     "text": [
      "WARNING: image file 00017500_002.png already exists in /azureml-share/chestxray/data/ChestX-ray8/test_images\n"
     ]
    },
    {
     "data": {
      "text/plain": [
       "'/azureml-share/chestxray/data/ChestX-ray8/test_images/00017500_002.png'"
      ]
     },
     "execution_count": 11,
     "metadata": {},
     "output_type": "execute_result"
    },
    {
     "name": "stdout",
     "output_type": "stream",
     "text": [
      "WARNING: image file 00016009_008.png already exists in /azureml-share/chestxray/data/ChestX-ray8/test_images\n"
     ]
    },
    {
     "data": {
      "text/plain": [
       "'/azureml-share/chestxray/data/ChestX-ray8/test_images/00016009_008.png'"
      ]
     },
     "execution_count": 11,
     "metadata": {},
     "output_type": "execute_result"
    },
    {
     "name": "stdout",
     "output_type": "stream",
     "text": [
      "WARNING: image file 00013111_069.png already exists in /azureml-share/chestxray/data/ChestX-ray8/test_images\n"
     ]
    },
    {
     "data": {
      "text/plain": [
       "'/azureml-share/chestxray/data/ChestX-ray8/test_images/00013111_069.png'"
      ]
     },
     "execution_count": 11,
     "metadata": {},
     "output_type": "execute_result"
    },
    {
     "name": "stdout",
     "output_type": "stream",
     "text": [
      "WARNING: image file 00023156_001.png already exists in /azureml-share/chestxray/data/ChestX-ray8/test_images\n"
     ]
    },
    {
     "data": {
      "text/plain": [
       "'/azureml-share/chestxray/data/ChestX-ray8/test_images/00023156_001.png'"
      ]
     },
     "execution_count": 11,
     "metadata": {},
     "output_type": "execute_result"
    },
    {
     "name": "stdout",
     "output_type": "stream",
     "text": [
      "WARNING: image file 00013508_001.png already exists in /azureml-share/chestxray/data/ChestX-ray8/test_images\n"
     ]
    },
    {
     "data": {
      "text/plain": [
       "'/azureml-share/chestxray/data/ChestX-ray8/test_images/00013508_001.png'"
      ]
     },
     "execution_count": 11,
     "metadata": {},
     "output_type": "execute_result"
    },
    {
     "name": "stdout",
     "output_type": "stream",
     "text": [
      "WARNING: image file 00008554_009.png already exists in /azureml-share/chestxray/data/ChestX-ray8/test_images\n"
     ]
    },
    {
     "data": {
      "text/plain": [
       "'/azureml-share/chestxray/data/ChestX-ray8/test_images/00008554_009.png'"
      ]
     },
     "execution_count": 11,
     "metadata": {},
     "output_type": "execute_result"
    },
    {
     "name": "stdout",
     "output_type": "stream",
     "text": [
      "WARNING: image file 00017582_003.png already exists in /azureml-share/chestxray/data/ChestX-ray8/test_images\n"
     ]
    },
    {
     "data": {
      "text/plain": [
       "'/azureml-share/chestxray/data/ChestX-ray8/test_images/00017582_003.png'"
      ]
     },
     "execution_count": 11,
     "metadata": {},
     "output_type": "execute_result"
    },
    {
     "name": "stdout",
     "output_type": "stream",
     "text": [
      "WARNING: image file 00009619_000.png already exists in /azureml-share/chestxray/data/ChestX-ray8/test_images\n"
     ]
    },
    {
     "data": {
      "text/plain": [
       "'/azureml-share/chestxray/data/ChestX-ray8/test_images/00009619_000.png'"
      ]
     },
     "execution_count": 11,
     "metadata": {},
     "output_type": "execute_result"
    },
    {
     "name": "stdout",
     "output_type": "stream",
     "text": [
      "WARNING: image file 00009437_008.png already exists in /azureml-share/chestxray/data/ChestX-ray8/test_images\n"
     ]
    },
    {
     "data": {
      "text/plain": [
       "'/azureml-share/chestxray/data/ChestX-ray8/test_images/00009437_008.png'"
      ]
     },
     "execution_count": 11,
     "metadata": {},
     "output_type": "execute_result"
    },
    {
     "name": "stdout",
     "output_type": "stream",
     "text": [
      "WARNING: image file 00013992_006.png already exists in /azureml-share/chestxray/data/ChestX-ray8/test_images\n"
     ]
    },
    {
     "data": {
      "text/plain": [
       "'/azureml-share/chestxray/data/ChestX-ray8/test_images/00013992_006.png'"
      ]
     },
     "execution_count": 11,
     "metadata": {},
     "output_type": "execute_result"
    },
    {
     "name": "stdout",
     "output_type": "stream",
     "text": [
      "WARNING: image file 00001836_082.png already exists in /azureml-share/chestxray/data/ChestX-ray8/test_images\n"
     ]
    },
    {
     "data": {
      "text/plain": [
       "'/azureml-share/chestxray/data/ChestX-ray8/test_images/00001836_082.png'"
      ]
     },
     "execution_count": 11,
     "metadata": {},
     "output_type": "execute_result"
    },
    {
     "name": "stdout",
     "output_type": "stream",
     "text": [
      "WARNING: image file 00021024_022.png already exists in /azureml-share/chestxray/data/ChestX-ray8/test_images\n"
     ]
    },
    {
     "data": {
      "text/plain": [
       "'/azureml-share/chestxray/data/ChestX-ray8/test_images/00021024_022.png'"
      ]
     },
     "execution_count": 11,
     "metadata": {},
     "output_type": "execute_result"
    },
    {
     "name": "stderr",
     "output_type": "stream",
     "text": [
      "\r",
      " 11%|█         | 104/984 [00:00<00:04, 197.32it/s]"
     ]
    },
    {
     "name": "stdout",
     "output_type": "stream",
     "text": [
      "WARNING: image file 00029940_007.png already exists in /azureml-share/chestxray/data/ChestX-ray8/test_images\n"
     ]
    },
    {
     "data": {
      "text/plain": [
       "'/azureml-share/chestxray/data/ChestX-ray8/test_images/00029940_007.png'"
      ]
     },
     "execution_count": 11,
     "metadata": {},
     "output_type": "execute_result"
    },
    {
     "name": "stdout",
     "output_type": "stream",
     "text": [
      "WARNING: image file 00011827_003.png already exists in /azureml-share/chestxray/data/ChestX-ray8/test_images\n"
     ]
    },
    {
     "data": {
      "text/plain": [
       "'/azureml-share/chestxray/data/ChestX-ray8/test_images/00011827_003.png'"
      ]
     },
     "execution_count": 11,
     "metadata": {},
     "output_type": "execute_result"
    },
    {
     "name": "stdout",
     "output_type": "stream",
     "text": [
      "WARNING: image file 00019154_002.png already exists in /azureml-share/chestxray/data/ChestX-ray8/test_images\n"
     ]
    },
    {
     "data": {
      "text/plain": [
       "'/azureml-share/chestxray/data/ChestX-ray8/test_images/00019154_002.png'"
      ]
     },
     "execution_count": 11,
     "metadata": {},
     "output_type": "execute_result"
    },
    {
     "name": "stdout",
     "output_type": "stream",
     "text": [
      "WARNING: image file 00003440_000.png already exists in /azureml-share/chestxray/data/ChestX-ray8/test_images\n"
     ]
    },
    {
     "data": {
      "text/plain": [
       "'/azureml-share/chestxray/data/ChestX-ray8/test_images/00003440_000.png'"
      ]
     },
     "execution_count": 11,
     "metadata": {},
     "output_type": "execute_result"
    },
    {
     "name": "stdout",
     "output_type": "stream",
     "text": [
      "WARNING: image file 00009256_005.png already exists in /azureml-share/chestxray/data/ChestX-ray8/test_images\n"
     ]
    },
    {
     "data": {
      "text/plain": [
       "'/azureml-share/chestxray/data/ChestX-ray8/test_images/00009256_005.png'"
      ]
     },
     "execution_count": 11,
     "metadata": {},
     "output_type": "execute_result"
    },
    {
     "name": "stdout",
     "output_type": "stream",
     "text": [
      "WARNING: image file 00014447_004.png already exists in /azureml-share/chestxray/data/ChestX-ray8/test_images\n"
     ]
    },
    {
     "data": {
      "text/plain": [
       "'/azureml-share/chestxray/data/ChestX-ray8/test_images/00014447_004.png'"
      ]
     },
     "execution_count": 11,
     "metadata": {},
     "output_type": "execute_result"
    },
    {
     "name": "stdout",
     "output_type": "stream",
     "text": [
      "WARNING: image file 00012834_008.png already exists in /azureml-share/chestxray/data/ChestX-ray8/test_images\n"
     ]
    },
    {
     "data": {
      "text/plain": [
       "'/azureml-share/chestxray/data/ChestX-ray8/test_images/00012834_008.png'"
      ]
     },
     "execution_count": 11,
     "metadata": {},
     "output_type": "execute_result"
    },
    {
     "name": "stdout",
     "output_type": "stream",
     "text": [
      "WARNING: image file 00016987_019.png already exists in /azureml-share/chestxray/data/ChestX-ray8/test_images\n"
     ]
    },
    {
     "data": {
      "text/plain": [
       "'/azureml-share/chestxray/data/ChestX-ray8/test_images/00016987_019.png'"
      ]
     },
     "execution_count": 11,
     "metadata": {},
     "output_type": "execute_result"
    },
    {
     "name": "stdout",
     "output_type": "stream",
     "text": [
      "WARNING: image file 00020393_003.png already exists in /azureml-share/chestxray/data/ChestX-ray8/test_images\n"
     ]
    },
    {
     "data": {
      "text/plain": [
       "'/azureml-share/chestxray/data/ChestX-ray8/test_images/00020393_003.png'"
      ]
     },
     "execution_count": 11,
     "metadata": {},
     "output_type": "execute_result"
    },
    {
     "name": "stdout",
     "output_type": "stream",
     "text": [
      "WARNING: image file 00029502_006.png already exists in /azureml-share/chestxray/data/ChestX-ray8/test_images\n"
     ]
    },
    {
     "data": {
      "text/plain": [
       "'/azureml-share/chestxray/data/ChestX-ray8/test_images/00029502_006.png'"
      ]
     },
     "execution_count": 11,
     "metadata": {},
     "output_type": "execute_result"
    },
    {
     "name": "stdout",
     "output_type": "stream",
     "text": [
      "WARNING: image file 00000457_004.png already exists in /azureml-share/chestxray/data/ChestX-ray8/test_images\n"
     ]
    },
    {
     "data": {
      "text/plain": [
       "'/azureml-share/chestxray/data/ChestX-ray8/test_images/00000457_004.png'"
      ]
     },
     "execution_count": 11,
     "metadata": {},
     "output_type": "execute_result"
    },
    {
     "name": "stdout",
     "output_type": "stream",
     "text": [
      "WARNING: image file 00027556_007.png already exists in /azureml-share/chestxray/data/ChestX-ray8/test_images\n"
     ]
    },
    {
     "data": {
      "text/plain": [
       "'/azureml-share/chestxray/data/ChestX-ray8/test_images/00027556_007.png'"
      ]
     },
     "execution_count": 11,
     "metadata": {},
     "output_type": "execute_result"
    },
    {
     "name": "stdout",
     "output_type": "stream",
     "text": [
      "WARNING: image file 00005089_014.png already exists in /azureml-share/chestxray/data/ChestX-ray8/test_images\n"
     ]
    },
    {
     "data": {
      "text/plain": [
       "'/azureml-share/chestxray/data/ChestX-ray8/test_images/00005089_014.png'"
      ]
     },
     "execution_count": 11,
     "metadata": {},
     "output_type": "execute_result"
    },
    {
     "name": "stdout",
     "output_type": "stream",
     "text": [
      "WARNING: image file 00007710_000.png already exists in /azureml-share/chestxray/data/ChestX-ray8/test_images\n"
     ]
    },
    {
     "data": {
      "text/plain": [
       "'/azureml-share/chestxray/data/ChestX-ray8/test_images/00007710_000.png'"
      ]
     },
     "execution_count": 11,
     "metadata": {},
     "output_type": "execute_result"
    },
    {
     "name": "stdout",
     "output_type": "stream",
     "text": [
      "WARNING: image file 00012637_000.png already exists in /azureml-share/chestxray/data/ChestX-ray8/test_images\n"
     ]
    },
    {
     "data": {
      "text/plain": [
       "'/azureml-share/chestxray/data/ChestX-ray8/test_images/00012637_000.png'"
      ]
     },
     "execution_count": 11,
     "metadata": {},
     "output_type": "execute_result"
    },
    {
     "name": "stdout",
     "output_type": "stream",
     "text": [
      "WARNING: image file 00000147_001.png already exists in /azureml-share/chestxray/data/ChestX-ray8/test_images\n"
     ]
    },
    {
     "data": {
      "text/plain": [
       "'/azureml-share/chestxray/data/ChestX-ray8/test_images/00000147_001.png'"
      ]
     },
     "execution_count": 11,
     "metadata": {},
     "output_type": "execute_result"
    },
    {
     "name": "stdout",
     "output_type": "stream",
     "text": [
      "WARNING: image file 00018427_004.png already exists in /azureml-share/chestxray/data/ChestX-ray8/test_images\n"
     ]
    },
    {
     "data": {
      "text/plain": [
       "'/azureml-share/chestxray/data/ChestX-ray8/test_images/00018427_004.png'"
      ]
     },
     "execution_count": 11,
     "metadata": {},
     "output_type": "execute_result"
    },
    {
     "name": "stdout",
     "output_type": "stream",
     "text": [
      "WARNING: image file 00014663_013.png already exists in /azureml-share/chestxray/data/ChestX-ray8/test_images\n"
     ]
    },
    {
     "data": {
      "text/plain": [
       "'/azureml-share/chestxray/data/ChestX-ray8/test_images/00014663_013.png'"
      ]
     },
     "execution_count": 11,
     "metadata": {},
     "output_type": "execute_result"
    },
    {
     "name": "stdout",
     "output_type": "stream",
     "text": [
      "WARNING: image file 00014795_002.png already exists in /azureml-share/chestxray/data/ChestX-ray8/test_images\n"
     ]
    },
    {
     "data": {
      "text/plain": [
       "'/azureml-share/chestxray/data/ChestX-ray8/test_images/00014795_002.png'"
      ]
     },
     "execution_count": 11,
     "metadata": {},
     "output_type": "execute_result"
    },
    {
     "name": "stdout",
     "output_type": "stream",
     "text": [
      "WARNING: image file 00014253_010.png already exists in /azureml-share/chestxray/data/ChestX-ray8/test_images\n"
     ]
    },
    {
     "data": {
      "text/plain": [
       "'/azureml-share/chestxray/data/ChestX-ray8/test_images/00014253_010.png'"
      ]
     },
     "execution_count": 11,
     "metadata": {},
     "output_type": "execute_result"
    },
    {
     "name": "stdout",
     "output_type": "stream",
     "text": [
      "WARNING: image file 00028625_000.png already exists in /azureml-share/chestxray/data/ChestX-ray8/test_images\n"
     ]
    },
    {
     "data": {
      "text/plain": [
       "'/azureml-share/chestxray/data/ChestX-ray8/test_images/00028625_000.png'"
      ]
     },
     "execution_count": 11,
     "metadata": {},
     "output_type": "execute_result"
    },
    {
     "name": "stderr",
     "output_type": "stream",
     "text": [
      "\r",
      " 13%|█▎        | 125/984 [00:00<00:04, 200.06it/s]"
     ]
    },
    {
     "name": "stdout",
     "output_type": "stream",
     "text": [
      "WARNING: image file 00019271_065.png already exists in /azureml-share/chestxray/data/ChestX-ray8/test_images\n"
     ]
    },
    {
     "data": {
      "text/plain": [
       "'/azureml-share/chestxray/data/ChestX-ray8/test_images/00019271_065.png'"
      ]
     },
     "execution_count": 11,
     "metadata": {},
     "output_type": "execute_result"
    },
    {
     "name": "stdout",
     "output_type": "stream",
     "text": [
      "WARNING: image file 00014095_003.png already exists in /azureml-share/chestxray/data/ChestX-ray8/test_images\n"
     ]
    },
    {
     "data": {
      "text/plain": [
       "'/azureml-share/chestxray/data/ChestX-ray8/test_images/00014095_003.png'"
      ]
     },
     "execution_count": 11,
     "metadata": {},
     "output_type": "execute_result"
    },
    {
     "name": "stdout",
     "output_type": "stream",
     "text": [
      "WARNING: image file 00023116_005.png already exists in /azureml-share/chestxray/data/ChestX-ray8/test_images\n"
     ]
    },
    {
     "data": {
      "text/plain": [
       "'/azureml-share/chestxray/data/ChestX-ray8/test_images/00023116_005.png'"
      ]
     },
     "execution_count": 11,
     "metadata": {},
     "output_type": "execute_result"
    },
    {
     "name": "stdout",
     "output_type": "stream",
     "text": [
      "WARNING: image file 00009779_001.png already exists in /azureml-share/chestxray/data/ChestX-ray8/test_images\n"
     ]
    },
    {
     "data": {
      "text/plain": [
       "'/azureml-share/chestxray/data/ChestX-ray8/test_images/00009779_001.png'"
      ]
     },
     "execution_count": 11,
     "metadata": {},
     "output_type": "execute_result"
    },
    {
     "name": "stdout",
     "output_type": "stream",
     "text": [
      "WARNING: image file 00012829_004.png already exists in /azureml-share/chestxray/data/ChestX-ray8/test_images\n"
     ]
    },
    {
     "data": {
      "text/plain": [
       "'/azureml-share/chestxray/data/ChestX-ray8/test_images/00012829_004.png'"
      ]
     },
     "execution_count": 11,
     "metadata": {},
     "output_type": "execute_result"
    },
    {
     "name": "stdout",
     "output_type": "stream",
     "text": [
      "WARNING: image file 00006948_002.png already exists in /azureml-share/chestxray/data/ChestX-ray8/test_images\n"
     ]
    },
    {
     "data": {
      "text/plain": [
       "'/azureml-share/chestxray/data/ChestX-ray8/test_images/00006948_002.png'"
      ]
     },
     "execution_count": 11,
     "metadata": {},
     "output_type": "execute_result"
    },
    {
     "name": "stdout",
     "output_type": "stream",
     "text": [
      "WARNING: image file 00029200_006.png already exists in /azureml-share/chestxray/data/ChestX-ray8/test_images\n"
     ]
    },
    {
     "data": {
      "text/plain": [
       "'/azureml-share/chestxray/data/ChestX-ray8/test_images/00029200_006.png'"
      ]
     },
     "execution_count": 11,
     "metadata": {},
     "output_type": "execute_result"
    },
    {
     "name": "stdout",
     "output_type": "stream",
     "text": [
      "WARNING: image file 00022707_003.png already exists in /azureml-share/chestxray/data/ChestX-ray8/test_images\n"
     ]
    },
    {
     "data": {
      "text/plain": [
       "'/azureml-share/chestxray/data/ChestX-ray8/test_images/00022707_003.png'"
      ]
     },
     "execution_count": 11,
     "metadata": {},
     "output_type": "execute_result"
    },
    {
     "name": "stdout",
     "output_type": "stream",
     "text": [
      "WARNING: image file 00022416_049.png already exists in /azureml-share/chestxray/data/ChestX-ray8/test_images\n"
     ]
    },
    {
     "data": {
      "text/plain": [
       "'/azureml-share/chestxray/data/ChestX-ray8/test_images/00022416_049.png'"
      ]
     },
     "execution_count": 11,
     "metadata": {},
     "output_type": "execute_result"
    },
    {
     "name": "stdout",
     "output_type": "stream",
     "text": [
      "WARNING: image file 00008716_000.png already exists in /azureml-share/chestxray/data/ChestX-ray8/test_images\n"
     ]
    },
    {
     "data": {
      "text/plain": [
       "'/azureml-share/chestxray/data/ChestX-ray8/test_images/00008716_000.png'"
      ]
     },
     "execution_count": 11,
     "metadata": {},
     "output_type": "execute_result"
    },
    {
     "name": "stdout",
     "output_type": "stream",
     "text": [
      "WARNING: image file 00000072_000.png already exists in /azureml-share/chestxray/data/ChestX-ray8/test_images\n"
     ]
    },
    {
     "data": {
      "text/plain": [
       "'/azureml-share/chestxray/data/ChestX-ray8/test_images/00000072_000.png'"
      ]
     },
     "execution_count": 11,
     "metadata": {},
     "output_type": "execute_result"
    },
    {
     "name": "stdout",
     "output_type": "stream",
     "text": [
      "WARNING: image file 00002350_001.png already exists in /azureml-share/chestxray/data/ChestX-ray8/test_images\n"
     ]
    },
    {
     "data": {
      "text/plain": [
       "'/azureml-share/chestxray/data/ChestX-ray8/test_images/00002350_001.png'"
      ]
     },
     "execution_count": 11,
     "metadata": {},
     "output_type": "execute_result"
    },
    {
     "name": "stdout",
     "output_type": "stream",
     "text": [
      "WARNING: image file 00004296_000.png already exists in /azureml-share/chestxray/data/ChestX-ray8/test_images\n"
     ]
    },
    {
     "data": {
      "text/plain": [
       "'/azureml-share/chestxray/data/ChestX-ray8/test_images/00004296_000.png'"
      ]
     },
     "execution_count": 11,
     "metadata": {},
     "output_type": "execute_result"
    },
    {
     "name": "stdout",
     "output_type": "stream",
     "text": [
      "WARNING: image file 00029631_006.png already exists in /azureml-share/chestxray/data/ChestX-ray8/test_images\n"
     ]
    },
    {
     "data": {
      "text/plain": [
       "'/azureml-share/chestxray/data/ChestX-ray8/test_images/00029631_006.png'"
      ]
     },
     "execution_count": 11,
     "metadata": {},
     "output_type": "execute_result"
    },
    {
     "name": "stdout",
     "output_type": "stream",
     "text": [
      "WARNING: image file 00000643_002.png already exists in /azureml-share/chestxray/data/ChestX-ray8/test_images\n"
     ]
    },
    {
     "data": {
      "text/plain": [
       "'/azureml-share/chestxray/data/ChestX-ray8/test_images/00000643_002.png'"
      ]
     },
     "execution_count": 11,
     "metadata": {},
     "output_type": "execute_result"
    },
    {
     "name": "stdout",
     "output_type": "stream",
     "text": [
      "WARNING: image file 00015831_008.png already exists in /azureml-share/chestxray/data/ChestX-ray8/test_images\n"
     ]
    },
    {
     "data": {
      "text/plain": [
       "'/azureml-share/chestxray/data/ChestX-ray8/test_images/00015831_008.png'"
      ]
     },
     "execution_count": 11,
     "metadata": {},
     "output_type": "execute_result"
    },
    {
     "name": "stdout",
     "output_type": "stream",
     "text": [
      "WARNING: image file 00020429_020.png already exists in /azureml-share/chestxray/data/ChestX-ray8/test_images\n"
     ]
    },
    {
     "data": {
      "text/plain": [
       "'/azureml-share/chestxray/data/ChestX-ray8/test_images/00020429_020.png'"
      ]
     },
     "execution_count": 11,
     "metadata": {},
     "output_type": "execute_result"
    },
    {
     "name": "stdout",
     "output_type": "stream",
     "text": [
      "WARNING: image file 00015300_000.png already exists in /azureml-share/chestxray/data/ChestX-ray8/test_images\n"
     ]
    },
    {
     "data": {
      "text/plain": [
       "'/azureml-share/chestxray/data/ChestX-ray8/test_images/00015300_000.png'"
      ]
     },
     "execution_count": 11,
     "metadata": {},
     "output_type": "execute_result"
    },
    {
     "name": "stdout",
     "output_type": "stream",
     "text": [
      "WARNING: image file 00002856_009.png already exists in /azureml-share/chestxray/data/ChestX-ray8/test_images\n"
     ]
    },
    {
     "data": {
      "text/plain": [
       "'/azureml-share/chestxray/data/ChestX-ray8/test_images/00002856_009.png'"
      ]
     },
     "execution_count": 11,
     "metadata": {},
     "output_type": "execute_result"
    },
    {
     "name": "stdout",
     "output_type": "stream",
     "text": [
      "WARNING: image file 00028620_000.png already exists in /azureml-share/chestxray/data/ChestX-ray8/test_images\n"
     ]
    },
    {
     "data": {
      "text/plain": [
       "'/azureml-share/chestxray/data/ChestX-ray8/test_images/00028620_000.png'"
      ]
     },
     "execution_count": 11,
     "metadata": {},
     "output_type": "execute_result"
    },
    {
     "name": "stdout",
     "output_type": "stream",
     "text": [
      "WARNING: image file 00019706_014.png already exists in /azureml-share/chestxray/data/ChestX-ray8/test_images\n"
     ]
    },
    {
     "data": {
      "text/plain": [
       "'/azureml-share/chestxray/data/ChestX-ray8/test_images/00019706_014.png'"
      ]
     },
     "execution_count": 11,
     "metadata": {},
     "output_type": "execute_result"
    },
    {
     "name": "stdout",
     "output_type": "stream",
     "text": [
      "WARNING: image file 00021377_016.png already exists in /azureml-share/chestxray/data/ChestX-ray8/test_images\n"
     ]
    },
    {
     "data": {
      "text/plain": [
       "'/azureml-share/chestxray/data/ChestX-ray8/test_images/00021377_016.png'"
      ]
     },
     "execution_count": 11,
     "metadata": {},
     "output_type": "execute_result"
    },
    {
     "name": "stdout",
     "output_type": "stream",
     "text": [
      "WARNING: image file 00000830_000.png already exists in /azureml-share/chestxray/data/ChestX-ray8/test_images\n"
     ]
    },
    {
     "data": {
      "text/plain": [
       "'/azureml-share/chestxray/data/ChestX-ray8/test_images/00000830_000.png'"
      ]
     },
     "execution_count": 11,
     "metadata": {},
     "output_type": "execute_result"
    },
    {
     "name": "stderr",
     "output_type": "stream",
     "text": [
      "\r",
      " 15%|█▌        | 148/984 [00:00<00:04, 206.38it/s]"
     ]
    },
    {
     "name": "stdout",
     "output_type": "stream",
     "text": [
      "WARNING: image file 00016490_011.png already exists in /azureml-share/chestxray/data/ChestX-ray8/test_images\n"
     ]
    },
    {
     "data": {
      "text/plain": [
       "'/azureml-share/chestxray/data/ChestX-ray8/test_images/00016490_011.png'"
      ]
     },
     "execution_count": 11,
     "metadata": {},
     "output_type": "execute_result"
    },
    {
     "name": "stdout",
     "output_type": "stream",
     "text": [
      "WARNING: image file 00001673_016.png already exists in /azureml-share/chestxray/data/ChestX-ray8/test_images\n"
     ]
    },
    {
     "data": {
      "text/plain": [
       "'/azureml-share/chestxray/data/ChestX-ray8/test_images/00001673_016.png'"
      ]
     },
     "execution_count": 11,
     "metadata": {},
     "output_type": "execute_result"
    },
    {
     "name": "stdout",
     "output_type": "stream",
     "text": [
      "WARNING: image file 00015440_000.png already exists in /azureml-share/chestxray/data/ChestX-ray8/test_images\n"
     ]
    },
    {
     "data": {
      "text/plain": [
       "'/azureml-share/chestxray/data/ChestX-ray8/test_images/00015440_000.png'"
      ]
     },
     "execution_count": 11,
     "metadata": {},
     "output_type": "execute_result"
    },
    {
     "name": "stdout",
     "output_type": "stream",
     "text": [
      "WARNING: image file 00025270_000.png already exists in /azureml-share/chestxray/data/ChestX-ray8/test_images\n"
     ]
    },
    {
     "data": {
      "text/plain": [
       "'/azureml-share/chestxray/data/ChestX-ray8/test_images/00025270_000.png'"
      ]
     },
     "execution_count": 11,
     "metadata": {},
     "output_type": "execute_result"
    },
    {
     "name": "stdout",
     "output_type": "stream",
     "text": [
      "WARNING: image file 00012636_000.png already exists in /azureml-share/chestxray/data/ChestX-ray8/test_images\n"
     ]
    },
    {
     "data": {
      "text/plain": [
       "'/azureml-share/chestxray/data/ChestX-ray8/test_images/00012636_000.png'"
      ]
     },
     "execution_count": 11,
     "metadata": {},
     "output_type": "execute_result"
    },
    {
     "name": "stdout",
     "output_type": "stream",
     "text": [
      "WARNING: image file 00027697_001.png already exists in /azureml-share/chestxray/data/ChestX-ray8/test_images\n"
     ]
    },
    {
     "data": {
      "text/plain": [
       "'/azureml-share/chestxray/data/ChestX-ray8/test_images/00027697_001.png'"
      ]
     },
     "execution_count": 11,
     "metadata": {},
     "output_type": "execute_result"
    },
    {
     "name": "stdout",
     "output_type": "stream",
     "text": [
      "WARNING: image file 00021862_004.png already exists in /azureml-share/chestxray/data/ChestX-ray8/test_images\n"
     ]
    },
    {
     "data": {
      "text/plain": [
       "'/azureml-share/chestxray/data/ChestX-ray8/test_images/00021862_004.png'"
      ]
     },
     "execution_count": 11,
     "metadata": {},
     "output_type": "execute_result"
    },
    {
     "name": "stdout",
     "output_type": "stream",
     "text": [
      "WARNING: image file 00016987_022.png already exists in /azureml-share/chestxray/data/ChestX-ray8/test_images\n"
     ]
    },
    {
     "data": {
      "text/plain": [
       "'/azureml-share/chestxray/data/ChestX-ray8/test_images/00016987_022.png'"
      ]
     },
     "execution_count": 11,
     "metadata": {},
     "output_type": "execute_result"
    },
    {
     "name": "stdout",
     "output_type": "stream",
     "text": [
      "WARNING: image file 00018419_001.png already exists in /azureml-share/chestxray/data/ChestX-ray8/test_images\n"
     ]
    },
    {
     "data": {
      "text/plain": [
       "'/azureml-share/chestxray/data/ChestX-ray8/test_images/00018419_001.png'"
      ]
     },
     "execution_count": 11,
     "metadata": {},
     "output_type": "execute_result"
    },
    {
     "name": "stdout",
     "output_type": "stream",
     "text": [
      "WARNING: image file 00029843_001.png already exists in /azureml-share/chestxray/data/ChestX-ray8/test_images\n"
     ]
    },
    {
     "data": {
      "text/plain": [
       "'/azureml-share/chestxray/data/ChestX-ray8/test_images/00029843_001.png'"
      ]
     },
     "execution_count": 11,
     "metadata": {},
     "output_type": "execute_result"
    },
    {
     "name": "stdout",
     "output_type": "stream",
     "text": [
      "WARNING: image file 00007120_009.png already exists in /azureml-share/chestxray/data/ChestX-ray8/test_images\n"
     ]
    },
    {
     "data": {
      "text/plain": [
       "'/azureml-share/chestxray/data/ChestX-ray8/test_images/00007120_009.png'"
      ]
     },
     "execution_count": 11,
     "metadata": {},
     "output_type": "execute_result"
    },
    {
     "name": "stdout",
     "output_type": "stream",
     "text": [
      "WARNING: image file 00030260_004.png already exists in /azureml-share/chestxray/data/ChestX-ray8/test_images\n"
     ]
    },
    {
     "data": {
      "text/plain": [
       "'/azureml-share/chestxray/data/ChestX-ray8/test_images/00030260_004.png'"
      ]
     },
     "execution_count": 11,
     "metadata": {},
     "output_type": "execute_result"
    },
    {
     "name": "stdout",
     "output_type": "stream",
     "text": [
      "WARNING: image file 00020810_003.png already exists in /azureml-share/chestxray/data/ChestX-ray8/test_images\n"
     ]
    },
    {
     "data": {
      "text/plain": [
       "'/azureml-share/chestxray/data/ChestX-ray8/test_images/00020810_003.png'"
      ]
     },
     "execution_count": 11,
     "metadata": {},
     "output_type": "execute_result"
    },
    {
     "name": "stdout",
     "output_type": "stream",
     "text": [
      "WARNING: image file 00005066_030.png already exists in /azureml-share/chestxray/data/ChestX-ray8/test_images\n"
     ]
    },
    {
     "data": {
      "text/plain": [
       "'/azureml-share/chestxray/data/ChestX-ray8/test_images/00005066_030.png'"
      ]
     },
     "execution_count": 11,
     "metadata": {},
     "output_type": "execute_result"
    },
    {
     "name": "stdout",
     "output_type": "stream",
     "text": [
      "WARNING: image file 00009608_024.png already exists in /azureml-share/chestxray/data/ChestX-ray8/test_images\n"
     ]
    },
    {
     "data": {
      "text/plain": [
       "'/azureml-share/chestxray/data/ChestX-ray8/test_images/00009608_024.png'"
      ]
     },
     "execution_count": 11,
     "metadata": {},
     "output_type": "execute_result"
    },
    {
     "name": "stdout",
     "output_type": "stream",
     "text": [
      "WARNING: image file 00000661_000.png already exists in /azureml-share/chestxray/data/ChestX-ray8/test_images\n"
     ]
    },
    {
     "data": {
      "text/plain": [
       "'/azureml-share/chestxray/data/ChestX-ray8/test_images/00000661_000.png'"
      ]
     },
     "execution_count": 11,
     "metadata": {},
     "output_type": "execute_result"
    },
    {
     "name": "stdout",
     "output_type": "stream",
     "text": [
      "WARNING: image file 00019018_007.png already exists in /azureml-share/chestxray/data/ChestX-ray8/test_images\n"
     ]
    },
    {
     "data": {
      "text/plain": [
       "'/azureml-share/chestxray/data/ChestX-ray8/test_images/00019018_007.png'"
      ]
     },
     "execution_count": 11,
     "metadata": {},
     "output_type": "execute_result"
    },
    {
     "name": "stdout",
     "output_type": "stream",
     "text": [
      "WARNING: image file 00000211_041.png already exists in /azureml-share/chestxray/data/ChestX-ray8/test_images\n"
     ]
    },
    {
     "data": {
      "text/plain": [
       "'/azureml-share/chestxray/data/ChestX-ray8/test_images/00000211_041.png'"
      ]
     },
     "execution_count": 11,
     "metadata": {},
     "output_type": "execute_result"
    },
    {
     "name": "stdout",
     "output_type": "stream",
     "text": [
      "WARNING: image file 00015770_010.png already exists in /azureml-share/chestxray/data/ChestX-ray8/test_images\n"
     ]
    },
    {
     "data": {
      "text/plain": [
       "'/azureml-share/chestxray/data/ChestX-ray8/test_images/00015770_010.png'"
      ]
     },
     "execution_count": 11,
     "metadata": {},
     "output_type": "execute_result"
    },
    {
     "name": "stdout",
     "output_type": "stream",
     "text": [
      "WARNING: image file 00011463_002.png already exists in /azureml-share/chestxray/data/ChestX-ray8/test_images\n"
     ]
    },
    {
     "data": {
      "text/plain": [
       "'/azureml-share/chestxray/data/ChestX-ray8/test_images/00011463_002.png'"
      ]
     },
     "execution_count": 11,
     "metadata": {},
     "output_type": "execute_result"
    },
    {
     "name": "stdout",
     "output_type": "stream",
     "text": [
      "WARNING: image file 00021364_001.png already exists in /azureml-share/chestxray/data/ChestX-ray8/test_images\n"
     ]
    },
    {
     "data": {
      "text/plain": [
       "'/azureml-share/chestxray/data/ChestX-ray8/test_images/00021364_001.png'"
      ]
     },
     "execution_count": 11,
     "metadata": {},
     "output_type": "execute_result"
    },
    {
     "name": "stdout",
     "output_type": "stream",
     "text": [
      "WARNING: image file 00003394_006.png already exists in /azureml-share/chestxray/data/ChestX-ray8/test_images\n"
     ]
    },
    {
     "data": {
      "text/plain": [
       "'/azureml-share/chestxray/data/ChestX-ray8/test_images/00003394_006.png'"
      ]
     },
     "execution_count": 11,
     "metadata": {},
     "output_type": "execute_result"
    },
    {
     "name": "stderr",
     "output_type": "stream",
     "text": [
      "\r",
      " 17%|█▋        | 170/984 [00:00<00:03, 210.00it/s]"
     ]
    },
    {
     "name": "stdout",
     "output_type": "stream",
     "text": [
      "WARNING: image file 00016990_000.png already exists in /azureml-share/chestxray/data/ChestX-ray8/test_images\n"
     ]
    },
    {
     "data": {
      "text/plain": [
       "'/azureml-share/chestxray/data/ChestX-ray8/test_images/00016990_000.png'"
      ]
     },
     "execution_count": 11,
     "metadata": {},
     "output_type": "execute_result"
    },
    {
     "name": "stdout",
     "output_type": "stream",
     "text": [
      "WARNING: image file 00027797_000.png already exists in /azureml-share/chestxray/data/ChestX-ray8/test_images\n"
     ]
    },
    {
     "data": {
      "text/plain": [
       "'/azureml-share/chestxray/data/ChestX-ray8/test_images/00027797_000.png'"
      ]
     },
     "execution_count": 11,
     "metadata": {},
     "output_type": "execute_result"
    },
    {
     "name": "stdout",
     "output_type": "stream",
     "text": [
      "WARNING: image file 00013670_151.png already exists in /azureml-share/chestxray/data/ChestX-ray8/test_images\n"
     ]
    },
    {
     "data": {
      "text/plain": [
       "'/azureml-share/chestxray/data/ChestX-ray8/test_images/00013670_151.png'"
      ]
     },
     "execution_count": 11,
     "metadata": {},
     "output_type": "execute_result"
    },
    {
     "name": "stdout",
     "output_type": "stream",
     "text": [
      "WARNING: image file 00011322_006.png already exists in /azureml-share/chestxray/data/ChestX-ray8/test_images\n"
     ]
    },
    {
     "data": {
      "text/plain": [
       "'/azureml-share/chestxray/data/ChestX-ray8/test_images/00011322_006.png'"
      ]
     },
     "execution_count": 11,
     "metadata": {},
     "output_type": "execute_result"
    },
    {
     "name": "stdout",
     "output_type": "stream",
     "text": [
      "WARNING: image file 00018387_030.png already exists in /azureml-share/chestxray/data/ChestX-ray8/test_images\n"
     ]
    },
    {
     "data": {
      "text/plain": [
       "'/azureml-share/chestxray/data/ChestX-ray8/test_images/00018387_030.png'"
      ]
     },
     "execution_count": 11,
     "metadata": {},
     "output_type": "execute_result"
    },
    {
     "name": "stdout",
     "output_type": "stream",
     "text": [
      "WARNING: image file 00007037_000.png already exists in /azureml-share/chestxray/data/ChestX-ray8/test_images\n"
     ]
    },
    {
     "data": {
      "text/plain": [
       "'/azureml-share/chestxray/data/ChestX-ray8/test_images/00007037_000.png'"
      ]
     },
     "execution_count": 11,
     "metadata": {},
     "output_type": "execute_result"
    },
    {
     "name": "stdout",
     "output_type": "stream",
     "text": [
      "WARNING: image file 00017448_000.png already exists in /azureml-share/chestxray/data/ChestX-ray8/test_images\n"
     ]
    },
    {
     "data": {
      "text/plain": [
       "'/azureml-share/chestxray/data/ChestX-ray8/test_images/00017448_000.png'"
      ]
     },
     "execution_count": 11,
     "metadata": {},
     "output_type": "execute_result"
    },
    {
     "name": "stdout",
     "output_type": "stream",
     "text": [
      "WARNING: image file 00029808_003.png already exists in /azureml-share/chestxray/data/ChestX-ray8/test_images\n"
     ]
    },
    {
     "data": {
      "text/plain": [
       "'/azureml-share/chestxray/data/ChestX-ray8/test_images/00029808_003.png'"
      ]
     },
     "execution_count": 11,
     "metadata": {},
     "output_type": "execute_result"
    },
    {
     "name": "stdout",
     "output_type": "stream",
     "text": [
      "WARNING: image file 00013249_031.png already exists in /azureml-share/chestxray/data/ChestX-ray8/test_images\n"
     ]
    },
    {
     "data": {
      "text/plain": [
       "'/azureml-share/chestxray/data/ChestX-ray8/test_images/00013249_031.png'"
      ]
     },
     "execution_count": 11,
     "metadata": {},
     "output_type": "execute_result"
    },
    {
     "name": "stdout",
     "output_type": "stream",
     "text": [
      "WARNING: image file 00014706_018.png already exists in /azureml-share/chestxray/data/ChestX-ray8/test_images\n"
     ]
    },
    {
     "data": {
      "text/plain": [
       "'/azureml-share/chestxray/data/ChestX-ray8/test_images/00014706_018.png'"
      ]
     },
     "execution_count": 11,
     "metadata": {},
     "output_type": "execute_result"
    },
    {
     "name": "stdout",
     "output_type": "stream",
     "text": [
      "WARNING: image file 00007551_020.png already exists in /azureml-share/chestxray/data/ChestX-ray8/test_images\n"
     ]
    },
    {
     "data": {
      "text/plain": [
       "'/azureml-share/chestxray/data/ChestX-ray8/test_images/00007551_020.png'"
      ]
     },
     "execution_count": 11,
     "metadata": {},
     "output_type": "execute_result"
    },
    {
     "name": "stdout",
     "output_type": "stream",
     "text": [
      "WARNING: image file 00021009_001.png already exists in /azureml-share/chestxray/data/ChestX-ray8/test_images\n"
     ]
    },
    {
     "data": {
      "text/plain": [
       "'/azureml-share/chestxray/data/ChestX-ray8/test_images/00021009_001.png'"
      ]
     },
     "execution_count": 11,
     "metadata": {},
     "output_type": "execute_result"
    },
    {
     "name": "stdout",
     "output_type": "stream",
     "text": [
      "WARNING: image file 00000377_004.png already exists in /azureml-share/chestxray/data/ChestX-ray8/test_images\n"
     ]
    },
    {
     "data": {
      "text/plain": [
       "'/azureml-share/chestxray/data/ChestX-ray8/test_images/00000377_004.png'"
      ]
     },
     "execution_count": 11,
     "metadata": {},
     "output_type": "execute_result"
    },
    {
     "name": "stdout",
     "output_type": "stream",
     "text": [
      "WARNING: image file 00019426_000.png already exists in /azureml-share/chestxray/data/ChestX-ray8/test_images\n"
     ]
    },
    {
     "data": {
      "text/plain": [
       "'/azureml-share/chestxray/data/ChestX-ray8/test_images/00019426_000.png'"
      ]
     },
     "execution_count": 11,
     "metadata": {},
     "output_type": "execute_result"
    },
    {
     "name": "stdout",
     "output_type": "stream",
     "text": [
      "WARNING: image file 00005066_005.png already exists in /azureml-share/chestxray/data/ChestX-ray8/test_images\n"
     ]
    },
    {
     "data": {
      "text/plain": [
       "'/azureml-share/chestxray/data/ChestX-ray8/test_images/00005066_005.png'"
      ]
     },
     "execution_count": 11,
     "metadata": {},
     "output_type": "execute_result"
    },
    {
     "name": "stdout",
     "output_type": "stream",
     "text": [
      "WARNING: image file 00004630_001.png already exists in /azureml-share/chestxray/data/ChestX-ray8/test_images\n"
     ]
    },
    {
     "data": {
      "text/plain": [
       "'/azureml-share/chestxray/data/ChestX-ray8/test_images/00004630_001.png'"
      ]
     },
     "execution_count": 11,
     "metadata": {},
     "output_type": "execute_result"
    },
    {
     "name": "stdout",
     "output_type": "stream",
     "text": [
      "WARNING: image file 00028509_026.png already exists in /azureml-share/chestxray/data/ChestX-ray8/test_images\n"
     ]
    },
    {
     "data": {
      "text/plain": [
       "'/azureml-share/chestxray/data/ChestX-ray8/test_images/00028509_026.png'"
      ]
     },
     "execution_count": 11,
     "metadata": {},
     "output_type": "execute_result"
    },
    {
     "name": "stdout",
     "output_type": "stream",
     "text": [
      "WARNING: image file 00002435_005.png already exists in /azureml-share/chestxray/data/ChestX-ray8/test_images\n"
     ]
    },
    {
     "data": {
      "text/plain": [
       "'/azureml-share/chestxray/data/ChestX-ray8/test_images/00002435_005.png'"
      ]
     },
     "execution_count": 11,
     "metadata": {},
     "output_type": "execute_result"
    },
    {
     "name": "stdout",
     "output_type": "stream",
     "text": [
      "WARNING: image file 00026087_000.png already exists in /azureml-share/chestxray/data/ChestX-ray8/test_images\n"
     ]
    },
    {
     "data": {
      "text/plain": [
       "'/azureml-share/chestxray/data/ChestX-ray8/test_images/00026087_000.png'"
      ]
     },
     "execution_count": 11,
     "metadata": {},
     "output_type": "execute_result"
    },
    {
     "name": "stdout",
     "output_type": "stream",
     "text": [
      "WARNING: image file 00021409_001.png already exists in /azureml-share/chestxray/data/ChestX-ray8/test_images\n"
     ]
    },
    {
     "data": {
      "text/plain": [
       "'/azureml-share/chestxray/data/ChestX-ray8/test_images/00021409_001.png'"
      ]
     },
     "execution_count": 11,
     "metadata": {},
     "output_type": "execute_result"
    },
    {
     "name": "stdout",
     "output_type": "stream",
     "text": [
      "WARNING: image file 00012288_000.png already exists in /azureml-share/chestxray/data/ChestX-ray8/test_images\n"
     ]
    },
    {
     "data": {
      "text/plain": [
       "'/azureml-share/chestxray/data/ChestX-ray8/test_images/00012288_000.png'"
      ]
     },
     "execution_count": 11,
     "metadata": {},
     "output_type": "execute_result"
    },
    {
     "name": "stdout",
     "output_type": "stream",
     "text": [
      "WARNING: image file 00018187_034.png already exists in /azureml-share/chestxray/data/ChestX-ray8/test_images\n"
     ]
    },
    {
     "data": {
      "text/plain": [
       "'/azureml-share/chestxray/data/ChestX-ray8/test_images/00018187_034.png'"
      ]
     },
     "execution_count": 11,
     "metadata": {},
     "output_type": "execute_result"
    },
    {
     "name": "stderr",
     "output_type": "stream",
     "text": [
      "\r",
      " 20%|█▉        | 192/984 [00:00<00:03, 210.43it/s]"
     ]
    },
    {
     "name": "stdout",
     "output_type": "stream",
     "text": [
      "WARNING: image file 00006912_007.png already exists in /azureml-share/chestxray/data/ChestX-ray8/test_images\n"
     ]
    },
    {
     "data": {
      "text/plain": [
       "'/azureml-share/chestxray/data/ChestX-ray8/test_images/00006912_007.png'"
      ]
     },
     "execution_count": 11,
     "metadata": {},
     "output_type": "execute_result"
    },
    {
     "name": "stdout",
     "output_type": "stream",
     "text": [
      "WARNING: image file 00005532_016.png already exists in /azureml-share/chestxray/data/ChestX-ray8/test_images\n"
     ]
    },
    {
     "data": {
      "text/plain": [
       "'/azureml-share/chestxray/data/ChestX-ray8/test_images/00005532_016.png'"
      ]
     },
     "execution_count": 11,
     "metadata": {},
     "output_type": "execute_result"
    },
    {
     "name": "stdout",
     "output_type": "stream",
     "text": [
      "WARNING: image file 00020986_000.png already exists in /azureml-share/chestxray/data/ChestX-ray8/test_images\n"
     ]
    },
    {
     "data": {
      "text/plain": [
       "'/azureml-share/chestxray/data/ChestX-ray8/test_images/00020986_000.png'"
      ]
     },
     "execution_count": 11,
     "metadata": {},
     "output_type": "execute_result"
    },
    {
     "name": "stdout",
     "output_type": "stream",
     "text": [
      "WARNING: image file 00016624_000.png already exists in /azureml-share/chestxray/data/ChestX-ray8/test_images\n"
     ]
    },
    {
     "data": {
      "text/plain": [
       "'/azureml-share/chestxray/data/ChestX-ray8/test_images/00016624_000.png'"
      ]
     },
     "execution_count": 11,
     "metadata": {},
     "output_type": "execute_result"
    },
    {
     "name": "stdout",
     "output_type": "stream",
     "text": [
      "WARNING: image file 00017511_006.png already exists in /azureml-share/chestxray/data/ChestX-ray8/test_images\n"
     ]
    },
    {
     "data": {
      "text/plain": [
       "'/azureml-share/chestxray/data/ChestX-ray8/test_images/00017511_006.png'"
      ]
     },
     "execution_count": 11,
     "metadata": {},
     "output_type": "execute_result"
    },
    {
     "name": "stdout",
     "output_type": "stream",
     "text": [
      "WARNING: image file 00016564_000.png already exists in /azureml-share/chestxray/data/ChestX-ray8/test_images\n"
     ]
    },
    {
     "data": {
      "text/plain": [
       "'/azureml-share/chestxray/data/ChestX-ray8/test_images/00016564_000.png'"
      ]
     },
     "execution_count": 11,
     "metadata": {},
     "output_type": "execute_result"
    },
    {
     "name": "stdout",
     "output_type": "stream",
     "text": [
      "WARNING: image file 00012741_004.png already exists in /azureml-share/chestxray/data/ChestX-ray8/test_images\n"
     ]
    },
    {
     "data": {
      "text/plain": [
       "'/azureml-share/chestxray/data/ChestX-ray8/test_images/00012741_004.png'"
      ]
     },
     "execution_count": 11,
     "metadata": {},
     "output_type": "execute_result"
    },
    {
     "name": "stdout",
     "output_type": "stream",
     "text": [
      "WARNING: image file 00028018_000.png already exists in /azureml-share/chestxray/data/ChestX-ray8/test_images\n"
     ]
    },
    {
     "data": {
      "text/plain": [
       "'/azureml-share/chestxray/data/ChestX-ray8/test_images/00028018_000.png'"
      ]
     },
     "execution_count": 11,
     "metadata": {},
     "output_type": "execute_result"
    },
    {
     "name": "stdout",
     "output_type": "stream",
     "text": [
      "WARNING: image file 00017178_007.png already exists in /azureml-share/chestxray/data/ChestX-ray8/test_images\n"
     ]
    },
    {
     "data": {
      "text/plain": [
       "'/azureml-share/chestxray/data/ChestX-ray8/test_images/00017178_007.png'"
      ]
     },
     "execution_count": 11,
     "metadata": {},
     "output_type": "execute_result"
    },
    {
     "name": "stdout",
     "output_type": "stream",
     "text": [
      "WARNING: image file 00029906_000.png already exists in /azureml-share/chestxray/data/ChestX-ray8/test_images\n"
     ]
    },
    {
     "data": {
      "text/plain": [
       "'/azureml-share/chestxray/data/ChestX-ray8/test_images/00029906_000.png'"
      ]
     },
     "execution_count": 11,
     "metadata": {},
     "output_type": "execute_result"
    },
    {
     "name": "stdout",
     "output_type": "stream",
     "text": [
      "WARNING: image file 00000732_005.png already exists in /azureml-share/chestxray/data/ChestX-ray8/test_images\n"
     ]
    },
    {
     "data": {
      "text/plain": [
       "'/azureml-share/chestxray/data/ChestX-ray8/test_images/00000732_005.png'"
      ]
     },
     "execution_count": 11,
     "metadata": {},
     "output_type": "execute_result"
    },
    {
     "name": "stdout",
     "output_type": "stream",
     "text": [
      "WARNING: image file 00012670_000.png already exists in /azureml-share/chestxray/data/ChestX-ray8/test_images\n"
     ]
    },
    {
     "data": {
      "text/plain": [
       "'/azureml-share/chestxray/data/ChestX-ray8/test_images/00012670_000.png'"
      ]
     },
     "execution_count": 11,
     "metadata": {},
     "output_type": "execute_result"
    },
    {
     "name": "stdout",
     "output_type": "stream",
     "text": [
      "WARNING: image file 00026338_003.png already exists in /azureml-share/chestxray/data/ChestX-ray8/test_images\n"
     ]
    },
    {
     "data": {
      "text/plain": [
       "'/azureml-share/chestxray/data/ChestX-ray8/test_images/00026338_003.png'"
      ]
     },
     "execution_count": 11,
     "metadata": {},
     "output_type": "execute_result"
    },
    {
     "name": "stdout",
     "output_type": "stream",
     "text": [
      "WARNING: image file 00013062_002.png already exists in /azureml-share/chestxray/data/ChestX-ray8/test_images\n"
     ]
    },
    {
     "data": {
      "text/plain": [
       "'/azureml-share/chestxray/data/ChestX-ray8/test_images/00013062_002.png'"
      ]
     },
     "execution_count": 11,
     "metadata": {},
     "output_type": "execute_result"
    },
    {
     "name": "stdout",
     "output_type": "stream",
     "text": [
      "WARNING: image file 00002763_031.png already exists in /azureml-share/chestxray/data/ChestX-ray8/test_images\n"
     ]
    },
    {
     "data": {
      "text/plain": [
       "'/azureml-share/chestxray/data/ChestX-ray8/test_images/00002763_031.png'"
      ]
     },
     "execution_count": 11,
     "metadata": {},
     "output_type": "execute_result"
    },
    {
     "name": "stdout",
     "output_type": "stream",
     "text": [
      "WARNING: image file 00013346_015.png already exists in /azureml-share/chestxray/data/ChestX-ray8/test_images\n"
     ]
    },
    {
     "data": {
      "text/plain": [
       "'/azureml-share/chestxray/data/ChestX-ray8/test_images/00013346_015.png'"
      ]
     },
     "execution_count": 11,
     "metadata": {},
     "output_type": "execute_result"
    },
    {
     "name": "stdout",
     "output_type": "stream",
     "text": [
      "WARNING: image file 00014626_028.png already exists in /azureml-share/chestxray/data/ChestX-ray8/test_images\n"
     ]
    },
    {
     "data": {
      "text/plain": [
       "'/azureml-share/chestxray/data/ChestX-ray8/test_images/00014626_028.png'"
      ]
     },
     "execution_count": 11,
     "metadata": {},
     "output_type": "execute_result"
    },
    {
     "name": "stdout",
     "output_type": "stream",
     "text": [
      "WARNING: image file 00026889_000.png already exists in /azureml-share/chestxray/data/ChestX-ray8/test_images\n"
     ]
    },
    {
     "data": {
      "text/plain": [
       "'/azureml-share/chestxray/data/ChestX-ray8/test_images/00026889_000.png'"
      ]
     },
     "execution_count": 11,
     "metadata": {},
     "output_type": "execute_result"
    },
    {
     "name": "stdout",
     "output_type": "stream",
     "text": [
      "WARNING: image file 00000211_019.png already exists in /azureml-share/chestxray/data/ChestX-ray8/test_images\n"
     ]
    },
    {
     "data": {
      "text/plain": [
       "'/azureml-share/chestxray/data/ChestX-ray8/test_images/00000211_019.png'"
      ]
     },
     "execution_count": 11,
     "metadata": {},
     "output_type": "execute_result"
    },
    {
     "name": "stdout",
     "output_type": "stream",
     "text": [
      "WARNING: image file 00023325_019.png already exists in /azureml-share/chestxray/data/ChestX-ray8/test_images\n"
     ]
    },
    {
     "data": {
      "text/plain": [
       "'/azureml-share/chestxray/data/ChestX-ray8/test_images/00023325_019.png'"
      ]
     },
     "execution_count": 11,
     "metadata": {},
     "output_type": "execute_result"
    },
    {
     "name": "stdout",
     "output_type": "stream",
     "text": [
      "WARNING: image file 00011502_001.png already exists in /azureml-share/chestxray/data/ChestX-ray8/test_images\n"
     ]
    },
    {
     "data": {
      "text/plain": [
       "'/azureml-share/chestxray/data/ChestX-ray8/test_images/00011502_001.png'"
      ]
     },
     "execution_count": 11,
     "metadata": {},
     "output_type": "execute_result"
    },
    {
     "name": "stderr",
     "output_type": "stream",
     "text": [
      "\r",
      " 22%|██▏       | 213/984 [00:01<00:03, 200.79it/s]"
     ]
    },
    {
     "name": "stdout",
     "output_type": "stream",
     "text": [
      "WARNING: image file 00018233_057.png already exists in /azureml-share/chestxray/data/ChestX-ray8/test_images\n"
     ]
    },
    {
     "data": {
      "text/plain": [
       "'/azureml-share/chestxray/data/ChestX-ray8/test_images/00018233_057.png'"
      ]
     },
     "execution_count": 11,
     "metadata": {},
     "output_type": "execute_result"
    },
    {
     "name": "stdout",
     "output_type": "stream",
     "text": [
      "WARNING: image file 00012261_001.png already exists in /azureml-share/chestxray/data/ChestX-ray8/test_images\n"
     ]
    },
    {
     "data": {
      "text/plain": [
       "'/azureml-share/chestxray/data/ChestX-ray8/test_images/00012261_001.png'"
      ]
     },
     "execution_count": 11,
     "metadata": {},
     "output_type": "execute_result"
    },
    {
     "name": "stdout",
     "output_type": "stream",
     "text": [
      "WARNING: image file 00014706_007.png already exists in /azureml-share/chestxray/data/ChestX-ray8/test_images\n"
     ]
    },
    {
     "data": {
      "text/plain": [
       "'/azureml-share/chestxray/data/ChestX-ray8/test_images/00014706_007.png'"
      ]
     },
     "execution_count": 11,
     "metadata": {},
     "output_type": "execute_result"
    },
    {
     "name": "stdout",
     "output_type": "stream",
     "text": [
      "WARNING: image file 00028873_009.png already exists in /azureml-share/chestxray/data/ChestX-ray8/test_images\n"
     ]
    },
    {
     "data": {
      "text/plain": [
       "'/azureml-share/chestxray/data/ChestX-ray8/test_images/00028873_009.png'"
      ]
     },
     "execution_count": 11,
     "metadata": {},
     "output_type": "execute_result"
    },
    {
     "name": "stdout",
     "output_type": "stream",
     "text": [
      "WARNING: image file 00004578_004.png already exists in /azureml-share/chestxray/data/ChestX-ray8/test_images\n"
     ]
    },
    {
     "data": {
      "text/plain": [
       "'/azureml-share/chestxray/data/ChestX-ray8/test_images/00004578_004.png'"
      ]
     },
     "execution_count": 11,
     "metadata": {},
     "output_type": "execute_result"
    },
    {
     "name": "stdout",
     "output_type": "stream",
     "text": [
      "WARNING: image file 00023093_009.png already exists in /azureml-share/chestxray/data/ChestX-ray8/test_images\n"
     ]
    },
    {
     "data": {
      "text/plain": [
       "'/azureml-share/chestxray/data/ChestX-ray8/test_images/00023093_009.png'"
      ]
     },
     "execution_count": 11,
     "metadata": {},
     "output_type": "execute_result"
    },
    {
     "name": "stdout",
     "output_type": "stream",
     "text": [
      "WARNING: image file 00011402_007.png already exists in /azureml-share/chestxray/data/ChestX-ray8/test_images\n"
     ]
    },
    {
     "data": {
      "text/plain": [
       "'/azureml-share/chestxray/data/ChestX-ray8/test_images/00011402_007.png'"
      ]
     },
     "execution_count": 11,
     "metadata": {},
     "output_type": "execute_result"
    },
    {
     "name": "stdout",
     "output_type": "stream",
     "text": [
      "WARNING: image file 00017893_005.png already exists in /azureml-share/chestxray/data/ChestX-ray8/test_images\n"
     ]
    },
    {
     "data": {
      "text/plain": [
       "'/azureml-share/chestxray/data/ChestX-ray8/test_images/00017893_005.png'"
      ]
     },
     "execution_count": 11,
     "metadata": {},
     "output_type": "execute_result"
    },
    {
     "name": "stdout",
     "output_type": "stream",
     "text": [
      "WARNING: image file 00028873_004.png already exists in /azureml-share/chestxray/data/ChestX-ray8/test_images\n"
     ]
    },
    {
     "data": {
      "text/plain": [
       "'/azureml-share/chestxray/data/ChestX-ray8/test_images/00028873_004.png'"
      ]
     },
     "execution_count": 11,
     "metadata": {},
     "output_type": "execute_result"
    },
    {
     "name": "stdout",
     "output_type": "stream",
     "text": [
      "WARNING: image file 00004461_000.png already exists in /azureml-share/chestxray/data/ChestX-ray8/test_images\n"
     ]
    },
    {
     "data": {
      "text/plain": [
       "'/azureml-share/chestxray/data/ChestX-ray8/test_images/00004461_000.png'"
      ]
     },
     "execution_count": 11,
     "metadata": {},
     "output_type": "execute_result"
    },
    {
     "name": "stdout",
     "output_type": "stream",
     "text": [
      "WARNING: image file 00008365_000.png already exists in /azureml-share/chestxray/data/ChestX-ray8/test_images\n"
     ]
    },
    {
     "data": {
      "text/plain": [
       "'/azureml-share/chestxray/data/ChestX-ray8/test_images/00008365_000.png'"
      ]
     },
     "execution_count": 11,
     "metadata": {},
     "output_type": "execute_result"
    },
    {
     "name": "stdout",
     "output_type": "stream",
     "text": [
      "WARNING: image file 00004381_021.png already exists in /azureml-share/chestxray/data/ChestX-ray8/test_images\n"
     ]
    },
    {
     "data": {
      "text/plain": [
       "'/azureml-share/chestxray/data/ChestX-ray8/test_images/00004381_021.png'"
      ]
     },
     "execution_count": 11,
     "metadata": {},
     "output_type": "execute_result"
    },
    {
     "name": "stdout",
     "output_type": "stream",
     "text": [
      "WARNING: image file 00002704_029.png already exists in /azureml-share/chestxray/data/ChestX-ray8/test_images\n"
     ]
    },
    {
     "data": {
      "text/plain": [
       "'/azureml-share/chestxray/data/ChestX-ray8/test_images/00002704_029.png'"
      ]
     },
     "execution_count": 11,
     "metadata": {},
     "output_type": "execute_result"
    },
    {
     "name": "stdout",
     "output_type": "stream",
     "text": [
      "WARNING: image file 00012364_006.png already exists in /azureml-share/chestxray/data/ChestX-ray8/test_images\n"
     ]
    },
    {
     "data": {
      "text/plain": [
       "'/azureml-share/chestxray/data/ChestX-ray8/test_images/00012364_006.png'"
      ]
     },
     "execution_count": 11,
     "metadata": {},
     "output_type": "execute_result"
    },
    {
     "name": "stdout",
     "output_type": "stream",
     "text": [
      "WARNING: image file 00022215_012.png already exists in /azureml-share/chestxray/data/ChestX-ray8/test_images\n"
     ]
    },
    {
     "data": {
      "text/plain": [
       "'/azureml-share/chestxray/data/ChestX-ray8/test_images/00022215_012.png'"
      ]
     },
     "execution_count": 11,
     "metadata": {},
     "output_type": "execute_result"
    },
    {
     "name": "stdout",
     "output_type": "stream",
     "text": [
      "WARNING: image file 00017524_028.png already exists in /azureml-share/chestxray/data/ChestX-ray8/test_images\n"
     ]
    },
    {
     "data": {
      "text/plain": [
       "'/azureml-share/chestxray/data/ChestX-ray8/test_images/00017524_028.png'"
      ]
     },
     "execution_count": 11,
     "metadata": {},
     "output_type": "execute_result"
    },
    {
     "name": "stdout",
     "output_type": "stream",
     "text": [
      "WARNING: image file 00005827_000.png already exists in /azureml-share/chestxray/data/ChestX-ray8/test_images\n"
     ]
    },
    {
     "data": {
      "text/plain": [
       "'/azureml-share/chestxray/data/ChestX-ray8/test_images/00005827_000.png'"
      ]
     },
     "execution_count": 11,
     "metadata": {},
     "output_type": "execute_result"
    },
    {
     "name": "stdout",
     "output_type": "stream",
     "text": [
      "WARNING: image file 00001534_005.png already exists in /azureml-share/chestxray/data/ChestX-ray8/test_images\n"
     ]
    },
    {
     "data": {
      "text/plain": [
       "'/azureml-share/chestxray/data/ChestX-ray8/test_images/00001534_005.png'"
      ]
     },
     "execution_count": 11,
     "metadata": {},
     "output_type": "execute_result"
    },
    {
     "name": "stdout",
     "output_type": "stream",
     "text": [
      "WARNING: image file 00004344_022.png already exists in /azureml-share/chestxray/data/ChestX-ray8/test_images\n"
     ]
    },
    {
     "data": {
      "text/plain": [
       "'/azureml-share/chestxray/data/ChestX-ray8/test_images/00004344_022.png'"
      ]
     },
     "execution_count": 11,
     "metadata": {},
     "output_type": "execute_result"
    },
    {
     "name": "stdout",
     "output_type": "stream",
     "text": [
      "WARNING: image file 00020819_002.png already exists in /azureml-share/chestxray/data/ChestX-ray8/test_images\n"
     ]
    },
    {
     "data": {
      "text/plain": [
       "'/azureml-share/chestxray/data/ChestX-ray8/test_images/00020819_002.png'"
      ]
     },
     "execution_count": 11,
     "metadata": {},
     "output_type": "execute_result"
    },
    {
     "name": "stdout",
     "output_type": "stream",
     "text": [
      "WARNING: image file 00005532_014.png already exists in /azureml-share/chestxray/data/ChestX-ray8/test_images\n"
     ]
    },
    {
     "data": {
      "text/plain": [
       "'/azureml-share/chestxray/data/ChestX-ray8/test_images/00005532_014.png'"
      ]
     },
     "execution_count": 11,
     "metadata": {},
     "output_type": "execute_result"
    },
    {
     "name": "stdout",
     "output_type": "stream",
     "text": [
      "WARNING: image file 00004342_020.png already exists in /azureml-share/chestxray/data/ChestX-ray8/test_images\n"
     ]
    },
    {
     "data": {
      "text/plain": [
       "'/azureml-share/chestxray/data/ChestX-ray8/test_images/00004342_020.png'"
      ]
     },
     "execution_count": 11,
     "metadata": {},
     "output_type": "execute_result"
    },
    {
     "name": "stdout",
     "output_type": "stream",
     "text": [
      "WARNING: image file 00022215_011.png already exists in /azureml-share/chestxray/data/ChestX-ray8/test_images\n"
     ]
    },
    {
     "data": {
      "text/plain": [
       "'/azureml-share/chestxray/data/ChestX-ray8/test_images/00022215_011.png'"
      ]
     },
     "execution_count": 11,
     "metadata": {},
     "output_type": "execute_result"
    },
    {
     "name": "stderr",
     "output_type": "stream",
     "text": [
      "\r",
      " 24%|██▍       | 236/984 [00:01<00:03, 207.86it/s]"
     ]
    },
    {
     "name": "stdout",
     "output_type": "stream",
     "text": [
      "WARNING: image file 00015563_011.png already exists in /azureml-share/chestxray/data/ChestX-ray8/test_images\n"
     ]
    },
    {
     "data": {
      "text/plain": [
       "'/azureml-share/chestxray/data/ChestX-ray8/test_images/00015563_011.png'"
      ]
     },
     "execution_count": 11,
     "metadata": {},
     "output_type": "execute_result"
    },
    {
     "name": "stdout",
     "output_type": "stream",
     "text": [
      "WARNING: image file 00018686_000.png already exists in /azureml-share/chestxray/data/ChestX-ray8/test_images\n"
     ]
    },
    {
     "data": {
      "text/plain": [
       "'/azureml-share/chestxray/data/ChestX-ray8/test_images/00018686_000.png'"
      ]
     },
     "execution_count": 11,
     "metadata": {},
     "output_type": "execute_result"
    },
    {
     "name": "stdout",
     "output_type": "stream",
     "text": [
      "WARNING: image file 00011263_004.png already exists in /azureml-share/chestxray/data/ChestX-ray8/test_images\n"
     ]
    },
    {
     "data": {
      "text/plain": [
       "'/azureml-share/chestxray/data/ChestX-ray8/test_images/00011263_004.png'"
      ]
     },
     "execution_count": 11,
     "metadata": {},
     "output_type": "execute_result"
    },
    {
     "name": "stdout",
     "output_type": "stream",
     "text": [
      "WARNING: image file 00013249_052.png already exists in /azureml-share/chestxray/data/ChestX-ray8/test_images\n"
     ]
    },
    {
     "data": {
      "text/plain": [
       "'/azureml-share/chestxray/data/ChestX-ray8/test_images/00013249_052.png'"
      ]
     },
     "execution_count": 11,
     "metadata": {},
     "output_type": "execute_result"
    },
    {
     "name": "stdout",
     "output_type": "stream",
     "text": [
      "WARNING: image file 00016606_000.png already exists in /azureml-share/chestxray/data/ChestX-ray8/test_images\n"
     ]
    },
    {
     "data": {
      "text/plain": [
       "'/azureml-share/chestxray/data/ChestX-ray8/test_images/00016606_000.png'"
      ]
     },
     "execution_count": 11,
     "metadata": {},
     "output_type": "execute_result"
    },
    {
     "name": "stdout",
     "output_type": "stream",
     "text": [
      "WARNING: image file 00025747_000.png already exists in /azureml-share/chestxray/data/ChestX-ray8/test_images\n"
     ]
    },
    {
     "data": {
      "text/plain": [
       "'/azureml-share/chestxray/data/ChestX-ray8/test_images/00025747_000.png'"
      ]
     },
     "execution_count": 11,
     "metadata": {},
     "output_type": "execute_result"
    },
    {
     "name": "stdout",
     "output_type": "stream",
     "text": [
      "WARNING: image file 00027464_033.png already exists in /azureml-share/chestxray/data/ChestX-ray8/test_images\n"
     ]
    },
    {
     "data": {
      "text/plain": [
       "'/azureml-share/chestxray/data/ChestX-ray8/test_images/00027464_033.png'"
      ]
     },
     "execution_count": 11,
     "metadata": {},
     "output_type": "execute_result"
    },
    {
     "name": "stdout",
     "output_type": "stream",
     "text": [
      "WARNING: image file 00022416_018.png already exists in /azureml-share/chestxray/data/ChestX-ray8/test_images\n"
     ]
    },
    {
     "data": {
      "text/plain": [
       "'/azureml-share/chestxray/data/ChestX-ray8/test_images/00022416_018.png'"
      ]
     },
     "execution_count": 11,
     "metadata": {},
     "output_type": "execute_result"
    },
    {
     "name": "stdout",
     "output_type": "stream",
     "text": [
      "WARNING: image file 00004534_001.png already exists in /azureml-share/chestxray/data/ChestX-ray8/test_images\n"
     ]
    },
    {
     "data": {
      "text/plain": [
       "'/azureml-share/chestxray/data/ChestX-ray8/test_images/00004534_001.png'"
      ]
     },
     "execution_count": 11,
     "metadata": {},
     "output_type": "execute_result"
    },
    {
     "name": "stdout",
     "output_type": "stream",
     "text": [
      "WARNING: image file 00004344_018.png already exists in /azureml-share/chestxray/data/ChestX-ray8/test_images\n"
     ]
    },
    {
     "data": {
      "text/plain": [
       "'/azureml-share/chestxray/data/ChestX-ray8/test_images/00004344_018.png'"
      ]
     },
     "execution_count": 11,
     "metadata": {},
     "output_type": "execute_result"
    },
    {
     "name": "stdout",
     "output_type": "stream",
     "text": [
      "WARNING: image file 00027685_003.png already exists in /azureml-share/chestxray/data/ChestX-ray8/test_images\n"
     ]
    },
    {
     "data": {
      "text/plain": [
       "'/azureml-share/chestxray/data/ChestX-ray8/test_images/00027685_003.png'"
      ]
     },
     "execution_count": 11,
     "metadata": {},
     "output_type": "execute_result"
    },
    {
     "name": "stdout",
     "output_type": "stream",
     "text": [
      "WARNING: image file 00009745_000.png already exists in /azureml-share/chestxray/data/ChestX-ray8/test_images\n"
     ]
    },
    {
     "data": {
      "text/plain": [
       "'/azureml-share/chestxray/data/ChestX-ray8/test_images/00009745_000.png'"
      ]
     },
     "execution_count": 11,
     "metadata": {},
     "output_type": "execute_result"
    },
    {
     "name": "stdout",
     "output_type": "stream",
     "text": [
      "WARNING: image file 00029391_000.png already exists in /azureml-share/chestxray/data/ChestX-ray8/test_images\n"
     ]
    },
    {
     "data": {
      "text/plain": [
       "'/azureml-share/chestxray/data/ChestX-ray8/test_images/00029391_000.png'"
      ]
     },
     "execution_count": 11,
     "metadata": {},
     "output_type": "execute_result"
    },
    {
     "name": "stdout",
     "output_type": "stream",
     "text": [
      "WARNING: image file 00000740_000.png already exists in /azureml-share/chestxray/data/ChestX-ray8/test_images\n"
     ]
    },
    {
     "data": {
      "text/plain": [
       "'/azureml-share/chestxray/data/ChestX-ray8/test_images/00000740_000.png'"
      ]
     },
     "execution_count": 11,
     "metadata": {},
     "output_type": "execute_result"
    },
    {
     "name": "stdout",
     "output_type": "stream",
     "text": [
      "WARNING: image file 00011322_002.png already exists in /azureml-share/chestxray/data/ChestX-ray8/test_images\n"
     ]
    },
    {
     "data": {
      "text/plain": [
       "'/azureml-share/chestxray/data/ChestX-ray8/test_images/00011322_002.png'"
      ]
     },
     "execution_count": 11,
     "metadata": {},
     "output_type": "execute_result"
    },
    {
     "name": "stdout",
     "output_type": "stream",
     "text": [
      "WARNING: image file 00023176_017.png already exists in /azureml-share/chestxray/data/ChestX-ray8/test_images\n"
     ]
    },
    {
     "data": {
      "text/plain": [
       "'/azureml-share/chestxray/data/ChestX-ray8/test_images/00023176_017.png'"
      ]
     },
     "execution_count": 11,
     "metadata": {},
     "output_type": "execute_result"
    },
    {
     "name": "stdout",
     "output_type": "stream",
     "text": [
      "WARNING: image file 00009705_000.png already exists in /azureml-share/chestxray/data/ChestX-ray8/test_images\n"
     ]
    },
    {
     "data": {
      "text/plain": [
       "'/azureml-share/chestxray/data/ChestX-ray8/test_images/00009705_000.png'"
      ]
     },
     "execution_count": 11,
     "metadata": {},
     "output_type": "execute_result"
    },
    {
     "name": "stdout",
     "output_type": "stream",
     "text": [
      "WARNING: image file 00004344_046.png already exists in /azureml-share/chestxray/data/ChestX-ray8/test_images\n"
     ]
    },
    {
     "data": {
      "text/plain": [
       "'/azureml-share/chestxray/data/ChestX-ray8/test_images/00004344_046.png'"
      ]
     },
     "execution_count": 11,
     "metadata": {},
     "output_type": "execute_result"
    },
    {
     "name": "stdout",
     "output_type": "stream",
     "text": [
      "WARNING: image file 00021845_001.png already exists in /azureml-share/chestxray/data/ChestX-ray8/test_images\n"
     ]
    },
    {
     "data": {
      "text/plain": [
       "'/azureml-share/chestxray/data/ChestX-ray8/test_images/00021845_001.png'"
      ]
     },
     "execution_count": 11,
     "metadata": {},
     "output_type": "execute_result"
    },
    {
     "name": "stdout",
     "output_type": "stream",
     "text": [
      "WARNING: image file 00013249_033.png already exists in /azureml-share/chestxray/data/ChestX-ray8/test_images\n"
     ]
    },
    {
     "data": {
      "text/plain": [
       "'/azureml-share/chestxray/data/ChestX-ray8/test_images/00013249_033.png'"
      ]
     },
     "execution_count": 11,
     "metadata": {},
     "output_type": "execute_result"
    },
    {
     "name": "stdout",
     "output_type": "stream",
     "text": [
      "WARNING: image file 00000845_000.png already exists in /azureml-share/chestxray/data/ChestX-ray8/test_images\n"
     ]
    },
    {
     "data": {
      "text/plain": [
       "'/azureml-share/chestxray/data/ChestX-ray8/test_images/00000845_000.png'"
      ]
     },
     "execution_count": 11,
     "metadata": {},
     "output_type": "execute_result"
    },
    {
     "name": "stdout",
     "output_type": "stream",
     "text": [
      "WARNING: image file 00014223_009.png already exists in /azureml-share/chestxray/data/ChestX-ray8/test_images\n"
     ]
    },
    {
     "data": {
      "text/plain": [
       "'/azureml-share/chestxray/data/ChestX-ray8/test_images/00014223_009.png'"
      ]
     },
     "execution_count": 11,
     "metadata": {},
     "output_type": "execute_result"
    },
    {
     "name": "stdout",
     "output_type": "stream",
     "text": [
      "WARNING: image file 00000398_003.png already exists in /azureml-share/chestxray/data/ChestX-ray8/test_images\n"
     ]
    },
    {
     "data": {
      "text/plain": [
       "'/azureml-share/chestxray/data/ChestX-ray8/test_images/00000398_003.png'"
      ]
     },
     "execution_count": 11,
     "metadata": {},
     "output_type": "execute_result"
    },
    {
     "name": "stdout",
     "output_type": "stream",
     "text": [
      "WARNING: image file 00021443_000.png already exists in /azureml-share/chestxray/data/ChestX-ray8/test_images\n"
     ]
    },
    {
     "data": {
      "text/plain": [
       "'/azureml-share/chestxray/data/ChestX-ray8/test_images/00021443_000.png'"
      ]
     },
     "execution_count": 11,
     "metadata": {},
     "output_type": "execute_result"
    },
    {
     "name": "stderr",
     "output_type": "stream",
     "text": [
      "\r",
      " 26%|██▋       | 260/984 [00:01<00:03, 213.84it/s]"
     ]
    },
    {
     "name": "stdout",
     "output_type": "stream",
     "text": [
      "WARNING: image file 00008339_010.png already exists in /azureml-share/chestxray/data/ChestX-ray8/test_images\n"
     ]
    },
    {
     "data": {
      "text/plain": [
       "'/azureml-share/chestxray/data/ChestX-ray8/test_images/00008339_010.png'"
      ]
     },
     "execution_count": 11,
     "metadata": {},
     "output_type": "execute_result"
    },
    {
     "name": "stdout",
     "output_type": "stream",
     "text": [
      "WARNING: image file 00017514_008.png already exists in /azureml-share/chestxray/data/ChestX-ray8/test_images\n"
     ]
    },
    {
     "data": {
      "text/plain": [
       "'/azureml-share/chestxray/data/ChestX-ray8/test_images/00017514_008.png'"
      ]
     },
     "execution_count": 11,
     "metadata": {},
     "output_type": "execute_result"
    },
    {
     "name": "stdout",
     "output_type": "stream",
     "text": [
      "WARNING: image file 00015400_001.png already exists in /azureml-share/chestxray/data/ChestX-ray8/test_images\n"
     ]
    },
    {
     "data": {
      "text/plain": [
       "'/azureml-share/chestxray/data/ChestX-ray8/test_images/00015400_001.png'"
      ]
     },
     "execution_count": 11,
     "metadata": {},
     "output_type": "execute_result"
    },
    {
     "name": "stdout",
     "output_type": "stream",
     "text": [
      "WARNING: image file 00013125_000.png already exists in /azureml-share/chestxray/data/ChestX-ray8/test_images\n"
     ]
    },
    {
     "data": {
      "text/plain": [
       "'/azureml-share/chestxray/data/ChestX-ray8/test_images/00013125_000.png'"
      ]
     },
     "execution_count": 11,
     "metadata": {},
     "output_type": "execute_result"
    },
    {
     "name": "stdout",
     "output_type": "stream",
     "text": [
      "WARNING: image file 00007735_040.png already exists in /azureml-share/chestxray/data/ChestX-ray8/test_images\n"
     ]
    },
    {
     "data": {
      "text/plain": [
       "'/azureml-share/chestxray/data/ChestX-ray8/test_images/00007735_040.png'"
      ]
     },
     "execution_count": 11,
     "metadata": {},
     "output_type": "execute_result"
    },
    {
     "name": "stdout",
     "output_type": "stream",
     "text": [
      "WARNING: image file 00025732_004.png already exists in /azureml-share/chestxray/data/ChestX-ray8/test_images\n"
     ]
    },
    {
     "data": {
      "text/plain": [
       "'/azureml-share/chestxray/data/ChestX-ray8/test_images/00025732_004.png'"
      ]
     },
     "execution_count": 11,
     "metadata": {},
     "output_type": "execute_result"
    },
    {
     "name": "stdout",
     "output_type": "stream",
     "text": [
      "WARNING: image file 00018693_004.png already exists in /azureml-share/chestxray/data/ChestX-ray8/test_images\n"
     ]
    },
    {
     "data": {
      "text/plain": [
       "'/azureml-share/chestxray/data/ChestX-ray8/test_images/00018693_004.png'"
      ]
     },
     "execution_count": 11,
     "metadata": {},
     "output_type": "execute_result"
    },
    {
     "name": "stdout",
     "output_type": "stream",
     "text": [
      "WARNING: image file 00015425_012.png already exists in /azureml-share/chestxray/data/ChestX-ray8/test_images\n"
     ]
    },
    {
     "data": {
      "text/plain": [
       "'/azureml-share/chestxray/data/ChestX-ray8/test_images/00015425_012.png'"
      ]
     },
     "execution_count": 11,
     "metadata": {},
     "output_type": "execute_result"
    },
    {
     "name": "stdout",
     "output_type": "stream",
     "text": [
      "WARNING: image file 00013635_002.png already exists in /azureml-share/chestxray/data/ChestX-ray8/test_images\n"
     ]
    },
    {
     "data": {
      "text/plain": [
       "'/azureml-share/chestxray/data/ChestX-ray8/test_images/00013635_002.png'"
      ]
     },
     "execution_count": 11,
     "metadata": {},
     "output_type": "execute_result"
    },
    {
     "name": "stdout",
     "output_type": "stream",
     "text": [
      "WARNING: image file 00007043_000.png already exists in /azureml-share/chestxray/data/ChestX-ray8/test_images\n"
     ]
    },
    {
     "data": {
      "text/plain": [
       "'/azureml-share/chestxray/data/ChestX-ray8/test_images/00007043_000.png'"
      ]
     },
     "execution_count": 11,
     "metadata": {},
     "output_type": "execute_result"
    },
    {
     "name": "stdout",
     "output_type": "stream",
     "text": [
      "WARNING: image file 00001369_000.png already exists in /azureml-share/chestxray/data/ChestX-ray8/test_images\n"
     ]
    },
    {
     "data": {
      "text/plain": [
       "'/azureml-share/chestxray/data/ChestX-ray8/test_images/00001369_000.png'"
      ]
     },
     "execution_count": 11,
     "metadata": {},
     "output_type": "execute_result"
    },
    {
     "name": "stdout",
     "output_type": "stream",
     "text": [
      "WARNING: image file 00015799_012.png already exists in /azureml-share/chestxray/data/ChestX-ray8/test_images\n"
     ]
    },
    {
     "data": {
      "text/plain": [
       "'/azureml-share/chestxray/data/ChestX-ray8/test_images/00015799_012.png'"
      ]
     },
     "execution_count": 11,
     "metadata": {},
     "output_type": "execute_result"
    },
    {
     "name": "stdout",
     "output_type": "stream",
     "text": [
      "WARNING: image file 00002059_008.png already exists in /azureml-share/chestxray/data/ChestX-ray8/test_images\n"
     ]
    },
    {
     "data": {
      "text/plain": [
       "'/azureml-share/chestxray/data/ChestX-ray8/test_images/00002059_008.png'"
      ]
     },
     "execution_count": 11,
     "metadata": {},
     "output_type": "execute_result"
    },
    {
     "name": "stdout",
     "output_type": "stream",
     "text": [
      "WARNING: image file 00020438_011.png already exists in /azureml-share/chestxray/data/ChestX-ray8/test_images\n"
     ]
    },
    {
     "data": {
      "text/plain": [
       "'/azureml-share/chestxray/data/ChestX-ray8/test_images/00020438_011.png'"
      ]
     },
     "execution_count": 11,
     "metadata": {},
     "output_type": "execute_result"
    },
    {
     "name": "stdout",
     "output_type": "stream",
     "text": [
      "WARNING: image file 00014574_000.png already exists in /azureml-share/chestxray/data/ChestX-ray8/test_images\n"
     ]
    },
    {
     "data": {
      "text/plain": [
       "'/azureml-share/chestxray/data/ChestX-ray8/test_images/00014574_000.png'"
      ]
     },
     "execution_count": 11,
     "metadata": {},
     "output_type": "execute_result"
    },
    {
     "name": "stdout",
     "output_type": "stream",
     "text": [
      "WARNING: image file 00012793_000.png already exists in /azureml-share/chestxray/data/ChestX-ray8/test_images\n"
     ]
    },
    {
     "data": {
      "text/plain": [
       "'/azureml-share/chestxray/data/ChestX-ray8/test_images/00012793_000.png'"
      ]
     },
     "execution_count": 11,
     "metadata": {},
     "output_type": "execute_result"
    },
    {
     "name": "stdout",
     "output_type": "stream",
     "text": [
      "WARNING: image file 00012094_006.png already exists in /azureml-share/chestxray/data/ChestX-ray8/test_images\n"
     ]
    },
    {
     "data": {
      "text/plain": [
       "'/azureml-share/chestxray/data/ChestX-ray8/test_images/00012094_006.png'"
      ]
     },
     "execution_count": 11,
     "metadata": {},
     "output_type": "execute_result"
    },
    {
     "name": "stdout",
     "output_type": "stream",
     "text": [
      "WARNING: image file 00004533_014.png already exists in /azureml-share/chestxray/data/ChestX-ray8/test_images\n"
     ]
    },
    {
     "data": {
      "text/plain": [
       "'/azureml-share/chestxray/data/ChestX-ray8/test_images/00004533_014.png'"
      ]
     },
     "execution_count": 11,
     "metadata": {},
     "output_type": "execute_result"
    },
    {
     "name": "stdout",
     "output_type": "stream",
     "text": [
      "WARNING: image file 00019187_000.png already exists in /azureml-share/chestxray/data/ChestX-ray8/test_images\n"
     ]
    },
    {
     "data": {
      "text/plain": [
       "'/azureml-share/chestxray/data/ChestX-ray8/test_images/00019187_000.png'"
      ]
     },
     "execution_count": 11,
     "metadata": {},
     "output_type": "execute_result"
    },
    {
     "name": "stdout",
     "output_type": "stream",
     "text": [
      "WARNING: image file 00001373_009.png already exists in /azureml-share/chestxray/data/ChestX-ray8/test_images\n"
     ]
    },
    {
     "data": {
      "text/plain": [
       "'/azureml-share/chestxray/data/ChestX-ray8/test_images/00001373_009.png'"
      ]
     },
     "execution_count": 11,
     "metadata": {},
     "output_type": "execute_result"
    },
    {
     "name": "stdout",
     "output_type": "stream",
     "text": [
      "WARNING: image file 00016414_000.png already exists in /azureml-share/chestxray/data/ChestX-ray8/test_images\n"
     ]
    },
    {
     "data": {
      "text/plain": [
       "'/azureml-share/chestxray/data/ChestX-ray8/test_images/00016414_000.png'"
      ]
     },
     "execution_count": 11,
     "metadata": {},
     "output_type": "execute_result"
    },
    {
     "name": "stdout",
     "output_type": "stream",
     "text": [
      "WARNING: image file 00030279_000.png already exists in /azureml-share/chestxray/data/ChestX-ray8/test_images\n"
     ]
    },
    {
     "data": {
      "text/plain": [
       "'/azureml-share/chestxray/data/ChestX-ray8/test_images/00030279_000.png'"
      ]
     },
     "execution_count": 11,
     "metadata": {},
     "output_type": "execute_result"
    },
    {
     "name": "stdout",
     "output_type": "stream",
     "text": [
      "WARNING: image file 00010381_000.png already exists in /azureml-share/chestxray/data/ChestX-ray8/test_images\n"
     ]
    },
    {
     "data": {
      "text/plain": [
       "'/azureml-share/chestxray/data/ChestX-ray8/test_images/00010381_000.png'"
      ]
     },
     "execution_count": 11,
     "metadata": {},
     "output_type": "execute_result"
    },
    {
     "name": "stdout",
     "output_type": "stream",
     "text": [
      "WARNING: image file 00013615_052.png already exists in /azureml-share/chestxray/data/ChestX-ray8/test_images\n"
     ]
    },
    {
     "data": {
      "text/plain": [
       "'/azureml-share/chestxray/data/ChestX-ray8/test_images/00013615_052.png'"
      ]
     },
     "execution_count": 11,
     "metadata": {},
     "output_type": "execute_result"
    },
    {
     "name": "stderr",
     "output_type": "stream",
     "text": [
      "\r",
      " 29%|██▉       | 284/984 [00:01<00:03, 218.91it/s]"
     ]
    },
    {
     "name": "stdout",
     "output_type": "stream",
     "text": [
      "WARNING: image file 00004344_013.png already exists in /azureml-share/chestxray/data/ChestX-ray8/test_images\n"
     ]
    },
    {
     "data": {
      "text/plain": [
       "'/azureml-share/chestxray/data/ChestX-ray8/test_images/00004344_013.png'"
      ]
     },
     "execution_count": 11,
     "metadata": {},
     "output_type": "execute_result"
    },
    {
     "name": "stdout",
     "output_type": "stream",
     "text": [
      "WARNING: image file 00019861_010.png already exists in /azureml-share/chestxray/data/ChestX-ray8/test_images\n"
     ]
    },
    {
     "data": {
      "text/plain": [
       "'/azureml-share/chestxray/data/ChestX-ray8/test_images/00019861_010.png'"
      ]
     },
     "execution_count": 11,
     "metadata": {},
     "output_type": "execute_result"
    },
    {
     "name": "stdout",
     "output_type": "stream",
     "text": [
      "WARNING: image file 00022706_001.png already exists in /azureml-share/chestxray/data/ChestX-ray8/test_images\n"
     ]
    },
    {
     "data": {
      "text/plain": [
       "'/azureml-share/chestxray/data/ChestX-ray8/test_images/00022706_001.png'"
      ]
     },
     "execution_count": 11,
     "metadata": {},
     "output_type": "execute_result"
    },
    {
     "name": "stdout",
     "output_type": "stream",
     "text": [
      "WARNING: image file 00004344_014.png already exists in /azureml-share/chestxray/data/ChestX-ray8/test_images\n"
     ]
    },
    {
     "data": {
      "text/plain": [
       "'/azureml-share/chestxray/data/ChestX-ray8/test_images/00004344_014.png'"
      ]
     },
     "execution_count": 11,
     "metadata": {},
     "output_type": "execute_result"
    },
    {
     "name": "stdout",
     "output_type": "stream",
     "text": [
      "WARNING: image file 00015064_001.png already exists in /azureml-share/chestxray/data/ChestX-ray8/test_images\n"
     ]
    },
    {
     "data": {
      "text/plain": [
       "'/azureml-share/chestxray/data/ChestX-ray8/test_images/00015064_001.png'"
      ]
     },
     "execution_count": 11,
     "metadata": {},
     "output_type": "execute_result"
    },
    {
     "name": "stdout",
     "output_type": "stream",
     "text": [
      "WARNING: image file 00011557_003.png already exists in /azureml-share/chestxray/data/ChestX-ray8/test_images\n"
     ]
    },
    {
     "data": {
      "text/plain": [
       "'/azureml-share/chestxray/data/ChestX-ray8/test_images/00011557_003.png'"
      ]
     },
     "execution_count": 11,
     "metadata": {},
     "output_type": "execute_result"
    },
    {
     "name": "stdout",
     "output_type": "stream",
     "text": [
      "WARNING: image file 00029647_002.png already exists in /azureml-share/chestxray/data/ChestX-ray8/test_images\n"
     ]
    },
    {
     "data": {
      "text/plain": [
       "'/azureml-share/chestxray/data/ChestX-ray8/test_images/00029647_002.png'"
      ]
     },
     "execution_count": 11,
     "metadata": {},
     "output_type": "execute_result"
    },
    {
     "name": "stdout",
     "output_type": "stream",
     "text": [
      "WARNING: image file 00025969_000.png already exists in /azureml-share/chestxray/data/ChestX-ray8/test_images\n"
     ]
    },
    {
     "data": {
      "text/plain": [
       "'/azureml-share/chestxray/data/ChestX-ray8/test_images/00025969_000.png'"
      ]
     },
     "execution_count": 11,
     "metadata": {},
     "output_type": "execute_result"
    },
    {
     "name": "stdout",
     "output_type": "stream",
     "text": [
      "WARNING: image file 00018187_029.png already exists in /azureml-share/chestxray/data/ChestX-ray8/test_images\n"
     ]
    },
    {
     "data": {
      "text/plain": [
       "'/azureml-share/chestxray/data/ChestX-ray8/test_images/00018187_029.png'"
      ]
     },
     "execution_count": 11,
     "metadata": {},
     "output_type": "execute_result"
    },
    {
     "name": "stdout",
     "output_type": "stream",
     "text": [
      "WARNING: image file 00004342_023.png already exists in /azureml-share/chestxray/data/ChestX-ray8/test_images\n"
     ]
    },
    {
     "data": {
      "text/plain": [
       "'/azureml-share/chestxray/data/ChestX-ray8/test_images/00004342_023.png'"
      ]
     },
     "execution_count": 11,
     "metadata": {},
     "output_type": "execute_result"
    },
    {
     "name": "stdout",
     "output_type": "stream",
     "text": [
      "WARNING: image file 00004342_002.png already exists in /azureml-share/chestxray/data/ChestX-ray8/test_images\n"
     ]
    },
    {
     "data": {
      "text/plain": [
       "'/azureml-share/chestxray/data/ChestX-ray8/test_images/00004342_002.png'"
      ]
     },
     "execution_count": 11,
     "metadata": {},
     "output_type": "execute_result"
    },
    {
     "name": "stdout",
     "output_type": "stream",
     "text": [
      "WARNING: image file 00015719_005.png already exists in /azureml-share/chestxray/data/ChestX-ray8/test_images\n"
     ]
    },
    {
     "data": {
      "text/plain": [
       "'/azureml-share/chestxray/data/ChestX-ray8/test_images/00015719_005.png'"
      ]
     },
     "execution_count": 11,
     "metadata": {},
     "output_type": "execute_result"
    },
    {
     "name": "stdout",
     "output_type": "stream",
     "text": [
      "WARNING: image file 00028607_000.png already exists in /azureml-share/chestxray/data/ChestX-ray8/test_images\n"
     ]
    },
    {
     "data": {
      "text/plain": [
       "'/azureml-share/chestxray/data/ChestX-ray8/test_images/00028607_000.png'"
      ]
     },
     "execution_count": 11,
     "metadata": {},
     "output_type": "execute_result"
    },
    {
     "name": "stdout",
     "output_type": "stream",
     "text": [
      "WARNING: image file 00004893_085.png already exists in /azureml-share/chestxray/data/ChestX-ray8/test_images\n"
     ]
    },
    {
     "data": {
      "text/plain": [
       "'/azureml-share/chestxray/data/ChestX-ray8/test_images/00004893_085.png'"
      ]
     },
     "execution_count": 11,
     "metadata": {},
     "output_type": "execute_result"
    },
    {
     "name": "stdout",
     "output_type": "stream",
     "text": [
      "WARNING: image file 00001373_039.png already exists in /azureml-share/chestxray/data/ChestX-ray8/test_images\n"
     ]
    },
    {
     "data": {
      "text/plain": [
       "'/azureml-share/chestxray/data/ChestX-ray8/test_images/00001373_039.png'"
      ]
     },
     "execution_count": 11,
     "metadata": {},
     "output_type": "execute_result"
    },
    {
     "name": "stdout",
     "output_type": "stream",
     "text": [
      "WARNING: image file 00000756_001.png already exists in /azureml-share/chestxray/data/ChestX-ray8/test_images\n"
     ]
    },
    {
     "data": {
      "text/plain": [
       "'/azureml-share/chestxray/data/ChestX-ray8/test_images/00000756_001.png'"
      ]
     },
     "execution_count": 11,
     "metadata": {},
     "output_type": "execute_result"
    },
    {
     "name": "stdout",
     "output_type": "stream",
     "text": [
      "WARNING: image file 00008522_032.png already exists in /azureml-share/chestxray/data/ChestX-ray8/test_images\n"
     ]
    },
    {
     "data": {
      "text/plain": [
       "'/azureml-share/chestxray/data/ChestX-ray8/test_images/00008522_032.png'"
      ]
     },
     "execution_count": 11,
     "metadata": {},
     "output_type": "execute_result"
    },
    {
     "name": "stdout",
     "output_type": "stream",
     "text": [
      "WARNING: image file 00005532_000.png already exists in /azureml-share/chestxray/data/ChestX-ray8/test_images\n"
     ]
    },
    {
     "data": {
      "text/plain": [
       "'/azureml-share/chestxray/data/ChestX-ray8/test_images/00005532_000.png'"
      ]
     },
     "execution_count": 11,
     "metadata": {},
     "output_type": "execute_result"
    },
    {
     "name": "stdout",
     "output_type": "stream",
     "text": [
      "WARNING: image file 00030206_013.png already exists in /azureml-share/chestxray/data/ChestX-ray8/test_images\n"
     ]
    },
    {
     "data": {
      "text/plain": [
       "'/azureml-share/chestxray/data/ChestX-ray8/test_images/00030206_013.png'"
      ]
     },
     "execution_count": 11,
     "metadata": {},
     "output_type": "execute_result"
    },
    {
     "name": "stdout",
     "output_type": "stream",
     "text": [
      "WARNING: image file 00008399_007.png already exists in /azureml-share/chestxray/data/ChestX-ray8/test_images\n"
     ]
    },
    {
     "data": {
      "text/plain": [
       "'/azureml-share/chestxray/data/ChestX-ray8/test_images/00008399_007.png'"
      ]
     },
     "execution_count": 11,
     "metadata": {},
     "output_type": "execute_result"
    },
    {
     "name": "stdout",
     "output_type": "stream",
     "text": [
      "WARNING: image file 00012686_003.png already exists in /azureml-share/chestxray/data/ChestX-ray8/test_images\n"
     ]
    },
    {
     "data": {
      "text/plain": [
       "'/azureml-share/chestxray/data/ChestX-ray8/test_images/00012686_003.png'"
      ]
     },
     "execution_count": 11,
     "metadata": {},
     "output_type": "execute_result"
    },
    {
     "name": "stdout",
     "output_type": "stream",
     "text": [
      "WARNING: image file 00004822_051.png already exists in /azureml-share/chestxray/data/ChestX-ray8/test_images\n"
     ]
    },
    {
     "data": {
      "text/plain": [
       "'/azureml-share/chestxray/data/ChestX-ray8/test_images/00004822_051.png'"
      ]
     },
     "execution_count": 11,
     "metadata": {},
     "output_type": "execute_result"
    },
    {
     "name": "stdout",
     "output_type": "stream",
     "text": [
      "WARNING: image file 00015304_001.png already exists in /azureml-share/chestxray/data/ChestX-ray8/test_images\n"
     ]
    },
    {
     "data": {
      "text/plain": [
       "'/azureml-share/chestxray/data/ChestX-ray8/test_images/00015304_001.png'"
      ]
     },
     "execution_count": 11,
     "metadata": {},
     "output_type": "execute_result"
    },
    {
     "name": "stderr",
     "output_type": "stream",
     "text": [
      "\r",
      " 31%|███       | 307/984 [00:01<00:03, 221.15it/s]"
     ]
    },
    {
     "name": "stdout",
     "output_type": "stream",
     "text": [
      "WARNING: image file 00010172_001.png already exists in /azureml-share/chestxray/data/ChestX-ray8/test_images\n"
     ]
    },
    {
     "data": {
      "text/plain": [
       "'/azureml-share/chestxray/data/ChestX-ray8/test_images/00010172_001.png'"
      ]
     },
     "execution_count": 11,
     "metadata": {},
     "output_type": "execute_result"
    },
    {
     "name": "stdout",
     "output_type": "stream",
     "text": [
      "WARNING: image file 00008814_010.png already exists in /azureml-share/chestxray/data/ChestX-ray8/test_images\n"
     ]
    },
    {
     "data": {
      "text/plain": [
       "'/azureml-share/chestxray/data/ChestX-ray8/test_images/00008814_010.png'"
      ]
     },
     "execution_count": 11,
     "metadata": {},
     "output_type": "execute_result"
    },
    {
     "name": "stdout",
     "output_type": "stream",
     "text": [
      "WARNING: image file 00010007_168.png already exists in /azureml-share/chestxray/data/ChestX-ray8/test_images\n"
     ]
    },
    {
     "data": {
      "text/plain": [
       "'/azureml-share/chestxray/data/ChestX-ray8/test_images/00010007_168.png'"
      ]
     },
     "execution_count": 11,
     "metadata": {},
     "output_type": "execute_result"
    },
    {
     "name": "stdout",
     "output_type": "stream",
     "text": [
      "WARNING: image file 00005066_030.png already exists in /azureml-share/chestxray/data/ChestX-ray8/test_images\n"
     ]
    },
    {
     "data": {
      "text/plain": [
       "'/azureml-share/chestxray/data/ChestX-ray8/test_images/00005066_030.png'"
      ]
     },
     "execution_count": 11,
     "metadata": {},
     "output_type": "execute_result"
    },
    {
     "name": "stdout",
     "output_type": "stream",
     "text": [
      "WARNING: image file 00010828_039.png already exists in /azureml-share/chestxray/data/ChestX-ray8/test_images\n"
     ]
    },
    {
     "data": {
      "text/plain": [
       "'/azureml-share/chestxray/data/ChestX-ray8/test_images/00010828_039.png'"
      ]
     },
     "execution_count": 11,
     "metadata": {},
     "output_type": "execute_result"
    },
    {
     "name": "stdout",
     "output_type": "stream",
     "text": [
      "WARNING: image file 00027479_013.png already exists in /azureml-share/chestxray/data/ChestX-ray8/test_images\n"
     ]
    },
    {
     "data": {
      "text/plain": [
       "'/azureml-share/chestxray/data/ChestX-ray8/test_images/00027479_013.png'"
      ]
     },
     "execution_count": 11,
     "metadata": {},
     "output_type": "execute_result"
    },
    {
     "name": "stdout",
     "output_type": "stream",
     "text": [
      "WARNING: image file 00018253_059.png already exists in /azureml-share/chestxray/data/ChestX-ray8/test_images\n"
     ]
    },
    {
     "data": {
      "text/plain": [
       "'/azureml-share/chestxray/data/ChestX-ray8/test_images/00018253_059.png'"
      ]
     },
     "execution_count": 11,
     "metadata": {},
     "output_type": "execute_result"
    },
    {
     "name": "stdout",
     "output_type": "stream",
     "text": [
      "WARNING: image file 00029579_005.png already exists in /azureml-share/chestxray/data/ChestX-ray8/test_images\n"
     ]
    },
    {
     "data": {
      "text/plain": [
       "'/azureml-share/chestxray/data/ChestX-ray8/test_images/00029579_005.png'"
      ]
     },
     "execution_count": 11,
     "metadata": {},
     "output_type": "execute_result"
    },
    {
     "name": "stdout",
     "output_type": "stream",
     "text": [
      "WARNING: image file 00021703_001.png already exists in /azureml-share/chestxray/data/ChestX-ray8/test_images\n"
     ]
    },
    {
     "data": {
      "text/plain": [
       "'/azureml-share/chestxray/data/ChestX-ray8/test_images/00021703_001.png'"
      ]
     },
     "execution_count": 11,
     "metadata": {},
     "output_type": "execute_result"
    },
    {
     "name": "stdout",
     "output_type": "stream",
     "text": [
      "WARNING: image file 00013993_077.png already exists in /azureml-share/chestxray/data/ChestX-ray8/test_images\n"
     ]
    },
    {
     "data": {
      "text/plain": [
       "'/azureml-share/chestxray/data/ChestX-ray8/test_images/00013993_077.png'"
      ]
     },
     "execution_count": 11,
     "metadata": {},
     "output_type": "execute_result"
    },
    {
     "name": "stdout",
     "output_type": "stream",
     "text": [
      "WARNING: image file 00018102_001.png already exists in /azureml-share/chestxray/data/ChestX-ray8/test_images\n"
     ]
    },
    {
     "data": {
      "text/plain": [
       "'/azureml-share/chestxray/data/ChestX-ray8/test_images/00018102_001.png'"
      ]
     },
     "execution_count": 11,
     "metadata": {},
     "output_type": "execute_result"
    },
    {
     "name": "stdout",
     "output_type": "stream",
     "text": [
      "WARNING: image file 00022369_013.png already exists in /azureml-share/chestxray/data/ChestX-ray8/test_images\n"
     ]
    },
    {
     "data": {
      "text/plain": [
       "'/azureml-share/chestxray/data/ChestX-ray8/test_images/00022369_013.png'"
      ]
     },
     "execution_count": 11,
     "metadata": {},
     "output_type": "execute_result"
    },
    {
     "name": "stdout",
     "output_type": "stream",
     "text": [
      "WARNING: image file 00022611_001.png already exists in /azureml-share/chestxray/data/ChestX-ray8/test_images\n"
     ]
    },
    {
     "data": {
      "text/plain": [
       "'/azureml-share/chestxray/data/ChestX-ray8/test_images/00022611_001.png'"
      ]
     },
     "execution_count": 11,
     "metadata": {},
     "output_type": "execute_result"
    },
    {
     "name": "stdout",
     "output_type": "stream",
     "text": [
      "WARNING: image file 00000344_003.png already exists in /azureml-share/chestxray/data/ChestX-ray8/test_images\n"
     ]
    },
    {
     "data": {
      "text/plain": [
       "'/azureml-share/chestxray/data/ChestX-ray8/test_images/00000344_003.png'"
      ]
     },
     "execution_count": 11,
     "metadata": {},
     "output_type": "execute_result"
    },
    {
     "name": "stdout",
     "output_type": "stream",
     "text": [
      "WARNING: image file 00020482_032.png already exists in /azureml-share/chestxray/data/ChestX-ray8/test_images\n"
     ]
    },
    {
     "data": {
      "text/plain": [
       "'/azureml-share/chestxray/data/ChestX-ray8/test_images/00020482_032.png'"
      ]
     },
     "execution_count": 11,
     "metadata": {},
     "output_type": "execute_result"
    },
    {
     "name": "stdout",
     "output_type": "stream",
     "text": [
      "WARNING: image file 00029464_015.png already exists in /azureml-share/chestxray/data/ChestX-ray8/test_images\n"
     ]
    },
    {
     "data": {
      "text/plain": [
       "'/azureml-share/chestxray/data/ChestX-ray8/test_images/00029464_015.png'"
      ]
     },
     "execution_count": 11,
     "metadata": {},
     "output_type": "execute_result"
    },
    {
     "name": "stdout",
     "output_type": "stream",
     "text": [
      "WARNING: image file 00028383_002.png already exists in /azureml-share/chestxray/data/ChestX-ray8/test_images\n"
     ]
    },
    {
     "data": {
      "text/plain": [
       "'/azureml-share/chestxray/data/ChestX-ray8/test_images/00028383_002.png'"
      ]
     },
     "execution_count": 11,
     "metadata": {},
     "output_type": "execute_result"
    },
    {
     "name": "stdout",
     "output_type": "stream",
     "text": [
      "WARNING: image file 00015078_013.png already exists in /azureml-share/chestxray/data/ChestX-ray8/test_images\n"
     ]
    },
    {
     "data": {
      "text/plain": [
       "'/azureml-share/chestxray/data/ChestX-ray8/test_images/00015078_013.png'"
      ]
     },
     "execution_count": 11,
     "metadata": {},
     "output_type": "execute_result"
    },
    {
     "name": "stdout",
     "output_type": "stream",
     "text": [
      "WARNING: image file 00020000_000.png already exists in /azureml-share/chestxray/data/ChestX-ray8/test_images\n"
     ]
    },
    {
     "data": {
      "text/plain": [
       "'/azureml-share/chestxray/data/ChestX-ray8/test_images/00020000_000.png'"
      ]
     },
     "execution_count": 11,
     "metadata": {},
     "output_type": "execute_result"
    },
    {
     "name": "stdout",
     "output_type": "stream",
     "text": [
      "WARNING: image file 00010277_000.png already exists in /azureml-share/chestxray/data/ChestX-ray8/test_images\n"
     ]
    },
    {
     "data": {
      "text/plain": [
       "'/azureml-share/chestxray/data/ChestX-ray8/test_images/00010277_000.png'"
      ]
     },
     "execution_count": 11,
     "metadata": {},
     "output_type": "execute_result"
    },
    {
     "name": "stdout",
     "output_type": "stream",
     "text": [
      "WARNING: image file 00030634_000.png already exists in /azureml-share/chestxray/data/ChestX-ray8/test_images\n"
     ]
    },
    {
     "data": {
      "text/plain": [
       "'/azureml-share/chestxray/data/ChestX-ray8/test_images/00030634_000.png'"
      ]
     },
     "execution_count": 11,
     "metadata": {},
     "output_type": "execute_result"
    },
    {
     "name": "stdout",
     "output_type": "stream",
     "text": [
      "WARNING: image file 00018427_011.png already exists in /azureml-share/chestxray/data/ChestX-ray8/test_images\n"
     ]
    },
    {
     "data": {
      "text/plain": [
       "'/azureml-share/chestxray/data/ChestX-ray8/test_images/00018427_011.png'"
      ]
     },
     "execution_count": 11,
     "metadata": {},
     "output_type": "execute_result"
    },
    {
     "name": "stdout",
     "output_type": "stream",
     "text": [
      "WARNING: image file 00016837_002.png already exists in /azureml-share/chestxray/data/ChestX-ray8/test_images\n"
     ]
    },
    {
     "data": {
      "text/plain": [
       "'/azureml-share/chestxray/data/ChestX-ray8/test_images/00016837_002.png'"
      ]
     },
     "execution_count": 11,
     "metadata": {},
     "output_type": "execute_result"
    },
    {
     "name": "stderr",
     "output_type": "stream",
     "text": [
      "\r",
      " 34%|███▎      | 330/984 [00:01<00:03, 211.66it/s]"
     ]
    },
    {
     "name": "stdout",
     "output_type": "stream",
     "text": [
      "WARNING: image file 00013285_026.png already exists in /azureml-share/chestxray/data/ChestX-ray8/test_images\n"
     ]
    },
    {
     "data": {
      "text/plain": [
       "'/azureml-share/chestxray/data/ChestX-ray8/test_images/00013285_026.png'"
      ]
     },
     "execution_count": 11,
     "metadata": {},
     "output_type": "execute_result"
    },
    {
     "name": "stdout",
     "output_type": "stream",
     "text": [
      "WARNING: image file 00019767_016.png already exists in /azureml-share/chestxray/data/ChestX-ray8/test_images\n"
     ]
    },
    {
     "data": {
      "text/plain": [
       "'/azureml-share/chestxray/data/ChestX-ray8/test_images/00019767_016.png'"
      ]
     },
     "execution_count": 11,
     "metadata": {},
     "output_type": "execute_result"
    },
    {
     "name": "stdout",
     "output_type": "stream",
     "text": [
      "WARNING: image file 00018366_029.png already exists in /azureml-share/chestxray/data/ChestX-ray8/test_images\n"
     ]
    },
    {
     "data": {
      "text/plain": [
       "'/azureml-share/chestxray/data/ChestX-ray8/test_images/00018366_029.png'"
      ]
     },
     "execution_count": 11,
     "metadata": {},
     "output_type": "execute_result"
    },
    {
     "name": "stdout",
     "output_type": "stream",
     "text": [
      "WARNING: image file 00003803_010.png already exists in /azureml-share/chestxray/data/ChestX-ray8/test_images\n"
     ]
    },
    {
     "data": {
      "text/plain": [
       "'/azureml-share/chestxray/data/ChestX-ray8/test_images/00003803_010.png'"
      ]
     },
     "execution_count": 11,
     "metadata": {},
     "output_type": "execute_result"
    },
    {
     "name": "stdout",
     "output_type": "stream",
     "text": [
      "WARNING: image file 00002395_007.png already exists in /azureml-share/chestxray/data/ChestX-ray8/test_images\n"
     ]
    },
    {
     "data": {
      "text/plain": [
       "'/azureml-share/chestxray/data/ChestX-ray8/test_images/00002395_007.png'"
      ]
     },
     "execution_count": 11,
     "metadata": {},
     "output_type": "execute_result"
    },
    {
     "name": "stdout",
     "output_type": "stream",
     "text": [
      "WARNING: image file 00027028_017.png already exists in /azureml-share/chestxray/data/ChestX-ray8/test_images\n"
     ]
    },
    {
     "data": {
      "text/plain": [
       "'/azureml-share/chestxray/data/ChestX-ray8/test_images/00027028_017.png'"
      ]
     },
     "execution_count": 11,
     "metadata": {},
     "output_type": "execute_result"
    },
    {
     "name": "stdout",
     "output_type": "stream",
     "text": [
      "WARNING: image file 00020213_078.png already exists in /azureml-share/chestxray/data/ChestX-ray8/test_images\n"
     ]
    },
    {
     "data": {
      "text/plain": [
       "'/azureml-share/chestxray/data/ChestX-ray8/test_images/00020213_078.png'"
      ]
     },
     "execution_count": 11,
     "metadata": {},
     "output_type": "execute_result"
    },
    {
     "name": "stdout",
     "output_type": "stream",
     "text": [
      "WARNING: image file 00021840_016.png already exists in /azureml-share/chestxray/data/ChestX-ray8/test_images\n"
     ]
    },
    {
     "data": {
      "text/plain": [
       "'/azureml-share/chestxray/data/ChestX-ray8/test_images/00021840_016.png'"
      ]
     },
     "execution_count": 11,
     "metadata": {},
     "output_type": "execute_result"
    },
    {
     "name": "stdout",
     "output_type": "stream",
     "text": [
      "WARNING: image file 00021711_014.png already exists in /azureml-share/chestxray/data/ChestX-ray8/test_images\n"
     ]
    },
    {
     "data": {
      "text/plain": [
       "'/azureml-share/chestxray/data/ChestX-ray8/test_images/00021711_014.png'"
      ]
     },
     "execution_count": 11,
     "metadata": {},
     "output_type": "execute_result"
    },
    {
     "name": "stdout",
     "output_type": "stream",
     "text": [
      "WARNING: image file 00015090_006.png already exists in /azureml-share/chestxray/data/ChestX-ray8/test_images\n"
     ]
    },
    {
     "data": {
      "text/plain": [
       "'/azureml-share/chestxray/data/ChestX-ray8/test_images/00015090_006.png'"
      ]
     },
     "execution_count": 11,
     "metadata": {},
     "output_type": "execute_result"
    },
    {
     "name": "stdout",
     "output_type": "stream",
     "text": [
      "WARNING: image file 00025686_000.png already exists in /azureml-share/chestxray/data/ChestX-ray8/test_images\n"
     ]
    },
    {
     "data": {
      "text/plain": [
       "'/azureml-share/chestxray/data/ChestX-ray8/test_images/00025686_000.png'"
      ]
     },
     "execution_count": 11,
     "metadata": {},
     "output_type": "execute_result"
    },
    {
     "name": "stdout",
     "output_type": "stream",
     "text": [
      "WARNING: image file 00017188_002.png already exists in /azureml-share/chestxray/data/ChestX-ray8/test_images\n"
     ]
    },
    {
     "data": {
      "text/plain": [
       "'/azureml-share/chestxray/data/ChestX-ray8/test_images/00017188_002.png'"
      ]
     },
     "execution_count": 11,
     "metadata": {},
     "output_type": "execute_result"
    },
    {
     "name": "stdout",
     "output_type": "stream",
     "text": [
      "WARNING: image file 00018387_030.png already exists in /azureml-share/chestxray/data/ChestX-ray8/test_images\n"
     ]
    },
    {
     "data": {
      "text/plain": [
       "'/azureml-share/chestxray/data/ChestX-ray8/test_images/00018387_030.png'"
      ]
     },
     "execution_count": 11,
     "metadata": {},
     "output_type": "execute_result"
    },
    {
     "name": "stdout",
     "output_type": "stream",
     "text": [
      "WARNING: image file 00028518_021.png already exists in /azureml-share/chestxray/data/ChestX-ray8/test_images\n"
     ]
    },
    {
     "data": {
      "text/plain": [
       "'/azureml-share/chestxray/data/ChestX-ray8/test_images/00028518_021.png'"
      ]
     },
     "execution_count": 11,
     "metadata": {},
     "output_type": "execute_result"
    },
    {
     "name": "stdout",
     "output_type": "stream",
     "text": [
      "WARNING: image file 00023058_004.png already exists in /azureml-share/chestxray/data/ChestX-ray8/test_images\n"
     ]
    },
    {
     "data": {
      "text/plain": [
       "'/azureml-share/chestxray/data/ChestX-ray8/test_images/00023058_004.png'"
      ]
     },
     "execution_count": 11,
     "metadata": {},
     "output_type": "execute_result"
    },
    {
     "name": "stdout",
     "output_type": "stream",
     "text": [
      "WARNING: image file 00028628_015.png already exists in /azureml-share/chestxray/data/ChestX-ray8/test_images\n"
     ]
    },
    {
     "data": {
      "text/plain": [
       "'/azureml-share/chestxray/data/ChestX-ray8/test_images/00028628_015.png'"
      ]
     },
     "execution_count": 11,
     "metadata": {},
     "output_type": "execute_result"
    },
    {
     "name": "stdout",
     "output_type": "stream",
     "text": [
      "WARNING: image file 00026810_001.png already exists in /azureml-share/chestxray/data/ChestX-ray8/test_images\n"
     ]
    },
    {
     "data": {
      "text/plain": [
       "'/azureml-share/chestxray/data/ChestX-ray8/test_images/00026810_001.png'"
      ]
     },
     "execution_count": 11,
     "metadata": {},
     "output_type": "execute_result"
    },
    {
     "name": "stdout",
     "output_type": "stream",
     "text": [
      "WARNING: image file 00012045_009.png already exists in /azureml-share/chestxray/data/ChestX-ray8/test_images\n"
     ]
    },
    {
     "data": {
      "text/plain": [
       "'/azureml-share/chestxray/data/ChestX-ray8/test_images/00012045_009.png'"
      ]
     },
     "execution_count": 11,
     "metadata": {},
     "output_type": "execute_result"
    },
    {
     "name": "stdout",
     "output_type": "stream",
     "text": [
      "WARNING: image file 00025252_053.png already exists in /azureml-share/chestxray/data/ChestX-ray8/test_images\n"
     ]
    },
    {
     "data": {
      "text/plain": [
       "'/azureml-share/chestxray/data/ChestX-ray8/test_images/00025252_053.png'"
      ]
     },
     "execution_count": 11,
     "metadata": {},
     "output_type": "execute_result"
    },
    {
     "name": "stdout",
     "output_type": "stream",
     "text": [
      "WARNING: image file 00021972_001.png already exists in /azureml-share/chestxray/data/ChestX-ray8/test_images\n"
     ]
    },
    {
     "data": {
      "text/plain": [
       "'/azureml-share/chestxray/data/ChestX-ray8/test_images/00021972_001.png'"
      ]
     },
     "execution_count": 11,
     "metadata": {},
     "output_type": "execute_result"
    },
    {
     "name": "stdout",
     "output_type": "stream",
     "text": [
      "WARNING: image file 00016291_002.png already exists in /azureml-share/chestxray/data/ChestX-ray8/test_images\n"
     ]
    },
    {
     "data": {
      "text/plain": [
       "'/azureml-share/chestxray/data/ChestX-ray8/test_images/00016291_002.png'"
      ]
     },
     "execution_count": 11,
     "metadata": {},
     "output_type": "execute_result"
    },
    {
     "name": "stdout",
     "output_type": "stream",
     "text": [
      "WARNING: image file 00021381_013.png already exists in /azureml-share/chestxray/data/ChestX-ray8/test_images\n"
     ]
    },
    {
     "data": {
      "text/plain": [
       "'/azureml-share/chestxray/data/ChestX-ray8/test_images/00021381_013.png'"
      ]
     },
     "execution_count": 11,
     "metadata": {},
     "output_type": "execute_result"
    },
    {
     "name": "stderr",
     "output_type": "stream",
     "text": [
      "\r",
      " 36%|███▌      | 352/984 [00:01<00:02, 213.13it/s]"
     ]
    },
    {
     "name": "stdout",
     "output_type": "stream",
     "text": [
      "WARNING: image file 00021181_002.png already exists in /azureml-share/chestxray/data/ChestX-ray8/test_images\n"
     ]
    },
    {
     "data": {
      "text/plain": [
       "'/azureml-share/chestxray/data/ChestX-ray8/test_images/00021181_002.png'"
      ]
     },
     "execution_count": 11,
     "metadata": {},
     "output_type": "execute_result"
    },
    {
     "name": "stdout",
     "output_type": "stream",
     "text": [
      "WARNING: image file 00014015_003.png already exists in /azureml-share/chestxray/data/ChestX-ray8/test_images\n"
     ]
    },
    {
     "data": {
      "text/plain": [
       "'/azureml-share/chestxray/data/ChestX-ray8/test_images/00014015_003.png'"
      ]
     },
     "execution_count": 11,
     "metadata": {},
     "output_type": "execute_result"
    },
    {
     "name": "stdout",
     "output_type": "stream",
     "text": [
      "WARNING: image file 00016964_011.png already exists in /azureml-share/chestxray/data/ChestX-ray8/test_images\n"
     ]
    },
    {
     "data": {
      "text/plain": [
       "'/azureml-share/chestxray/data/ChestX-ray8/test_images/00016964_011.png'"
      ]
     },
     "execution_count": 11,
     "metadata": {},
     "output_type": "execute_result"
    },
    {
     "name": "stdout",
     "output_type": "stream",
     "text": [
      "WARNING: image file 00008841_025.png already exists in /azureml-share/chestxray/data/ChestX-ray8/test_images\n"
     ]
    },
    {
     "data": {
      "text/plain": [
       "'/azureml-share/chestxray/data/ChestX-ray8/test_images/00008841_025.png'"
      ]
     },
     "execution_count": 11,
     "metadata": {},
     "output_type": "execute_result"
    },
    {
     "name": "stdout",
     "output_type": "stream",
     "text": [
      "WARNING: image file 00007882_001.png already exists in /azureml-share/chestxray/data/ChestX-ray8/test_images\n"
     ]
    },
    {
     "data": {
      "text/plain": [
       "'/azureml-share/chestxray/data/ChestX-ray8/test_images/00007882_001.png'"
      ]
     },
     "execution_count": 11,
     "metadata": {},
     "output_type": "execute_result"
    },
    {
     "name": "stdout",
     "output_type": "stream",
     "text": [
      "WARNING: image file 00015058_024.png already exists in /azureml-share/chestxray/data/ChestX-ray8/test_images\n"
     ]
    },
    {
     "data": {
      "text/plain": [
       "'/azureml-share/chestxray/data/ChestX-ray8/test_images/00015058_024.png'"
      ]
     },
     "execution_count": 11,
     "metadata": {},
     "output_type": "execute_result"
    },
    {
     "name": "stdout",
     "output_type": "stream",
     "text": [
      "WARNING: image file 00008547_001.png already exists in /azureml-share/chestxray/data/ChestX-ray8/test_images\n"
     ]
    },
    {
     "data": {
      "text/plain": [
       "'/azureml-share/chestxray/data/ChestX-ray8/test_images/00008547_001.png'"
      ]
     },
     "execution_count": 11,
     "metadata": {},
     "output_type": "execute_result"
    },
    {
     "name": "stdout",
     "output_type": "stream",
     "text": [
      "WARNING: image file 00020274_007.png already exists in /azureml-share/chestxray/data/ChestX-ray8/test_images\n"
     ]
    },
    {
     "data": {
      "text/plain": [
       "'/azureml-share/chestxray/data/ChestX-ray8/test_images/00020274_007.png'"
      ]
     },
     "execution_count": 11,
     "metadata": {},
     "output_type": "execute_result"
    },
    {
     "name": "stdout",
     "output_type": "stream",
     "text": [
      "WARNING: image file 00014976_003.png already exists in /azureml-share/chestxray/data/ChestX-ray8/test_images\n"
     ]
    },
    {
     "data": {
      "text/plain": [
       "'/azureml-share/chestxray/data/ChestX-ray8/test_images/00014976_003.png'"
      ]
     },
     "execution_count": 11,
     "metadata": {},
     "output_type": "execute_result"
    },
    {
     "name": "stdout",
     "output_type": "stream",
     "text": [
      "WARNING: image file 00029596_018.png already exists in /azureml-share/chestxray/data/ChestX-ray8/test_images\n"
     ]
    },
    {
     "data": {
      "text/plain": [
       "'/azureml-share/chestxray/data/ChestX-ray8/test_images/00029596_018.png'"
      ]
     },
     "execution_count": 11,
     "metadata": {},
     "output_type": "execute_result"
    },
    {
     "name": "stdout",
     "output_type": "stream",
     "text": [
      "WARNING: image file 00030408_013.png already exists in /azureml-share/chestxray/data/ChestX-ray8/test_images\n"
     ]
    },
    {
     "data": {
      "text/plain": [
       "'/azureml-share/chestxray/data/ChestX-ray8/test_images/00030408_013.png'"
      ]
     },
     "execution_count": 11,
     "metadata": {},
     "output_type": "execute_result"
    },
    {
     "name": "stdout",
     "output_type": "stream",
     "text": [
      "WARNING: image file 00007830_013.png already exists in /azureml-share/chestxray/data/ChestX-ray8/test_images\n"
     ]
    },
    {
     "data": {
      "text/plain": [
       "'/azureml-share/chestxray/data/ChestX-ray8/test_images/00007830_013.png'"
      ]
     },
     "execution_count": 11,
     "metadata": {},
     "output_type": "execute_result"
    },
    {
     "name": "stdout",
     "output_type": "stream",
     "text": [
      "WARNING: image file 00030412_001.png already exists in /azureml-share/chestxray/data/ChestX-ray8/test_images\n"
     ]
    },
    {
     "data": {
      "text/plain": [
       "'/azureml-share/chestxray/data/ChestX-ray8/test_images/00030412_001.png'"
      ]
     },
     "execution_count": 11,
     "metadata": {},
     "output_type": "execute_result"
    },
    {
     "name": "stdout",
     "output_type": "stream",
     "text": [
      "WARNING: image file 00025252_040.png already exists in /azureml-share/chestxray/data/ChestX-ray8/test_images\n"
     ]
    },
    {
     "data": {
      "text/plain": [
       "'/azureml-share/chestxray/data/ChestX-ray8/test_images/00025252_040.png'"
      ]
     },
     "execution_count": 11,
     "metadata": {},
     "output_type": "execute_result"
    },
    {
     "name": "stdout",
     "output_type": "stream",
     "text": [
      "WARNING: image file 00029532_005.png already exists in /azureml-share/chestxray/data/ChestX-ray8/test_images\n"
     ]
    },
    {
     "data": {
      "text/plain": [
       "'/azureml-share/chestxray/data/ChestX-ray8/test_images/00029532_005.png'"
      ]
     },
     "execution_count": 11,
     "metadata": {},
     "output_type": "execute_result"
    },
    {
     "name": "stdout",
     "output_type": "stream",
     "text": [
      "WARNING: image file 00019766_023.png already exists in /azureml-share/chestxray/data/ChestX-ray8/test_images\n"
     ]
    },
    {
     "data": {
      "text/plain": [
       "'/azureml-share/chestxray/data/ChestX-ray8/test_images/00019766_023.png'"
      ]
     },
     "execution_count": 11,
     "metadata": {},
     "output_type": "execute_result"
    },
    {
     "name": "stdout",
     "output_type": "stream",
     "text": [
      "WARNING: image file 00013750_016.png already exists in /azureml-share/chestxray/data/ChestX-ray8/test_images\n"
     ]
    },
    {
     "data": {
      "text/plain": [
       "'/azureml-share/chestxray/data/ChestX-ray8/test_images/00013750_016.png'"
      ]
     },
     "execution_count": 11,
     "metadata": {},
     "output_type": "execute_result"
    },
    {
     "name": "stdout",
     "output_type": "stream",
     "text": [
      "WARNING: image file 00017138_037.png already exists in /azureml-share/chestxray/data/ChestX-ray8/test_images\n"
     ]
    },
    {
     "data": {
      "text/plain": [
       "'/azureml-share/chestxray/data/ChestX-ray8/test_images/00017138_037.png'"
      ]
     },
     "execution_count": 11,
     "metadata": {},
     "output_type": "execute_result"
    },
    {
     "name": "stdout",
     "output_type": "stream",
     "text": [
      "WARNING: image file 00002583_014.png already exists in /azureml-share/chestxray/data/ChestX-ray8/test_images\n"
     ]
    },
    {
     "data": {
      "text/plain": [
       "'/azureml-share/chestxray/data/ChestX-ray8/test_images/00002583_014.png'"
      ]
     },
     "execution_count": 11,
     "metadata": {},
     "output_type": "execute_result"
    },
    {
     "name": "stdout",
     "output_type": "stream",
     "text": [
      "WARNING: image file 00028640_008.png already exists in /azureml-share/chestxray/data/ChestX-ray8/test_images\n"
     ]
    },
    {
     "data": {
      "text/plain": [
       "'/azureml-share/chestxray/data/ChestX-ray8/test_images/00028640_008.png'"
      ]
     },
     "execution_count": 11,
     "metadata": {},
     "output_type": "execute_result"
    },
    {
     "name": "stdout",
     "output_type": "stream",
     "text": [
      "WARNING: image file 00019924_020.png already exists in /azureml-share/chestxray/data/ChestX-ray8/test_images\n"
     ]
    },
    {
     "data": {
      "text/plain": [
       "'/azureml-share/chestxray/data/ChestX-ray8/test_images/00019924_020.png'"
      ]
     },
     "execution_count": 11,
     "metadata": {},
     "output_type": "execute_result"
    },
    {
     "name": "stdout",
     "output_type": "stream",
     "text": [
      "WARNING: image file 00020405_041.png already exists in /azureml-share/chestxray/data/ChestX-ray8/test_images\n"
     ]
    },
    {
     "data": {
      "text/plain": [
       "'/azureml-share/chestxray/data/ChestX-ray8/test_images/00020405_041.png'"
      ]
     },
     "execution_count": 11,
     "metadata": {},
     "output_type": "execute_result"
    },
    {
     "name": "stdout",
     "output_type": "stream",
     "text": [
      "WARNING: image file 00011237_094.png already exists in /azureml-share/chestxray/data/ChestX-ray8/test_images\n"
     ]
    },
    {
     "data": {
      "text/plain": [
       "'/azureml-share/chestxray/data/ChestX-ray8/test_images/00011237_094.png'"
      ]
     },
     "execution_count": 11,
     "metadata": {},
     "output_type": "execute_result"
    },
    {
     "name": "stdout",
     "output_type": "stream",
     "text": [
      "WARNING: image file 00018253_054.png already exists in /azureml-share/chestxray/data/ChestX-ray8/test_images\n"
     ]
    },
    {
     "data": {
      "text/plain": [
       "'/azureml-share/chestxray/data/ChestX-ray8/test_images/00018253_054.png'"
      ]
     },
     "execution_count": 11,
     "metadata": {},
     "output_type": "execute_result"
    },
    {
     "name": "stdout",
     "output_type": "stream",
     "text": [
      "WARNING: image file 00021967_000.png already exists in /azureml-share/chestxray/data/ChestX-ray8/test_images\n"
     ]
    },
    {
     "data": {
      "text/plain": [
       "'/azureml-share/chestxray/data/ChestX-ray8/test_images/00021967_000.png'"
      ]
     },
     "execution_count": 11,
     "metadata": {},
     "output_type": "execute_result"
    },
    {
     "name": "stderr",
     "output_type": "stream",
     "text": [
      "\r",
      " 38%|███▊      | 377/984 [00:01<00:02, 222.31it/s]"
     ]
    },
    {
     "name": "stdout",
     "output_type": "stream",
     "text": [
      "WARNING: image file 00030039_008.png already exists in /azureml-share/chestxray/data/ChestX-ray8/test_images\n"
     ]
    },
    {
     "data": {
      "text/plain": [
       "'/azureml-share/chestxray/data/ChestX-ray8/test_images/00030039_008.png'"
      ]
     },
     "execution_count": 11,
     "metadata": {},
     "output_type": "execute_result"
    },
    {
     "name": "stdout",
     "output_type": "stream",
     "text": [
      "WARNING: image file 00012834_122.png already exists in /azureml-share/chestxray/data/ChestX-ray8/test_images\n"
     ]
    },
    {
     "data": {
      "text/plain": [
       "'/azureml-share/chestxray/data/ChestX-ray8/test_images/00012834_122.png'"
      ]
     },
     "execution_count": 11,
     "metadata": {},
     "output_type": "execute_result"
    },
    {
     "name": "stdout",
     "output_type": "stream",
     "text": [
      "WARNING: image file 00025521_003.png already exists in /azureml-share/chestxray/data/ChestX-ray8/test_images\n"
     ]
    },
    {
     "data": {
      "text/plain": [
       "'/azureml-share/chestxray/data/ChestX-ray8/test_images/00025521_003.png'"
      ]
     },
     "execution_count": 11,
     "metadata": {},
     "output_type": "execute_result"
    },
    {
     "name": "stdout",
     "output_type": "stream",
     "text": [
      "WARNING: image file 00026753_008.png already exists in /azureml-share/chestxray/data/ChestX-ray8/test_images\n"
     ]
    },
    {
     "data": {
      "text/plain": [
       "'/azureml-share/chestxray/data/ChestX-ray8/test_images/00026753_008.png'"
      ]
     },
     "execution_count": 11,
     "metadata": {},
     "output_type": "execute_result"
    },
    {
     "name": "stdout",
     "output_type": "stream",
     "text": [
      "WARNING: image file 00012174_000.png already exists in /azureml-share/chestxray/data/ChestX-ray8/test_images\n"
     ]
    },
    {
     "data": {
      "text/plain": [
       "'/azureml-share/chestxray/data/ChestX-ray8/test_images/00012174_000.png'"
      ]
     },
     "execution_count": 11,
     "metadata": {},
     "output_type": "execute_result"
    },
    {
     "name": "stdout",
     "output_type": "stream",
     "text": [
      "WARNING: image file 00020751_003.png already exists in /azureml-share/chestxray/data/ChestX-ray8/test_images\n"
     ]
    },
    {
     "data": {
      "text/plain": [
       "'/azureml-share/chestxray/data/ChestX-ray8/test_images/00020751_003.png'"
      ]
     },
     "execution_count": 11,
     "metadata": {},
     "output_type": "execute_result"
    },
    {
     "name": "stdout",
     "output_type": "stream",
     "text": [
      "WARNING: image file 00002533_002.png already exists in /azureml-share/chestxray/data/ChestX-ray8/test_images\n"
     ]
    },
    {
     "data": {
      "text/plain": [
       "'/azureml-share/chestxray/data/ChestX-ray8/test_images/00002533_002.png'"
      ]
     },
     "execution_count": 11,
     "metadata": {},
     "output_type": "execute_result"
    },
    {
     "name": "stdout",
     "output_type": "stream",
     "text": [
      "WARNING: image file 00012505_007.png already exists in /azureml-share/chestxray/data/ChestX-ray8/test_images\n"
     ]
    },
    {
     "data": {
      "text/plain": [
       "'/azureml-share/chestxray/data/ChestX-ray8/test_images/00012505_007.png'"
      ]
     },
     "execution_count": 11,
     "metadata": {},
     "output_type": "execute_result"
    },
    {
     "name": "stdout",
     "output_type": "stream",
     "text": [
      "WARNING: image file 00014346_010.png already exists in /azureml-share/chestxray/data/ChestX-ray8/test_images\n"
     ]
    },
    {
     "data": {
      "text/plain": [
       "'/azureml-share/chestxray/data/ChestX-ray8/test_images/00014346_010.png'"
      ]
     },
     "execution_count": 11,
     "metadata": {},
     "output_type": "execute_result"
    },
    {
     "name": "stdout",
     "output_type": "stream",
     "text": [
      "WARNING: image file 00025228_007.png already exists in /azureml-share/chestxray/data/ChestX-ray8/test_images\n"
     ]
    },
    {
     "data": {
      "text/plain": [
       "'/azureml-share/chestxray/data/ChestX-ray8/test_images/00025228_007.png'"
      ]
     },
     "execution_count": 11,
     "metadata": {},
     "output_type": "execute_result"
    },
    {
     "name": "stdout",
     "output_type": "stream",
     "text": [
      "WARNING: image file 00018980_002.png already exists in /azureml-share/chestxray/data/ChestX-ray8/test_images\n"
     ]
    },
    {
     "data": {
      "text/plain": [
       "'/azureml-share/chestxray/data/ChestX-ray8/test_images/00018980_002.png'"
      ]
     },
     "execution_count": 11,
     "metadata": {},
     "output_type": "execute_result"
    },
    {
     "name": "stdout",
     "output_type": "stream",
     "text": [
      "WARNING: image file 00012834_034.png already exists in /azureml-share/chestxray/data/ChestX-ray8/test_images\n"
     ]
    },
    {
     "data": {
      "text/plain": [
       "'/azureml-share/chestxray/data/ChestX-ray8/test_images/00012834_034.png'"
      ]
     },
     "execution_count": 11,
     "metadata": {},
     "output_type": "execute_result"
    },
    {
     "name": "stdout",
     "output_type": "stream",
     "text": [
      "WARNING: image file 00023283_019.png already exists in /azureml-share/chestxray/data/ChestX-ray8/test_images\n"
     ]
    },
    {
     "data": {
      "text/plain": [
       "'/azureml-share/chestxray/data/ChestX-ray8/test_images/00023283_019.png'"
      ]
     },
     "execution_count": 11,
     "metadata": {},
     "output_type": "execute_result"
    },
    {
     "name": "stdout",
     "output_type": "stream",
     "text": [
      "WARNING: image file 00027357_014.png already exists in /azureml-share/chestxray/data/ChestX-ray8/test_images\n"
     ]
    },
    {
     "data": {
      "text/plain": [
       "'/azureml-share/chestxray/data/ChestX-ray8/test_images/00027357_014.png'"
      ]
     },
     "execution_count": 11,
     "metadata": {},
     "output_type": "execute_result"
    },
    {
     "name": "stdout",
     "output_type": "stream",
     "text": [
      "WARNING: image file 00016417_008.png already exists in /azureml-share/chestxray/data/ChestX-ray8/test_images\n"
     ]
    },
    {
     "data": {
      "text/plain": [
       "'/azureml-share/chestxray/data/ChestX-ray8/test_images/00016417_008.png'"
      ]
     },
     "execution_count": 11,
     "metadata": {},
     "output_type": "execute_result"
    },
    {
     "name": "stdout",
     "output_type": "stream",
     "text": [
      "WARNING: image file 00025787_027.png already exists in /azureml-share/chestxray/data/ChestX-ray8/test_images\n"
     ]
    },
    {
     "data": {
      "text/plain": [
       "'/azureml-share/chestxray/data/ChestX-ray8/test_images/00025787_027.png'"
      ]
     },
     "execution_count": 11,
     "metadata": {},
     "output_type": "execute_result"
    },
    {
     "name": "stdout",
     "output_type": "stream",
     "text": [
      "WARNING: image file 00027441_002.png already exists in /azureml-share/chestxray/data/ChestX-ray8/test_images\n"
     ]
    },
    {
     "data": {
      "text/plain": [
       "'/azureml-share/chestxray/data/ChestX-ray8/test_images/00027441_002.png'"
      ]
     },
     "execution_count": 11,
     "metadata": {},
     "output_type": "execute_result"
    },
    {
     "name": "stdout",
     "output_type": "stream",
     "text": [
      "WARNING: image file 00014738_000.png already exists in /azureml-share/chestxray/data/ChestX-ray8/test_images\n"
     ]
    },
    {
     "data": {
      "text/plain": [
       "'/azureml-share/chestxray/data/ChestX-ray8/test_images/00014738_000.png'"
      ]
     },
     "execution_count": 11,
     "metadata": {},
     "output_type": "execute_result"
    },
    {
     "name": "stdout",
     "output_type": "stream",
     "text": [
      "WARNING: image file 00013993_083.png already exists in /azureml-share/chestxray/data/ChestX-ray8/test_images\n"
     ]
    },
    {
     "data": {
      "text/plain": [
       "'/azureml-share/chestxray/data/ChestX-ray8/test_images/00013993_083.png'"
      ]
     },
     "execution_count": 11,
     "metadata": {},
     "output_type": "execute_result"
    },
    {
     "name": "stdout",
     "output_type": "stream",
     "text": [
      "WARNING: image file 00022572_005.png already exists in /azureml-share/chestxray/data/ChestX-ray8/test_images\n"
     ]
    },
    {
     "data": {
      "text/plain": [
       "'/azureml-share/chestxray/data/ChestX-ray8/test_images/00022572_005.png'"
      ]
     },
     "execution_count": 11,
     "metadata": {},
     "output_type": "execute_result"
    },
    {
     "name": "stdout",
     "output_type": "stream",
     "text": [
      "WARNING: image file 00022572_087.png already exists in /azureml-share/chestxray/data/ChestX-ray8/test_images\n"
     ]
    },
    {
     "data": {
      "text/plain": [
       "'/azureml-share/chestxray/data/ChestX-ray8/test_images/00022572_087.png'"
      ]
     },
     "execution_count": 11,
     "metadata": {},
     "output_type": "execute_result"
    },
    {
     "name": "stdout",
     "output_type": "stream",
     "text": [
      "WARNING: image file 00017403_006.png already exists in /azureml-share/chestxray/data/ChestX-ray8/test_images\n"
     ]
    },
    {
     "data": {
      "text/plain": [
       "'/azureml-share/chestxray/data/ChestX-ray8/test_images/00017403_006.png'"
      ]
     },
     "execution_count": 11,
     "metadata": {},
     "output_type": "execute_result"
    },
    {
     "name": "stdout",
     "output_type": "stream",
     "text": [
      "WARNING: image file 00023093_007.png already exists in /azureml-share/chestxray/data/ChestX-ray8/test_images\n"
     ]
    },
    {
     "data": {
      "text/plain": [
       "'/azureml-share/chestxray/data/ChestX-ray8/test_images/00023093_007.png'"
      ]
     },
     "execution_count": 11,
     "metadata": {},
     "output_type": "execute_result"
    },
    {
     "name": "stderr",
     "output_type": "stream",
     "text": [
      "\r",
      " 41%|████      | 400/984 [00:01<00:02, 218.77it/s]"
     ]
    },
    {
     "name": "stdout",
     "output_type": "stream",
     "text": [
      "WARNING: image file 00016291_019.png already exists in /azureml-share/chestxray/data/ChestX-ray8/test_images\n"
     ]
    },
    {
     "data": {
      "text/plain": [
       "'/azureml-share/chestxray/data/ChestX-ray8/test_images/00016291_019.png'"
      ]
     },
     "execution_count": 11,
     "metadata": {},
     "output_type": "execute_result"
    },
    {
     "name": "stdout",
     "output_type": "stream",
     "text": [
      "WARNING: image file 00026555_001.png already exists in /azureml-share/chestxray/data/ChestX-ray8/test_images\n"
     ]
    },
    {
     "data": {
      "text/plain": [
       "'/azureml-share/chestxray/data/ChestX-ray8/test_images/00026555_001.png'"
      ]
     },
     "execution_count": 11,
     "metadata": {},
     "output_type": "execute_result"
    },
    {
     "name": "stdout",
     "output_type": "stream",
     "text": [
      "WARNING: image file 00016522_023.png already exists in /azureml-share/chestxray/data/ChestX-ray8/test_images\n"
     ]
    },
    {
     "data": {
      "text/plain": [
       "'/azureml-share/chestxray/data/ChestX-ray8/test_images/00016522_023.png'"
      ]
     },
     "execution_count": 11,
     "metadata": {},
     "output_type": "execute_result"
    },
    {
     "name": "stdout",
     "output_type": "stream",
     "text": [
      "WARNING: image file 00012973_005.png already exists in /azureml-share/chestxray/data/ChestX-ray8/test_images\n"
     ]
    },
    {
     "data": {
      "text/plain": [
       "'/azureml-share/chestxray/data/ChestX-ray8/test_images/00012973_005.png'"
      ]
     },
     "execution_count": 11,
     "metadata": {},
     "output_type": "execute_result"
    },
    {
     "name": "stdout",
     "output_type": "stream",
     "text": [
      "WARNING: image file 00025664_002.png already exists in /azureml-share/chestxray/data/ChestX-ray8/test_images\n"
     ]
    },
    {
     "data": {
      "text/plain": [
       "'/azureml-share/chestxray/data/ChestX-ray8/test_images/00025664_002.png'"
      ]
     },
     "execution_count": 11,
     "metadata": {},
     "output_type": "execute_result"
    },
    {
     "name": "stdout",
     "output_type": "stream",
     "text": [
      "WARNING: image file 00010575_002.png already exists in /azureml-share/chestxray/data/ChestX-ray8/test_images\n"
     ]
    },
    {
     "data": {
      "text/plain": [
       "'/azureml-share/chestxray/data/ChestX-ray8/test_images/00010575_002.png'"
      ]
     },
     "execution_count": 11,
     "metadata": {},
     "output_type": "execute_result"
    },
    {
     "name": "stdout",
     "output_type": "stream",
     "text": [
      "WARNING: image file 00014149_018.png already exists in /azureml-share/chestxray/data/ChestX-ray8/test_images\n"
     ]
    },
    {
     "data": {
      "text/plain": [
       "'/azureml-share/chestxray/data/ChestX-ray8/test_images/00014149_018.png'"
      ]
     },
     "execution_count": 11,
     "metadata": {},
     "output_type": "execute_result"
    },
    {
     "name": "stdout",
     "output_type": "stream",
     "text": [
      "WARNING: image file 00011857_001.png already exists in /azureml-share/chestxray/data/ChestX-ray8/test_images\n"
     ]
    },
    {
     "data": {
      "text/plain": [
       "'/azureml-share/chestxray/data/ChestX-ray8/test_images/00011857_001.png'"
      ]
     },
     "execution_count": 11,
     "metadata": {},
     "output_type": "execute_result"
    },
    {
     "name": "stdout",
     "output_type": "stream",
     "text": [
      "WARNING: image file 00028774_047.png already exists in /azureml-share/chestxray/data/ChestX-ray8/test_images\n"
     ]
    },
    {
     "data": {
      "text/plain": [
       "'/azureml-share/chestxray/data/ChestX-ray8/test_images/00028774_047.png'"
      ]
     },
     "execution_count": 11,
     "metadata": {},
     "output_type": "execute_result"
    },
    {
     "name": "stdout",
     "output_type": "stream",
     "text": [
      "WARNING: image file 00029894_000.png already exists in /azureml-share/chestxray/data/ChestX-ray8/test_images\n"
     ]
    },
    {
     "data": {
      "text/plain": [
       "'/azureml-share/chestxray/data/ChestX-ray8/test_images/00029894_000.png'"
      ]
     },
     "execution_count": 11,
     "metadata": {},
     "output_type": "execute_result"
    },
    {
     "name": "stdout",
     "output_type": "stream",
     "text": [
      "WARNING: image file 00022572_063.png already exists in /azureml-share/chestxray/data/ChestX-ray8/test_images\n"
     ]
    },
    {
     "data": {
      "text/plain": [
       "'/azureml-share/chestxray/data/ChestX-ray8/test_images/00022572_063.png'"
      ]
     },
     "execution_count": 11,
     "metadata": {},
     "output_type": "execute_result"
    },
    {
     "name": "stdout",
     "output_type": "stream",
     "text": [
      "WARNING: image file 00009218_015.png already exists in /azureml-share/chestxray/data/ChestX-ray8/test_images\n"
     ]
    },
    {
     "data": {
      "text/plain": [
       "'/azureml-share/chestxray/data/ChestX-ray8/test_images/00009218_015.png'"
      ]
     },
     "execution_count": 11,
     "metadata": {},
     "output_type": "execute_result"
    },
    {
     "name": "stdout",
     "output_type": "stream",
     "text": [
      "WARNING: image file 00022899_000.png already exists in /azureml-share/chestxray/data/ChestX-ray8/test_images\n"
     ]
    },
    {
     "data": {
      "text/plain": [
       "'/azureml-share/chestxray/data/ChestX-ray8/test_images/00022899_000.png'"
      ]
     },
     "execution_count": 11,
     "metadata": {},
     "output_type": "execute_result"
    },
    {
     "name": "stdout",
     "output_type": "stream",
     "text": [
      "WARNING: image file 00027817_001.png already exists in /azureml-share/chestxray/data/ChestX-ray8/test_images\n"
     ]
    },
    {
     "data": {
      "text/plain": [
       "'/azureml-share/chestxray/data/ChestX-ray8/test_images/00027817_001.png'"
      ]
     },
     "execution_count": 11,
     "metadata": {},
     "output_type": "execute_result"
    },
    {
     "name": "stdout",
     "output_type": "stream",
     "text": [
      "WARNING: image file 00022416_004.png already exists in /azureml-share/chestxray/data/ChestX-ray8/test_images\n"
     ]
    },
    {
     "data": {
      "text/plain": [
       "'/azureml-share/chestxray/data/ChestX-ray8/test_images/00022416_004.png'"
      ]
     },
     "execution_count": 11,
     "metadata": {},
     "output_type": "execute_result"
    },
    {
     "name": "stdout",
     "output_type": "stream",
     "text": [
      "WARNING: image file 00018253_017.png already exists in /azureml-share/chestxray/data/ChestX-ray8/test_images\n"
     ]
    },
    {
     "data": {
      "text/plain": [
       "'/azureml-share/chestxray/data/ChestX-ray8/test_images/00018253_017.png'"
      ]
     },
     "execution_count": 11,
     "metadata": {},
     "output_type": "execute_result"
    },
    {
     "name": "stdout",
     "output_type": "stream",
     "text": [
      "WARNING: image file 00018657_003.png already exists in /azureml-share/chestxray/data/ChestX-ray8/test_images\n"
     ]
    },
    {
     "data": {
      "text/plain": [
       "'/azureml-share/chestxray/data/ChestX-ray8/test_images/00018657_003.png'"
      ]
     },
     "execution_count": 11,
     "metadata": {},
     "output_type": "execute_result"
    },
    {
     "name": "stdout",
     "output_type": "stream",
     "text": [
      "WARNING: image file 00003072_028.png already exists in /azureml-share/chestxray/data/ChestX-ray8/test_images\n"
     ]
    },
    {
     "data": {
      "text/plain": [
       "'/azureml-share/chestxray/data/ChestX-ray8/test_images/00003072_028.png'"
      ]
     },
     "execution_count": 11,
     "metadata": {},
     "output_type": "execute_result"
    },
    {
     "name": "stdout",
     "output_type": "stream",
     "text": [
      "WARNING: image file 00014626_035.png already exists in /azureml-share/chestxray/data/ChestX-ray8/test_images\n"
     ]
    },
    {
     "data": {
      "text/plain": [
       "'/azureml-share/chestxray/data/ChestX-ray8/test_images/00014626_035.png'"
      ]
     },
     "execution_count": 11,
     "metadata": {},
     "output_type": "execute_result"
    },
    {
     "name": "stdout",
     "output_type": "stream",
     "text": [
      "WARNING: image file 00011269_019.png already exists in /azureml-share/chestxray/data/ChestX-ray8/test_images\n"
     ]
    },
    {
     "data": {
      "text/plain": [
       "'/azureml-share/chestxray/data/ChestX-ray8/test_images/00011269_019.png'"
      ]
     },
     "execution_count": 11,
     "metadata": {},
     "output_type": "execute_result"
    },
    {
     "name": "stdout",
     "output_type": "stream",
     "text": [
      "WARNING: image file 00007034_016.png already exists in /azureml-share/chestxray/data/ChestX-ray8/test_images\n"
     ]
    },
    {
     "data": {
      "text/plain": [
       "'/azureml-share/chestxray/data/ChestX-ray8/test_images/00007034_016.png'"
      ]
     },
     "execution_count": 11,
     "metadata": {},
     "output_type": "execute_result"
    },
    {
     "name": "stdout",
     "output_type": "stream",
     "text": [
      "WARNING: image file 00017500_002.png already exists in /azureml-share/chestxray/data/ChestX-ray8/test_images\n"
     ]
    },
    {
     "data": {
      "text/plain": [
       "'/azureml-share/chestxray/data/ChestX-ray8/test_images/00017500_002.png'"
      ]
     },
     "execution_count": 11,
     "metadata": {},
     "output_type": "execute_result"
    },
    {
     "name": "stdout",
     "output_type": "stream",
     "text": [
      "WARNING: image file 00020277_001.png already exists in /azureml-share/chestxray/data/ChestX-ray8/test_images\n"
     ]
    },
    {
     "data": {
      "text/plain": [
       "'/azureml-share/chestxray/data/ChestX-ray8/test_images/00020277_001.png'"
      ]
     },
     "execution_count": 11,
     "metadata": {},
     "output_type": "execute_result"
    },
    {
     "name": "stdout",
     "output_type": "stream",
     "text": [
      "WARNING: image file 00013977_005.png already exists in /azureml-share/chestxray/data/ChestX-ray8/test_images\n"
     ]
    },
    {
     "data": {
      "text/plain": [
       "'/azureml-share/chestxray/data/ChestX-ray8/test_images/00013977_005.png'"
      ]
     },
     "execution_count": 11,
     "metadata": {},
     "output_type": "execute_result"
    },
    {
     "name": "stdout",
     "output_type": "stream",
     "text": [
      "WARNING: image file 00014398_031.png already exists in /azureml-share/chestxray/data/ChestX-ray8/test_images\n"
     ]
    },
    {
     "data": {
      "text/plain": [
       "'/azureml-share/chestxray/data/ChestX-ray8/test_images/00014398_031.png'"
      ]
     },
     "execution_count": 11,
     "metadata": {},
     "output_type": "execute_result"
    },
    {
     "name": "stderr",
     "output_type": "stream",
     "text": [
      "\r",
      " 43%|████▎     | 425/984 [00:01<00:02, 226.59it/s]"
     ]
    },
    {
     "name": "stdout",
     "output_type": "stream",
     "text": [
      "WARNING: image file 00029469_011.png already exists in /azureml-share/chestxray/data/ChestX-ray8/test_images\n"
     ]
    },
    {
     "data": {
      "text/plain": [
       "'/azureml-share/chestxray/data/ChestX-ray8/test_images/00029469_011.png'"
      ]
     },
     "execution_count": 11,
     "metadata": {},
     "output_type": "execute_result"
    },
    {
     "name": "stdout",
     "output_type": "stream",
     "text": [
      "WARNING: image file 00028509_007.png already exists in /azureml-share/chestxray/data/ChestX-ray8/test_images\n"
     ]
    },
    {
     "data": {
      "text/plain": [
       "'/azureml-share/chestxray/data/ChestX-ray8/test_images/00028509_007.png'"
      ]
     },
     "execution_count": 11,
     "metadata": {},
     "output_type": "execute_result"
    },
    {
     "name": "stdout",
     "output_type": "stream",
     "text": [
      "WARNING: image file 00017582_003.png already exists in /azureml-share/chestxray/data/ChestX-ray8/test_images\n"
     ]
    },
    {
     "data": {
      "text/plain": [
       "'/azureml-share/chestxray/data/ChestX-ray8/test_images/00017582_003.png'"
      ]
     },
     "execution_count": 11,
     "metadata": {},
     "output_type": "execute_result"
    },
    {
     "name": "stdout",
     "output_type": "stream",
     "text": [
      "WARNING: image file 00027875_005.png already exists in /azureml-share/chestxray/data/ChestX-ray8/test_images\n"
     ]
    },
    {
     "data": {
      "text/plain": [
       "'/azureml-share/chestxray/data/ChestX-ray8/test_images/00027875_005.png'"
      ]
     },
     "execution_count": 11,
     "metadata": {},
     "output_type": "execute_result"
    },
    {
     "name": "stdout",
     "output_type": "stream",
     "text": [
      "WARNING: image file 00013337_000.png already exists in /azureml-share/chestxray/data/ChestX-ray8/test_images\n"
     ]
    },
    {
     "data": {
      "text/plain": [
       "'/azureml-share/chestxray/data/ChestX-ray8/test_images/00013337_000.png'"
      ]
     },
     "execution_count": 11,
     "metadata": {},
     "output_type": "execute_result"
    },
    {
     "name": "stdout",
     "output_type": "stream",
     "text": [
      "WARNING: image file 00013031_005.png already exists in /azureml-share/chestxray/data/ChestX-ray8/test_images\n"
     ]
    },
    {
     "data": {
      "text/plain": [
       "'/azureml-share/chestxray/data/ChestX-ray8/test_images/00013031_005.png'"
      ]
     },
     "execution_count": 11,
     "metadata": {},
     "output_type": "execute_result"
    },
    {
     "name": "stdout",
     "output_type": "stream",
     "text": [
      "WARNING: image file 00009437_008.png already exists in /azureml-share/chestxray/data/ChestX-ray8/test_images\n"
     ]
    },
    {
     "data": {
      "text/plain": [
       "'/azureml-share/chestxray/data/ChestX-ray8/test_images/00009437_008.png'"
      ]
     },
     "execution_count": 11,
     "metadata": {},
     "output_type": "execute_result"
    },
    {
     "name": "stdout",
     "output_type": "stream",
     "text": [
      "WARNING: image file 00009683_005.png already exists in /azureml-share/chestxray/data/ChestX-ray8/test_images\n"
     ]
    },
    {
     "data": {
      "text/plain": [
       "'/azureml-share/chestxray/data/ChestX-ray8/test_images/00009683_005.png'"
      ]
     },
     "execution_count": 11,
     "metadata": {},
     "output_type": "execute_result"
    },
    {
     "name": "stdout",
     "output_type": "stream",
     "text": [
      "WARNING: image file 00001558_016.png already exists in /azureml-share/chestxray/data/ChestX-ray8/test_images\n"
     ]
    },
    {
     "data": {
      "text/plain": [
       "'/azureml-share/chestxray/data/ChestX-ray8/test_images/00001558_016.png'"
      ]
     },
     "execution_count": 11,
     "metadata": {},
     "output_type": "execute_result"
    },
    {
     "name": "stdout",
     "output_type": "stream",
     "text": [
      "WARNING: image file 00005089_040.png already exists in /azureml-share/chestxray/data/ChestX-ray8/test_images\n"
     ]
    },
    {
     "data": {
      "text/plain": [
       "'/azureml-share/chestxray/data/ChestX-ray8/test_images/00005089_040.png'"
      ]
     },
     "execution_count": 11,
     "metadata": {},
     "output_type": "execute_result"
    },
    {
     "name": "stdout",
     "output_type": "stream",
     "text": [
      "WARNING: image file 00028974_016.png already exists in /azureml-share/chestxray/data/ChestX-ray8/test_images\n"
     ]
    },
    {
     "data": {
      "text/plain": [
       "'/azureml-share/chestxray/data/ChestX-ray8/test_images/00028974_016.png'"
      ]
     },
     "execution_count": 11,
     "metadata": {},
     "output_type": "execute_result"
    },
    {
     "name": "stdout",
     "output_type": "stream",
     "text": [
      "WARNING: image file 00011827_003.png already exists in /azureml-share/chestxray/data/ChestX-ray8/test_images\n"
     ]
    },
    {
     "data": {
      "text/plain": [
       "'/azureml-share/chestxray/data/ChestX-ray8/test_images/00011827_003.png'"
      ]
     },
     "execution_count": 11,
     "metadata": {},
     "output_type": "execute_result"
    },
    {
     "name": "stdout",
     "output_type": "stream",
     "text": [
      "WARNING: image file 00025529_018.png already exists in /azureml-share/chestxray/data/ChestX-ray8/test_images\n"
     ]
    },
    {
     "data": {
      "text/plain": [
       "'/azureml-share/chestxray/data/ChestX-ray8/test_images/00025529_018.png'"
      ]
     },
     "execution_count": 11,
     "metadata": {},
     "output_type": "execute_result"
    },
    {
     "name": "stdout",
     "output_type": "stream",
     "text": [
      "WARNING: image file 00027631_000.png already exists in /azureml-share/chestxray/data/ChestX-ray8/test_images\n"
     ]
    },
    {
     "data": {
      "text/plain": [
       "'/azureml-share/chestxray/data/ChestX-ray8/test_images/00027631_000.png'"
      ]
     },
     "execution_count": 11,
     "metadata": {},
     "output_type": "execute_result"
    },
    {
     "name": "stdout",
     "output_type": "stream",
     "text": [
      "WARNING: image file 00017124_004.png already exists in /azureml-share/chestxray/data/ChestX-ray8/test_images\n"
     ]
    },
    {
     "data": {
      "text/plain": [
       "'/azureml-share/chestxray/data/ChestX-ray8/test_images/00017124_004.png'"
      ]
     },
     "execution_count": 11,
     "metadata": {},
     "output_type": "execute_result"
    },
    {
     "name": "stdout",
     "output_type": "stream",
     "text": [
      "WARNING: image file 00020564_000.png already exists in /azureml-share/chestxray/data/ChestX-ray8/test_images\n"
     ]
    },
    {
     "data": {
      "text/plain": [
       "'/azureml-share/chestxray/data/ChestX-ray8/test_images/00020564_000.png'"
      ]
     },
     "execution_count": 11,
     "metadata": {},
     "output_type": "execute_result"
    },
    {
     "name": "stdout",
     "output_type": "stream",
     "text": [
      "WARNING: image file 00015895_017.png already exists in /azureml-share/chestxray/data/ChestX-ray8/test_images\n"
     ]
    },
    {
     "data": {
      "text/plain": [
       "'/azureml-share/chestxray/data/ChestX-ray8/test_images/00015895_017.png'"
      ]
     },
     "execution_count": 11,
     "metadata": {},
     "output_type": "execute_result"
    },
    {
     "name": "stdout",
     "output_type": "stream",
     "text": [
      "WARNING: image file 00014447_004.png already exists in /azureml-share/chestxray/data/ChestX-ray8/test_images\n"
     ]
    },
    {
     "data": {
      "text/plain": [
       "'/azureml-share/chestxray/data/ChestX-ray8/test_images/00014447_004.png'"
      ]
     },
     "execution_count": 11,
     "metadata": {},
     "output_type": "execute_result"
    },
    {
     "name": "stdout",
     "output_type": "stream",
     "text": [
      "WARNING: image file 00012834_008.png already exists in /azureml-share/chestxray/data/ChestX-ray8/test_images\n"
     ]
    },
    {
     "data": {
      "text/plain": [
       "'/azureml-share/chestxray/data/ChestX-ray8/test_images/00012834_008.png'"
      ]
     },
     "execution_count": 11,
     "metadata": {},
     "output_type": "execute_result"
    },
    {
     "name": "stdout",
     "output_type": "stream",
     "text": [
      "WARNING: image file 00029588_004.png already exists in /azureml-share/chestxray/data/ChestX-ray8/test_images\n"
     ]
    },
    {
     "data": {
      "text/plain": [
       "'/azureml-share/chestxray/data/ChestX-ray8/test_images/00029588_004.png'"
      ]
     },
     "execution_count": 11,
     "metadata": {},
     "output_type": "execute_result"
    },
    {
     "name": "stdout",
     "output_type": "stream",
     "text": [
      "WARNING: image file 00021860_002.png already exists in /azureml-share/chestxray/data/ChestX-ray8/test_images\n"
     ]
    },
    {
     "data": {
      "text/plain": [
       "'/azureml-share/chestxray/data/ChestX-ray8/test_images/00021860_002.png'"
      ]
     },
     "execution_count": 11,
     "metadata": {},
     "output_type": "execute_result"
    },
    {
     "name": "stdout",
     "output_type": "stream",
     "text": [
      "WARNING: image file 00020393_003.png already exists in /azureml-share/chestxray/data/ChestX-ray8/test_images\n"
     ]
    },
    {
     "data": {
      "text/plain": [
       "'/azureml-share/chestxray/data/ChestX-ray8/test_images/00020393_003.png'"
      ]
     },
     "execution_count": 11,
     "metadata": {},
     "output_type": "execute_result"
    },
    {
     "name": "stdout",
     "output_type": "stream",
     "text": [
      "WARNING: image file 00027103_001.png already exists in /azureml-share/chestxray/data/ChestX-ray8/test_images\n"
     ]
    },
    {
     "data": {
      "text/plain": [
       "'/azureml-share/chestxray/data/ChestX-ray8/test_images/00027103_001.png'"
      ]
     },
     "execution_count": 11,
     "metadata": {},
     "output_type": "execute_result"
    },
    {
     "name": "stderr",
     "output_type": "stream",
     "text": [
      "\r",
      " 46%|████▌     | 448/984 [00:02<00:02, 222.14it/s]"
     ]
    },
    {
     "name": "stdout",
     "output_type": "stream",
     "text": [
      "WARNING: image file 00029502_006.png already exists in /azureml-share/chestxray/data/ChestX-ray8/test_images\n"
     ]
    },
    {
     "data": {
      "text/plain": [
       "'/azureml-share/chestxray/data/ChestX-ray8/test_images/00029502_006.png'"
      ]
     },
     "execution_count": 11,
     "metadata": {},
     "output_type": "execute_result"
    },
    {
     "name": "stdout",
     "output_type": "stream",
     "text": [
      "WARNING: image file 00017714_006.png already exists in /azureml-share/chestxray/data/ChestX-ray8/test_images\n"
     ]
    },
    {
     "data": {
      "text/plain": [
       "'/azureml-share/chestxray/data/ChestX-ray8/test_images/00017714_006.png'"
      ]
     },
     "execution_count": 11,
     "metadata": {},
     "output_type": "execute_result"
    },
    {
     "name": "stdout",
     "output_type": "stream",
     "text": [
      "WARNING: image file 00009342_000.png already exists in /azureml-share/chestxray/data/ChestX-ray8/test_images\n"
     ]
    },
    {
     "data": {
      "text/plain": [
       "'/azureml-share/chestxray/data/ChestX-ray8/test_images/00009342_000.png'"
      ]
     },
     "execution_count": 11,
     "metadata": {},
     "output_type": "execute_result"
    },
    {
     "name": "stdout",
     "output_type": "stream",
     "text": [
      "WARNING: image file 00005089_014.png already exists in /azureml-share/chestxray/data/ChestX-ray8/test_images\n"
     ]
    },
    {
     "data": {
      "text/plain": [
       "'/azureml-share/chestxray/data/ChestX-ray8/test_images/00005089_014.png'"
      ]
     },
     "execution_count": 11,
     "metadata": {},
     "output_type": "execute_result"
    },
    {
     "name": "stdout",
     "output_type": "stream",
     "text": [
      "WARNING: image file 00016972_025.png already exists in /azureml-share/chestxray/data/ChestX-ray8/test_images\n"
     ]
    },
    {
     "data": {
      "text/plain": [
       "'/azureml-share/chestxray/data/ChestX-ray8/test_images/00016972_025.png'"
      ]
     },
     "execution_count": 11,
     "metadata": {},
     "output_type": "execute_result"
    },
    {
     "name": "stdout",
     "output_type": "stream",
     "text": [
      "WARNING: image file 00027577_003.png already exists in /azureml-share/chestxray/data/ChestX-ray8/test_images\n"
     ]
    },
    {
     "data": {
      "text/plain": [
       "'/azureml-share/chestxray/data/ChestX-ray8/test_images/00027577_003.png'"
      ]
     },
     "execution_count": 11,
     "metadata": {},
     "output_type": "execute_result"
    },
    {
     "name": "stdout",
     "output_type": "stream",
     "text": [
      "WARNING: image file 00019399_010.png already exists in /azureml-share/chestxray/data/ChestX-ray8/test_images\n"
     ]
    },
    {
     "data": {
      "text/plain": [
       "'/azureml-share/chestxray/data/ChestX-ray8/test_images/00019399_010.png'"
      ]
     },
     "execution_count": 11,
     "metadata": {},
     "output_type": "execute_result"
    },
    {
     "name": "stdout",
     "output_type": "stream",
     "text": [
      "WARNING: image file 00001437_012.png already exists in /azureml-share/chestxray/data/ChestX-ray8/test_images\n"
     ]
    },
    {
     "data": {
      "text/plain": [
       "'/azureml-share/chestxray/data/ChestX-ray8/test_images/00001437_012.png'"
      ]
     },
     "execution_count": 11,
     "metadata": {},
     "output_type": "execute_result"
    },
    {
     "name": "stdout",
     "output_type": "stream",
     "text": [
      "WARNING: image file 00021132_000.png already exists in /azureml-share/chestxray/data/ChestX-ray8/test_images\n"
     ]
    },
    {
     "data": {
      "text/plain": [
       "'/azureml-share/chestxray/data/ChestX-ray8/test_images/00021132_000.png'"
      ]
     },
     "execution_count": 11,
     "metadata": {},
     "output_type": "execute_result"
    },
    {
     "name": "stdout",
     "output_type": "stream",
     "text": [
      "WARNING: image file 00018427_004.png already exists in /azureml-share/chestxray/data/ChestX-ray8/test_images\n"
     ]
    },
    {
     "data": {
      "text/plain": [
       "'/azureml-share/chestxray/data/ChestX-ray8/test_images/00018427_004.png'"
      ]
     },
     "execution_count": 11,
     "metadata": {},
     "output_type": "execute_result"
    },
    {
     "name": "stdout",
     "output_type": "stream",
     "text": [
      "WARNING: image file 00018360_035.png already exists in /azureml-share/chestxray/data/ChestX-ray8/test_images\n"
     ]
    },
    {
     "data": {
      "text/plain": [
       "'/azureml-share/chestxray/data/ChestX-ray8/test_images/00018360_035.png'"
      ]
     },
     "execution_count": 11,
     "metadata": {},
     "output_type": "execute_result"
    },
    {
     "name": "stdout",
     "output_type": "stream",
     "text": [
      "WARNING: image file 00030128_002.png already exists in /azureml-share/chestxray/data/ChestX-ray8/test_images\n"
     ]
    },
    {
     "data": {
      "text/plain": [
       "'/azureml-share/chestxray/data/ChestX-ray8/test_images/00030128_002.png'"
      ]
     },
     "execution_count": 11,
     "metadata": {},
     "output_type": "execute_result"
    },
    {
     "name": "stdout",
     "output_type": "stream",
     "text": [
      "WARNING: image file 00020259_002.png already exists in /azureml-share/chestxray/data/ChestX-ray8/test_images\n"
     ]
    },
    {
     "data": {
      "text/plain": [
       "'/azureml-share/chestxray/data/ChestX-ray8/test_images/00020259_002.png'"
      ]
     },
     "execution_count": 11,
     "metadata": {},
     "output_type": "execute_result"
    },
    {
     "name": "stdout",
     "output_type": "stream",
     "text": [
      "WARNING: image file 00008814_010.png already exists in /azureml-share/chestxray/data/ChestX-ray8/test_images\n"
     ]
    },
    {
     "data": {
      "text/plain": [
       "'/azureml-share/chestxray/data/ChestX-ray8/test_images/00008814_010.png'"
      ]
     },
     "execution_count": 11,
     "metadata": {},
     "output_type": "execute_result"
    },
    {
     "name": "stdout",
     "output_type": "stream",
     "text": [
      "WARNING: image file 00012021_081.png already exists in /azureml-share/chestxray/data/ChestX-ray8/test_images\n"
     ]
    },
    {
     "data": {
      "text/plain": [
       "'/azureml-share/chestxray/data/ChestX-ray8/test_images/00012021_081.png'"
      ]
     },
     "execution_count": 11,
     "metadata": {},
     "output_type": "execute_result"
    },
    {
     "name": "stdout",
     "output_type": "stream",
     "text": [
      "WARNING: image file 00005066_030.png already exists in /azureml-share/chestxray/data/ChestX-ray8/test_images\n"
     ]
    },
    {
     "data": {
      "text/plain": [
       "'/azureml-share/chestxray/data/ChestX-ray8/test_images/00005066_030.png'"
      ]
     },
     "execution_count": 11,
     "metadata": {},
     "output_type": "execute_result"
    },
    {
     "name": "stdout",
     "output_type": "stream",
     "text": [
      "WARNING: image file 00010828_039.png already exists in /azureml-share/chestxray/data/ChestX-ray8/test_images\n"
     ]
    },
    {
     "data": {
      "text/plain": [
       "'/azureml-share/chestxray/data/ChestX-ray8/test_images/00010828_039.png'"
      ]
     },
     "execution_count": 11,
     "metadata": {},
     "output_type": "execute_result"
    },
    {
     "name": "stdout",
     "output_type": "stream",
     "text": [
      "WARNING: image file 00027479_013.png already exists in /azureml-share/chestxray/data/ChestX-ray8/test_images\n"
     ]
    },
    {
     "data": {
      "text/plain": [
       "'/azureml-share/chestxray/data/ChestX-ray8/test_images/00027479_013.png'"
      ]
     },
     "execution_count": 11,
     "metadata": {},
     "output_type": "execute_result"
    },
    {
     "name": "stdout",
     "output_type": "stream",
     "text": [
      "WARNING: image file 00019018_007.png already exists in /azureml-share/chestxray/data/ChestX-ray8/test_images\n"
     ]
    },
    {
     "data": {
      "text/plain": [
       "'/azureml-share/chestxray/data/ChestX-ray8/test_images/00019018_007.png'"
      ]
     },
     "execution_count": 11,
     "metadata": {},
     "output_type": "execute_result"
    },
    {
     "name": "stdout",
     "output_type": "stream",
     "text": [
      "WARNING: image file 00018253_059.png already exists in /azureml-share/chestxray/data/ChestX-ray8/test_images\n"
     ]
    },
    {
     "data": {
      "text/plain": [
       "'/azureml-share/chestxray/data/ChestX-ray8/test_images/00018253_059.png'"
      ]
     },
     "execution_count": 11,
     "metadata": {},
     "output_type": "execute_result"
    },
    {
     "name": "stdout",
     "output_type": "stream",
     "text": [
      "WARNING: image file 00030636_004.png already exists in /azureml-share/chestxray/data/ChestX-ray8/test_images\n"
     ]
    },
    {
     "data": {
      "text/plain": [
       "'/azureml-share/chestxray/data/ChestX-ray8/test_images/00030636_004.png'"
      ]
     },
     "execution_count": 11,
     "metadata": {},
     "output_type": "execute_result"
    },
    {
     "name": "stdout",
     "output_type": "stream",
     "text": [
      "WARNING: image file 00021703_001.png already exists in /azureml-share/chestxray/data/ChestX-ray8/test_images\n"
     ]
    },
    {
     "data": {
      "text/plain": [
       "'/azureml-share/chestxray/data/ChestX-ray8/test_images/00021703_001.png'"
      ]
     },
     "execution_count": 11,
     "metadata": {},
     "output_type": "execute_result"
    },
    {
     "name": "stdout",
     "output_type": "stream",
     "text": [
      "WARNING: image file 00022369_013.png already exists in /azureml-share/chestxray/data/ChestX-ray8/test_images\n"
     ]
    },
    {
     "data": {
      "text/plain": [
       "'/azureml-share/chestxray/data/ChestX-ray8/test_images/00022369_013.png'"
      ]
     },
     "execution_count": 11,
     "metadata": {},
     "output_type": "execute_result"
    },
    {
     "name": "stdout",
     "output_type": "stream",
     "text": [
      "WARNING: image file 00022727_000.png already exists in /azureml-share/chestxray/data/ChestX-ray8/test_images\n"
     ]
    },
    {
     "data": {
      "text/plain": [
       "'/azureml-share/chestxray/data/ChestX-ray8/test_images/00022727_000.png'"
      ]
     },
     "execution_count": 11,
     "metadata": {},
     "output_type": "execute_result"
    },
    {
     "name": "stdout",
     "output_type": "stream",
     "text": [
      "WARNING: image file 00020482_032.png already exists in /azureml-share/chestxray/data/ChestX-ray8/test_images\n"
     ]
    },
    {
     "data": {
      "text/plain": [
       "'/azureml-share/chestxray/data/ChestX-ray8/test_images/00020482_032.png'"
      ]
     },
     "execution_count": 11,
     "metadata": {},
     "output_type": "execute_result"
    },
    {
     "name": "stderr",
     "output_type": "stream",
     "text": [
      "\r",
      " 48%|████▊     | 473/984 [00:02<00:02, 227.47it/s]"
     ]
    },
    {
     "name": "stdout",
     "output_type": "stream",
     "text": [
      "WARNING: image file 00028383_002.png already exists in /azureml-share/chestxray/data/ChestX-ray8/test_images\n"
     ]
    },
    {
     "data": {
      "text/plain": [
       "'/azureml-share/chestxray/data/ChestX-ray8/test_images/00028383_002.png'"
      ]
     },
     "execution_count": 11,
     "metadata": {},
     "output_type": "execute_result"
    },
    {
     "name": "stdout",
     "output_type": "stream",
     "text": [
      "WARNING: image file 00010277_000.png already exists in /azureml-share/chestxray/data/ChestX-ray8/test_images\n"
     ]
    },
    {
     "data": {
      "text/plain": [
       "'/azureml-share/chestxray/data/ChestX-ray8/test_images/00010277_000.png'"
      ]
     },
     "execution_count": 11,
     "metadata": {},
     "output_type": "execute_result"
    },
    {
     "name": "stdout",
     "output_type": "stream",
     "text": [
      "WARNING: image file 00028518_012.png already exists in /azureml-share/chestxray/data/ChestX-ray8/test_images\n"
     ]
    },
    {
     "data": {
      "text/plain": [
       "'/azureml-share/chestxray/data/ChestX-ray8/test_images/00028518_012.png'"
      ]
     },
     "execution_count": 11,
     "metadata": {},
     "output_type": "execute_result"
    },
    {
     "name": "stdout",
     "output_type": "stream",
     "text": [
      "WARNING: image file 00028208_005.png already exists in /azureml-share/chestxray/data/ChestX-ray8/test_images\n"
     ]
    },
    {
     "data": {
      "text/plain": [
       "'/azureml-share/chestxray/data/ChestX-ray8/test_images/00028208_005.png'"
      ]
     },
     "execution_count": 11,
     "metadata": {},
     "output_type": "execute_result"
    },
    {
     "name": "stdout",
     "output_type": "stream",
     "text": [
      "WARNING: image file 00018393_000.png already exists in /azureml-share/chestxray/data/ChestX-ray8/test_images\n"
     ]
    },
    {
     "data": {
      "text/plain": [
       "'/azureml-share/chestxray/data/ChestX-ray8/test_images/00018393_000.png'"
      ]
     },
     "execution_count": 11,
     "metadata": {},
     "output_type": "execute_result"
    },
    {
     "name": "stdout",
     "output_type": "stream",
     "text": [
      "WARNING: image file 00029861_013.png already exists in /azureml-share/chestxray/data/ChestX-ray8/test_images\n"
     ]
    },
    {
     "data": {
      "text/plain": [
       "'/azureml-share/chestxray/data/ChestX-ray8/test_images/00029861_013.png'"
      ]
     },
     "execution_count": 11,
     "metadata": {},
     "output_type": "execute_result"
    },
    {
     "name": "stdout",
     "output_type": "stream",
     "text": [
      "WARNING: image file 00006836_002.png already exists in /azureml-share/chestxray/data/ChestX-ray8/test_images\n"
     ]
    },
    {
     "data": {
      "text/plain": [
       "'/azureml-share/chestxray/data/ChestX-ray8/test_images/00006836_002.png'"
      ]
     },
     "execution_count": 11,
     "metadata": {},
     "output_type": "execute_result"
    },
    {
     "name": "stdout",
     "output_type": "stream",
     "text": [
      "WARNING: image file 00011366_002.png already exists in /azureml-share/chestxray/data/ChestX-ray8/test_images\n"
     ]
    },
    {
     "data": {
      "text/plain": [
       "'/azureml-share/chestxray/data/ChestX-ray8/test_images/00011366_002.png'"
      ]
     },
     "execution_count": 11,
     "metadata": {},
     "output_type": "execute_result"
    },
    {
     "name": "stdout",
     "output_type": "stream",
     "text": [
      "WARNING: image file 00029431_000.png already exists in /azureml-share/chestxray/data/ChestX-ray8/test_images\n"
     ]
    },
    {
     "data": {
      "text/plain": [
       "'/azureml-share/chestxray/data/ChestX-ray8/test_images/00029431_000.png'"
      ]
     },
     "execution_count": 11,
     "metadata": {},
     "output_type": "execute_result"
    },
    {
     "name": "stdout",
     "output_type": "stream",
     "text": [
      "WARNING: image file 00027927_008.png already exists in /azureml-share/chestxray/data/ChestX-ray8/test_images\n"
     ]
    },
    {
     "data": {
      "text/plain": [
       "'/azureml-share/chestxray/data/ChestX-ray8/test_images/00027927_008.png'"
      ]
     },
     "execution_count": 11,
     "metadata": {},
     "output_type": "execute_result"
    },
    {
     "name": "stdout",
     "output_type": "stream",
     "text": [
      "WARNING: image file 00022416_048.png already exists in /azureml-share/chestxray/data/ChestX-ray8/test_images\n"
     ]
    },
    {
     "data": {
      "text/plain": [
       "'/azureml-share/chestxray/data/ChestX-ray8/test_images/00022416_048.png'"
      ]
     },
     "execution_count": 11,
     "metadata": {},
     "output_type": "execute_result"
    },
    {
     "name": "stdout",
     "output_type": "stream",
     "text": [
      "WARNING: image file 00021840_016.png already exists in /azureml-share/chestxray/data/ChestX-ray8/test_images\n"
     ]
    },
    {
     "data": {
      "text/plain": [
       "'/azureml-share/chestxray/data/ChestX-ray8/test_images/00021840_016.png'"
      ]
     },
     "execution_count": 11,
     "metadata": {},
     "output_type": "execute_result"
    },
    {
     "name": "stdout",
     "output_type": "stream",
     "text": [
      "WARNING: image file 00013670_151.png already exists in /azureml-share/chestxray/data/ChestX-ray8/test_images\n"
     ]
    },
    {
     "data": {
      "text/plain": [
       "'/azureml-share/chestxray/data/ChestX-ray8/test_images/00013670_151.png'"
      ]
     },
     "execution_count": 11,
     "metadata": {},
     "output_type": "execute_result"
    },
    {
     "name": "stdout",
     "output_type": "stream",
     "text": [
      "WARNING: image file 00010120_010.png already exists in /azureml-share/chestxray/data/ChestX-ray8/test_images\n"
     ]
    },
    {
     "data": {
      "text/plain": [
       "'/azureml-share/chestxray/data/ChestX-ray8/test_images/00010120_010.png'"
      ]
     },
     "execution_count": 11,
     "metadata": {},
     "output_type": "execute_result"
    },
    {
     "name": "stdout",
     "output_type": "stream",
     "text": [
      "WARNING: image file 00014251_029.png already exists in /azureml-share/chestxray/data/ChestX-ray8/test_images\n"
     ]
    },
    {
     "data": {
      "text/plain": [
       "'/azureml-share/chestxray/data/ChestX-ray8/test_images/00014251_029.png'"
      ]
     },
     "execution_count": 11,
     "metadata": {},
     "output_type": "execute_result"
    },
    {
     "name": "stdout",
     "output_type": "stream",
     "text": [
      "WARNING: image file 00022470_006.png already exists in /azureml-share/chestxray/data/ChestX-ray8/test_images\n"
     ]
    },
    {
     "data": {
      "text/plain": [
       "'/azureml-share/chestxray/data/ChestX-ray8/test_images/00022470_006.png'"
      ]
     },
     "execution_count": 11,
     "metadata": {},
     "output_type": "execute_result"
    },
    {
     "name": "stdout",
     "output_type": "stream",
     "text": [
      "WARNING: image file 00010805_049.png already exists in /azureml-share/chestxray/data/ChestX-ray8/test_images\n"
     ]
    },
    {
     "data": {
      "text/plain": [
       "'/azureml-share/chestxray/data/ChestX-ray8/test_images/00010805_049.png'"
      ]
     },
     "execution_count": 11,
     "metadata": {},
     "output_type": "execute_result"
    },
    {
     "name": "stdout",
     "output_type": "stream",
     "text": [
      "WARNING: image file 00011925_072.png already exists in /azureml-share/chestxray/data/ChestX-ray8/test_images\n"
     ]
    },
    {
     "data": {
      "text/plain": [
       "'/azureml-share/chestxray/data/ChestX-ray8/test_images/00011925_072.png'"
      ]
     },
     "execution_count": 11,
     "metadata": {},
     "output_type": "execute_result"
    },
    {
     "name": "stdout",
     "output_type": "stream",
     "text": [
      "WARNING: image file 00019625_002.png already exists in /azureml-share/chestxray/data/ChestX-ray8/test_images\n"
     ]
    },
    {
     "data": {
      "text/plain": [
       "'/azureml-share/chestxray/data/ChestX-ray8/test_images/00019625_002.png'"
      ]
     },
     "execution_count": 11,
     "metadata": {},
     "output_type": "execute_result"
    },
    {
     "name": "stdout",
     "output_type": "stream",
     "text": [
      "WARNING: image file 00015069_001.png already exists in /azureml-share/chestxray/data/ChestX-ray8/test_images\n"
     ]
    },
    {
     "data": {
      "text/plain": [
       "'/azureml-share/chestxray/data/ChestX-ray8/test_images/00015069_001.png'"
      ]
     },
     "execution_count": 11,
     "metadata": {},
     "output_type": "execute_result"
    },
    {
     "name": "stdout",
     "output_type": "stream",
     "text": [
      "WARNING: image file 00017544_003.png already exists in /azureml-share/chestxray/data/ChestX-ray8/test_images\n"
     ]
    },
    {
     "data": {
      "text/plain": [
       "'/azureml-share/chestxray/data/ChestX-ray8/test_images/00017544_003.png'"
      ]
     },
     "execution_count": 11,
     "metadata": {},
     "output_type": "execute_result"
    },
    {
     "name": "stdout",
     "output_type": "stream",
     "text": [
      "WARNING: image file 00013391_005.png already exists in /azureml-share/chestxray/data/ChestX-ray8/test_images\n"
     ]
    },
    {
     "data": {
      "text/plain": [
       "'/azureml-share/chestxray/data/ChestX-ray8/test_images/00013391_005.png'"
      ]
     },
     "execution_count": 11,
     "metadata": {},
     "output_type": "execute_result"
    },
    {
     "name": "stdout",
     "output_type": "stream",
     "text": [
      "WARNING: image file 00021201_010.png already exists in /azureml-share/chestxray/data/ChestX-ray8/test_images\n"
     ]
    },
    {
     "data": {
      "text/plain": [
       "'/azureml-share/chestxray/data/ChestX-ray8/test_images/00021201_010.png'"
      ]
     },
     "execution_count": 11,
     "metadata": {},
     "output_type": "execute_result"
    },
    {
     "name": "stderr",
     "output_type": "stream",
     "text": [
      "\r",
      " 50%|█████     | 496/984 [00:02<00:02, 227.31it/s]"
     ]
    },
    {
     "name": "stdout",
     "output_type": "stream",
     "text": [
      "WARNING: image file 00029039_020.png already exists in /azureml-share/chestxray/data/ChestX-ray8/test_images\n"
     ]
    },
    {
     "data": {
      "text/plain": [
       "'/azureml-share/chestxray/data/ChestX-ray8/test_images/00029039_020.png'"
      ]
     },
     "execution_count": 11,
     "metadata": {},
     "output_type": "execute_result"
    },
    {
     "name": "stdout",
     "output_type": "stream",
     "text": [
      "WARNING: image file 00016705_006.png already exists in /azureml-share/chestxray/data/ChestX-ray8/test_images\n"
     ]
    },
    {
     "data": {
      "text/plain": [
       "'/azureml-share/chestxray/data/ChestX-ray8/test_images/00016705_006.png'"
      ]
     },
     "execution_count": 11,
     "metadata": {},
     "output_type": "execute_result"
    },
    {
     "name": "stdout",
     "output_type": "stream",
     "text": [
      "WARNING: image file 00019750_012.png already exists in /azureml-share/chestxray/data/ChestX-ray8/test_images\n"
     ]
    },
    {
     "data": {
      "text/plain": [
       "'/azureml-share/chestxray/data/ChestX-ray8/test_images/00019750_012.png'"
      ]
     },
     "execution_count": 11,
     "metadata": {},
     "output_type": "execute_result"
    },
    {
     "name": "stdout",
     "output_type": "stream",
     "text": [
      "WARNING: image file 00013310_057.png already exists in /azureml-share/chestxray/data/ChestX-ray8/test_images\n"
     ]
    },
    {
     "data": {
      "text/plain": [
       "'/azureml-share/chestxray/data/ChestX-ray8/test_images/00013310_057.png'"
      ]
     },
     "execution_count": 11,
     "metadata": {},
     "output_type": "execute_result"
    },
    {
     "name": "stdout",
     "output_type": "stream",
     "text": [
      "WARNING: image file 00028285_014.png already exists in /azureml-share/chestxray/data/ChestX-ray8/test_images\n"
     ]
    },
    {
     "data": {
      "text/plain": [
       "'/azureml-share/chestxray/data/ChestX-ray8/test_images/00028285_014.png'"
      ]
     },
     "execution_count": 11,
     "metadata": {},
     "output_type": "execute_result"
    },
    {
     "name": "stdout",
     "output_type": "stream",
     "text": [
      "WARNING: image file 00021009_001.png already exists in /azureml-share/chestxray/data/ChestX-ray8/test_images\n"
     ]
    },
    {
     "data": {
      "text/plain": [
       "'/azureml-share/chestxray/data/ChestX-ray8/test_images/00021009_001.png'"
      ]
     },
     "execution_count": 11,
     "metadata": {},
     "output_type": "execute_result"
    },
    {
     "name": "stdout",
     "output_type": "stream",
     "text": [
      "WARNING: image file 00023026_008.png already exists in /azureml-share/chestxray/data/ChestX-ray8/test_images\n"
     ]
    },
    {
     "data": {
      "text/plain": [
       "'/azureml-share/chestxray/data/ChestX-ray8/test_images/00023026_008.png'"
      ]
     },
     "execution_count": 11,
     "metadata": {},
     "output_type": "execute_result"
    },
    {
     "name": "stdout",
     "output_type": "stream",
     "text": [
      "WARNING: image file 00012376_010.png already exists in /azureml-share/chestxray/data/ChestX-ray8/test_images\n"
     ]
    },
    {
     "data": {
      "text/plain": [
       "'/azureml-share/chestxray/data/ChestX-ray8/test_images/00012376_010.png'"
      ]
     },
     "execution_count": 11,
     "metadata": {},
     "output_type": "execute_result"
    },
    {
     "name": "stdout",
     "output_type": "stream",
     "text": [
      "WARNING: image file 00010092_018.png already exists in /azureml-share/chestxray/data/ChestX-ray8/test_images\n"
     ]
    },
    {
     "data": {
      "text/plain": [
       "'/azureml-share/chestxray/data/ChestX-ray8/test_images/00010092_018.png'"
      ]
     },
     "execution_count": 11,
     "metadata": {},
     "output_type": "execute_result"
    },
    {
     "name": "stdout",
     "output_type": "stream",
     "text": [
      "WARNING: image file 00012021_054.png already exists in /azureml-share/chestxray/data/ChestX-ray8/test_images\n"
     ]
    },
    {
     "data": {
      "text/plain": [
       "'/azureml-share/chestxray/data/ChestX-ray8/test_images/00012021_054.png'"
      ]
     },
     "execution_count": 11,
     "metadata": {},
     "output_type": "execute_result"
    },
    {
     "name": "stdout",
     "output_type": "stream",
     "text": [
      "WARNING: image file 00016191_004.png already exists in /azureml-share/chestxray/data/ChestX-ray8/test_images\n"
     ]
    },
    {
     "data": {
      "text/plain": [
       "'/azureml-share/chestxray/data/ChestX-ray8/test_images/00016191_004.png'"
      ]
     },
     "execution_count": 11,
     "metadata": {},
     "output_type": "execute_result"
    },
    {
     "name": "stdout",
     "output_type": "stream",
     "text": [
      "WARNING: image file 00030573_002.png already exists in /azureml-share/chestxray/data/ChestX-ray8/test_images\n"
     ]
    },
    {
     "data": {
      "text/plain": [
       "'/azureml-share/chestxray/data/ChestX-ray8/test_images/00030573_002.png'"
      ]
     },
     "execution_count": 11,
     "metadata": {},
     "output_type": "execute_result"
    },
    {
     "name": "stdout",
     "output_type": "stream",
     "text": [
      "WARNING: image file 00017714_009.png already exists in /azureml-share/chestxray/data/ChestX-ray8/test_images\n"
     ]
    },
    {
     "data": {
      "text/plain": [
       "'/azureml-share/chestxray/data/ChestX-ray8/test_images/00017714_009.png'"
      ]
     },
     "execution_count": 11,
     "metadata": {},
     "output_type": "execute_result"
    },
    {
     "name": "stdout",
     "output_type": "stream",
     "text": [
      "WARNING: image file 00020184_013.png already exists in /azureml-share/chestxray/data/ChestX-ray8/test_images\n"
     ]
    },
    {
     "data": {
      "text/plain": [
       "'/azureml-share/chestxray/data/ChestX-ray8/test_images/00020184_013.png'"
      ]
     },
     "execution_count": 11,
     "metadata": {},
     "output_type": "execute_result"
    },
    {
     "name": "stdout",
     "output_type": "stream",
     "text": [
      "WARNING: image file 00014617_003.png already exists in /azureml-share/chestxray/data/ChestX-ray8/test_images\n"
     ]
    },
    {
     "data": {
      "text/plain": [
       "'/azureml-share/chestxray/data/ChestX-ray8/test_images/00014617_003.png'"
      ]
     },
     "execution_count": 11,
     "metadata": {},
     "output_type": "execute_result"
    },
    {
     "name": "stdout",
     "output_type": "stream",
     "text": [
      "WARNING: image file 00016094_007.png already exists in /azureml-share/chestxray/data/ChestX-ray8/test_images\n"
     ]
    },
    {
     "data": {
      "text/plain": [
       "'/azureml-share/chestxray/data/ChestX-ray8/test_images/00016094_007.png'"
      ]
     },
     "execution_count": 11,
     "metadata": {},
     "output_type": "execute_result"
    },
    {
     "name": "stdout",
     "output_type": "stream",
     "text": [
      "WARNING: image file 00009431_004.png already exists in /azureml-share/chestxray/data/ChestX-ray8/test_images\n"
     ]
    },
    {
     "data": {
      "text/plain": [
       "'/azureml-share/chestxray/data/ChestX-ray8/test_images/00009431_004.png'"
      ]
     },
     "execution_count": 11,
     "metadata": {},
     "output_type": "execute_result"
    },
    {
     "name": "stdout",
     "output_type": "stream",
     "text": [
      "WARNING: image file 00001039_005.png already exists in /azureml-share/chestxray/data/ChestX-ray8/test_images\n"
     ]
    },
    {
     "data": {
      "text/plain": [
       "'/azureml-share/chestxray/data/ChestX-ray8/test_images/00001039_005.png'"
      ]
     },
     "execution_count": 11,
     "metadata": {},
     "output_type": "execute_result"
    },
    {
     "name": "stdout",
     "output_type": "stream",
     "text": [
      "WARNING: image file 00029617_006.png already exists in /azureml-share/chestxray/data/ChestX-ray8/test_images\n"
     ]
    },
    {
     "data": {
      "text/plain": [
       "'/azureml-share/chestxray/data/ChestX-ray8/test_images/00029617_006.png'"
      ]
     },
     "execution_count": 11,
     "metadata": {},
     "output_type": "execute_result"
    },
    {
     "name": "stdout",
     "output_type": "stream",
     "text": [
      "WARNING: image file 00028640_003.png already exists in /azureml-share/chestxray/data/ChestX-ray8/test_images\n"
     ]
    },
    {
     "data": {
      "text/plain": [
       "'/azureml-share/chestxray/data/ChestX-ray8/test_images/00028640_003.png'"
      ]
     },
     "execution_count": 11,
     "metadata": {},
     "output_type": "execute_result"
    },
    {
     "name": "stdout",
     "output_type": "stream",
     "text": [
      "WARNING: image file 00017083_002.png already exists in /azureml-share/chestxray/data/ChestX-ray8/test_images\n"
     ]
    },
    {
     "data": {
      "text/plain": [
       "'/azureml-share/chestxray/data/ChestX-ray8/test_images/00017083_002.png'"
      ]
     },
     "execution_count": 11,
     "metadata": {},
     "output_type": "execute_result"
    },
    {
     "name": "stdout",
     "output_type": "stream",
     "text": [
      "WARNING: image file 00003973_008.png already exists in /azureml-share/chestxray/data/ChestX-ray8/test_images\n"
     ]
    },
    {
     "data": {
      "text/plain": [
       "'/azureml-share/chestxray/data/ChestX-ray8/test_images/00003973_008.png'"
      ]
     },
     "execution_count": 11,
     "metadata": {},
     "output_type": "execute_result"
    },
    {
     "name": "stdout",
     "output_type": "stream",
     "text": [
      "WARNING: image file 00020113_030.png already exists in /azureml-share/chestxray/data/ChestX-ray8/test_images\n"
     ]
    },
    {
     "data": {
      "text/plain": [
       "'/azureml-share/chestxray/data/ChestX-ray8/test_images/00020113_030.png'"
      ]
     },
     "execution_count": 11,
     "metadata": {},
     "output_type": "execute_result"
    },
    {
     "name": "stdout",
     "output_type": "stream",
     "text": [
      "WARNING: image file 00003149_007.png already exists in /azureml-share/chestxray/data/ChestX-ray8/test_images\n"
     ]
    },
    {
     "data": {
      "text/plain": [
       "'/azureml-share/chestxray/data/ChestX-ray8/test_images/00003149_007.png'"
      ]
     },
     "execution_count": 11,
     "metadata": {},
     "output_type": "execute_result"
    },
    {
     "name": "stdout",
     "output_type": "stream",
     "text": [
      "WARNING: image file 00006304_060.png already exists in /azureml-share/chestxray/data/ChestX-ray8/test_images\n"
     ]
    },
    {
     "data": {
      "text/plain": [
       "'/azureml-share/chestxray/data/ChestX-ray8/test_images/00006304_060.png'"
      ]
     },
     "execution_count": 11,
     "metadata": {},
     "output_type": "execute_result"
    },
    {
     "name": "stdout",
     "output_type": "stream",
     "text": [
      "WARNING: image file 00017972_032.png already exists in /azureml-share/chestxray/data/ChestX-ray8/test_images\n"
     ]
    },
    {
     "data": {
      "text/plain": [
       "'/azureml-share/chestxray/data/ChestX-ray8/test_images/00017972_032.png'"
      ]
     },
     "execution_count": 11,
     "metadata": {},
     "output_type": "execute_result"
    },
    {
     "name": "stderr",
     "output_type": "stream",
     "text": [
      "\r",
      " 53%|█████▎    | 522/984 [00:02<00:01, 233.84it/s]"
     ]
    },
    {
     "name": "stdout",
     "output_type": "stream",
     "text": [
      "WARNING: image file 00021710_003.png already exists in /azureml-share/chestxray/data/ChestX-ray8/test_images\n"
     ]
    },
    {
     "data": {
      "text/plain": [
       "'/azureml-share/chestxray/data/ChestX-ray8/test_images/00021710_003.png'"
      ]
     },
     "execution_count": 11,
     "metadata": {},
     "output_type": "execute_result"
    },
    {
     "name": "stdout",
     "output_type": "stream",
     "text": [
      "WARNING: image file 00000211_016.png already exists in /azureml-share/chestxray/data/ChestX-ray8/test_images\n"
     ]
    },
    {
     "data": {
      "text/plain": [
       "'/azureml-share/chestxray/data/ChestX-ray8/test_images/00000211_016.png'"
      ]
     },
     "execution_count": 11,
     "metadata": {},
     "output_type": "execute_result"
    },
    {
     "name": "stdout",
     "output_type": "stream",
     "text": [
      "WARNING: image file 00026911_000.png already exists in /azureml-share/chestxray/data/ChestX-ray8/test_images\n"
     ]
    },
    {
     "data": {
      "text/plain": [
       "'/azureml-share/chestxray/data/ChestX-ray8/test_images/00026911_000.png'"
      ]
     },
     "execution_count": 11,
     "metadata": {},
     "output_type": "execute_result"
    },
    {
     "name": "stdout",
     "output_type": "stream",
     "text": [
      "WARNING: image file 00029404_004.png already exists in /azureml-share/chestxray/data/ChestX-ray8/test_images\n"
     ]
    },
    {
     "data": {
      "text/plain": [
       "'/azureml-share/chestxray/data/ChestX-ray8/test_images/00029404_004.png'"
      ]
     },
     "execution_count": 11,
     "metadata": {},
     "output_type": "execute_result"
    },
    {
     "name": "stdout",
     "output_type": "stream",
     "text": [
      "WARNING: image file 00019363_043.png already exists in /azureml-share/chestxray/data/ChestX-ray8/test_images\n"
     ]
    },
    {
     "data": {
      "text/plain": [
       "'/azureml-share/chestxray/data/ChestX-ray8/test_images/00019363_043.png'"
      ]
     },
     "execution_count": 11,
     "metadata": {},
     "output_type": "execute_result"
    },
    {
     "name": "stdout",
     "output_type": "stream",
     "text": [
      "WARNING: image file 00006096_010.png already exists in /azureml-share/chestxray/data/ChestX-ray8/test_images\n"
     ]
    },
    {
     "data": {
      "text/plain": [
       "'/azureml-share/chestxray/data/ChestX-ray8/test_images/00006096_010.png'"
      ]
     },
     "execution_count": 11,
     "metadata": {},
     "output_type": "execute_result"
    },
    {
     "name": "stdout",
     "output_type": "stream",
     "text": [
      "WARNING: image file 00003333_002.png already exists in /azureml-share/chestxray/data/ChestX-ray8/test_images\n"
     ]
    },
    {
     "data": {
      "text/plain": [
       "'/azureml-share/chestxray/data/ChestX-ray8/test_images/00003333_002.png'"
      ]
     },
     "execution_count": 11,
     "metadata": {},
     "output_type": "execute_result"
    },
    {
     "name": "stdout",
     "output_type": "stream",
     "text": [
      "WARNING: image file 00011269_018.png already exists in /azureml-share/chestxray/data/ChestX-ray8/test_images\n"
     ]
    },
    {
     "data": {
      "text/plain": [
       "'/azureml-share/chestxray/data/ChestX-ray8/test_images/00011269_018.png'"
      ]
     },
     "execution_count": 11,
     "metadata": {},
     "output_type": "execute_result"
    },
    {
     "name": "stdout",
     "output_type": "stream",
     "text": [
      "WARNING: image file 00016786_009.png already exists in /azureml-share/chestxray/data/ChestX-ray8/test_images\n"
     ]
    },
    {
     "data": {
      "text/plain": [
       "'/azureml-share/chestxray/data/ChestX-ray8/test_images/00016786_009.png'"
      ]
     },
     "execution_count": 11,
     "metadata": {},
     "output_type": "execute_result"
    },
    {
     "name": "stdout",
     "output_type": "stream",
     "text": [
      "WARNING: image file 00013106_000.png already exists in /azureml-share/chestxray/data/ChestX-ray8/test_images\n"
     ]
    },
    {
     "data": {
      "text/plain": [
       "'/azureml-share/chestxray/data/ChestX-ray8/test_images/00013106_000.png'"
      ]
     },
     "execution_count": 11,
     "metadata": {},
     "output_type": "execute_result"
    },
    {
     "name": "stdout",
     "output_type": "stream",
     "text": [
      "WARNING: image file 00019706_012.png already exists in /azureml-share/chestxray/data/ChestX-ray8/test_images\n"
     ]
    },
    {
     "data": {
      "text/plain": [
       "'/azureml-share/chestxray/data/ChestX-ray8/test_images/00019706_012.png'"
      ]
     },
     "execution_count": 11,
     "metadata": {},
     "output_type": "execute_result"
    },
    {
     "name": "stdout",
     "output_type": "stream",
     "text": [
      "WARNING: image file 00015831_011.png already exists in /azureml-share/chestxray/data/ChestX-ray8/test_images\n"
     ]
    },
    {
     "data": {
      "text/plain": [
       "'/azureml-share/chestxray/data/ChestX-ray8/test_images/00015831_011.png'"
      ]
     },
     "execution_count": 11,
     "metadata": {},
     "output_type": "execute_result"
    },
    {
     "name": "stdout",
     "output_type": "stream",
     "text": [
      "WARNING: image file 00020482_011.png already exists in /azureml-share/chestxray/data/ChestX-ray8/test_images\n"
     ]
    },
    {
     "data": {
      "text/plain": [
       "'/azureml-share/chestxray/data/ChestX-ray8/test_images/00020482_011.png'"
      ]
     },
     "execution_count": 11,
     "metadata": {},
     "output_type": "execute_result"
    },
    {
     "name": "stdout",
     "output_type": "stream",
     "text": [
      "WARNING: image file 00016732_040.png already exists in /azureml-share/chestxray/data/ChestX-ray8/test_images\n"
     ]
    },
    {
     "data": {
      "text/plain": [
       "'/azureml-share/chestxray/data/ChestX-ray8/test_images/00016732_040.png'"
      ]
     },
     "execution_count": 11,
     "metadata": {},
     "output_type": "execute_result"
    },
    {
     "name": "stdout",
     "output_type": "stream",
     "text": [
      "WARNING: image file 00021926_007.png already exists in /azureml-share/chestxray/data/ChestX-ray8/test_images\n"
     ]
    },
    {
     "data": {
      "text/plain": [
       "'/azureml-share/chestxray/data/ChestX-ray8/test_images/00021926_007.png'"
      ]
     },
     "execution_count": 11,
     "metadata": {},
     "output_type": "execute_result"
    },
    {
     "name": "stdout",
     "output_type": "stream",
     "text": [
      "WARNING: image file 00017981_014.png already exists in /azureml-share/chestxray/data/ChestX-ray8/test_images\n"
     ]
    },
    {
     "data": {
      "text/plain": [
       "'/azureml-share/chestxray/data/ChestX-ray8/test_images/00017981_014.png'"
      ]
     },
     "execution_count": 11,
     "metadata": {},
     "output_type": "execute_result"
    },
    {
     "name": "stdout",
     "output_type": "stream",
     "text": [
      "WARNING: image file 00000468_041.png already exists in /azureml-share/chestxray/data/ChestX-ray8/test_images\n"
     ]
    },
    {
     "data": {
      "text/plain": [
       "'/azureml-share/chestxray/data/ChestX-ray8/test_images/00000468_041.png'"
      ]
     },
     "execution_count": 11,
     "metadata": {},
     "output_type": "execute_result"
    },
    {
     "name": "stdout",
     "output_type": "stream",
     "text": [
      "WARNING: image file 00026538_034.png already exists in /azureml-share/chestxray/data/ChestX-ray8/test_images\n"
     ]
    },
    {
     "data": {
      "text/plain": [
       "'/azureml-share/chestxray/data/ChestX-ray8/test_images/00026538_034.png'"
      ]
     },
     "execution_count": 11,
     "metadata": {},
     "output_type": "execute_result"
    },
    {
     "name": "stdout",
     "output_type": "stream",
     "text": [
      "WARNING: image file 00027113_002.png already exists in /azureml-share/chestxray/data/ChestX-ray8/test_images\n"
     ]
    },
    {
     "data": {
      "text/plain": [
       "'/azureml-share/chestxray/data/ChestX-ray8/test_images/00027113_002.png'"
      ]
     },
     "execution_count": 11,
     "metadata": {},
     "output_type": "execute_result"
    },
    {
     "name": "stdout",
     "output_type": "stream",
     "text": [
      "WARNING: image file 00010230_001.png already exists in /azureml-share/chestxray/data/ChestX-ray8/test_images\n"
     ]
    },
    {
     "data": {
      "text/plain": [
       "'/azureml-share/chestxray/data/ChestX-ray8/test_images/00010230_001.png'"
      ]
     },
     "execution_count": 11,
     "metadata": {},
     "output_type": "execute_result"
    },
    {
     "name": "stdout",
     "output_type": "stream",
     "text": [
      "WARNING: image file 00007124_006.png already exists in /azureml-share/chestxray/data/ChestX-ray8/test_images\n"
     ]
    },
    {
     "data": {
      "text/plain": [
       "'/azureml-share/chestxray/data/ChestX-ray8/test_images/00007124_006.png'"
      ]
     },
     "execution_count": 11,
     "metadata": {},
     "output_type": "execute_result"
    },
    {
     "name": "stdout",
     "output_type": "stream",
     "text": [
      "WARNING: image file 00013922_022.png already exists in /azureml-share/chestxray/data/ChestX-ray8/test_images\n"
     ]
    },
    {
     "data": {
      "text/plain": [
       "'/azureml-share/chestxray/data/ChestX-ray8/test_images/00013922_022.png'"
      ]
     },
     "execution_count": 11,
     "metadata": {},
     "output_type": "execute_result"
    },
    {
     "name": "stdout",
     "output_type": "stream",
     "text": [
      "WARNING: image file 00022899_014.png already exists in /azureml-share/chestxray/data/ChestX-ray8/test_images\n"
     ]
    },
    {
     "data": {
      "text/plain": [
       "'/azureml-share/chestxray/data/ChestX-ray8/test_images/00022899_014.png'"
      ]
     },
     "execution_count": 11,
     "metadata": {},
     "output_type": "execute_result"
    },
    {
     "name": "stdout",
     "output_type": "stream",
     "text": [
      "WARNING: image file 00030323_028.png already exists in /azureml-share/chestxray/data/ChestX-ray8/test_images\n"
     ]
    },
    {
     "data": {
      "text/plain": [
       "'/azureml-share/chestxray/data/ChestX-ray8/test_images/00030323_028.png'"
      ]
     },
     "execution_count": 11,
     "metadata": {},
     "output_type": "execute_result"
    },
    {
     "name": "stderr",
     "output_type": "stream",
     "text": [
      "\r",
      " 55%|█████▌    | 546/984 [00:02<00:01, 232.29it/s]"
     ]
    },
    {
     "name": "stdout",
     "output_type": "stream",
     "text": [
      "WARNING: image file 00001900_026.png already exists in /azureml-share/chestxray/data/ChestX-ray8/test_images\n"
     ]
    },
    {
     "data": {
      "text/plain": [
       "'/azureml-share/chestxray/data/ChestX-ray8/test_images/00001900_026.png'"
      ]
     },
     "execution_count": 11,
     "metadata": {},
     "output_type": "execute_result"
    },
    {
     "name": "stdout",
     "output_type": "stream",
     "text": [
      "WARNING: image file 00000032_037.png already exists in /azureml-share/chestxray/data/ChestX-ray8/test_images\n"
     ]
    },
    {
     "data": {
      "text/plain": [
       "'/azureml-share/chestxray/data/ChestX-ray8/test_images/00000032_037.png'"
      ]
     },
     "execution_count": 11,
     "metadata": {},
     "output_type": "execute_result"
    },
    {
     "name": "stdout",
     "output_type": "stream",
     "text": [
      "WARNING: image file 00019150_002.png already exists in /azureml-share/chestxray/data/ChestX-ray8/test_images\n"
     ]
    },
    {
     "data": {
      "text/plain": [
       "'/azureml-share/chestxray/data/ChestX-ray8/test_images/00019150_002.png'"
      ]
     },
     "execution_count": 11,
     "metadata": {},
     "output_type": "execute_result"
    },
    {
     "name": "stdout",
     "output_type": "stream",
     "text": [
      "WARNING: image file 00026865_003.png already exists in /azureml-share/chestxray/data/ChestX-ray8/test_images\n"
     ]
    },
    {
     "data": {
      "text/plain": [
       "'/azureml-share/chestxray/data/ChestX-ray8/test_images/00026865_003.png'"
      ]
     },
     "execution_count": 11,
     "metadata": {},
     "output_type": "execute_result"
    },
    {
     "name": "stdout",
     "output_type": "stream",
     "text": [
      "WARNING: image file 00013922_021.png already exists in /azureml-share/chestxray/data/ChestX-ray8/test_images\n"
     ]
    },
    {
     "data": {
      "text/plain": [
       "'/azureml-share/chestxray/data/ChestX-ray8/test_images/00013922_021.png'"
      ]
     },
     "execution_count": 11,
     "metadata": {},
     "output_type": "execute_result"
    },
    {
     "name": "stdout",
     "output_type": "stream",
     "text": [
      "WARNING: image file 00019634_004.png already exists in /azureml-share/chestxray/data/ChestX-ray8/test_images\n"
     ]
    },
    {
     "data": {
      "text/plain": [
       "'/azureml-share/chestxray/data/ChestX-ray8/test_images/00019634_004.png'"
      ]
     },
     "execution_count": 11,
     "metadata": {},
     "output_type": "execute_result"
    },
    {
     "name": "stdout",
     "output_type": "stream",
     "text": [
      "WARNING: image file 00026098_003.png already exists in /azureml-share/chestxray/data/ChestX-ray8/test_images\n"
     ]
    },
    {
     "data": {
      "text/plain": [
       "'/azureml-share/chestxray/data/ChestX-ray8/test_images/00026098_003.png'"
      ]
     },
     "execution_count": 11,
     "metadata": {},
     "output_type": "execute_result"
    },
    {
     "name": "stdout",
     "output_type": "stream",
     "text": [
      "WARNING: image file 00030408_013.png already exists in /azureml-share/chestxray/data/ChestX-ray8/test_images\n"
     ]
    },
    {
     "data": {
      "text/plain": [
       "'/azureml-share/chestxray/data/ChestX-ray8/test_images/00030408_013.png'"
      ]
     },
     "execution_count": 11,
     "metadata": {},
     "output_type": "execute_result"
    },
    {
     "name": "stdout",
     "output_type": "stream",
     "text": [
      "WARNING: image file 00029532_014.png already exists in /azureml-share/chestxray/data/ChestX-ray8/test_images\n"
     ]
    },
    {
     "data": {
      "text/plain": [
       "'/azureml-share/chestxray/data/ChestX-ray8/test_images/00029532_014.png'"
      ]
     },
     "execution_count": 11,
     "metadata": {},
     "output_type": "execute_result"
    },
    {
     "name": "stdout",
     "output_type": "stream",
     "text": [
      "WARNING: image file 00018721_010.png already exists in /azureml-share/chestxray/data/ChestX-ray8/test_images\n"
     ]
    },
    {
     "data": {
      "text/plain": [
       "'/azureml-share/chestxray/data/ChestX-ray8/test_images/00018721_010.png'"
      ]
     },
     "execution_count": 11,
     "metadata": {},
     "output_type": "execute_result"
    },
    {
     "name": "stdout",
     "output_type": "stream",
     "text": [
      "WARNING: image file 00019646_006.png already exists in /azureml-share/chestxray/data/ChestX-ray8/test_images\n"
     ]
    },
    {
     "data": {
      "text/plain": [
       "'/azureml-share/chestxray/data/ChestX-ray8/test_images/00019646_006.png'"
      ]
     },
     "execution_count": 11,
     "metadata": {},
     "output_type": "execute_result"
    },
    {
     "name": "stdout",
     "output_type": "stream",
     "text": [
      "WARNING: image file 00019750_029.png already exists in /azureml-share/chestxray/data/ChestX-ray8/test_images\n"
     ]
    },
    {
     "data": {
      "text/plain": [
       "'/azureml-share/chestxray/data/ChestX-ray8/test_images/00019750_029.png'"
      ]
     },
     "execution_count": 11,
     "metadata": {},
     "output_type": "execute_result"
    },
    {
     "name": "stdout",
     "output_type": "stream",
     "text": [
      "WARNING: image file 00017138_037.png already exists in /azureml-share/chestxray/data/ChestX-ray8/test_images\n"
     ]
    },
    {
     "data": {
      "text/plain": [
       "'/azureml-share/chestxray/data/ChestX-ray8/test_images/00017138_037.png'"
      ]
     },
     "execution_count": 11,
     "metadata": {},
     "output_type": "execute_result"
    },
    {
     "name": "stdout",
     "output_type": "stream",
     "text": [
      "WARNING: image file 00013471_029.png already exists in /azureml-share/chestxray/data/ChestX-ray8/test_images\n"
     ]
    },
    {
     "data": {
      "text/plain": [
       "'/azureml-share/chestxray/data/ChestX-ray8/test_images/00013471_029.png'"
      ]
     },
     "execution_count": 11,
     "metadata": {},
     "output_type": "execute_result"
    },
    {
     "name": "stdout",
     "output_type": "stream",
     "text": [
      "WARNING: image file 00002224_007.png already exists in /azureml-share/chestxray/data/ChestX-ray8/test_images\n"
     ]
    },
    {
     "data": {
      "text/plain": [
       "'/azureml-share/chestxray/data/ChestX-ray8/test_images/00002224_007.png'"
      ]
     },
     "execution_count": 11,
     "metadata": {},
     "output_type": "execute_result"
    },
    {
     "name": "stdout",
     "output_type": "stream",
     "text": [
      "WARNING: image file 00028640_008.png already exists in /azureml-share/chestxray/data/ChestX-ray8/test_images\n"
     ]
    },
    {
     "data": {
      "text/plain": [
       "'/azureml-share/chestxray/data/ChestX-ray8/test_images/00028640_008.png'"
      ]
     },
     "execution_count": 11,
     "metadata": {},
     "output_type": "execute_result"
    },
    {
     "name": "stdout",
     "output_type": "stream",
     "text": [
      "WARNING: image file 00011023_004.png already exists in /azureml-share/chestxray/data/ChestX-ray8/test_images\n"
     ]
    },
    {
     "data": {
      "text/plain": [
       "'/azureml-share/chestxray/data/ChestX-ray8/test_images/00011023_004.png'"
      ]
     },
     "execution_count": 11,
     "metadata": {},
     "output_type": "execute_result"
    },
    {
     "name": "stdout",
     "output_type": "stream",
     "text": [
      "WARNING: image file 00020405_041.png already exists in /azureml-share/chestxray/data/ChestX-ray8/test_images\n"
     ]
    },
    {
     "data": {
      "text/plain": [
       "'/azureml-share/chestxray/data/ChestX-ray8/test_images/00020405_041.png'"
      ]
     },
     "execution_count": 11,
     "metadata": {},
     "output_type": "execute_result"
    },
    {
     "name": "stdout",
     "output_type": "stream",
     "text": [
      "WARNING: image file 00014203_018.png already exists in /azureml-share/chestxray/data/ChestX-ray8/test_images\n"
     ]
    },
    {
     "data": {
      "text/plain": [
       "'/azureml-share/chestxray/data/ChestX-ray8/test_images/00014203_018.png'"
      ]
     },
     "execution_count": 11,
     "metadata": {},
     "output_type": "execute_result"
    },
    {
     "name": "stdout",
     "output_type": "stream",
     "text": [
      "WARNING: image file 00011237_094.png already exists in /azureml-share/chestxray/data/ChestX-ray8/test_images\n"
     ]
    },
    {
     "data": {
      "text/plain": [
       "'/azureml-share/chestxray/data/ChestX-ray8/test_images/00011237_094.png'"
      ]
     },
     "execution_count": 11,
     "metadata": {},
     "output_type": "execute_result"
    },
    {
     "name": "stdout",
     "output_type": "stream",
     "text": [
      "WARNING: image file 00018253_054.png already exists in /azureml-share/chestxray/data/ChestX-ray8/test_images\n"
     ]
    },
    {
     "data": {
      "text/plain": [
       "'/azureml-share/chestxray/data/ChestX-ray8/test_images/00018253_054.png'"
      ]
     },
     "execution_count": 11,
     "metadata": {},
     "output_type": "execute_result"
    },
    {
     "name": "stdout",
     "output_type": "stream",
     "text": [
      "WARNING: image file 00011124_000.png already exists in /azureml-share/chestxray/data/ChestX-ray8/test_images\n"
     ]
    },
    {
     "data": {
      "text/plain": [
       "'/azureml-share/chestxray/data/ChestX-ray8/test_images/00011124_000.png'"
      ]
     },
     "execution_count": 11,
     "metadata": {},
     "output_type": "execute_result"
    },
    {
     "name": "stdout",
     "output_type": "stream",
     "text": [
      "WARNING: image file 00026194_010.png already exists in /azureml-share/chestxray/data/ChestX-ray8/test_images\n"
     ]
    },
    {
     "data": {
      "text/plain": [
       "'/azureml-share/chestxray/data/ChestX-ray8/test_images/00026194_010.png'"
      ]
     },
     "execution_count": 11,
     "metadata": {},
     "output_type": "execute_result"
    },
    {
     "name": "stdout",
     "output_type": "stream",
     "text": [
      "WARNING: image file 00019769_014.png already exists in /azureml-share/chestxray/data/ChestX-ray8/test_images\n"
     ]
    },
    {
     "data": {
      "text/plain": [
       "'/azureml-share/chestxray/data/ChestX-ray8/test_images/00019769_014.png'"
      ]
     },
     "execution_count": 11,
     "metadata": {},
     "output_type": "execute_result"
    },
    {
     "name": "stderr",
     "output_type": "stream",
     "text": [
      "\r",
      " 58%|█████▊    | 570/984 [00:02<00:01, 218.20it/s]"
     ]
    },
    {
     "name": "stdout",
     "output_type": "stream",
     "text": [
      "WARNING: image file 00025521_003.png already exists in /azureml-share/chestxray/data/ChestX-ray8/test_images\n"
     ]
    },
    {
     "data": {
      "text/plain": [
       "'/azureml-share/chestxray/data/ChestX-ray8/test_images/00025521_003.png'"
      ]
     },
     "execution_count": 11,
     "metadata": {},
     "output_type": "execute_result"
    },
    {
     "name": "stdout",
     "output_type": "stream",
     "text": [
      "WARNING: image file 00018921_038.png already exists in /azureml-share/chestxray/data/ChestX-ray8/test_images\n"
     ]
    },
    {
     "data": {
      "text/plain": [
       "'/azureml-share/chestxray/data/ChestX-ray8/test_images/00018921_038.png'"
      ]
     },
     "execution_count": 11,
     "metadata": {},
     "output_type": "execute_result"
    },
    {
     "name": "stdout",
     "output_type": "stream",
     "text": [
      "WARNING: image file 00012505_007.png already exists in /azureml-share/chestxray/data/ChestX-ray8/test_images\n"
     ]
    },
    {
     "data": {
      "text/plain": [
       "'/azureml-share/chestxray/data/ChestX-ray8/test_images/00012505_007.png'"
      ]
     },
     "execution_count": 11,
     "metadata": {},
     "output_type": "execute_result"
    },
    {
     "name": "stdout",
     "output_type": "stream",
     "text": [
      "WARNING: image file 00015732_020.png already exists in /azureml-share/chestxray/data/ChestX-ray8/test_images\n"
     ]
    },
    {
     "data": {
      "text/plain": [
       "'/azureml-share/chestxray/data/ChestX-ray8/test_images/00015732_020.png'"
      ]
     },
     "execution_count": 11,
     "metadata": {},
     "output_type": "execute_result"
    },
    {
     "name": "stdout",
     "output_type": "stream",
     "text": [
      "WARNING: image file 00016786_001.png already exists in /azureml-share/chestxray/data/ChestX-ray8/test_images\n"
     ]
    },
    {
     "data": {
      "text/plain": [
       "'/azureml-share/chestxray/data/ChestX-ray8/test_images/00016786_001.png'"
      ]
     },
     "execution_count": 11,
     "metadata": {},
     "output_type": "execute_result"
    },
    {
     "name": "stdout",
     "output_type": "stream",
     "text": [
      "WARNING: image file 00012364_045.png already exists in /azureml-share/chestxray/data/ChestX-ray8/test_images\n"
     ]
    },
    {
     "data": {
      "text/plain": [
       "'/azureml-share/chestxray/data/ChestX-ray8/test_images/00012364_045.png'"
      ]
     },
     "execution_count": 11,
     "metadata": {},
     "output_type": "execute_result"
    },
    {
     "name": "stdout",
     "output_type": "stream",
     "text": [
      "WARNING: image file 00027357_014.png already exists in /azureml-share/chestxray/data/ChestX-ray8/test_images\n"
     ]
    },
    {
     "data": {
      "text/plain": [
       "'/azureml-share/chestxray/data/ChestX-ray8/test_images/00027357_014.png'"
      ]
     },
     "execution_count": 11,
     "metadata": {},
     "output_type": "execute_result"
    },
    {
     "name": "stdout",
     "output_type": "stream",
     "text": [
      "WARNING: image file 00016417_008.png already exists in /azureml-share/chestxray/data/ChestX-ray8/test_images\n"
     ]
    },
    {
     "data": {
      "text/plain": [
       "'/azureml-share/chestxray/data/ChestX-ray8/test_images/00016417_008.png'"
      ]
     },
     "execution_count": 11,
     "metadata": {},
     "output_type": "execute_result"
    },
    {
     "name": "stdout",
     "output_type": "stream",
     "text": [
      "WARNING: image file 00025787_027.png already exists in /azureml-share/chestxray/data/ChestX-ray8/test_images\n"
     ]
    },
    {
     "data": {
      "text/plain": [
       "'/azureml-share/chestxray/data/ChestX-ray8/test_images/00025787_027.png'"
      ]
     },
     "execution_count": 11,
     "metadata": {},
     "output_type": "execute_result"
    },
    {
     "name": "stdout",
     "output_type": "stream",
     "text": [
      "WARNING: image file 00026538_012.png already exists in /azureml-share/chestxray/data/ChestX-ray8/test_images\n"
     ]
    },
    {
     "data": {
      "text/plain": [
       "'/azureml-share/chestxray/data/ChestX-ray8/test_images/00026538_012.png'"
      ]
     },
     "execution_count": 11,
     "metadata": {},
     "output_type": "execute_result"
    },
    {
     "name": "stdout",
     "output_type": "stream",
     "text": [
      "WARNING: image file 00027441_002.png already exists in /azureml-share/chestxray/data/ChestX-ray8/test_images\n"
     ]
    },
    {
     "data": {
      "text/plain": [
       "'/azureml-share/chestxray/data/ChestX-ray8/test_images/00027441_002.png'"
      ]
     },
     "execution_count": 11,
     "metadata": {},
     "output_type": "execute_result"
    },
    {
     "name": "stdout",
     "output_type": "stream",
     "text": [
      "WARNING: image file 00014738_000.png already exists in /azureml-share/chestxray/data/ChestX-ray8/test_images\n"
     ]
    },
    {
     "data": {
      "text/plain": [
       "'/azureml-share/chestxray/data/ChestX-ray8/test_images/00014738_000.png'"
      ]
     },
     "execution_count": 11,
     "metadata": {},
     "output_type": "execute_result"
    },
    {
     "name": "stdout",
     "output_type": "stream",
     "text": [
      "WARNING: image file 00013993_083.png already exists in /azureml-share/chestxray/data/ChestX-ray8/test_images\n"
     ]
    },
    {
     "data": {
      "text/plain": [
       "'/azureml-share/chestxray/data/ChestX-ray8/test_images/00013993_083.png'"
      ]
     },
     "execution_count": 11,
     "metadata": {},
     "output_type": "execute_result"
    },
    {
     "name": "stdout",
     "output_type": "stream",
     "text": [
      "WARNING: image file 00023075_033.png already exists in /azureml-share/chestxray/data/ChestX-ray8/test_images\n"
     ]
    },
    {
     "data": {
      "text/plain": [
       "'/azureml-share/chestxray/data/ChestX-ray8/test_images/00023075_033.png'"
      ]
     },
     "execution_count": 11,
     "metadata": {},
     "output_type": "execute_result"
    },
    {
     "name": "stdout",
     "output_type": "stream",
     "text": [
      "WARNING: image file 00029579_005.png already exists in /azureml-share/chestxray/data/ChestX-ray8/test_images\n"
     ]
    },
    {
     "data": {
      "text/plain": [
       "'/azureml-share/chestxray/data/ChestX-ray8/test_images/00029579_005.png'"
      ]
     },
     "execution_count": 11,
     "metadata": {},
     "output_type": "execute_result"
    },
    {
     "name": "stdout",
     "output_type": "stream",
     "text": [
      "WARNING: image file 00013659_019.png already exists in /azureml-share/chestxray/data/ChestX-ray8/test_images\n"
     ]
    },
    {
     "data": {
      "text/plain": [
       "'/azureml-share/chestxray/data/ChestX-ray8/test_images/00013659_019.png'"
      ]
     },
     "execution_count": 11,
     "metadata": {},
     "output_type": "execute_result"
    },
    {
     "name": "stdout",
     "output_type": "stream",
     "text": [
      "WARNING: image file 00010815_006.png already exists in /azureml-share/chestxray/data/ChestX-ray8/test_images\n"
     ]
    },
    {
     "data": {
      "text/plain": [
       "'/azureml-share/chestxray/data/ChestX-ray8/test_images/00010815_006.png'"
      ]
     },
     "execution_count": 11,
     "metadata": {},
     "output_type": "execute_result"
    },
    {
     "name": "stdout",
     "output_type": "stream",
     "text": [
      "WARNING: image file 00026695_000.png already exists in /azureml-share/chestxray/data/ChestX-ray8/test_images\n"
     ]
    },
    {
     "data": {
      "text/plain": [
       "'/azureml-share/chestxray/data/ChestX-ray8/test_images/00026695_000.png'"
      ]
     },
     "execution_count": 11,
     "metadata": {},
     "output_type": "execute_result"
    },
    {
     "name": "stdout",
     "output_type": "stream",
     "text": [
      "WARNING: image file 00010125_004.png already exists in /azureml-share/chestxray/data/ChestX-ray8/test_images\n"
     ]
    },
    {
     "data": {
      "text/plain": [
       "'/azureml-share/chestxray/data/ChestX-ray8/test_images/00010125_004.png'"
      ]
     },
     "execution_count": 11,
     "metadata": {},
     "output_type": "execute_result"
    },
    {
     "name": "stdout",
     "output_type": "stream",
     "text": [
      "WARNING: image file 00026261_001.png already exists in /azureml-share/chestxray/data/ChestX-ray8/test_images\n"
     ]
    },
    {
     "data": {
      "text/plain": [
       "'/azureml-share/chestxray/data/ChestX-ray8/test_images/00026261_001.png'"
      ]
     },
     "execution_count": 11,
     "metadata": {},
     "output_type": "execute_result"
    },
    {
     "name": "stdout",
     "output_type": "stream",
     "text": [
      "WARNING: image file 00010277_000.png already exists in /azureml-share/chestxray/data/ChestX-ray8/test_images\n"
     ]
    },
    {
     "data": {
      "text/plain": [
       "'/azureml-share/chestxray/data/ChestX-ray8/test_images/00010277_000.png'"
      ]
     },
     "execution_count": 11,
     "metadata": {},
     "output_type": "execute_result"
    },
    {
     "name": "stdout",
     "output_type": "stream",
     "text": [
      "WARNING: image file 00002106_000.png already exists in /azureml-share/chestxray/data/ChestX-ray8/test_images\n"
     ]
    },
    {
     "data": {
      "text/plain": [
       "'/azureml-share/chestxray/data/ChestX-ray8/test_images/00002106_000.png'"
      ]
     },
     "execution_count": 11,
     "metadata": {},
     "output_type": "execute_result"
    },
    {
     "name": "stdout",
     "output_type": "stream",
     "text": [
      "WARNING: image file 00019313_000.png already exists in /azureml-share/chestxray/data/ChestX-ray8/test_images\n"
     ]
    },
    {
     "data": {
      "text/plain": [
       "'/azureml-share/chestxray/data/ChestX-ray8/test_images/00019313_000.png'"
      ]
     },
     "execution_count": 11,
     "metadata": {},
     "output_type": "execute_result"
    },
    {
     "name": "stdout",
     "output_type": "stream",
     "text": [
      "WARNING: image file 00018623_001.png already exists in /azureml-share/chestxray/data/ChestX-ray8/test_images\n"
     ]
    },
    {
     "data": {
      "text/plain": [
       "'/azureml-share/chestxray/data/ChestX-ray8/test_images/00018623_001.png'"
      ]
     },
     "execution_count": 11,
     "metadata": {},
     "output_type": "execute_result"
    },
    {
     "name": "stderr",
     "output_type": "stream",
     "text": [
      "\r",
      " 60%|██████    | 594/984 [00:02<00:01, 224.10it/s]"
     ]
    },
    {
     "name": "stdout",
     "output_type": "stream",
     "text": [
      "WARNING: image file 00020124_003.png already exists in /azureml-share/chestxray/data/ChestX-ray8/test_images\n"
     ]
    },
    {
     "data": {
      "text/plain": [
       "'/azureml-share/chestxray/data/ChestX-ray8/test_images/00020124_003.png'"
      ]
     },
     "execution_count": 11,
     "metadata": {},
     "output_type": "execute_result"
    },
    {
     "name": "stdout",
     "output_type": "stream",
     "text": [
      "WARNING: image file 00026196_001.png already exists in /azureml-share/chestxray/data/ChestX-ray8/test_images\n"
     ]
    },
    {
     "data": {
      "text/plain": [
       "'/azureml-share/chestxray/data/ChestX-ray8/test_images/00026196_001.png'"
      ]
     },
     "execution_count": 11,
     "metadata": {},
     "output_type": "execute_result"
    },
    {
     "name": "stdout",
     "output_type": "stream",
     "text": [
      "WARNING: image file 00028698_001.png already exists in /azureml-share/chestxray/data/ChestX-ray8/test_images\n"
     ]
    },
    {
     "data": {
      "text/plain": [
       "'/azureml-share/chestxray/data/ChestX-ray8/test_images/00028698_001.png'"
      ]
     },
     "execution_count": 11,
     "metadata": {},
     "output_type": "execute_result"
    },
    {
     "name": "stdout",
     "output_type": "stream",
     "text": [
      "WARNING: image file 00016184_040.png already exists in /azureml-share/chestxray/data/ChestX-ray8/test_images\n"
     ]
    },
    {
     "data": {
      "text/plain": [
       "'/azureml-share/chestxray/data/ChestX-ray8/test_images/00016184_040.png'"
      ]
     },
     "execution_count": 11,
     "metadata": {},
     "output_type": "execute_result"
    },
    {
     "name": "stdout",
     "output_type": "stream",
     "text": [
      "WARNING: image file 00017214_015.png already exists in /azureml-share/chestxray/data/ChestX-ray8/test_images\n"
     ]
    },
    {
     "data": {
      "text/plain": [
       "'/azureml-share/chestxray/data/ChestX-ray8/test_images/00017214_015.png'"
      ]
     },
     "execution_count": 11,
     "metadata": {},
     "output_type": "execute_result"
    },
    {
     "name": "stdout",
     "output_type": "stream",
     "text": [
      "WARNING: image file 00020065_008.png already exists in /azureml-share/chestxray/data/ChestX-ray8/test_images\n"
     ]
    },
    {
     "data": {
      "text/plain": [
       "'/azureml-share/chestxray/data/ChestX-ray8/test_images/00020065_008.png'"
      ]
     },
     "execution_count": 11,
     "metadata": {},
     "output_type": "execute_result"
    },
    {
     "name": "stdout",
     "output_type": "stream",
     "text": [
      "WARNING: image file 00011925_072.png already exists in /azureml-share/chestxray/data/ChestX-ray8/test_images\n"
     ]
    },
    {
     "data": {
      "text/plain": [
       "'/azureml-share/chestxray/data/ChestX-ray8/test_images/00011925_072.png'"
      ]
     },
     "execution_count": 11,
     "metadata": {},
     "output_type": "execute_result"
    },
    {
     "name": "stdout",
     "output_type": "stream",
     "text": [
      "WARNING: image file 00021201_010.png already exists in /azureml-share/chestxray/data/ChestX-ray8/test_images\n"
     ]
    },
    {
     "data": {
      "text/plain": [
       "'/azureml-share/chestxray/data/ChestX-ray8/test_images/00021201_010.png'"
      ]
     },
     "execution_count": 11,
     "metadata": {},
     "output_type": "execute_result"
    },
    {
     "name": "stdout",
     "output_type": "stream",
     "text": [
      "WARNING: image file 00013911_021.png already exists in /azureml-share/chestxray/data/ChestX-ray8/test_images\n"
     ]
    },
    {
     "data": {
      "text/plain": [
       "'/azureml-share/chestxray/data/ChestX-ray8/test_images/00013911_021.png'"
      ]
     },
     "execution_count": 11,
     "metadata": {},
     "output_type": "execute_result"
    },
    {
     "name": "stdout",
     "output_type": "stream",
     "text": [
      "WARNING: image file 00021179_011.png already exists in /azureml-share/chestxray/data/ChestX-ray8/test_images\n"
     ]
    },
    {
     "data": {
      "text/plain": [
       "'/azureml-share/chestxray/data/ChestX-ray8/test_images/00021179_011.png'"
      ]
     },
     "execution_count": 11,
     "metadata": {},
     "output_type": "execute_result"
    },
    {
     "name": "stdout",
     "output_type": "stream",
     "text": [
      "WARNING: image file 00006821_002.png already exists in /azureml-share/chestxray/data/ChestX-ray8/test_images\n"
     ]
    },
    {
     "data": {
      "text/plain": [
       "'/azureml-share/chestxray/data/ChestX-ray8/test_images/00006821_002.png'"
      ]
     },
     "execution_count": 11,
     "metadata": {},
     "output_type": "execute_result"
    },
    {
     "name": "stdout",
     "output_type": "stream",
     "text": [
      "WARNING: image file 00011151_004.png already exists in /azureml-share/chestxray/data/ChestX-ray8/test_images\n"
     ]
    },
    {
     "data": {
      "text/plain": [
       "'/azureml-share/chestxray/data/ChestX-ray8/test_images/00011151_004.png'"
      ]
     },
     "execution_count": 11,
     "metadata": {},
     "output_type": "execute_result"
    },
    {
     "name": "stdout",
     "output_type": "stream",
     "text": [
      "WARNING: image file 00027833_022.png already exists in /azureml-share/chestxray/data/ChestX-ray8/test_images\n"
     ]
    },
    {
     "data": {
      "text/plain": [
       "'/azureml-share/chestxray/data/ChestX-ray8/test_images/00027833_022.png'"
      ]
     },
     "execution_count": 11,
     "metadata": {},
     "output_type": "execute_result"
    },
    {
     "name": "stdout",
     "output_type": "stream",
     "text": [
      "WARNING: image file 00012376_010.png already exists in /azureml-share/chestxray/data/ChestX-ray8/test_images\n"
     ]
    },
    {
     "data": {
      "text/plain": [
       "'/azureml-share/chestxray/data/ChestX-ray8/test_images/00012376_010.png'"
      ]
     },
     "execution_count": 11,
     "metadata": {},
     "output_type": "execute_result"
    },
    {
     "name": "stdout",
     "output_type": "stream",
     "text": [
      "WARNING: image file 00020274_007.png already exists in /azureml-share/chestxray/data/ChestX-ray8/test_images\n"
     ]
    },
    {
     "data": {
      "text/plain": [
       "'/azureml-share/chestxray/data/ChestX-ray8/test_images/00020274_007.png'"
      ]
     },
     "execution_count": 11,
     "metadata": {},
     "output_type": "execute_result"
    },
    {
     "name": "stdout",
     "output_type": "stream",
     "text": [
      "WARNING: image file 00028265_007.png already exists in /azureml-share/chestxray/data/ChestX-ray8/test_images\n"
     ]
    },
    {
     "data": {
      "text/plain": [
       "'/azureml-share/chestxray/data/ChestX-ray8/test_images/00028265_007.png'"
      ]
     },
     "execution_count": 11,
     "metadata": {},
     "output_type": "execute_result"
    },
    {
     "name": "stdout",
     "output_type": "stream",
     "text": [
      "WARNING: image file 00028027_000.png already exists in /azureml-share/chestxray/data/ChestX-ray8/test_images\n"
     ]
    },
    {
     "data": {
      "text/plain": [
       "'/azureml-share/chestxray/data/ChestX-ray8/test_images/00028027_000.png'"
      ]
     },
     "execution_count": 11,
     "metadata": {},
     "output_type": "execute_result"
    },
    {
     "name": "stdout",
     "output_type": "stream",
     "text": [
      "WARNING: image file 00018762_001.png already exists in /azureml-share/chestxray/data/ChestX-ray8/test_images\n"
     ]
    },
    {
     "data": {
      "text/plain": [
       "'/azureml-share/chestxray/data/ChestX-ray8/test_images/00018762_001.png'"
      ]
     },
     "execution_count": 11,
     "metadata": {},
     "output_type": "execute_result"
    },
    {
     "name": "stdout",
     "output_type": "stream",
     "text": [
      "WARNING: image file 00018366_010.png already exists in /azureml-share/chestxray/data/ChestX-ray8/test_images\n"
     ]
    },
    {
     "data": {
      "text/plain": [
       "'/azureml-share/chestxray/data/ChestX-ray8/test_images/00018366_010.png'"
      ]
     },
     "execution_count": 11,
     "metadata": {},
     "output_type": "execute_result"
    },
    {
     "name": "stdout",
     "output_type": "stream",
     "text": [
      "WARNING: image file 00022837_005.png already exists in /azureml-share/chestxray/data/ChestX-ray8/test_images\n"
     ]
    },
    {
     "data": {
      "text/plain": [
       "'/azureml-share/chestxray/data/ChestX-ray8/test_images/00022837_005.png'"
      ]
     },
     "execution_count": 11,
     "metadata": {},
     "output_type": "execute_result"
    },
    {
     "name": "stdout",
     "output_type": "stream",
     "text": [
      "WARNING: image file 00008008_027.png already exists in /azureml-share/chestxray/data/ChestX-ray8/test_images\n"
     ]
    },
    {
     "data": {
      "text/plain": [
       "'/azureml-share/chestxray/data/ChestX-ray8/test_images/00008008_027.png'"
      ]
     },
     "execution_count": 11,
     "metadata": {},
     "output_type": "execute_result"
    },
    {
     "name": "stdout",
     "output_type": "stream",
     "text": [
      "WARNING: image file 00001787_008.png already exists in /azureml-share/chestxray/data/ChestX-ray8/test_images\n"
     ]
    },
    {
     "data": {
      "text/plain": [
       "'/azureml-share/chestxray/data/ChestX-ray8/test_images/00001787_008.png'"
      ]
     },
     "execution_count": 11,
     "metadata": {},
     "output_type": "execute_result"
    },
    {
     "name": "stdout",
     "output_type": "stream",
     "text": [
      "WARNING: image file 00017257_001.png already exists in /azureml-share/chestxray/data/ChestX-ray8/test_images\n"
     ]
    },
    {
     "data": {
      "text/plain": [
       "'/azureml-share/chestxray/data/ChestX-ray8/test_images/00017257_001.png'"
      ]
     },
     "execution_count": 11,
     "metadata": {},
     "output_type": "execute_result"
    },
    {
     "name": "stderr",
     "output_type": "stream",
     "text": [
      "\r",
      " 63%|██████▎   | 617/984 [00:02<00:01, 222.33it/s]"
     ]
    },
    {
     "name": "stdout",
     "output_type": "stream",
     "text": [
      "WARNING: image file 00029105_015.png already exists in /azureml-share/chestxray/data/ChestX-ray8/test_images\n"
     ]
    },
    {
     "data": {
      "text/plain": [
       "'/azureml-share/chestxray/data/ChestX-ray8/test_images/00029105_015.png'"
      ]
     },
     "execution_count": 11,
     "metadata": {},
     "output_type": "execute_result"
    },
    {
     "name": "stdout",
     "output_type": "stream",
     "text": [
      "WARNING: image file 00011269_019.png already exists in /azureml-share/chestxray/data/ChestX-ray8/test_images\n"
     ]
    },
    {
     "data": {
      "text/plain": [
       "'/azureml-share/chestxray/data/ChestX-ray8/test_images/00011269_019.png'"
      ]
     },
     "execution_count": 11,
     "metadata": {},
     "output_type": "execute_result"
    },
    {
     "name": "stdout",
     "output_type": "stream",
     "text": [
      "WARNING: image file 00012376_011.png already exists in /azureml-share/chestxray/data/ChestX-ray8/test_images\n"
     ]
    },
    {
     "data": {
      "text/plain": [
       "'/azureml-share/chestxray/data/ChestX-ray8/test_images/00012376_011.png'"
      ]
     },
     "execution_count": 11,
     "metadata": {},
     "output_type": "execute_result"
    },
    {
     "name": "stdout",
     "output_type": "stream",
     "text": [
      "WARNING: image file 00013508_001.png already exists in /azureml-share/chestxray/data/ChestX-ray8/test_images\n"
     ]
    },
    {
     "data": {
      "text/plain": [
       "'/azureml-share/chestxray/data/ChestX-ray8/test_images/00013508_001.png'"
      ]
     },
     "execution_count": 11,
     "metadata": {},
     "output_type": "execute_result"
    },
    {
     "name": "stdout",
     "output_type": "stream",
     "text": [
      "WARNING: image file 00012975_003.png already exists in /azureml-share/chestxray/data/ChestX-ray8/test_images\n"
     ]
    },
    {
     "data": {
      "text/plain": [
       "'/azureml-share/chestxray/data/ChestX-ray8/test_images/00012975_003.png'"
      ]
     },
     "execution_count": 11,
     "metadata": {},
     "output_type": "execute_result"
    },
    {
     "name": "stdout",
     "output_type": "stream",
     "text": [
      "WARNING: image file 00011157_001.png already exists in /azureml-share/chestxray/data/ChestX-ray8/test_images\n"
     ]
    },
    {
     "data": {
      "text/plain": [
       "'/azureml-share/chestxray/data/ChestX-ray8/test_images/00011157_001.png'"
      ]
     },
     "execution_count": 11,
     "metadata": {},
     "output_type": "execute_result"
    },
    {
     "name": "stdout",
     "output_type": "stream",
     "text": [
      "WARNING: image file 00001836_082.png already exists in /azureml-share/chestxray/data/ChestX-ray8/test_images\n"
     ]
    },
    {
     "data": {
      "text/plain": [
       "'/azureml-share/chestxray/data/ChestX-ray8/test_images/00001836_082.png'"
      ]
     },
     "execution_count": 11,
     "metadata": {},
     "output_type": "execute_result"
    },
    {
     "name": "stdout",
     "output_type": "stream",
     "text": [
      "WARNING: image file 00023168_000.png already exists in /azureml-share/chestxray/data/ChestX-ray8/test_images\n"
     ]
    },
    {
     "data": {
      "text/plain": [
       "'/azureml-share/chestxray/data/ChestX-ray8/test_images/00023168_000.png'"
      ]
     },
     "execution_count": 11,
     "metadata": {},
     "output_type": "execute_result"
    },
    {
     "name": "stdout",
     "output_type": "stream",
     "text": [
      "WARNING: image file 00016568_010.png already exists in /azureml-share/chestxray/data/ChestX-ray8/test_images\n"
     ]
    },
    {
     "data": {
      "text/plain": [
       "'/azureml-share/chestxray/data/ChestX-ray8/test_images/00016568_010.png'"
      ]
     },
     "execution_count": 11,
     "metadata": {},
     "output_type": "execute_result"
    },
    {
     "name": "stdout",
     "output_type": "stream",
     "text": [
      "WARNING: image file 00014731_028.png already exists in /azureml-share/chestxray/data/ChestX-ray8/test_images\n"
     ]
    },
    {
     "data": {
      "text/plain": [
       "'/azureml-share/chestxray/data/ChestX-ray8/test_images/00014731_028.png'"
      ]
     },
     "execution_count": 11,
     "metadata": {},
     "output_type": "execute_result"
    },
    {
     "name": "stdout",
     "output_type": "stream",
     "text": [
      "WARNING: image file 00025529_018.png already exists in /azureml-share/chestxray/data/ChestX-ray8/test_images\n"
     ]
    },
    {
     "data": {
      "text/plain": [
       "'/azureml-share/chestxray/data/ChestX-ray8/test_images/00025529_018.png'"
      ]
     },
     "execution_count": 11,
     "metadata": {},
     "output_type": "execute_result"
    },
    {
     "name": "stdout",
     "output_type": "stream",
     "text": [
      "WARNING: image file 00003440_000.png already exists in /azureml-share/chestxray/data/ChestX-ray8/test_images\n"
     ]
    },
    {
     "data": {
      "text/plain": [
       "'/azureml-share/chestxray/data/ChestX-ray8/test_images/00003440_000.png'"
      ]
     },
     "execution_count": 11,
     "metadata": {},
     "output_type": "execute_result"
    },
    {
     "name": "stdout",
     "output_type": "stream",
     "text": [
      "WARNING: image file 00019651_002.png already exists in /azureml-share/chestxray/data/ChestX-ray8/test_images\n"
     ]
    },
    {
     "data": {
      "text/plain": [
       "'/azureml-share/chestxray/data/ChestX-ray8/test_images/00019651_002.png'"
      ]
     },
     "execution_count": 11,
     "metadata": {},
     "output_type": "execute_result"
    },
    {
     "name": "stdout",
     "output_type": "stream",
     "text": [
      "WARNING: image file 00027556_007.png already exists in /azureml-share/chestxray/data/ChestX-ray8/test_images\n"
     ]
    },
    {
     "data": {
      "text/plain": [
       "'/azureml-share/chestxray/data/ChestX-ray8/test_images/00027556_007.png'"
      ]
     },
     "execution_count": 11,
     "metadata": {},
     "output_type": "execute_result"
    },
    {
     "name": "stdout",
     "output_type": "stream",
     "text": [
      "WARNING: image file 00011291_003.png already exists in /azureml-share/chestxray/data/ChestX-ray8/test_images\n"
     ]
    },
    {
     "data": {
      "text/plain": [
       "'/azureml-share/chestxray/data/ChestX-ray8/test_images/00011291_003.png'"
      ]
     },
     "execution_count": 11,
     "metadata": {},
     "output_type": "execute_result"
    },
    {
     "name": "stdout",
     "output_type": "stream",
     "text": [
      "WARNING: image file 00019499_000.png already exists in /azureml-share/chestxray/data/ChestX-ray8/test_images\n"
     ]
    },
    {
     "data": {
      "text/plain": [
       "'/azureml-share/chestxray/data/ChestX-ray8/test_images/00019499_000.png'"
      ]
     },
     "execution_count": 11,
     "metadata": {},
     "output_type": "execute_result"
    },
    {
     "name": "stdout",
     "output_type": "stream",
     "text": [
      "WARNING: image file 00005532_019.png already exists in /azureml-share/chestxray/data/ChestX-ray8/test_images\n"
     ]
    },
    {
     "data": {
      "text/plain": [
       "'/azureml-share/chestxray/data/ChestX-ray8/test_images/00005532_019.png'"
      ]
     },
     "execution_count": 11,
     "metadata": {},
     "output_type": "execute_result"
    },
    {
     "name": "stdout",
     "output_type": "stream",
     "text": [
      "WARNING: image file 00018427_004.png already exists in /azureml-share/chestxray/data/ChestX-ray8/test_images\n"
     ]
    },
    {
     "data": {
      "text/plain": [
       "'/azureml-share/chestxray/data/ChestX-ray8/test_images/00018427_004.png'"
      ]
     },
     "execution_count": 11,
     "metadata": {},
     "output_type": "execute_result"
    },
    {
     "name": "stdout",
     "output_type": "stream",
     "text": [
      "WARNING: image file 00030323_015.png already exists in /azureml-share/chestxray/data/ChestX-ray8/test_images\n"
     ]
    },
    {
     "data": {
      "text/plain": [
       "'/azureml-share/chestxray/data/ChestX-ray8/test_images/00030323_015.png'"
      ]
     },
     "execution_count": 11,
     "metadata": {},
     "output_type": "execute_result"
    },
    {
     "name": "stdout",
     "output_type": "stream",
     "text": [
      "WARNING: image file 00014014_013.png already exists in /azureml-share/chestxray/data/ChestX-ray8/test_images\n"
     ]
    },
    {
     "data": {
      "text/plain": [
       "'/azureml-share/chestxray/data/ChestX-ray8/test_images/00014014_013.png'"
      ]
     },
     "execution_count": 11,
     "metadata": {},
     "output_type": "execute_result"
    },
    {
     "name": "stdout",
     "output_type": "stream",
     "text": [
      "WARNING: image file 00011925_077.png already exists in /azureml-share/chestxray/data/ChestX-ray8/test_images\n"
     ]
    },
    {
     "data": {
      "text/plain": [
       "'/azureml-share/chestxray/data/ChestX-ray8/test_images/00011925_077.png'"
      ]
     },
     "execution_count": 11,
     "metadata": {},
     "output_type": "execute_result"
    },
    {
     "name": "stdout",
     "output_type": "stream",
     "text": [
      "WARNING: image file 00014177_010.png already exists in /azureml-share/chestxray/data/ChestX-ray8/test_images\n"
     ]
    },
    {
     "data": {
      "text/plain": [
       "'/azureml-share/chestxray/data/ChestX-ray8/test_images/00014177_010.png'"
      ]
     },
     "execution_count": 11,
     "metadata": {},
     "output_type": "execute_result"
    },
    {
     "name": "stdout",
     "output_type": "stream",
     "text": [
      "WARNING: image file 00028628_020.png already exists in /azureml-share/chestxray/data/ChestX-ray8/test_images\n"
     ]
    },
    {
     "data": {
      "text/plain": [
       "'/azureml-share/chestxray/data/ChestX-ray8/test_images/00028628_020.png'"
      ]
     },
     "execution_count": 11,
     "metadata": {},
     "output_type": "execute_result"
    },
    {
     "name": "stderr",
     "output_type": "stream",
     "text": [
      "\r",
      " 65%|██████▌   | 640/984 [00:02<00:01, 221.54it/s]"
     ]
    },
    {
     "name": "stdout",
     "output_type": "stream",
     "text": [
      "WARNING: image file 00021420_027.png already exists in /azureml-share/chestxray/data/ChestX-ray8/test_images\n"
     ]
    },
    {
     "data": {
      "text/plain": [
       "'/azureml-share/chestxray/data/ChestX-ray8/test_images/00021420_027.png'"
      ]
     },
     "execution_count": 11,
     "metadata": {},
     "output_type": "execute_result"
    },
    {
     "name": "stdout",
     "output_type": "stream",
     "text": [
      "WARNING: image file 00018101_012.png already exists in /azureml-share/chestxray/data/ChestX-ray8/test_images\n"
     ]
    },
    {
     "data": {
      "text/plain": [
       "'/azureml-share/chestxray/data/ChestX-ray8/test_images/00018101_012.png'"
      ]
     },
     "execution_count": 11,
     "metadata": {},
     "output_type": "execute_result"
    },
    {
     "name": "stdout",
     "output_type": "stream",
     "text": [
      "WARNING: image file 00012892_010.png already exists in /azureml-share/chestxray/data/ChestX-ray8/test_images\n"
     ]
    },
    {
     "data": {
      "text/plain": [
       "'/azureml-share/chestxray/data/ChestX-ray8/test_images/00012892_010.png'"
      ]
     },
     "execution_count": 11,
     "metadata": {},
     "output_type": "execute_result"
    },
    {
     "name": "stdout",
     "output_type": "stream",
     "text": [
      "WARNING: image file 00017670_005.png already exists in /azureml-share/chestxray/data/ChestX-ray8/test_images\n"
     ]
    },
    {
     "data": {
      "text/plain": [
       "'/azureml-share/chestxray/data/ChestX-ray8/test_images/00017670_005.png'"
      ]
     },
     "execution_count": 11,
     "metadata": {},
     "output_type": "execute_result"
    },
    {
     "name": "stdout",
     "output_type": "stream",
     "text": [
      "WARNING: image file 00019373_058.png already exists in /azureml-share/chestxray/data/ChestX-ray8/test_images\n"
     ]
    },
    {
     "data": {
      "text/plain": [
       "'/azureml-share/chestxray/data/ChestX-ray8/test_images/00019373_058.png'"
      ]
     },
     "execution_count": 11,
     "metadata": {},
     "output_type": "execute_result"
    },
    {
     "name": "stdout",
     "output_type": "stream",
     "text": [
      "WARNING: image file 00014004_038.png already exists in /azureml-share/chestxray/data/ChestX-ray8/test_images\n"
     ]
    },
    {
     "data": {
      "text/plain": [
       "'/azureml-share/chestxray/data/ChestX-ray8/test_images/00014004_038.png'"
      ]
     },
     "execution_count": 11,
     "metadata": {},
     "output_type": "execute_result"
    },
    {
     "name": "stdout",
     "output_type": "stream",
     "text": [
      "WARNING: image file 00028330_003.png already exists in /azureml-share/chestxray/data/ChestX-ray8/test_images\n"
     ]
    },
    {
     "data": {
      "text/plain": [
       "'/azureml-share/chestxray/data/ChestX-ray8/test_images/00028330_003.png'"
      ]
     },
     "execution_count": 11,
     "metadata": {},
     "output_type": "execute_result"
    },
    {
     "name": "stdout",
     "output_type": "stream",
     "text": [
      "WARNING: image file 00015649_000.png already exists in /azureml-share/chestxray/data/ChestX-ray8/test_images\n"
     ]
    },
    {
     "data": {
      "text/plain": [
       "'/azureml-share/chestxray/data/ChestX-ray8/test_images/00015649_000.png'"
      ]
     },
     "execution_count": 11,
     "metadata": {},
     "output_type": "execute_result"
    },
    {
     "name": "stdout",
     "output_type": "stream",
     "text": [
      "WARNING: image file 00021420_020.png already exists in /azureml-share/chestxray/data/ChestX-ray8/test_images\n"
     ]
    },
    {
     "data": {
      "text/plain": [
       "'/azureml-share/chestxray/data/ChestX-ray8/test_images/00021420_020.png'"
      ]
     },
     "execution_count": 11,
     "metadata": {},
     "output_type": "execute_result"
    },
    {
     "name": "stdout",
     "output_type": "stream",
     "text": [
      "WARNING: image file 00015300_000.png already exists in /azureml-share/chestxray/data/ChestX-ray8/test_images\n"
     ]
    },
    {
     "data": {
      "text/plain": [
       "'/azureml-share/chestxray/data/ChestX-ray8/test_images/00015300_000.png'"
      ]
     },
     "execution_count": 11,
     "metadata": {},
     "output_type": "execute_result"
    },
    {
     "name": "stdout",
     "output_type": "stream",
     "text": [
      "WARNING: image file 00022192_003.png already exists in /azureml-share/chestxray/data/ChestX-ray8/test_images\n"
     ]
    },
    {
     "data": {
      "text/plain": [
       "'/azureml-share/chestxray/data/ChestX-ray8/test_images/00022192_003.png'"
      ]
     },
     "execution_count": 11,
     "metadata": {},
     "output_type": "execute_result"
    },
    {
     "name": "stdout",
     "output_type": "stream",
     "text": [
      "WARNING: image file 00022237_002.png already exists in /azureml-share/chestxray/data/ChestX-ray8/test_images\n"
     ]
    },
    {
     "data": {
      "text/plain": [
       "'/azureml-share/chestxray/data/ChestX-ray8/test_images/00022237_002.png'"
      ]
     },
     "execution_count": 11,
     "metadata": {},
     "output_type": "execute_result"
    },
    {
     "name": "stdout",
     "output_type": "stream",
     "text": [
      "WARNING: image file 00022726_002.png already exists in /azureml-share/chestxray/data/ChestX-ray8/test_images\n"
     ]
    },
    {
     "data": {
      "text/plain": [
       "'/azureml-share/chestxray/data/ChestX-ray8/test_images/00022726_002.png'"
      ]
     },
     "execution_count": 11,
     "metadata": {},
     "output_type": "execute_result"
    },
    {
     "name": "stdout",
     "output_type": "stream",
     "text": [
      "WARNING: image file 00000830_000.png already exists in /azureml-share/chestxray/data/ChestX-ray8/test_images\n"
     ]
    },
    {
     "data": {
      "text/plain": [
       "'/azureml-share/chestxray/data/ChestX-ray8/test_images/00000830_000.png'"
      ]
     },
     "execution_count": 11,
     "metadata": {},
     "output_type": "execute_result"
    },
    {
     "name": "stdout",
     "output_type": "stream",
     "text": [
      "WARNING: image file 00015440_000.png already exists in /azureml-share/chestxray/data/ChestX-ray8/test_images\n"
     ]
    },
    {
     "data": {
      "text/plain": [
       "'/azureml-share/chestxray/data/ChestX-ray8/test_images/00015440_000.png'"
      ]
     },
     "execution_count": 11,
     "metadata": {},
     "output_type": "execute_result"
    },
    {
     "name": "stdout",
     "output_type": "stream",
     "text": [
      "WARNING: image file 00011925_076.png already exists in /azureml-share/chestxray/data/ChestX-ray8/test_images\n"
     ]
    },
    {
     "data": {
      "text/plain": [
       "'/azureml-share/chestxray/data/ChestX-ray8/test_images/00011925_076.png'"
      ]
     },
     "execution_count": 11,
     "metadata": {},
     "output_type": "execute_result"
    },
    {
     "name": "stdout",
     "output_type": "stream",
     "text": [
      "WARNING: image file 00017611_002.png already exists in /azureml-share/chestxray/data/ChestX-ray8/test_images\n"
     ]
    },
    {
     "data": {
      "text/plain": [
       "'/azureml-share/chestxray/data/ChestX-ray8/test_images/00017611_002.png'"
      ]
     },
     "execution_count": 11,
     "metadata": {},
     "output_type": "execute_result"
    },
    {
     "name": "stdout",
     "output_type": "stream",
     "text": [
      "WARNING: image file 00029469_007.png already exists in /azureml-share/chestxray/data/ChestX-ray8/test_images\n"
     ]
    },
    {
     "data": {
      "text/plain": [
       "'/azureml-share/chestxray/data/ChestX-ray8/test_images/00029469_007.png'"
      ]
     },
     "execution_count": 11,
     "metadata": {},
     "output_type": "execute_result"
    },
    {
     "name": "stdout",
     "output_type": "stream",
     "text": [
      "WARNING: image file 00014551_010.png already exists in /azureml-share/chestxray/data/ChestX-ray8/test_images\n"
     ]
    },
    {
     "data": {
      "text/plain": [
       "'/azureml-share/chestxray/data/ChestX-ray8/test_images/00014551_010.png'"
      ]
     },
     "execution_count": 11,
     "metadata": {},
     "output_type": "execute_result"
    },
    {
     "name": "stdout",
     "output_type": "stream",
     "text": [
      "WARNING: image file 00027697_001.png already exists in /azureml-share/chestxray/data/ChestX-ray8/test_images\n"
     ]
    },
    {
     "data": {
      "text/plain": [
       "'/azureml-share/chestxray/data/ChestX-ray8/test_images/00027697_001.png'"
      ]
     },
     "execution_count": 11,
     "metadata": {},
     "output_type": "execute_result"
    },
    {
     "name": "stdout",
     "output_type": "stream",
     "text": [
      "WARNING: image file 00009229_007.png already exists in /azureml-share/chestxray/data/ChestX-ray8/test_images\n"
     ]
    },
    {
     "data": {
      "text/plain": [
       "'/azureml-share/chestxray/data/ChestX-ray8/test_images/00009229_007.png'"
      ]
     },
     "execution_count": 11,
     "metadata": {},
     "output_type": "execute_result"
    },
    {
     "name": "stdout",
     "output_type": "stream",
     "text": [
      "WARNING: image file 00012270_005.png already exists in /azureml-share/chestxray/data/ChestX-ray8/test_images\n"
     ]
    },
    {
     "data": {
      "text/plain": [
       "'/azureml-share/chestxray/data/ChestX-ray8/test_images/00012270_005.png'"
      ]
     },
     "execution_count": 11,
     "metadata": {},
     "output_type": "execute_result"
    },
    {
     "name": "stdout",
     "output_type": "stream",
     "text": [
      "WARNING: image file 00013991_000.png already exists in /azureml-share/chestxray/data/ChestX-ray8/test_images\n"
     ]
    },
    {
     "data": {
      "text/plain": [
       "'/azureml-share/chestxray/data/ChestX-ray8/test_images/00013991_000.png'"
      ]
     },
     "execution_count": 11,
     "metadata": {},
     "output_type": "execute_result"
    },
    {
     "name": "stderr",
     "output_type": "stream",
     "text": [
      "\r",
      " 67%|██████▋   | 663/984 [00:03<00:01, 206.01it/s]"
     ]
    },
    {
     "name": "stdout",
     "output_type": "stream",
     "text": [
      "WARNING: image file 00012048_007.png already exists in /azureml-share/chestxray/data/ChestX-ray8/test_images\n"
     ]
    },
    {
     "data": {
      "text/plain": [
       "'/azureml-share/chestxray/data/ChestX-ray8/test_images/00012048_007.png'"
      ]
     },
     "execution_count": 11,
     "metadata": {},
     "output_type": "execute_result"
    },
    {
     "name": "stdout",
     "output_type": "stream",
     "text": [
      "WARNING: image file 00001075_024.png already exists in /azureml-share/chestxray/data/ChestX-ray8/test_images\n"
     ]
    },
    {
     "data": {
      "text/plain": [
       "'/azureml-share/chestxray/data/ChestX-ray8/test_images/00001075_024.png'"
      ]
     },
     "execution_count": 11,
     "metadata": {},
     "output_type": "execute_result"
    },
    {
     "name": "stdout",
     "output_type": "stream",
     "text": [
      "WARNING: image file 00012175_008.png already exists in /azureml-share/chestxray/data/ChestX-ray8/test_images\n"
     ]
    },
    {
     "data": {
      "text/plain": [
       "'/azureml-share/chestxray/data/ChestX-ray8/test_images/00012175_008.png'"
      ]
     },
     "execution_count": 11,
     "metadata": {},
     "output_type": "execute_result"
    },
    {
     "name": "stdout",
     "output_type": "stream",
     "text": [
      "WARNING: image file 00011814_031.png already exists in /azureml-share/chestxray/data/ChestX-ray8/test_images\n"
     ]
    },
    {
     "data": {
      "text/plain": [
       "'/azureml-share/chestxray/data/ChestX-ray8/test_images/00011814_031.png'"
      ]
     },
     "execution_count": 11,
     "metadata": {},
     "output_type": "execute_result"
    },
    {
     "name": "stdout",
     "output_type": "stream",
     "text": [
      "WARNING: image file 00000902_001.png already exists in /azureml-share/chestxray/data/ChestX-ray8/test_images\n"
     ]
    },
    {
     "data": {
      "text/plain": [
       "'/azureml-share/chestxray/data/ChestX-ray8/test_images/00000902_001.png'"
      ]
     },
     "execution_count": 11,
     "metadata": {},
     "output_type": "execute_result"
    },
    {
     "name": "stdout",
     "output_type": "stream",
     "text": [
      "WARNING: image file 00001688_000.png already exists in /azureml-share/chestxray/data/ChestX-ray8/test_images\n"
     ]
    },
    {
     "data": {
      "text/plain": [
       "'/azureml-share/chestxray/data/ChestX-ray8/test_images/00001688_000.png'"
      ]
     },
     "execution_count": 11,
     "metadata": {},
     "output_type": "execute_result"
    },
    {
     "name": "stdout",
     "output_type": "stream",
     "text": [
      "WARNING: image file 00004547_003.png already exists in /azureml-share/chestxray/data/ChestX-ray8/test_images\n"
     ]
    },
    {
     "data": {
      "text/plain": [
       "'/azureml-share/chestxray/data/ChestX-ray8/test_images/00004547_003.png'"
      ]
     },
     "execution_count": 11,
     "metadata": {},
     "output_type": "execute_result"
    },
    {
     "name": "stdout",
     "output_type": "stream",
     "text": [
      "WARNING: image file 00023078_000.png already exists in /azureml-share/chestxray/data/ChestX-ray8/test_images\n"
     ]
    },
    {
     "data": {
      "text/plain": [
       "'/azureml-share/chestxray/data/ChestX-ray8/test_images/00023078_000.png'"
      ]
     },
     "execution_count": 11,
     "metadata": {},
     "output_type": "execute_result"
    },
    {
     "name": "stdout",
     "output_type": "stream",
     "text": [
      "WARNING: image file 00023068_003.png already exists in /azureml-share/chestxray/data/ChestX-ray8/test_images\n"
     ]
    },
    {
     "data": {
      "text/plain": [
       "'/azureml-share/chestxray/data/ChestX-ray8/test_images/00023068_003.png'"
      ]
     },
     "execution_count": 11,
     "metadata": {},
     "output_type": "execute_result"
    },
    {
     "name": "stdout",
     "output_type": "stream",
     "text": [
      "WARNING: image file 00013911_000.png already exists in /azureml-share/chestxray/data/ChestX-ray8/test_images\n"
     ]
    },
    {
     "data": {
      "text/plain": [
       "'/azureml-share/chestxray/data/ChestX-ray8/test_images/00013911_000.png'"
      ]
     },
     "execution_count": 11,
     "metadata": {},
     "output_type": "execute_result"
    },
    {
     "name": "stdout",
     "output_type": "stream",
     "text": [
      "WARNING: image file 00027927_009.png already exists in /azureml-share/chestxray/data/ChestX-ray8/test_images\n"
     ]
    },
    {
     "data": {
      "text/plain": [
       "'/azureml-share/chestxray/data/ChestX-ray8/test_images/00027927_009.png'"
      ]
     },
     "execution_count": 11,
     "metadata": {},
     "output_type": "execute_result"
    },
    {
     "name": "stdout",
     "output_type": "stream",
     "text": [
      "WARNING: image file 00014116_009.png already exists in /azureml-share/chestxray/data/ChestX-ray8/test_images\n"
     ]
    },
    {
     "data": {
      "text/plain": [
       "'/azureml-share/chestxray/data/ChestX-ray8/test_images/00014116_009.png'"
      ]
     },
     "execution_count": 11,
     "metadata": {},
     "output_type": "execute_result"
    },
    {
     "name": "stdout",
     "output_type": "stream",
     "text": [
      "WARNING: image file 00019058_004.png already exists in /azureml-share/chestxray/data/ChestX-ray8/test_images\n"
     ]
    },
    {
     "data": {
      "text/plain": [
       "'/azureml-share/chestxray/data/ChestX-ray8/test_images/00019058_004.png'"
      ]
     },
     "execution_count": 11,
     "metadata": {},
     "output_type": "execute_result"
    },
    {
     "name": "stdout",
     "output_type": "stream",
     "text": [
      "WARNING: image file 00016487_002.png already exists in /azureml-share/chestxray/data/ChestX-ray8/test_images\n"
     ]
    },
    {
     "data": {
      "text/plain": [
       "'/azureml-share/chestxray/data/ChestX-ray8/test_images/00016487_002.png'"
      ]
     },
     "execution_count": 11,
     "metadata": {},
     "output_type": "execute_result"
    },
    {
     "name": "stdout",
     "output_type": "stream",
     "text": [
      "WARNING: image file 00015794_000.png already exists in /azureml-share/chestxray/data/ChestX-ray8/test_images\n"
     ]
    },
    {
     "data": {
      "text/plain": [
       "'/azureml-share/chestxray/data/ChestX-ray8/test_images/00015794_000.png'"
      ]
     },
     "execution_count": 11,
     "metadata": {},
     "output_type": "execute_result"
    },
    {
     "name": "stdout",
     "output_type": "stream",
     "text": [
      "WARNING: image file 00012374_000.png already exists in /azureml-share/chestxray/data/ChestX-ray8/test_images\n"
     ]
    },
    {
     "data": {
      "text/plain": [
       "'/azureml-share/chestxray/data/ChestX-ray8/test_images/00012374_000.png'"
      ]
     },
     "execution_count": 11,
     "metadata": {},
     "output_type": "execute_result"
    },
    {
     "name": "stdout",
     "output_type": "stream",
     "text": [
      "WARNING: image file 00003948_001.png already exists in /azureml-share/chestxray/data/ChestX-ray8/test_images\n"
     ]
    },
    {
     "data": {
      "text/plain": [
       "'/azureml-share/chestxray/data/ChestX-ray8/test_images/00003948_001.png'"
      ]
     },
     "execution_count": 11,
     "metadata": {},
     "output_type": "execute_result"
    },
    {
     "name": "stdout",
     "output_type": "stream",
     "text": [
      "WARNING: image file 00018366_000.png already exists in /azureml-share/chestxray/data/ChestX-ray8/test_images\n"
     ]
    },
    {
     "data": {
      "text/plain": [
       "'/azureml-share/chestxray/data/ChestX-ray8/test_images/00018366_000.png'"
      ]
     },
     "execution_count": 11,
     "metadata": {},
     "output_type": "execute_result"
    },
    {
     "name": "stdout",
     "output_type": "stream",
     "text": [
      "WARNING: image file 00014778_000.png already exists in /azureml-share/chestxray/data/ChestX-ray8/test_images\n"
     ]
    },
    {
     "data": {
      "text/plain": [
       "'/azureml-share/chestxray/data/ChestX-ray8/test_images/00014778_000.png'"
      ]
     },
     "execution_count": 11,
     "metadata": {},
     "output_type": "execute_result"
    },
    {
     "name": "stdout",
     "output_type": "stream",
     "text": [
      "WARNING: image file 00026221_001.png already exists in /azureml-share/chestxray/data/ChestX-ray8/test_images\n"
     ]
    },
    {
     "data": {
      "text/plain": [
       "'/azureml-share/chestxray/data/ChestX-ray8/test_images/00026221_001.png'"
      ]
     },
     "execution_count": 11,
     "metadata": {},
     "output_type": "execute_result"
    },
    {
     "name": "stdout",
     "output_type": "stream",
     "text": [
      "WARNING: image file 00015792_005.png already exists in /azureml-share/chestxray/data/ChestX-ray8/test_images\n"
     ]
    },
    {
     "data": {
      "text/plain": [
       "'/azureml-share/chestxray/data/ChestX-ray8/test_images/00015792_005.png'"
      ]
     },
     "execution_count": 11,
     "metadata": {},
     "output_type": "execute_result"
    },
    {
     "name": "stderr",
     "output_type": "stream",
     "text": [
      "\r",
      " 70%|██████▉   | 684/984 [00:03<00:01, 198.47it/s]"
     ]
    },
    {
     "name": "stdout",
     "output_type": "stream",
     "text": [
      "WARNING: image file 00030394_001.png already exists in /azureml-share/chestxray/data/ChestX-ray8/test_images\n"
     ]
    },
    {
     "data": {
      "text/plain": [
       "'/azureml-share/chestxray/data/ChestX-ray8/test_images/00030394_001.png'"
      ]
     },
     "execution_count": 11,
     "metadata": {},
     "output_type": "execute_result"
    },
    {
     "name": "stdout",
     "output_type": "stream",
     "text": [
      "WARNING: image file 00001555_002.png already exists in /azureml-share/chestxray/data/ChestX-ray8/test_images\n"
     ]
    },
    {
     "data": {
      "text/plain": [
       "'/azureml-share/chestxray/data/ChestX-ray8/test_images/00001555_002.png'"
      ]
     },
     "execution_count": 11,
     "metadata": {},
     "output_type": "execute_result"
    },
    {
     "name": "stdout",
     "output_type": "stream",
     "text": [
      "WARNING: image file 00028876_060.png already exists in /azureml-share/chestxray/data/ChestX-ray8/test_images\n"
     ]
    },
    {
     "data": {
      "text/plain": [
       "'/azureml-share/chestxray/data/ChestX-ray8/test_images/00028876_060.png'"
      ]
     },
     "execution_count": 11,
     "metadata": {},
     "output_type": "execute_result"
    },
    {
     "name": "stdout",
     "output_type": "stream",
     "text": [
      "WARNING: image file 00014280_000.png already exists in /azureml-share/chestxray/data/ChestX-ray8/test_images\n"
     ]
    },
    {
     "data": {
      "text/plain": [
       "'/azureml-share/chestxray/data/ChestX-ray8/test_images/00014280_000.png'"
      ]
     },
     "execution_count": 11,
     "metadata": {},
     "output_type": "execute_result"
    },
    {
     "name": "stdout",
     "output_type": "stream",
     "text": [
      "WARNING: image file 00006736_000.png already exists in /azureml-share/chestxray/data/ChestX-ray8/test_images\n"
     ]
    },
    {
     "data": {
      "text/plain": [
       "'/azureml-share/chestxray/data/ChestX-ray8/test_images/00006736_000.png'"
      ]
     },
     "execution_count": 11,
     "metadata": {},
     "output_type": "execute_result"
    },
    {
     "name": "stdout",
     "output_type": "stream",
     "text": [
      "WARNING: image file 00022977_000.png already exists in /azureml-share/chestxray/data/ChestX-ray8/test_images\n"
     ]
    },
    {
     "data": {
      "text/plain": [
       "'/azureml-share/chestxray/data/ChestX-ray8/test_images/00022977_000.png'"
      ]
     },
     "execution_count": 11,
     "metadata": {},
     "output_type": "execute_result"
    },
    {
     "name": "stdout",
     "output_type": "stream",
     "text": [
      "WARNING: image file 00018984_000.png already exists in /azureml-share/chestxray/data/ChestX-ray8/test_images\n"
     ]
    },
    {
     "data": {
      "text/plain": [
       "'/azureml-share/chestxray/data/ChestX-ray8/test_images/00018984_000.png'"
      ]
     },
     "execution_count": 11,
     "metadata": {},
     "output_type": "execute_result"
    },
    {
     "name": "stdout",
     "output_type": "stream",
     "text": [
      "WARNING: image file 00026319_000.png already exists in /azureml-share/chestxray/data/ChestX-ray8/test_images\n"
     ]
    },
    {
     "data": {
      "text/plain": [
       "'/azureml-share/chestxray/data/ChestX-ray8/test_images/00026319_000.png'"
      ]
     },
     "execution_count": 11,
     "metadata": {},
     "output_type": "execute_result"
    },
    {
     "name": "stdout",
     "output_type": "stream",
     "text": [
      "WARNING: image file 00008386_000.png already exists in /azureml-share/chestxray/data/ChestX-ray8/test_images\n"
     ]
    },
    {
     "data": {
      "text/plain": [
       "'/azureml-share/chestxray/data/ChestX-ray8/test_images/00008386_000.png'"
      ]
     },
     "execution_count": 11,
     "metadata": {},
     "output_type": "execute_result"
    },
    {
     "name": "stdout",
     "output_type": "stream",
     "text": [
      "WARNING: image file 00006751_000.png already exists in /azureml-share/chestxray/data/ChestX-ray8/test_images\n"
     ]
    },
    {
     "data": {
      "text/plain": [
       "'/azureml-share/chestxray/data/ChestX-ray8/test_images/00006751_000.png'"
      ]
     },
     "execution_count": 11,
     "metadata": {},
     "output_type": "execute_result"
    },
    {
     "name": "stdout",
     "output_type": "stream",
     "text": [
      "WARNING: image file 00001836_041.png already exists in /azureml-share/chestxray/data/ChestX-ray8/test_images\n"
     ]
    },
    {
     "data": {
      "text/plain": [
       "'/azureml-share/chestxray/data/ChestX-ray8/test_images/00001836_041.png'"
      ]
     },
     "execution_count": 11,
     "metadata": {},
     "output_type": "execute_result"
    },
    {
     "name": "stdout",
     "output_type": "stream",
     "text": [
      "WARNING: image file 00020274_021.png already exists in /azureml-share/chestxray/data/ChestX-ray8/test_images\n"
     ]
    },
    {
     "data": {
      "text/plain": [
       "'/azureml-share/chestxray/data/ChestX-ray8/test_images/00020274_021.png'"
      ]
     },
     "execution_count": 11,
     "metadata": {},
     "output_type": "execute_result"
    },
    {
     "name": "stdout",
     "output_type": "stream",
     "text": [
      "WARNING: image file 00026983_001.png already exists in /azureml-share/chestxray/data/ChestX-ray8/test_images\n"
     ]
    },
    {
     "data": {
      "text/plain": [
       "'/azureml-share/chestxray/data/ChestX-ray8/test_images/00026983_001.png'"
      ]
     },
     "execution_count": 11,
     "metadata": {},
     "output_type": "execute_result"
    },
    {
     "name": "stdout",
     "output_type": "stream",
     "text": [
      "WARNING: image file 00026132_016.png already exists in /azureml-share/chestxray/data/ChestX-ray8/test_images\n"
     ]
    },
    {
     "data": {
      "text/plain": [
       "'/azureml-share/chestxray/data/ChestX-ray8/test_images/00026132_016.png'"
      ]
     },
     "execution_count": 11,
     "metadata": {},
     "output_type": "execute_result"
    },
    {
     "name": "stdout",
     "output_type": "stream",
     "text": [
      "WARNING: image file 00013673_001.png already exists in /azureml-share/chestxray/data/ChestX-ray8/test_images\n"
     ]
    },
    {
     "data": {
      "text/plain": [
       "'/azureml-share/chestxray/data/ChestX-ray8/test_images/00013673_001.png'"
      ]
     },
     "execution_count": 11,
     "metadata": {},
     "output_type": "execute_result"
    },
    {
     "name": "stdout",
     "output_type": "stream",
     "text": [
      "WARNING: image file 00004911_018.png already exists in /azureml-share/chestxray/data/ChestX-ray8/test_images\n"
     ]
    },
    {
     "data": {
      "text/plain": [
       "'/azureml-share/chestxray/data/ChestX-ray8/test_images/00004911_018.png'"
      ]
     },
     "execution_count": 11,
     "metadata": {},
     "output_type": "execute_result"
    },
    {
     "name": "stdout",
     "output_type": "stream",
     "text": [
      "WARNING: image file 00026769_010.png already exists in /azureml-share/chestxray/data/ChestX-ray8/test_images\n"
     ]
    },
    {
     "data": {
      "text/plain": [
       "'/azureml-share/chestxray/data/ChestX-ray8/test_images/00026769_010.png'"
      ]
     },
     "execution_count": 11,
     "metadata": {},
     "output_type": "execute_result"
    },
    {
     "name": "stdout",
     "output_type": "stream",
     "text": [
      "WARNING: image file 00013051_000.png already exists in /azureml-share/chestxray/data/ChestX-ray8/test_images\n"
     ]
    },
    {
     "data": {
      "text/plain": [
       "'/azureml-share/chestxray/data/ChestX-ray8/test_images/00013051_000.png'"
      ]
     },
     "execution_count": 11,
     "metadata": {},
     "output_type": "execute_result"
    },
    {
     "name": "stdout",
     "output_type": "stream",
     "text": [
      "WARNING: image file 00020332_000.png already exists in /azureml-share/chestxray/data/ChestX-ray8/test_images\n"
     ]
    },
    {
     "data": {
      "text/plain": [
       "'/azureml-share/chestxray/data/ChestX-ray8/test_images/00020332_000.png'"
      ]
     },
     "execution_count": 11,
     "metadata": {},
     "output_type": "execute_result"
    },
    {
     "name": "stdout",
     "output_type": "stream",
     "text": [
      "WARNING: image file 00017243_010.png already exists in /azureml-share/chestxray/data/ChestX-ray8/test_images\n"
     ]
    },
    {
     "data": {
      "text/plain": [
       "'/azureml-share/chestxray/data/ChestX-ray8/test_images/00017243_010.png'"
      ]
     },
     "execution_count": 11,
     "metadata": {},
     "output_type": "execute_result"
    },
    {
     "name": "stdout",
     "output_type": "stream",
     "text": [
      "WARNING: image file 00025662_006.png already exists in /azureml-share/chestxray/data/ChestX-ray8/test_images\n"
     ]
    },
    {
     "data": {
      "text/plain": [
       "'/azureml-share/chestxray/data/ChestX-ray8/test_images/00025662_006.png'"
      ]
     },
     "execution_count": 11,
     "metadata": {},
     "output_type": "execute_result"
    },
    {
     "name": "stderr",
     "output_type": "stream",
     "text": [
      "\r",
      " 72%|███████▏  | 705/984 [00:03<00:01, 175.40it/s]"
     ]
    },
    {
     "name": "stdout",
     "output_type": "stream",
     "text": [
      "WARNING: image file 00027470_006.png already exists in /azureml-share/chestxray/data/ChestX-ray8/test_images\n"
     ]
    },
    {
     "data": {
      "text/plain": [
       "'/azureml-share/chestxray/data/ChestX-ray8/test_images/00027470_006.png'"
      ]
     },
     "execution_count": 11,
     "metadata": {},
     "output_type": "execute_result"
    },
    {
     "name": "stdout",
     "output_type": "stream",
     "text": [
      "WARNING: image file 00019013_002.png already exists in /azureml-share/chestxray/data/ChestX-ray8/test_images\n"
     ]
    },
    {
     "data": {
      "text/plain": [
       "'/azureml-share/chestxray/data/ChestX-ray8/test_images/00019013_002.png'"
      ]
     },
     "execution_count": 11,
     "metadata": {},
     "output_type": "execute_result"
    },
    {
     "name": "stdout",
     "output_type": "stream",
     "text": [
      "WARNING: image file 00015141_002.png already exists in /azureml-share/chestxray/data/ChestX-ray8/test_images\n"
     ]
    },
    {
     "data": {
      "text/plain": [
       "'/azureml-share/chestxray/data/ChestX-ray8/test_images/00015141_002.png'"
      ]
     },
     "execution_count": 11,
     "metadata": {},
     "output_type": "execute_result"
    },
    {
     "name": "stdout",
     "output_type": "stream",
     "text": [
      "WARNING: image file 00026398_000.png already exists in /azureml-share/chestxray/data/ChestX-ray8/test_images\n"
     ]
    },
    {
     "data": {
      "text/plain": [
       "'/azureml-share/chestxray/data/ChestX-ray8/test_images/00026398_000.png'"
      ]
     },
     "execution_count": 11,
     "metadata": {},
     "output_type": "execute_result"
    },
    {
     "name": "stdout",
     "output_type": "stream",
     "text": [
      "WARNING: image file 00021374_000.png already exists in /azureml-share/chestxray/data/ChestX-ray8/test_images\n"
     ]
    },
    {
     "data": {
      "text/plain": [
       "'/azureml-share/chestxray/data/ChestX-ray8/test_images/00021374_000.png'"
      ]
     },
     "execution_count": 11,
     "metadata": {},
     "output_type": "execute_result"
    },
    {
     "name": "stdout",
     "output_type": "stream",
     "text": [
      "WARNING: image file 00017199_005.png already exists in /azureml-share/chestxray/data/ChestX-ray8/test_images\n"
     ]
    },
    {
     "data": {
      "text/plain": [
       "'/azureml-share/chestxray/data/ChestX-ray8/test_images/00017199_005.png'"
      ]
     },
     "execution_count": 11,
     "metadata": {},
     "output_type": "execute_result"
    },
    {
     "name": "stdout",
     "output_type": "stream",
     "text": [
      "WARNING: image file 00015583_000.png already exists in /azureml-share/chestxray/data/ChestX-ray8/test_images\n"
     ]
    },
    {
     "data": {
      "text/plain": [
       "'/azureml-share/chestxray/data/ChestX-ray8/test_images/00015583_000.png'"
      ]
     },
     "execution_count": 11,
     "metadata": {},
     "output_type": "execute_result"
    },
    {
     "name": "stdout",
     "output_type": "stream",
     "text": [
      "WARNING: image file 00017098_003.png already exists in /azureml-share/chestxray/data/ChestX-ray8/test_images\n"
     ]
    },
    {
     "data": {
      "text/plain": [
       "'/azureml-share/chestxray/data/ChestX-ray8/test_images/00017098_003.png'"
      ]
     },
     "execution_count": 11,
     "metadata": {},
     "output_type": "execute_result"
    },
    {
     "name": "stdout",
     "output_type": "stream",
     "text": [
      "WARNING: image file 00019177_000.png already exists in /azureml-share/chestxray/data/ChestX-ray8/test_images\n"
     ]
    },
    {
     "data": {
      "text/plain": [
       "'/azureml-share/chestxray/data/ChestX-ray8/test_images/00019177_000.png'"
      ]
     },
     "execution_count": 11,
     "metadata": {},
     "output_type": "execute_result"
    },
    {
     "name": "stdout",
     "output_type": "stream",
     "text": [
      "WARNING: image file 00030162_029.png already exists in /azureml-share/chestxray/data/ChestX-ray8/test_images\n"
     ]
    },
    {
     "data": {
      "text/plain": [
       "'/azureml-share/chestxray/data/ChestX-ray8/test_images/00030162_029.png'"
      ]
     },
     "execution_count": 11,
     "metadata": {},
     "output_type": "execute_result"
    },
    {
     "name": "stdout",
     "output_type": "stream",
     "text": [
      "WARNING: image file 00026285_000.png already exists in /azureml-share/chestxray/data/ChestX-ray8/test_images\n"
     ]
    },
    {
     "data": {
      "text/plain": [
       "'/azureml-share/chestxray/data/ChestX-ray8/test_images/00026285_000.png'"
      ]
     },
     "execution_count": 11,
     "metadata": {},
     "output_type": "execute_result"
    },
    {
     "name": "stdout",
     "output_type": "stream",
     "text": [
      "WARNING: image file 00002578_000.png already exists in /azureml-share/chestxray/data/ChestX-ray8/test_images\n"
     ]
    },
    {
     "data": {
      "text/plain": [
       "'/azureml-share/chestxray/data/ChestX-ray8/test_images/00002578_000.png'"
      ]
     },
     "execution_count": 11,
     "metadata": {},
     "output_type": "execute_result"
    },
    {
     "name": "stdout",
     "output_type": "stream",
     "text": [
      "WARNING: image file 00013951_001.png already exists in /azureml-share/chestxray/data/ChestX-ray8/test_images\n"
     ]
    },
    {
     "data": {
      "text/plain": [
       "'/azureml-share/chestxray/data/ChestX-ray8/test_images/00013951_001.png'"
      ]
     },
     "execution_count": 11,
     "metadata": {},
     "output_type": "execute_result"
    },
    {
     "name": "stdout",
     "output_type": "stream",
     "text": [
      "WARNING: image file 00020393_001.png already exists in /azureml-share/chestxray/data/ChestX-ray8/test_images\n"
     ]
    },
    {
     "data": {
      "text/plain": [
       "'/azureml-share/chestxray/data/ChestX-ray8/test_images/00020393_001.png'"
      ]
     },
     "execution_count": 11,
     "metadata": {},
     "output_type": "execute_result"
    },
    {
     "name": "stdout",
     "output_type": "stream",
     "text": [
      "WARNING: image file 00015018_004.png already exists in /azureml-share/chestxray/data/ChestX-ray8/test_images\n"
     ]
    },
    {
     "data": {
      "text/plain": [
       "'/azureml-share/chestxray/data/ChestX-ray8/test_images/00015018_004.png'"
      ]
     },
     "execution_count": 11,
     "metadata": {},
     "output_type": "execute_result"
    },
    {
     "name": "stdout",
     "output_type": "stream",
     "text": [
      "WARNING: image file 00011832_002.png already exists in /azureml-share/chestxray/data/ChestX-ray8/test_images\n"
     ]
    },
    {
     "data": {
      "text/plain": [
       "'/azureml-share/chestxray/data/ChestX-ray8/test_images/00011832_002.png'"
      ]
     },
     "execution_count": 11,
     "metadata": {},
     "output_type": "execute_result"
    },
    {
     "name": "stdout",
     "output_type": "stream",
     "text": [
      "WARNING: image file 00021420_014.png already exists in /azureml-share/chestxray/data/ChestX-ray8/test_images\n"
     ]
    },
    {
     "data": {
      "text/plain": [
       "'/azureml-share/chestxray/data/ChestX-ray8/test_images/00021420_014.png'"
      ]
     },
     "execution_count": 11,
     "metadata": {},
     "output_type": "execute_result"
    },
    {
     "name": "stdout",
     "output_type": "stream",
     "text": [
      "WARNING: image file 00017346_000.png already exists in /azureml-share/chestxray/data/ChestX-ray8/test_images\n"
     ]
    },
    {
     "data": {
      "text/plain": [
       "'/azureml-share/chestxray/data/ChestX-ray8/test_images/00017346_000.png'"
      ]
     },
     "execution_count": 11,
     "metadata": {},
     "output_type": "execute_result"
    },
    {
     "name": "stdout",
     "output_type": "stream",
     "text": [
      "WARNING: image file 00010959_010.png already exists in /azureml-share/chestxray/data/ChestX-ray8/test_images\n"
     ]
    },
    {
     "data": {
      "text/plain": [
       "'/azureml-share/chestxray/data/ChestX-ray8/test_images/00010959_010.png'"
      ]
     },
     "execution_count": 11,
     "metadata": {},
     "output_type": "execute_result"
    },
    {
     "name": "stderr",
     "output_type": "stream",
     "text": [
      "\r",
      " 74%|███████▎  | 724/984 [00:03<00:01, 164.94it/s]"
     ]
    },
    {
     "name": "stdout",
     "output_type": "stream",
     "text": [
      "WARNING: image file 00013885_000.png already exists in /azureml-share/chestxray/data/ChestX-ray8/test_images\n"
     ]
    },
    {
     "data": {
      "text/plain": [
       "'/azureml-share/chestxray/data/ChestX-ray8/test_images/00013885_000.png'"
      ]
     },
     "execution_count": 11,
     "metadata": {},
     "output_type": "execute_result"
    },
    {
     "name": "stdout",
     "output_type": "stream",
     "text": [
      "WARNING: image file 00020774_000.png already exists in /azureml-share/chestxray/data/ChestX-ray8/test_images\n"
     ]
    },
    {
     "data": {
      "text/plain": [
       "'/azureml-share/chestxray/data/ChestX-ray8/test_images/00020774_000.png'"
      ]
     },
     "execution_count": 11,
     "metadata": {},
     "output_type": "execute_result"
    },
    {
     "name": "stdout",
     "output_type": "stream",
     "text": [
      "WARNING: image file 00028876_035.png already exists in /azureml-share/chestxray/data/ChestX-ray8/test_images\n"
     ]
    },
    {
     "data": {
      "text/plain": [
       "'/azureml-share/chestxray/data/ChestX-ray8/test_images/00028876_035.png'"
      ]
     },
     "execution_count": 11,
     "metadata": {},
     "output_type": "execute_result"
    },
    {
     "name": "stdout",
     "output_type": "stream",
     "text": [
      "WARNING: image file 00017028_000.png already exists in /azureml-share/chestxray/data/ChestX-ray8/test_images\n"
     ]
    },
    {
     "data": {
      "text/plain": [
       "'/azureml-share/chestxray/data/ChestX-ray8/test_images/00017028_000.png'"
      ]
     },
     "execution_count": 11,
     "metadata": {},
     "output_type": "execute_result"
    },
    {
     "name": "stdout",
     "output_type": "stream",
     "text": [
      "WARNING: image file 00009403_006.png already exists in /azureml-share/chestxray/data/ChestX-ray8/test_images\n"
     ]
    },
    {
     "data": {
      "text/plain": [
       "'/azureml-share/chestxray/data/ChestX-ray8/test_images/00009403_006.png'"
      ]
     },
     "execution_count": 11,
     "metadata": {},
     "output_type": "execute_result"
    },
    {
     "name": "stdout",
     "output_type": "stream",
     "text": [
      "WARNING: image file 00021772_016.png already exists in /azureml-share/chestxray/data/ChestX-ray8/test_images\n"
     ]
    },
    {
     "data": {
      "text/plain": [
       "'/azureml-share/chestxray/data/ChestX-ray8/test_images/00021772_016.png'"
      ]
     },
     "execution_count": 11,
     "metadata": {},
     "output_type": "execute_result"
    },
    {
     "name": "stdout",
     "output_type": "stream",
     "text": [
      "WARNING: image file 00019124_090.png already exists in /azureml-share/chestxray/data/ChestX-ray8/test_images\n"
     ]
    },
    {
     "data": {
      "text/plain": [
       "'/azureml-share/chestxray/data/ChestX-ray8/test_images/00019124_090.png'"
      ]
     },
     "execution_count": 11,
     "metadata": {},
     "output_type": "execute_result"
    },
    {
     "name": "stdout",
     "output_type": "stream",
     "text": [
      "WARNING: image file 00016587_069.png already exists in /azureml-share/chestxray/data/ChestX-ray8/test_images\n"
     ]
    },
    {
     "data": {
      "text/plain": [
       "'/azureml-share/chestxray/data/ChestX-ray8/test_images/00016587_069.png'"
      ]
     },
     "execution_count": 11,
     "metadata": {},
     "output_type": "execute_result"
    },
    {
     "name": "stdout",
     "output_type": "stream",
     "text": [
      "WARNING: image file 00009403_002.png already exists in /azureml-share/chestxray/data/ChestX-ray8/test_images\n"
     ]
    },
    {
     "data": {
      "text/plain": [
       "'/azureml-share/chestxray/data/ChestX-ray8/test_images/00009403_002.png'"
      ]
     },
     "execution_count": 11,
     "metadata": {},
     "output_type": "execute_result"
    },
    {
     "name": "stdout",
     "output_type": "stream",
     "text": [
      "WARNING: image file 00012415_002.png already exists in /azureml-share/chestxray/data/ChestX-ray8/test_images\n"
     ]
    },
    {
     "data": {
      "text/plain": [
       "'/azureml-share/chestxray/data/ChestX-ray8/test_images/00012415_002.png'"
      ]
     },
     "execution_count": 11,
     "metadata": {},
     "output_type": "execute_result"
    },
    {
     "name": "stdout",
     "output_type": "stream",
     "text": [
      "WARNING: image file 00011450_000.png already exists in /azureml-share/chestxray/data/ChestX-ray8/test_images\n"
     ]
    },
    {
     "data": {
      "text/plain": [
       "'/azureml-share/chestxray/data/ChestX-ray8/test_images/00011450_000.png'"
      ]
     },
     "execution_count": 11,
     "metadata": {},
     "output_type": "execute_result"
    },
    {
     "name": "stdout",
     "output_type": "stream",
     "text": [
      "WARNING: image file 00018814_000.png already exists in /azureml-share/chestxray/data/ChestX-ray8/test_images\n"
     ]
    },
    {
     "data": {
      "text/plain": [
       "'/azureml-share/chestxray/data/ChestX-ray8/test_images/00018814_000.png'"
      ]
     },
     "execution_count": 11,
     "metadata": {},
     "output_type": "execute_result"
    },
    {
     "name": "stdout",
     "output_type": "stream",
     "text": [
      "WARNING: image file 00026911_005.png already exists in /azureml-share/chestxray/data/ChestX-ray8/test_images\n"
     ]
    },
    {
     "data": {
      "text/plain": [
       "'/azureml-share/chestxray/data/ChestX-ray8/test_images/00026911_005.png'"
      ]
     },
     "execution_count": 11,
     "metadata": {},
     "output_type": "execute_result"
    },
    {
     "name": "stdout",
     "output_type": "stream",
     "text": [
      "WARNING: image file 00025707_015.png already exists in /azureml-share/chestxray/data/ChestX-ray8/test_images\n"
     ]
    },
    {
     "data": {
      "text/plain": [
       "'/azureml-share/chestxray/data/ChestX-ray8/test_images/00025707_015.png'"
      ]
     },
     "execution_count": 11,
     "metadata": {},
     "output_type": "execute_result"
    },
    {
     "name": "stdout",
     "output_type": "stream",
     "text": [
      "WARNING: image file 00012045_019.png already exists in /azureml-share/chestxray/data/ChestX-ray8/test_images\n"
     ]
    },
    {
     "data": {
      "text/plain": [
       "'/azureml-share/chestxray/data/ChestX-ray8/test_images/00012045_019.png'"
      ]
     },
     "execution_count": 11,
     "metadata": {},
     "output_type": "execute_result"
    },
    {
     "name": "stdout",
     "output_type": "stream",
     "text": [
      "WARNING: image file 00002290_001.png already exists in /azureml-share/chestxray/data/ChestX-ray8/test_images\n"
     ]
    },
    {
     "data": {
      "text/plain": [
       "'/azureml-share/chestxray/data/ChestX-ray8/test_images/00002290_001.png'"
      ]
     },
     "execution_count": 11,
     "metadata": {},
     "output_type": "execute_result"
    },
    {
     "name": "stdout",
     "output_type": "stream",
     "text": [
      "WARNING: image file 00012592_005.png already exists in /azureml-share/chestxray/data/ChestX-ray8/test_images\n"
     ]
    },
    {
     "data": {
      "text/plain": [
       "'/azureml-share/chestxray/data/ChestX-ray8/test_images/00012592_005.png'"
      ]
     },
     "execution_count": 11,
     "metadata": {},
     "output_type": "execute_result"
    },
    {
     "name": "stdout",
     "output_type": "stream",
     "text": [
      "WARNING: image file 00027937_004.png already exists in /azureml-share/chestxray/data/ChestX-ray8/test_images\n"
     ]
    },
    {
     "data": {
      "text/plain": [
       "'/azureml-share/chestxray/data/ChestX-ray8/test_images/00027937_004.png'"
      ]
     },
     "execution_count": 11,
     "metadata": {},
     "output_type": "execute_result"
    },
    {
     "name": "stderr",
     "output_type": "stream",
     "text": [
      "\r",
      " 75%|███████▌  | 742/984 [00:03<00:01, 169.08it/s]"
     ]
    },
    {
     "name": "stdout",
     "output_type": "stream",
     "text": [
      "WARNING: image file 00013674_000.png already exists in /azureml-share/chestxray/data/ChestX-ray8/test_images\n"
     ]
    },
    {
     "data": {
      "text/plain": [
       "'/azureml-share/chestxray/data/ChestX-ray8/test_images/00013674_000.png'"
      ]
     },
     "execution_count": 11,
     "metadata": {},
     "output_type": "execute_result"
    },
    {
     "name": "stdout",
     "output_type": "stream",
     "text": [
      "WARNING: image file 00013751_003.png already exists in /azureml-share/chestxray/data/ChestX-ray8/test_images\n"
     ]
    },
    {
     "data": {
      "text/plain": [
       "'/azureml-share/chestxray/data/ChestX-ray8/test_images/00013751_003.png'"
      ]
     },
     "execution_count": 11,
     "metadata": {},
     "output_type": "execute_result"
    },
    {
     "name": "stdout",
     "output_type": "stream",
     "text": [
      "WARNING: image file 00010103_014.png already exists in /azureml-share/chestxray/data/ChestX-ray8/test_images\n"
     ]
    },
    {
     "data": {
      "text/plain": [
       "'/azureml-share/chestxray/data/ChestX-ray8/test_images/00010103_014.png'"
      ]
     },
     "execution_count": 11,
     "metadata": {},
     "output_type": "execute_result"
    },
    {
     "name": "stdout",
     "output_type": "stream",
     "text": [
      "WARNING: image file 00011576_000.png already exists in /azureml-share/chestxray/data/ChestX-ray8/test_images\n"
     ]
    },
    {
     "data": {
      "text/plain": [
       "'/azureml-share/chestxray/data/ChestX-ray8/test_images/00011576_000.png'"
      ]
     },
     "execution_count": 11,
     "metadata": {},
     "output_type": "execute_result"
    },
    {
     "name": "stdout",
     "output_type": "stream",
     "text": [
      "WARNING: image file 00030413_003.png already exists in /azureml-share/chestxray/data/ChestX-ray8/test_images\n"
     ]
    },
    {
     "data": {
      "text/plain": [
       "'/azureml-share/chestxray/data/ChestX-ray8/test_images/00030413_003.png'"
      ]
     },
     "execution_count": 11,
     "metadata": {},
     "output_type": "execute_result"
    },
    {
     "name": "stdout",
     "output_type": "stream",
     "text": [
      "WARNING: image file 00011136_002.png already exists in /azureml-share/chestxray/data/ChestX-ray8/test_images\n"
     ]
    },
    {
     "data": {
      "text/plain": [
       "'/azureml-share/chestxray/data/ChestX-ray8/test_images/00011136_002.png'"
      ]
     },
     "execution_count": 11,
     "metadata": {},
     "output_type": "execute_result"
    },
    {
     "name": "stdout",
     "output_type": "stream",
     "text": [
      "WARNING: image file 00020259_002.png already exists in /azureml-share/chestxray/data/ChestX-ray8/test_images\n"
     ]
    },
    {
     "data": {
      "text/plain": [
       "'/azureml-share/chestxray/data/ChestX-ray8/test_images/00020259_002.png'"
      ]
     },
     "execution_count": 11,
     "metadata": {},
     "output_type": "execute_result"
    },
    {
     "name": "stdout",
     "output_type": "stream",
     "text": [
      "WARNING: image file 00012021_081.png already exists in /azureml-share/chestxray/data/ChestX-ray8/test_images\n"
     ]
    },
    {
     "data": {
      "text/plain": [
       "'/azureml-share/chestxray/data/ChestX-ray8/test_images/00012021_081.png'"
      ]
     },
     "execution_count": 11,
     "metadata": {},
     "output_type": "execute_result"
    },
    {
     "name": "stdout",
     "output_type": "stream",
     "text": [
      "WARNING: image file 00013993_077.png already exists in /azureml-share/chestxray/data/ChestX-ray8/test_images\n"
     ]
    },
    {
     "data": {
      "text/plain": [
       "'/azureml-share/chestxray/data/ChestX-ray8/test_images/00013993_077.png'"
      ]
     },
     "execution_count": 11,
     "metadata": {},
     "output_type": "execute_result"
    },
    {
     "name": "stdout",
     "output_type": "stream",
     "text": [
      "WARNING: image file 00013659_019.png already exists in /azureml-share/chestxray/data/ChestX-ray8/test_images\n"
     ]
    },
    {
     "data": {
      "text/plain": [
       "'/azureml-share/chestxray/data/ChestX-ray8/test_images/00013659_019.png'"
      ]
     },
     "execution_count": 11,
     "metadata": {},
     "output_type": "execute_result"
    },
    {
     "name": "stdout",
     "output_type": "stream",
     "text": [
      "WARNING: image file 00010277_000.png already exists in /azureml-share/chestxray/data/ChestX-ray8/test_images\n"
     ]
    },
    {
     "data": {
      "text/plain": [
       "'/azureml-share/chestxray/data/ChestX-ray8/test_images/00010277_000.png'"
      ]
     },
     "execution_count": 11,
     "metadata": {},
     "output_type": "execute_result"
    },
    {
     "name": "stdout",
     "output_type": "stream",
     "text": [
      "WARNING: image file 00022290_015.png already exists in /azureml-share/chestxray/data/ChestX-ray8/test_images\n"
     ]
    },
    {
     "data": {
      "text/plain": [
       "'/azureml-share/chestxray/data/ChestX-ray8/test_images/00022290_015.png'"
      ]
     },
     "execution_count": 11,
     "metadata": {},
     "output_type": "execute_result"
    },
    {
     "name": "stdout",
     "output_type": "stream",
     "text": [
      "WARNING: image file 00028208_005.png already exists in /azureml-share/chestxray/data/ChestX-ray8/test_images\n"
     ]
    },
    {
     "data": {
      "text/plain": [
       "'/azureml-share/chestxray/data/ChestX-ray8/test_images/00028208_005.png'"
      ]
     },
     "execution_count": 11,
     "metadata": {},
     "output_type": "execute_result"
    },
    {
     "name": "stdout",
     "output_type": "stream",
     "text": [
      "WARNING: image file 00018393_000.png already exists in /azureml-share/chestxray/data/ChestX-ray8/test_images\n"
     ]
    },
    {
     "data": {
      "text/plain": [
       "'/azureml-share/chestxray/data/ChestX-ray8/test_images/00018393_000.png'"
      ]
     },
     "execution_count": 11,
     "metadata": {},
     "output_type": "execute_result"
    },
    {
     "name": "stdout",
     "output_type": "stream",
     "text": [
      "WARNING: image file 00017710_009.png already exists in /azureml-share/chestxray/data/ChestX-ray8/test_images\n"
     ]
    },
    {
     "data": {
      "text/plain": [
       "'/azureml-share/chestxray/data/ChestX-ray8/test_images/00017710_009.png'"
      ]
     },
     "execution_count": 11,
     "metadata": {},
     "output_type": "execute_result"
    },
    {
     "name": "stdout",
     "output_type": "stream",
     "text": [
      "WARNING: image file 00003894_005.png already exists in /azureml-share/chestxray/data/ChestX-ray8/test_images\n"
     ]
    },
    {
     "data": {
      "text/plain": [
       "'/azureml-share/chestxray/data/ChestX-ray8/test_images/00003894_005.png'"
      ]
     },
     "execution_count": 11,
     "metadata": {},
     "output_type": "execute_result"
    },
    {
     "name": "stdout",
     "output_type": "stream",
     "text": [
      "WARNING: image file 00026196_001.png already exists in /azureml-share/chestxray/data/ChestX-ray8/test_images\n"
     ]
    },
    {
     "data": {
      "text/plain": [
       "'/azureml-share/chestxray/data/ChestX-ray8/test_images/00026196_001.png'"
      ]
     },
     "execution_count": 11,
     "metadata": {},
     "output_type": "execute_result"
    },
    {
     "name": "stdout",
     "output_type": "stream",
     "text": [
      "WARNING: image file 00029861_013.png already exists in /azureml-share/chestxray/data/ChestX-ray8/test_images\n"
     ]
    },
    {
     "data": {
      "text/plain": [
       "'/azureml-share/chestxray/data/ChestX-ray8/test_images/00029861_013.png'"
      ]
     },
     "execution_count": 11,
     "metadata": {},
     "output_type": "execute_result"
    },
    {
     "name": "stdout",
     "output_type": "stream",
     "text": [
      "WARNING: image file 00021670_004.png already exists in /azureml-share/chestxray/data/ChestX-ray8/test_images\n"
     ]
    },
    {
     "data": {
      "text/plain": [
       "'/azureml-share/chestxray/data/ChestX-ray8/test_images/00021670_004.png'"
      ]
     },
     "execution_count": 11,
     "metadata": {},
     "output_type": "execute_result"
    },
    {
     "name": "stdout",
     "output_type": "stream",
     "text": [
      "WARNING: image file 00011366_002.png already exists in /azureml-share/chestxray/data/ChestX-ray8/test_images\n"
     ]
    },
    {
     "data": {
      "text/plain": [
       "'/azureml-share/chestxray/data/ChestX-ray8/test_images/00011366_002.png'"
      ]
     },
     "execution_count": 11,
     "metadata": {},
     "output_type": "execute_result"
    },
    {
     "name": "stdout",
     "output_type": "stream",
     "text": [
      "WARNING: image file 00029431_000.png already exists in /azureml-share/chestxray/data/ChestX-ray8/test_images\n"
     ]
    },
    {
     "data": {
      "text/plain": [
       "'/azureml-share/chestxray/data/ChestX-ray8/test_images/00029431_000.png'"
      ]
     },
     "execution_count": 11,
     "metadata": {},
     "output_type": "execute_result"
    },
    {
     "name": "stdout",
     "output_type": "stream",
     "text": [
      "WARNING: image file 00011514_015.png already exists in /azureml-share/chestxray/data/ChestX-ray8/test_images\n"
     ]
    },
    {
     "data": {
      "text/plain": [
       "'/azureml-share/chestxray/data/ChestX-ray8/test_images/00011514_015.png'"
      ]
     },
     "execution_count": 11,
     "metadata": {},
     "output_type": "execute_result"
    },
    {
     "name": "stderr",
     "output_type": "stream",
     "text": [
      "\r",
      " 78%|███████▊  | 764/984 [00:03<00:01, 180.28it/s]"
     ]
    },
    {
     "name": "stdout",
     "output_type": "stream",
     "text": [
      "WARNING: image file 00015090_006.png already exists in /azureml-share/chestxray/data/ChestX-ray8/test_images\n"
     ]
    },
    {
     "data": {
      "text/plain": [
       "'/azureml-share/chestxray/data/ChestX-ray8/test_images/00015090_006.png'"
      ]
     },
     "execution_count": 11,
     "metadata": {},
     "output_type": "execute_result"
    },
    {
     "name": "stdout",
     "output_type": "stream",
     "text": [
      "WARNING: image file 00010120_010.png already exists in /azureml-share/chestxray/data/ChestX-ray8/test_images\n"
     ]
    },
    {
     "data": {
      "text/plain": [
       "'/azureml-share/chestxray/data/ChestX-ray8/test_images/00010120_010.png'"
      ]
     },
     "execution_count": 11,
     "metadata": {},
     "output_type": "execute_result"
    },
    {
     "name": "stdout",
     "output_type": "stream",
     "text": [
      "WARNING: image file 00013625_069.png already exists in /azureml-share/chestxray/data/ChestX-ray8/test_images\n"
     ]
    },
    {
     "data": {
      "text/plain": [
       "'/azureml-share/chestxray/data/ChestX-ray8/test_images/00013625_069.png'"
      ]
     },
     "execution_count": 11,
     "metadata": {},
     "output_type": "execute_result"
    },
    {
     "name": "stdout",
     "output_type": "stream",
     "text": [
      "WARNING: image file 00015069_001.png already exists in /azureml-share/chestxray/data/ChestX-ray8/test_images\n"
     ]
    },
    {
     "data": {
      "text/plain": [
       "'/azureml-share/chestxray/data/ChestX-ray8/test_images/00015069_001.png'"
      ]
     },
     "execution_count": 11,
     "metadata": {},
     "output_type": "execute_result"
    },
    {
     "name": "stdout",
     "output_type": "stream",
     "text": [
      "WARNING: image file 00013391_005.png already exists in /azureml-share/chestxray/data/ChestX-ray8/test_images\n"
     ]
    },
    {
     "data": {
      "text/plain": [
       "'/azureml-share/chestxray/data/ChestX-ray8/test_images/00013391_005.png'"
      ]
     },
     "execution_count": 11,
     "metadata": {},
     "output_type": "execute_result"
    },
    {
     "name": "stdout",
     "output_type": "stream",
     "text": [
      "WARNING: image file 00005869_001.png already exists in /azureml-share/chestxray/data/ChestX-ray8/test_images\n"
     ]
    },
    {
     "data": {
      "text/plain": [
       "'/azureml-share/chestxray/data/ChestX-ray8/test_images/00005869_001.png'"
      ]
     },
     "execution_count": 11,
     "metadata": {},
     "output_type": "execute_result"
    },
    {
     "name": "stdout",
     "output_type": "stream",
     "text": [
      "WARNING: image file 00029808_003.png already exists in /azureml-share/chestxray/data/ChestX-ray8/test_images\n"
     ]
    },
    {
     "data": {
      "text/plain": [
       "'/azureml-share/chestxray/data/ChestX-ray8/test_images/00029808_003.png'"
      ]
     },
     "execution_count": 11,
     "metadata": {},
     "output_type": "execute_result"
    },
    {
     "name": "stdout",
     "output_type": "stream",
     "text": [
      "WARNING: image file 00000193_019.png already exists in /azureml-share/chestxray/data/ChestX-ray8/test_images\n"
     ]
    },
    {
     "data": {
      "text/plain": [
       "'/azureml-share/chestxray/data/ChestX-ray8/test_images/00000193_019.png'"
      ]
     },
     "execution_count": 11,
     "metadata": {},
     "output_type": "execute_result"
    },
    {
     "name": "stdout",
     "output_type": "stream",
     "text": [
      "WARNING: image file 00016705_006.png already exists in /azureml-share/chestxray/data/ChestX-ray8/test_images\n"
     ]
    },
    {
     "data": {
      "text/plain": [
       "'/azureml-share/chestxray/data/ChestX-ray8/test_images/00016705_006.png'"
      ]
     },
     "execution_count": 11,
     "metadata": {},
     "output_type": "execute_result"
    },
    {
     "name": "stdout",
     "output_type": "stream",
     "text": [
      "WARNING: image file 00016732_027.png already exists in /azureml-share/chestxray/data/ChestX-ray8/test_images\n"
     ]
    },
    {
     "data": {
      "text/plain": [
       "'/azureml-share/chestxray/data/ChestX-ray8/test_images/00016732_027.png'"
      ]
     },
     "execution_count": 11,
     "metadata": {},
     "output_type": "execute_result"
    },
    {
     "name": "stdout",
     "output_type": "stream",
     "text": [
      "WARNING: image file 00028285_014.png already exists in /azureml-share/chestxray/data/ChestX-ray8/test_images\n"
     ]
    },
    {
     "data": {
      "text/plain": [
       "'/azureml-share/chestxray/data/ChestX-ray8/test_images/00028285_014.png'"
      ]
     },
     "execution_count": 11,
     "metadata": {},
     "output_type": "execute_result"
    },
    {
     "name": "stdout",
     "output_type": "stream",
     "text": [
      "WARNING: image file 00012045_005.png already exists in /azureml-share/chestxray/data/ChestX-ray8/test_images\n"
     ]
    },
    {
     "data": {
      "text/plain": [
       "'/azureml-share/chestxray/data/ChestX-ray8/test_images/00012045_005.png'"
      ]
     },
     "execution_count": 11,
     "metadata": {},
     "output_type": "execute_result"
    },
    {
     "name": "stdout",
     "output_type": "stream",
     "text": [
      "WARNING: image file 00000506_013.png already exists in /azureml-share/chestxray/data/ChestX-ray8/test_images\n"
     ]
    },
    {
     "data": {
      "text/plain": [
       "'/azureml-share/chestxray/data/ChestX-ray8/test_images/00000506_013.png'"
      ]
     },
     "execution_count": 11,
     "metadata": {},
     "output_type": "execute_result"
    },
    {
     "name": "stdout",
     "output_type": "stream",
     "text": [
      "WARNING: image file 00003064_035.png already exists in /azureml-share/chestxray/data/ChestX-ray8/test_images\n"
     ]
    },
    {
     "data": {
      "text/plain": [
       "'/azureml-share/chestxray/data/ChestX-ray8/test_images/00003064_035.png'"
      ]
     },
     "execution_count": 11,
     "metadata": {},
     "output_type": "execute_result"
    },
    {
     "name": "stdout",
     "output_type": "stream",
     "text": [
      "WARNING: image file 00018032_000.png already exists in /azureml-share/chestxray/data/ChestX-ray8/test_images\n"
     ]
    },
    {
     "data": {
      "text/plain": [
       "'/azureml-share/chestxray/data/ChestX-ray8/test_images/00018032_000.png'"
      ]
     },
     "execution_count": 11,
     "metadata": {},
     "output_type": "execute_result"
    },
    {
     "name": "stdout",
     "output_type": "stream",
     "text": [
      "WARNING: image file 00005532_022.png already exists in /azureml-share/chestxray/data/ChestX-ray8/test_images\n"
     ]
    },
    {
     "data": {
      "text/plain": [
       "'/azureml-share/chestxray/data/ChestX-ray8/test_images/00005532_022.png'"
      ]
     },
     "execution_count": 11,
     "metadata": {},
     "output_type": "execute_result"
    },
    {
     "name": "stdout",
     "output_type": "stream",
     "text": [
      "WARNING: image file 00023283_005.png already exists in /azureml-share/chestxray/data/ChestX-ray8/test_images\n"
     ]
    },
    {
     "data": {
      "text/plain": [
       "'/azureml-share/chestxray/data/ChestX-ray8/test_images/00023283_005.png'"
      ]
     },
     "execution_count": 11,
     "metadata": {},
     "output_type": "execute_result"
    },
    {
     "name": "stdout",
     "output_type": "stream",
     "text": [
      "WARNING: image file 00008291_011.png already exists in /azureml-share/chestxray/data/ChestX-ray8/test_images\n"
     ]
    },
    {
     "data": {
      "text/plain": [
       "'/azureml-share/chestxray/data/ChestX-ray8/test_images/00008291_011.png'"
      ]
     },
     "execution_count": 11,
     "metadata": {},
     "output_type": "execute_result"
    },
    {
     "name": "stdout",
     "output_type": "stream",
     "text": [
      "WARNING: image file 00022084_000.png already exists in /azureml-share/chestxray/data/ChestX-ray8/test_images\n"
     ]
    },
    {
     "data": {
      "text/plain": [
       "'/azureml-share/chestxray/data/ChestX-ray8/test_images/00022084_000.png'"
      ]
     },
     "execution_count": 11,
     "metadata": {},
     "output_type": "execute_result"
    },
    {
     "name": "stdout",
     "output_type": "stream",
     "text": [
      "WARNING: image file 00016291_020.png already exists in /azureml-share/chestxray/data/ChestX-ray8/test_images\n"
     ]
    },
    {
     "data": {
      "text/plain": [
       "'/azureml-share/chestxray/data/ChestX-ray8/test_images/00016291_020.png'"
      ]
     },
     "execution_count": 11,
     "metadata": {},
     "output_type": "execute_result"
    },
    {
     "name": "stdout",
     "output_type": "stream",
     "text": [
      "WARNING: image file 00002980_000.png already exists in /azureml-share/chestxray/data/ChestX-ray8/test_images\n"
     ]
    },
    {
     "data": {
      "text/plain": [
       "'/azureml-share/chestxray/data/ChestX-ray8/test_images/00002980_000.png'"
      ]
     },
     "execution_count": 11,
     "metadata": {},
     "output_type": "execute_result"
    },
    {
     "name": "stdout",
     "output_type": "stream",
     "text": [
      "WARNING: image file 00021458_000.png already exists in /azureml-share/chestxray/data/ChestX-ray8/test_images\n"
     ]
    },
    {
     "data": {
      "text/plain": [
       "'/azureml-share/chestxray/data/ChestX-ray8/test_images/00021458_000.png'"
      ]
     },
     "execution_count": 11,
     "metadata": {},
     "output_type": "execute_result"
    },
    {
     "name": "stdout",
     "output_type": "stream",
     "text": [
      "WARNING: image file 00011237_006.png already exists in /azureml-share/chestxray/data/ChestX-ray8/test_images\n"
     ]
    },
    {
     "data": {
      "text/plain": [
       "'/azureml-share/chestxray/data/ChestX-ray8/test_images/00011237_006.png'"
      ]
     },
     "execution_count": 11,
     "metadata": {},
     "output_type": "execute_result"
    },
    {
     "name": "stderr",
     "output_type": "stream",
     "text": [
      "\r",
      " 80%|███████▉  | 787/984 [00:03<00:01, 192.63it/s]"
     ]
    },
    {
     "name": "stdout",
     "output_type": "stream",
     "text": [
      "WARNING: image file 00013461_011.png already exists in /azureml-share/chestxray/data/ChestX-ray8/test_images\n"
     ]
    },
    {
     "data": {
      "text/plain": [
       "'/azureml-share/chestxray/data/ChestX-ray8/test_images/00013461_011.png'"
      ]
     },
     "execution_count": 11,
     "metadata": {},
     "output_type": "execute_result"
    },
    {
     "name": "stdout",
     "output_type": "stream",
     "text": [
      "WARNING: image file 00010828_023.png already exists in /azureml-share/chestxray/data/ChestX-ray8/test_images\n"
     ]
    },
    {
     "data": {
      "text/plain": [
       "'/azureml-share/chestxray/data/ChestX-ray8/test_images/00010828_023.png'"
      ]
     },
     "execution_count": 11,
     "metadata": {},
     "output_type": "execute_result"
    },
    {
     "name": "stdout",
     "output_type": "stream",
     "text": [
      "WARNING: image file 00007728_013.png already exists in /azureml-share/chestxray/data/ChestX-ray8/test_images\n"
     ]
    },
    {
     "data": {
      "text/plain": [
       "'/azureml-share/chestxray/data/ChestX-ray8/test_images/00007728_013.png'"
      ]
     },
     "execution_count": 11,
     "metadata": {},
     "output_type": "execute_result"
    },
    {
     "name": "stdout",
     "output_type": "stream",
     "text": [
      "WARNING: image file 00012576_004.png already exists in /azureml-share/chestxray/data/ChestX-ray8/test_images\n"
     ]
    },
    {
     "data": {
      "text/plain": [
       "'/azureml-share/chestxray/data/ChestX-ray8/test_images/00012576_004.png'"
      ]
     },
     "execution_count": 11,
     "metadata": {},
     "output_type": "execute_result"
    },
    {
     "name": "stdout",
     "output_type": "stream",
     "text": [
      "WARNING: image file 00018319_001.png already exists in /azureml-share/chestxray/data/ChestX-ray8/test_images\n"
     ]
    },
    {
     "data": {
      "text/plain": [
       "'/azureml-share/chestxray/data/ChestX-ray8/test_images/00018319_001.png'"
      ]
     },
     "execution_count": 11,
     "metadata": {},
     "output_type": "execute_result"
    },
    {
     "name": "stdout",
     "output_type": "stream",
     "text": [
      "WARNING: image file 00017952_008.png already exists in /azureml-share/chestxray/data/ChestX-ray8/test_images\n"
     ]
    },
    {
     "data": {
      "text/plain": [
       "'/azureml-share/chestxray/data/ChestX-ray8/test_images/00017952_008.png'"
      ]
     },
     "execution_count": 11,
     "metadata": {},
     "output_type": "execute_result"
    },
    {
     "name": "stdout",
     "output_type": "stream",
     "text": [
      "WARNING: image file 00021489_013.png already exists in /azureml-share/chestxray/data/ChestX-ray8/test_images\n"
     ]
    },
    {
     "data": {
      "text/plain": [
       "'/azureml-share/chestxray/data/ChestX-ray8/test_images/00021489_013.png'"
      ]
     },
     "execution_count": 11,
     "metadata": {},
     "output_type": "execute_result"
    },
    {
     "name": "stdout",
     "output_type": "stream",
     "text": [
      "WARNING: image file 00014956_010.png already exists in /azureml-share/chestxray/data/ChestX-ray8/test_images\n"
     ]
    },
    {
     "data": {
      "text/plain": [
       "'/azureml-share/chestxray/data/ChestX-ray8/test_images/00014956_010.png'"
      ]
     },
     "execution_count": 11,
     "metadata": {},
     "output_type": "execute_result"
    },
    {
     "name": "stdout",
     "output_type": "stream",
     "text": [
      "WARNING: image file 00008291_009.png already exists in /azureml-share/chestxray/data/ChestX-ray8/test_images\n"
     ]
    },
    {
     "data": {
      "text/plain": [
       "'/azureml-share/chestxray/data/ChestX-ray8/test_images/00008291_009.png'"
      ]
     },
     "execution_count": 11,
     "metadata": {},
     "output_type": "execute_result"
    },
    {
     "name": "stdout",
     "output_type": "stream",
     "text": [
      "WARNING: image file 00022961_008.png already exists in /azureml-share/chestxray/data/ChestX-ray8/test_images\n"
     ]
    },
    {
     "data": {
      "text/plain": [
       "'/azureml-share/chestxray/data/ChestX-ray8/test_images/00022961_008.png'"
      ]
     },
     "execution_count": 11,
     "metadata": {},
     "output_type": "execute_result"
    },
    {
     "name": "stdout",
     "output_type": "stream",
     "text": [
      "WARNING: image file 00021772_011.png already exists in /azureml-share/chestxray/data/ChestX-ray8/test_images\n"
     ]
    },
    {
     "data": {
      "text/plain": [
       "'/azureml-share/chestxray/data/ChestX-ray8/test_images/00021772_011.png'"
      ]
     },
     "execution_count": 11,
     "metadata": {},
     "output_type": "execute_result"
    },
    {
     "name": "stdout",
     "output_type": "stream",
     "text": [
      "WARNING: image file 00003789_000.png already exists in /azureml-share/chestxray/data/ChestX-ray8/test_images\n"
     ]
    },
    {
     "data": {
      "text/plain": [
       "'/azureml-share/chestxray/data/ChestX-ray8/test_images/00003789_000.png'"
      ]
     },
     "execution_count": 11,
     "metadata": {},
     "output_type": "execute_result"
    },
    {
     "name": "stdout",
     "output_type": "stream",
     "text": [
      "WARNING: image file 00012261_001.png already exists in /azureml-share/chestxray/data/ChestX-ray8/test_images\n"
     ]
    },
    {
     "data": {
      "text/plain": [
       "'/azureml-share/chestxray/data/ChestX-ray8/test_images/00012261_001.png'"
      ]
     },
     "execution_count": 11,
     "metadata": {},
     "output_type": "execute_result"
    },
    {
     "name": "stdout",
     "output_type": "stream",
     "text": [
      "WARNING: image file 00025962_000.png already exists in /azureml-share/chestxray/data/ChestX-ray8/test_images\n"
     ]
    },
    {
     "data": {
      "text/plain": [
       "'/azureml-share/chestxray/data/ChestX-ray8/test_images/00025962_000.png'"
      ]
     },
     "execution_count": 11,
     "metadata": {},
     "output_type": "execute_result"
    },
    {
     "name": "stdout",
     "output_type": "stream",
     "text": [
      "WARNING: image file 00014125_042.png already exists in /azureml-share/chestxray/data/ChestX-ray8/test_images\n"
     ]
    },
    {
     "data": {
      "text/plain": [
       "'/azureml-share/chestxray/data/ChestX-ray8/test_images/00014125_042.png'"
      ]
     },
     "execution_count": 11,
     "metadata": {},
     "output_type": "execute_result"
    },
    {
     "name": "stdout",
     "output_type": "stream",
     "text": [
      "WARNING: image file 00011402_007.png already exists in /azureml-share/chestxray/data/ChestX-ray8/test_images\n"
     ]
    },
    {
     "data": {
      "text/plain": [
       "'/azureml-share/chestxray/data/ChestX-ray8/test_images/00011402_007.png'"
      ]
     },
     "execution_count": 11,
     "metadata": {},
     "output_type": "execute_result"
    },
    {
     "name": "stdout",
     "output_type": "stream",
     "text": [
      "WARNING: image file 00014839_017.png already exists in /azureml-share/chestxray/data/ChestX-ray8/test_images\n"
     ]
    },
    {
     "data": {
      "text/plain": [
       "'/azureml-share/chestxray/data/ChestX-ray8/test_images/00014839_017.png'"
      ]
     },
     "execution_count": 11,
     "metadata": {},
     "output_type": "execute_result"
    },
    {
     "name": "stdout",
     "output_type": "stream",
     "text": [
      "WARNING: image file 00009608_037.png already exists in /azureml-share/chestxray/data/ChestX-ray8/test_images\n"
     ]
    },
    {
     "data": {
      "text/plain": [
       "'/azureml-share/chestxray/data/ChestX-ray8/test_images/00009608_037.png'"
      ]
     },
     "execution_count": 11,
     "metadata": {},
     "output_type": "execute_result"
    },
    {
     "name": "stdout",
     "output_type": "stream",
     "text": [
      "WARNING: image file 00011583_000.png already exists in /azureml-share/chestxray/data/ChestX-ray8/test_images\n"
     ]
    },
    {
     "data": {
      "text/plain": [
       "'/azureml-share/chestxray/data/ChestX-ray8/test_images/00011583_000.png'"
      ]
     },
     "execution_count": 11,
     "metadata": {},
     "output_type": "execute_result"
    },
    {
     "name": "stdout",
     "output_type": "stream",
     "text": [
      "WARNING: image file 00021303_005.png already exists in /azureml-share/chestxray/data/ChestX-ray8/test_images\n"
     ]
    },
    {
     "data": {
      "text/plain": [
       "'/azureml-share/chestxray/data/ChestX-ray8/test_images/00021303_005.png'"
      ]
     },
     "execution_count": 11,
     "metadata": {},
     "output_type": "execute_result"
    },
    {
     "name": "stdout",
     "output_type": "stream",
     "text": [
      "WARNING: image file 00022178_000.png already exists in /azureml-share/chestxray/data/ChestX-ray8/test_images\n"
     ]
    },
    {
     "data": {
      "text/plain": [
       "'/azureml-share/chestxray/data/ChestX-ray8/test_images/00022178_000.png'"
      ]
     },
     "execution_count": 11,
     "metadata": {},
     "output_type": "execute_result"
    },
    {
     "name": "stdout",
     "output_type": "stream",
     "text": [
      "WARNING: image file 00003528_024.png already exists in /azureml-share/chestxray/data/ChestX-ray8/test_images\n"
     ]
    },
    {
     "data": {
      "text/plain": [
       "'/azureml-share/chestxray/data/ChestX-ray8/test_images/00003528_024.png'"
      ]
     },
     "execution_count": 11,
     "metadata": {},
     "output_type": "execute_result"
    },
    {
     "name": "stdout",
     "output_type": "stream",
     "text": [
      "WARNING: image file 00007629_001.png already exists in /azureml-share/chestxray/data/ChestX-ray8/test_images\n"
     ]
    },
    {
     "data": {
      "text/plain": [
       "'/azureml-share/chestxray/data/ChestX-ray8/test_images/00007629_001.png'"
      ]
     },
     "execution_count": 11,
     "metadata": {},
     "output_type": "execute_result"
    },
    {
     "name": "stderr",
     "output_type": "stream",
     "text": [
      "\r",
      " 82%|████████▏ | 810/984 [00:03<00:00, 201.17it/s]"
     ]
    },
    {
     "name": "stdout",
     "output_type": "stream",
     "text": [
      "WARNING: image file 00010610_003.png already exists in /azureml-share/chestxray/data/ChestX-ray8/test_images\n"
     ]
    },
    {
     "data": {
      "text/plain": [
       "'/azureml-share/chestxray/data/ChestX-ray8/test_images/00010610_003.png'"
      ]
     },
     "execution_count": 11,
     "metadata": {},
     "output_type": "execute_result"
    },
    {
     "name": "stdout",
     "output_type": "stream",
     "text": [
      "WARNING: image file 00013721_005.png already exists in /azureml-share/chestxray/data/ChestX-ray8/test_images\n"
     ]
    },
    {
     "data": {
      "text/plain": [
       "'/azureml-share/chestxray/data/ChestX-ray8/test_images/00013721_005.png'"
      ]
     },
     "execution_count": 11,
     "metadata": {},
     "output_type": "execute_result"
    },
    {
     "name": "stdout",
     "output_type": "stream",
     "text": [
      "WARNING: image file 00019863_010.png already exists in /azureml-share/chestxray/data/ChestX-ray8/test_images\n"
     ]
    },
    {
     "data": {
      "text/plain": [
       "'/azureml-share/chestxray/data/ChestX-ray8/test_images/00019863_010.png'"
      ]
     },
     "execution_count": 11,
     "metadata": {},
     "output_type": "execute_result"
    },
    {
     "name": "stdout",
     "output_type": "stream",
     "text": [
      "WARNING: image file 00014294_011.png already exists in /azureml-share/chestxray/data/ChestX-ray8/test_images\n"
     ]
    },
    {
     "data": {
      "text/plain": [
       "'/azureml-share/chestxray/data/ChestX-ray8/test_images/00014294_011.png'"
      ]
     },
     "execution_count": 11,
     "metadata": {},
     "output_type": "execute_result"
    },
    {
     "name": "stdout",
     "output_type": "stream",
     "text": [
      "WARNING: image file 00012094_011.png already exists in /azureml-share/chestxray/data/ChestX-ray8/test_images\n"
     ]
    },
    {
     "data": {
      "text/plain": [
       "'/azureml-share/chestxray/data/ChestX-ray8/test_images/00012094_011.png'"
      ]
     },
     "execution_count": 11,
     "metadata": {},
     "output_type": "execute_result"
    },
    {
     "name": "stdout",
     "output_type": "stream",
     "text": [
      "WARNING: image file 00005567_025.png already exists in /azureml-share/chestxray/data/ChestX-ray8/test_images\n"
     ]
    },
    {
     "data": {
      "text/plain": [
       "'/azureml-share/chestxray/data/ChestX-ray8/test_images/00005567_025.png'"
      ]
     },
     "execution_count": 11,
     "metadata": {},
     "output_type": "execute_result"
    },
    {
     "name": "stdout",
     "output_type": "stream",
     "text": [
      "WARNING: image file 00000150_002.png already exists in /azureml-share/chestxray/data/ChestX-ray8/test_images\n"
     ]
    },
    {
     "data": {
      "text/plain": [
       "'/azureml-share/chestxray/data/ChestX-ray8/test_images/00000150_002.png'"
      ]
     },
     "execution_count": 11,
     "metadata": {},
     "output_type": "execute_result"
    },
    {
     "name": "stdout",
     "output_type": "stream",
     "text": [
      "WARNING: image file 00013992_005.png already exists in /azureml-share/chestxray/data/ChestX-ray8/test_images\n"
     ]
    },
    {
     "data": {
      "text/plain": [
       "'/azureml-share/chestxray/data/ChestX-ray8/test_images/00013992_005.png'"
      ]
     },
     "execution_count": 11,
     "metadata": {},
     "output_type": "execute_result"
    },
    {
     "name": "stdout",
     "output_type": "stream",
     "text": [
      "WARNING: image file 00015605_051.png already exists in /azureml-share/chestxray/data/ChestX-ray8/test_images\n"
     ]
    },
    {
     "data": {
      "text/plain": [
       "'/azureml-share/chestxray/data/ChestX-ray8/test_images/00015605_051.png'"
      ]
     },
     "execution_count": 11,
     "metadata": {},
     "output_type": "execute_result"
    },
    {
     "name": "stdout",
     "output_type": "stream",
     "text": [
      "WARNING: image file 00005353_000.png already exists in /azureml-share/chestxray/data/ChestX-ray8/test_images\n"
     ]
    },
    {
     "data": {
      "text/plain": [
       "'/azureml-share/chestxray/data/ChestX-ray8/test_images/00005353_000.png'"
      ]
     },
     "execution_count": 11,
     "metadata": {},
     "output_type": "execute_result"
    },
    {
     "name": "stdout",
     "output_type": "stream",
     "text": [
      "WARNING: image file 00022215_012.png already exists in /azureml-share/chestxray/data/ChestX-ray8/test_images\n"
     ]
    },
    {
     "data": {
      "text/plain": [
       "'/azureml-share/chestxray/data/ChestX-ray8/test_images/00022215_012.png'"
      ]
     },
     "execution_count": 11,
     "metadata": {},
     "output_type": "execute_result"
    },
    {
     "name": "stdout",
     "output_type": "stream",
     "text": [
      "WARNING: image file 00026848_007.png already exists in /azureml-share/chestxray/data/ChestX-ray8/test_images\n"
     ]
    },
    {
     "data": {
      "text/plain": [
       "'/azureml-share/chestxray/data/ChestX-ray8/test_images/00026848_007.png'"
      ]
     },
     "execution_count": 11,
     "metadata": {},
     "output_type": "execute_result"
    },
    {
     "name": "stdout",
     "output_type": "stream",
     "text": [
      "WARNING: image file 00004893_070.png already exists in /azureml-share/chestxray/data/ChestX-ray8/test_images\n"
     ]
    },
    {
     "data": {
      "text/plain": [
       "'/azureml-share/chestxray/data/ChestX-ray8/test_images/00004893_070.png'"
      ]
     },
     "execution_count": 11,
     "metadata": {},
     "output_type": "execute_result"
    },
    {
     "name": "stdout",
     "output_type": "stream",
     "text": [
      "WARNING: image file 00022021_002.png already exists in /azureml-share/chestxray/data/ChestX-ray8/test_images\n"
     ]
    },
    {
     "data": {
      "text/plain": [
       "'/azureml-share/chestxray/data/ChestX-ray8/test_images/00022021_002.png'"
      ]
     },
     "execution_count": 11,
     "metadata": {},
     "output_type": "execute_result"
    },
    {
     "name": "stdout",
     "output_type": "stream",
     "text": [
      "WARNING: image file 00027093_002.png already exists in /azureml-share/chestxray/data/ChestX-ray8/test_images\n"
     ]
    },
    {
     "data": {
      "text/plain": [
       "'/azureml-share/chestxray/data/ChestX-ray8/test_images/00027093_002.png'"
      ]
     },
     "execution_count": 11,
     "metadata": {},
     "output_type": "execute_result"
    },
    {
     "name": "stdout",
     "output_type": "stream",
     "text": [
      "WARNING: image file 00028454_016.png already exists in /azureml-share/chestxray/data/ChestX-ray8/test_images\n"
     ]
    },
    {
     "data": {
      "text/plain": [
       "'/azureml-share/chestxray/data/ChestX-ray8/test_images/00028454_016.png'"
      ]
     },
     "execution_count": 11,
     "metadata": {},
     "output_type": "execute_result"
    },
    {
     "name": "stdout",
     "output_type": "stream",
     "text": [
      "WARNING: image file 00007735_018.png already exists in /azureml-share/chestxray/data/ChestX-ray8/test_images\n"
     ]
    },
    {
     "data": {
      "text/plain": [
       "'/azureml-share/chestxray/data/ChestX-ray8/test_images/00007735_018.png'"
      ]
     },
     "execution_count": 11,
     "metadata": {},
     "output_type": "execute_result"
    },
    {
     "name": "stdout",
     "output_type": "stream",
     "text": [
      "WARNING: image file 00011831_008.png already exists in /azureml-share/chestxray/data/ChestX-ray8/test_images\n"
     ]
    },
    {
     "data": {
      "text/plain": [
       "'/azureml-share/chestxray/data/ChestX-ray8/test_images/00011831_008.png'"
      ]
     },
     "execution_count": 11,
     "metadata": {},
     "output_type": "execute_result"
    },
    {
     "name": "stdout",
     "output_type": "stream",
     "text": [
      "WARNING: image file 00016291_012.png already exists in /azureml-share/chestxray/data/ChestX-ray8/test_images\n"
     ]
    },
    {
     "data": {
      "text/plain": [
       "'/azureml-share/chestxray/data/ChestX-ray8/test_images/00016291_012.png'"
      ]
     },
     "execution_count": 11,
     "metadata": {},
     "output_type": "execute_result"
    },
    {
     "name": "stdout",
     "output_type": "stream",
     "text": [
      "WARNING: image file 00019765_010.png already exists in /azureml-share/chestxray/data/ChestX-ray8/test_images\n"
     ]
    },
    {
     "data": {
      "text/plain": [
       "'/azureml-share/chestxray/data/ChestX-ray8/test_images/00019765_010.png'"
      ]
     },
     "execution_count": 11,
     "metadata": {},
     "output_type": "execute_result"
    },
    {
     "name": "stdout",
     "output_type": "stream",
     "text": [
      "WARNING: image file 00023138_009.png already exists in /azureml-share/chestxray/data/ChestX-ray8/test_images\n"
     ]
    },
    {
     "data": {
      "text/plain": [
       "'/azureml-share/chestxray/data/ChestX-ray8/test_images/00023138_009.png'"
      ]
     },
     "execution_count": 11,
     "metadata": {},
     "output_type": "execute_result"
    },
    {
     "name": "stderr",
     "output_type": "stream",
     "text": [
      "\r",
      " 84%|████████▍ | 831/984 [00:03<00:00, 199.13it/s]"
     ]
    },
    {
     "name": "stdout",
     "output_type": "stream",
     "text": [
      "WARNING: image file 00013272_005.png already exists in /azureml-share/chestxray/data/ChestX-ray8/test_images\n"
     ]
    },
    {
     "data": {
      "text/plain": [
       "'/azureml-share/chestxray/data/ChestX-ray8/test_images/00013272_005.png'"
      ]
     },
     "execution_count": 11,
     "metadata": {},
     "output_type": "execute_result"
    },
    {
     "name": "stdout",
     "output_type": "stream",
     "text": [
      "WARNING: image file 00004344_002.png already exists in /azureml-share/chestxray/data/ChestX-ray8/test_images\n"
     ]
    },
    {
     "data": {
      "text/plain": [
       "'/azureml-share/chestxray/data/ChestX-ray8/test_images/00004344_002.png'"
      ]
     },
     "execution_count": 11,
     "metadata": {},
     "output_type": "execute_result"
    },
    {
     "name": "stdout",
     "output_type": "stream",
     "text": [
      "WARNING: image file 00014197_010.png already exists in /azureml-share/chestxray/data/ChestX-ray8/test_images\n"
     ]
    },
    {
     "data": {
      "text/plain": [
       "'/azureml-share/chestxray/data/ChestX-ray8/test_images/00014197_010.png'"
      ]
     },
     "execution_count": 11,
     "metadata": {},
     "output_type": "execute_result"
    },
    {
     "name": "stdout",
     "output_type": "stream",
     "text": [
      "WARNING: image file 00003028_006.png already exists in /azureml-share/chestxray/data/ChestX-ray8/test_images\n"
     ]
    },
    {
     "data": {
      "text/plain": [
       "'/azureml-share/chestxray/data/ChestX-ray8/test_images/00003028_006.png'"
      ]
     },
     "execution_count": 11,
     "metadata": {},
     "output_type": "execute_result"
    },
    {
     "name": "stdout",
     "output_type": "stream",
     "text": [
      "WARNING: image file 00027837_001.png already exists in /azureml-share/chestxray/data/ChestX-ray8/test_images\n"
     ]
    },
    {
     "data": {
      "text/plain": [
       "'/azureml-share/chestxray/data/ChestX-ray8/test_images/00027837_001.png'"
      ]
     },
     "execution_count": 11,
     "metadata": {},
     "output_type": "execute_result"
    },
    {
     "name": "stdout",
     "output_type": "stream",
     "text": [
      "WARNING: image file 00010652_000.png already exists in /azureml-share/chestxray/data/ChestX-ray8/test_images\n"
     ]
    },
    {
     "data": {
      "text/plain": [
       "'/azureml-share/chestxray/data/ChestX-ray8/test_images/00010652_000.png'"
      ]
     },
     "execution_count": 11,
     "metadata": {},
     "output_type": "execute_result"
    },
    {
     "name": "stdout",
     "output_type": "stream",
     "text": [
      "WARNING: image file 00009863_058.png already exists in /azureml-share/chestxray/data/ChestX-ray8/test_images\n"
     ]
    },
    {
     "data": {
      "text/plain": [
       "'/azureml-share/chestxray/data/ChestX-ray8/test_images/00009863_058.png'"
      ]
     },
     "execution_count": 11,
     "metadata": {},
     "output_type": "execute_result"
    },
    {
     "name": "stdout",
     "output_type": "stream",
     "text": [
      "WARNING: image file 00020845_002.png already exists in /azureml-share/chestxray/data/ChestX-ray8/test_images\n"
     ]
    },
    {
     "data": {
      "text/plain": [
       "'/azureml-share/chestxray/data/ChestX-ray8/test_images/00020845_002.png'"
      ]
     },
     "execution_count": 11,
     "metadata": {},
     "output_type": "execute_result"
    },
    {
     "name": "stdout",
     "output_type": "stream",
     "text": [
      "WARNING: image file 00019157_008.png already exists in /azureml-share/chestxray/data/ChestX-ray8/test_images\n"
     ]
    },
    {
     "data": {
      "text/plain": [
       "'/azureml-share/chestxray/data/ChestX-ray8/test_images/00019157_008.png'"
      ]
     },
     "execution_count": 11,
     "metadata": {},
     "output_type": "execute_result"
    },
    {
     "name": "stdout",
     "output_type": "stream",
     "text": [
      "WARNING: image file 00009229_003.png already exists in /azureml-share/chestxray/data/ChestX-ray8/test_images\n"
     ]
    },
    {
     "data": {
      "text/plain": [
       "'/azureml-share/chestxray/data/ChestX-ray8/test_images/00009229_003.png'"
      ]
     },
     "execution_count": 11,
     "metadata": {},
     "output_type": "execute_result"
    },
    {
     "name": "stdout",
     "output_type": "stream",
     "text": [
      "WARNING: image file 00007444_003.png already exists in /azureml-share/chestxray/data/ChestX-ray8/test_images\n"
     ]
    },
    {
     "data": {
      "text/plain": [
       "'/azureml-share/chestxray/data/ChestX-ray8/test_images/00007444_003.png'"
      ]
     },
     "execution_count": 11,
     "metadata": {},
     "output_type": "execute_result"
    },
    {
     "name": "stdout",
     "output_type": "stream",
     "text": [
      "WARNING: image file 00001933_000.png already exists in /azureml-share/chestxray/data/ChestX-ray8/test_images\n"
     ]
    },
    {
     "data": {
      "text/plain": [
       "'/azureml-share/chestxray/data/ChestX-ray8/test_images/00001933_000.png'"
      ]
     },
     "execution_count": 11,
     "metadata": {},
     "output_type": "execute_result"
    },
    {
     "name": "stdout",
     "output_type": "stream",
     "text": [
      "WARNING: image file 00002711_000.png already exists in /azureml-share/chestxray/data/ChestX-ray8/test_images\n"
     ]
    },
    {
     "data": {
      "text/plain": [
       "'/azureml-share/chestxray/data/ChestX-ray8/test_images/00002711_000.png'"
      ]
     },
     "execution_count": 11,
     "metadata": {},
     "output_type": "execute_result"
    },
    {
     "name": "stdout",
     "output_type": "stream",
     "text": [
      "WARNING: image file 00009107_006.png already exists in /azureml-share/chestxray/data/ChestX-ray8/test_images\n"
     ]
    },
    {
     "data": {
      "text/plain": [
       "'/azureml-share/chestxray/data/ChestX-ray8/test_images/00009107_006.png'"
      ]
     },
     "execution_count": 11,
     "metadata": {},
     "output_type": "execute_result"
    },
    {
     "name": "stdout",
     "output_type": "stream",
     "text": [
      "WARNING: image file 00027758_004.png already exists in /azureml-share/chestxray/data/ChestX-ray8/test_images\n"
     ]
    },
    {
     "data": {
      "text/plain": [
       "'/azureml-share/chestxray/data/ChestX-ray8/test_images/00027758_004.png'"
      ]
     },
     "execution_count": 11,
     "metadata": {},
     "output_type": "execute_result"
    },
    {
     "name": "stdout",
     "output_type": "stream",
     "text": [
      "WARNING: image file 00013249_033.png already exists in /azureml-share/chestxray/data/ChestX-ray8/test_images\n"
     ]
    },
    {
     "data": {
      "text/plain": [
       "'/azureml-share/chestxray/data/ChestX-ray8/test_images/00013249_033.png'"
      ]
     },
     "execution_count": 11,
     "metadata": {},
     "output_type": "execute_result"
    },
    {
     "name": "stdout",
     "output_type": "stream",
     "text": [
      "WARNING: image file 00023089_004.png already exists in /azureml-share/chestxray/data/ChestX-ray8/test_images\n"
     ]
    },
    {
     "data": {
      "text/plain": [
       "'/azureml-share/chestxray/data/ChestX-ray8/test_images/00023089_004.png'"
      ]
     },
     "execution_count": 11,
     "metadata": {},
     "output_type": "execute_result"
    },
    {
     "name": "stdout",
     "output_type": "stream",
     "text": [
      "WARNING: image file 00021860_003.png already exists in /azureml-share/chestxray/data/ChestX-ray8/test_images\n"
     ]
    },
    {
     "data": {
      "text/plain": [
       "'/azureml-share/chestxray/data/ChestX-ray8/test_images/00021860_003.png'"
      ]
     },
     "execution_count": 11,
     "metadata": {},
     "output_type": "execute_result"
    },
    {
     "name": "stdout",
     "output_type": "stream",
     "text": [
      "WARNING: image file 00013993_013.png already exists in /azureml-share/chestxray/data/ChestX-ray8/test_images\n"
     ]
    },
    {
     "data": {
      "text/plain": [
       "'/azureml-share/chestxray/data/ChestX-ray8/test_images/00013993_013.png'"
      ]
     },
     "execution_count": 11,
     "metadata": {},
     "output_type": "execute_result"
    },
    {
     "name": "stdout",
     "output_type": "stream",
     "text": [
      "WARNING: image file 00010447_018.png already exists in /azureml-share/chestxray/data/ChestX-ray8/test_images\n"
     ]
    },
    {
     "data": {
      "text/plain": [
       "'/azureml-share/chestxray/data/ChestX-ray8/test_images/00010447_018.png'"
      ]
     },
     "execution_count": 11,
     "metadata": {},
     "output_type": "execute_result"
    },
    {
     "name": "stdout",
     "output_type": "stream",
     "text": [
      "WARNING: image file 00008727_009.png already exists in /azureml-share/chestxray/data/ChestX-ray8/test_images\n"
     ]
    },
    {
     "data": {
      "text/plain": [
       "'/azureml-share/chestxray/data/ChestX-ray8/test_images/00008727_009.png'"
      ]
     },
     "execution_count": 11,
     "metadata": {},
     "output_type": "execute_result"
    },
    {
     "name": "stdout",
     "output_type": "stream",
     "text": [
      "WARNING: image file 00017236_075.png already exists in /azureml-share/chestxray/data/ChestX-ray8/test_images\n"
     ]
    },
    {
     "data": {
      "text/plain": [
       "'/azureml-share/chestxray/data/ChestX-ray8/test_images/00017236_075.png'"
      ]
     },
     "execution_count": 11,
     "metadata": {},
     "output_type": "execute_result"
    },
    {
     "name": "stdout",
     "output_type": "stream",
     "text": [
      "WARNING: image file 00023178_002.png already exists in /azureml-share/chestxray/data/ChestX-ray8/test_images\n"
     ]
    },
    {
     "data": {
      "text/plain": [
       "'/azureml-share/chestxray/data/ChestX-ray8/test_images/00023178_002.png'"
      ]
     },
     "execution_count": 11,
     "metadata": {},
     "output_type": "execute_result"
    },
    {
     "name": "stderr",
     "output_type": "stream",
     "text": [
      "\r",
      " 87%|████████▋ | 854/984 [00:04<00:00, 207.01it/s]"
     ]
    },
    {
     "name": "stdout",
     "output_type": "stream",
     "text": [
      "WARNING: image file 00021818_026.png already exists in /azureml-share/chestxray/data/ChestX-ray8/test_images\n"
     ]
    },
    {
     "data": {
      "text/plain": [
       "'/azureml-share/chestxray/data/ChestX-ray8/test_images/00021818_026.png'"
      ]
     },
     "execution_count": 11,
     "metadata": {},
     "output_type": "execute_result"
    },
    {
     "name": "stdout",
     "output_type": "stream",
     "text": [
      "WARNING: image file 00016064_010.png already exists in /azureml-share/chestxray/data/ChestX-ray8/test_images\n"
     ]
    },
    {
     "data": {
      "text/plain": [
       "'/azureml-share/chestxray/data/ChestX-ray8/test_images/00016064_010.png'"
      ]
     },
     "execution_count": 11,
     "metadata": {},
     "output_type": "execute_result"
    },
    {
     "name": "stdout",
     "output_type": "stream",
     "text": [
      "WARNING: image file 00005567_000.png already exists in /azureml-share/chestxray/data/ChestX-ray8/test_images\n"
     ]
    },
    {
     "data": {
      "text/plain": [
       "'/azureml-share/chestxray/data/ChestX-ray8/test_images/00005567_000.png'"
      ]
     },
     "execution_count": 11,
     "metadata": {},
     "output_type": "execute_result"
    },
    {
     "name": "stdout",
     "output_type": "stream",
     "text": [
      "WARNING: image file 00018063_000.png already exists in /azureml-share/chestxray/data/ChestX-ray8/test_images\n"
     ]
    },
    {
     "data": {
      "text/plain": [
       "'/azureml-share/chestxray/data/ChestX-ray8/test_images/00018063_000.png'"
      ]
     },
     "execution_count": 11,
     "metadata": {},
     "output_type": "execute_result"
    },
    {
     "name": "stdout",
     "output_type": "stream",
     "text": [
      "WARNING: image file 00014177_009.png already exists in /azureml-share/chestxray/data/ChestX-ray8/test_images\n"
     ]
    },
    {
     "data": {
      "text/plain": [
       "'/azureml-share/chestxray/data/ChestX-ray8/test_images/00014177_009.png'"
      ]
     },
     "execution_count": 11,
     "metadata": {},
     "output_type": "execute_result"
    },
    {
     "name": "stdout",
     "output_type": "stream",
     "text": [
      "WARNING: image file 00004808_090.png already exists in /azureml-share/chestxray/data/ChestX-ray8/test_images\n"
     ]
    },
    {
     "data": {
      "text/plain": [
       "'/azureml-share/chestxray/data/ChestX-ray8/test_images/00004808_090.png'"
      ]
     },
     "execution_count": 11,
     "metadata": {},
     "output_type": "execute_result"
    },
    {
     "name": "stdout",
     "output_type": "stream",
     "text": [
      "WARNING: image file 00014022_054.png already exists in /azureml-share/chestxray/data/ChestX-ray8/test_images\n"
     ]
    },
    {
     "data": {
      "text/plain": [
       "'/azureml-share/chestxray/data/ChestX-ray8/test_images/00014022_054.png'"
      ]
     },
     "execution_count": 11,
     "metadata": {},
     "output_type": "execute_result"
    },
    {
     "name": "stdout",
     "output_type": "stream",
     "text": [
      "WARNING: image file 00012834_113.png already exists in /azureml-share/chestxray/data/ChestX-ray8/test_images\n"
     ]
    },
    {
     "data": {
      "text/plain": [
       "'/azureml-share/chestxray/data/ChestX-ray8/test_images/00012834_113.png'"
      ]
     },
     "execution_count": 11,
     "metadata": {},
     "output_type": "execute_result"
    },
    {
     "name": "stdout",
     "output_type": "stream",
     "text": [
      "WARNING: image file 00012141_013.png already exists in /azureml-share/chestxray/data/ChestX-ray8/test_images\n"
     ]
    },
    {
     "data": {
      "text/plain": [
       "'/azureml-share/chestxray/data/ChestX-ray8/test_images/00012141_013.png'"
      ]
     },
     "execution_count": 11,
     "metadata": {},
     "output_type": "execute_result"
    },
    {
     "name": "stdout",
     "output_type": "stream",
     "text": [
      "WARNING: image file 00022572_073.png already exists in /azureml-share/chestxray/data/ChestX-ray8/test_images\n"
     ]
    },
    {
     "data": {
      "text/plain": [
       "'/azureml-share/chestxray/data/ChestX-ray8/test_images/00022572_073.png'"
      ]
     },
     "execution_count": 11,
     "metadata": {},
     "output_type": "execute_result"
    },
    {
     "name": "stdout",
     "output_type": "stream",
     "text": [
      "WARNING: image file 00003391_001.png already exists in /azureml-share/chestxray/data/ChestX-ray8/test_images\n"
     ]
    },
    {
     "data": {
      "text/plain": [
       "'/azureml-share/chestxray/data/ChestX-ray8/test_images/00003391_001.png'"
      ]
     },
     "execution_count": 11,
     "metadata": {},
     "output_type": "execute_result"
    },
    {
     "name": "stdout",
     "output_type": "stream",
     "text": [
      "WARNING: image file 00009507_004.png already exists in /azureml-share/chestxray/data/ChestX-ray8/test_images\n"
     ]
    },
    {
     "data": {
      "text/plain": [
       "'/azureml-share/chestxray/data/ChestX-ray8/test_images/00009507_004.png'"
      ]
     },
     "execution_count": 11,
     "metadata": {},
     "output_type": "execute_result"
    },
    {
     "name": "stdout",
     "output_type": "stream",
     "text": [
      "WARNING: image file 00029469_009.png already exists in /azureml-share/chestxray/data/ChestX-ray8/test_images\n"
     ]
    },
    {
     "data": {
      "text/plain": [
       "'/azureml-share/chestxray/data/ChestX-ray8/test_images/00029469_009.png'"
      ]
     },
     "execution_count": 11,
     "metadata": {},
     "output_type": "execute_result"
    },
    {
     "name": "stdout",
     "output_type": "stream",
     "text": [
      "WARNING: image file 00019892_003.png already exists in /azureml-share/chestxray/data/ChestX-ray8/test_images\n"
     ]
    },
    {
     "data": {
      "text/plain": [
       "'/azureml-share/chestxray/data/ChestX-ray8/test_images/00019892_003.png'"
      ]
     },
     "execution_count": 11,
     "metadata": {},
     "output_type": "execute_result"
    },
    {
     "name": "stdout",
     "output_type": "stream",
     "text": [
      "WARNING: image file 00030162_026.png already exists in /azureml-share/chestxray/data/ChestX-ray8/test_images\n"
     ]
    },
    {
     "data": {
      "text/plain": [
       "'/azureml-share/chestxray/data/ChestX-ray8/test_images/00030162_026.png'"
      ]
     },
     "execution_count": 11,
     "metadata": {},
     "output_type": "execute_result"
    },
    {
     "name": "stdout",
     "output_type": "stream",
     "text": [
      "WARNING: image file 00013659_019.png already exists in /azureml-share/chestxray/data/ChestX-ray8/test_images\n"
     ]
    },
    {
     "data": {
      "text/plain": [
       "'/azureml-share/chestxray/data/ChestX-ray8/test_images/00013659_019.png'"
      ]
     },
     "execution_count": 11,
     "metadata": {},
     "output_type": "execute_result"
    },
    {
     "name": "stdout",
     "output_type": "stream",
     "text": [
      "WARNING: image file 00026586_009.png already exists in /azureml-share/chestxray/data/ChestX-ray8/test_images\n"
     ]
    },
    {
     "data": {
      "text/plain": [
       "'/azureml-share/chestxray/data/ChestX-ray8/test_images/00026586_009.png'"
      ]
     },
     "execution_count": 11,
     "metadata": {},
     "output_type": "execute_result"
    },
    {
     "name": "stdout",
     "output_type": "stream",
     "text": [
      "WARNING: image file 00020000_000.png already exists in /azureml-share/chestxray/data/ChestX-ray8/test_images\n"
     ]
    },
    {
     "data": {
      "text/plain": [
       "'/azureml-share/chestxray/data/ChestX-ray8/test_images/00020000_000.png'"
      ]
     },
     "execution_count": 11,
     "metadata": {},
     "output_type": "execute_result"
    },
    {
     "name": "stdout",
     "output_type": "stream",
     "text": [
      "WARNING: image file 00002106_000.png already exists in /azureml-share/chestxray/data/ChestX-ray8/test_images\n"
     ]
    },
    {
     "data": {
      "text/plain": [
       "'/azureml-share/chestxray/data/ChestX-ray8/test_images/00002106_000.png'"
      ]
     },
     "execution_count": 11,
     "metadata": {},
     "output_type": "execute_result"
    },
    {
     "name": "stdout",
     "output_type": "stream",
     "text": [
      "WARNING: image file 00003400_003.png already exists in /azureml-share/chestxray/data/ChestX-ray8/test_images\n"
     ]
    },
    {
     "data": {
      "text/plain": [
       "'/azureml-share/chestxray/data/ChestX-ray8/test_images/00003400_003.png'"
      ]
     },
     "execution_count": 11,
     "metadata": {},
     "output_type": "execute_result"
    },
    {
     "name": "stdout",
     "output_type": "stream",
     "text": [
      "WARNING: image file 00010767_016.png already exists in /azureml-share/chestxray/data/ChestX-ray8/test_images\n"
     ]
    },
    {
     "data": {
      "text/plain": [
       "'/azureml-share/chestxray/data/ChestX-ray8/test_images/00010767_016.png'"
      ]
     },
     "execution_count": 11,
     "metadata": {},
     "output_type": "execute_result"
    },
    {
     "name": "stdout",
     "output_type": "stream",
     "text": [
      "WARNING: image file 00017972_026.png already exists in /azureml-share/chestxray/data/ChestX-ray8/test_images\n"
     ]
    },
    {
     "data": {
      "text/plain": [
       "'/azureml-share/chestxray/data/ChestX-ray8/test_images/00017972_026.png'"
      ]
     },
     "execution_count": 11,
     "metadata": {},
     "output_type": "execute_result"
    },
    {
     "name": "stderr",
     "output_type": "stream",
     "text": [
      "\r",
      " 89%|████████▉ | 876/984 [00:04<00:00, 208.85it/s]"
     ]
    },
    {
     "name": "stdout",
     "output_type": "stream",
     "text": [
      "WARNING: image file 00018865_008.png already exists in /azureml-share/chestxray/data/ChestX-ray8/test_images\n"
     ]
    },
    {
     "data": {
      "text/plain": [
       "'/azureml-share/chestxray/data/ChestX-ray8/test_images/00018865_008.png'"
      ]
     },
     "execution_count": 11,
     "metadata": {},
     "output_type": "execute_result"
    },
    {
     "name": "stdout",
     "output_type": "stream",
     "text": [
      "WARNING: image file 00029909_003.png already exists in /azureml-share/chestxray/data/ChestX-ray8/test_images\n"
     ]
    },
    {
     "data": {
      "text/plain": [
       "'/azureml-share/chestxray/data/ChestX-ray8/test_images/00029909_003.png'"
      ]
     },
     "execution_count": 11,
     "metadata": {},
     "output_type": "execute_result"
    },
    {
     "name": "stdout",
     "output_type": "stream",
     "text": [
      "WARNING: image file 00018366_029.png already exists in /azureml-share/chestxray/data/ChestX-ray8/test_images\n"
     ]
    },
    {
     "data": {
      "text/plain": [
       "'/azureml-share/chestxray/data/ChestX-ray8/test_images/00018366_029.png'"
      ]
     },
     "execution_count": 11,
     "metadata": {},
     "output_type": "execute_result"
    },
    {
     "name": "stdout",
     "output_type": "stream",
     "text": [
      "WARNING: image file 00029579_014.png already exists in /azureml-share/chestxray/data/ChestX-ray8/test_images\n"
     ]
    },
    {
     "data": {
      "text/plain": [
       "'/azureml-share/chestxray/data/ChestX-ray8/test_images/00029579_014.png'"
      ]
     },
     "execution_count": 11,
     "metadata": {},
     "output_type": "execute_result"
    },
    {
     "name": "stdout",
     "output_type": "stream",
     "text": [
      "WARNING: image file 00020318_007.png already exists in /azureml-share/chestxray/data/ChestX-ray8/test_images\n"
     ]
    },
    {
     "data": {
      "text/plain": [
       "'/azureml-share/chestxray/data/ChestX-ray8/test_images/00020318_007.png'"
      ]
     },
     "execution_count": 11,
     "metadata": {},
     "output_type": "execute_result"
    },
    {
     "name": "stdout",
     "output_type": "stream",
     "text": [
      "WARNING: image file 00013807_009.png already exists in /azureml-share/chestxray/data/ChestX-ray8/test_images\n"
     ]
    },
    {
     "data": {
      "text/plain": [
       "'/azureml-share/chestxray/data/ChestX-ray8/test_images/00013807_009.png'"
      ]
     },
     "execution_count": 11,
     "metadata": {},
     "output_type": "execute_result"
    },
    {
     "name": "stdout",
     "output_type": "stream",
     "text": [
      "WARNING: image file 00010767_007.png already exists in /azureml-share/chestxray/data/ChestX-ray8/test_images\n"
     ]
    },
    {
     "data": {
      "text/plain": [
       "'/azureml-share/chestxray/data/ChestX-ray8/test_images/00010767_007.png'"
      ]
     },
     "execution_count": 11,
     "metadata": {},
     "output_type": "execute_result"
    },
    {
     "name": "stdout",
     "output_type": "stream",
     "text": [
      "WARNING: image file 00009368_006.png already exists in /azureml-share/chestxray/data/ChestX-ray8/test_images\n"
     ]
    },
    {
     "data": {
      "text/plain": [
       "'/azureml-share/chestxray/data/ChestX-ray8/test_images/00009368_006.png'"
      ]
     },
     "execution_count": 11,
     "metadata": {},
     "output_type": "execute_result"
    },
    {
     "name": "stdout",
     "output_type": "stream",
     "text": [
      "WARNING: image file 00021748_000.png already exists in /azureml-share/chestxray/data/ChestX-ray8/test_images\n"
     ]
    },
    {
     "data": {
      "text/plain": [
       "'/azureml-share/chestxray/data/ChestX-ray8/test_images/00021748_000.png'"
      ]
     },
     "execution_count": 11,
     "metadata": {},
     "output_type": "execute_result"
    },
    {
     "name": "stdout",
     "output_type": "stream",
     "text": [
      "WARNING: image file 00010767_008.png already exists in /azureml-share/chestxray/data/ChestX-ray8/test_images\n"
     ]
    },
    {
     "data": {
      "text/plain": [
       "'/azureml-share/chestxray/data/ChestX-ray8/test_images/00010767_008.png'"
      ]
     },
     "execution_count": 11,
     "metadata": {},
     "output_type": "execute_result"
    },
    {
     "name": "stdout",
     "output_type": "stream",
     "text": [
      "WARNING: image file 00014083_023.png already exists in /azureml-share/chestxray/data/ChestX-ray8/test_images\n"
     ]
    },
    {
     "data": {
      "text/plain": [
       "'/azureml-share/chestxray/data/ChestX-ray8/test_images/00014083_023.png'"
      ]
     },
     "execution_count": 11,
     "metadata": {},
     "output_type": "execute_result"
    },
    {
     "name": "stdout",
     "output_type": "stream",
     "text": [
      "WARNING: image file 00005869_001.png already exists in /azureml-share/chestxray/data/ChestX-ray8/test_images\n"
     ]
    },
    {
     "data": {
      "text/plain": [
       "'/azureml-share/chestxray/data/ChestX-ray8/test_images/00005869_001.png'"
      ]
     },
     "execution_count": 11,
     "metadata": {},
     "output_type": "execute_result"
    },
    {
     "name": "stdout",
     "output_type": "stream",
     "text": [
      "WARNING: image file 00025252_053.png already exists in /azureml-share/chestxray/data/ChestX-ray8/test_images\n"
     ]
    },
    {
     "data": {
      "text/plain": [
       "'/azureml-share/chestxray/data/ChestX-ray8/test_images/00025252_053.png'"
      ]
     },
     "execution_count": 11,
     "metadata": {},
     "output_type": "execute_result"
    },
    {
     "name": "stdout",
     "output_type": "stream",
     "text": [
      "WARNING: image file 00023078_003.png already exists in /azureml-share/chestxray/data/ChestX-ray8/test_images\n"
     ]
    },
    {
     "data": {
      "text/plain": [
       "'/azureml-share/chestxray/data/ChestX-ray8/test_images/00023078_003.png'"
      ]
     },
     "execution_count": 11,
     "metadata": {},
     "output_type": "execute_result"
    },
    {
     "name": "stdout",
     "output_type": "stream",
     "text": [
      "WARNING: image file 00010071_008.png already exists in /azureml-share/chestxray/data/ChestX-ray8/test_images\n"
     ]
    },
    {
     "data": {
      "text/plain": [
       "'/azureml-share/chestxray/data/ChestX-ray8/test_images/00010071_008.png'"
      ]
     },
     "execution_count": 11,
     "metadata": {},
     "output_type": "execute_result"
    },
    {
     "name": "stdout",
     "output_type": "stream",
     "text": [
      "WARNING: image file 00013471_002.png already exists in /azureml-share/chestxray/data/ChestX-ray8/test_images\n"
     ]
    },
    {
     "data": {
      "text/plain": [
       "'/azureml-share/chestxray/data/ChestX-ray8/test_images/00013471_002.png'"
      ]
     },
     "execution_count": 11,
     "metadata": {},
     "output_type": "execute_result"
    },
    {
     "name": "stdout",
     "output_type": "stream",
     "text": [
      "WARNING: image file 00012094_040.png already exists in /azureml-share/chestxray/data/ChestX-ray8/test_images\n"
     ]
    },
    {
     "data": {
      "text/plain": [
       "'/azureml-share/chestxray/data/ChestX-ray8/test_images/00012094_040.png'"
      ]
     },
     "execution_count": 11,
     "metadata": {},
     "output_type": "execute_result"
    },
    {
     "name": "stdout",
     "output_type": "stream",
     "text": [
      "WARNING: image file 00008841_025.png already exists in /azureml-share/chestxray/data/ChestX-ray8/test_images\n"
     ]
    },
    {
     "data": {
      "text/plain": [
       "'/azureml-share/chestxray/data/ChestX-ray8/test_images/00008841_025.png'"
      ]
     },
     "execution_count": 11,
     "metadata": {},
     "output_type": "execute_result"
    },
    {
     "name": "stdout",
     "output_type": "stream",
     "text": [
      "WARNING: image file 00012376_010.png already exists in /azureml-share/chestxray/data/ChestX-ray8/test_images\n"
     ]
    },
    {
     "data": {
      "text/plain": [
       "'/azureml-share/chestxray/data/ChestX-ray8/test_images/00012376_010.png'"
      ]
     },
     "execution_count": 11,
     "metadata": {},
     "output_type": "execute_result"
    },
    {
     "name": "stdout",
     "output_type": "stream",
     "text": [
      "WARNING: image file 00026886_002.png already exists in /azureml-share/chestxray/data/ChestX-ray8/test_images\n"
     ]
    },
    {
     "data": {
      "text/plain": [
       "'/azureml-share/chestxray/data/ChestX-ray8/test_images/00026886_002.png'"
      ]
     },
     "execution_count": 11,
     "metadata": {},
     "output_type": "execute_result"
    },
    {
     "name": "stdout",
     "output_type": "stream",
     "text": [
      "WARNING: image file 00010936_016.png already exists in /azureml-share/chestxray/data/ChestX-ray8/test_images\n"
     ]
    },
    {
     "data": {
      "text/plain": [
       "'/azureml-share/chestxray/data/ChestX-ray8/test_images/00010936_016.png'"
      ]
     },
     "execution_count": 11,
     "metadata": {},
     "output_type": "execute_result"
    },
    {
     "name": "stdout",
     "output_type": "stream",
     "text": [
      "WARNING: image file 00025252_054.png already exists in /azureml-share/chestxray/data/ChestX-ray8/test_images\n"
     ]
    },
    {
     "data": {
      "text/plain": [
       "'/azureml-share/chestxray/data/ChestX-ray8/test_images/00025252_054.png'"
      ]
     },
     "execution_count": 11,
     "metadata": {},
     "output_type": "execute_result"
    },
    {
     "name": "stderr",
     "output_type": "stream",
     "text": [
      "\r",
      " 91%|█████████▏| 898/984 [00:04<00:00, 204.43it/s]"
     ]
    },
    {
     "name": "stdout",
     "output_type": "stream",
     "text": [
      "WARNING: image file 00019124_104.png already exists in /azureml-share/chestxray/data/ChestX-ray8/test_images\n"
     ]
    },
    {
     "data": {
      "text/plain": [
       "'/azureml-share/chestxray/data/ChestX-ray8/test_images/00019124_104.png'"
      ]
     },
     "execution_count": 11,
     "metadata": {},
     "output_type": "execute_result"
    },
    {
     "name": "stdout",
     "output_type": "stream",
     "text": [
      "WARNING: image file 00027213_044.png already exists in /azureml-share/chestxray/data/ChestX-ray8/test_images\n"
     ]
    },
    {
     "data": {
      "text/plain": [
       "'/azureml-share/chestxray/data/ChestX-ray8/test_images/00027213_044.png'"
      ]
     },
     "execution_count": 11,
     "metadata": {},
     "output_type": "execute_result"
    },
    {
     "name": "stdout",
     "output_type": "stream",
     "text": [
      "WARNING: image file 00015530_147.png already exists in /azureml-share/chestxray/data/ChestX-ray8/test_images\n"
     ]
    },
    {
     "data": {
      "text/plain": [
       "'/azureml-share/chestxray/data/ChestX-ray8/test_images/00015530_147.png'"
      ]
     },
     "execution_count": 11,
     "metadata": {},
     "output_type": "execute_result"
    },
    {
     "name": "stdout",
     "output_type": "stream",
     "text": [
      "WARNING: image file 00001946_029.png already exists in /azureml-share/chestxray/data/ChestX-ray8/test_images\n"
     ]
    },
    {
     "data": {
      "text/plain": [
       "'/azureml-share/chestxray/data/ChestX-ray8/test_images/00001946_029.png'"
      ]
     },
     "execution_count": 11,
     "metadata": {},
     "output_type": "execute_result"
    },
    {
     "name": "stdout",
     "output_type": "stream",
     "text": [
      "WARNING: image file 00017137_016.png already exists in /azureml-share/chestxray/data/ChestX-ray8/test_images\n"
     ]
    },
    {
     "data": {
      "text/plain": [
       "'/azureml-share/chestxray/data/ChestX-ray8/test_images/00017137_016.png'"
      ]
     },
     "execution_count": 11,
     "metadata": {},
     "output_type": "execute_result"
    },
    {
     "name": "stdout",
     "output_type": "stream",
     "text": [
      "WARNING: image file 00014822_039.png already exists in /azureml-share/chestxray/data/ChestX-ray8/test_images\n"
     ]
    },
    {
     "data": {
      "text/plain": [
       "'/azureml-share/chestxray/data/ChestX-ray8/test_images/00014822_039.png'"
      ]
     },
     "execution_count": 11,
     "metadata": {},
     "output_type": "execute_result"
    },
    {
     "name": "stdout",
     "output_type": "stream",
     "text": [
      "WARNING: image file 00023162_025.png already exists in /azureml-share/chestxray/data/ChestX-ray8/test_images\n"
     ]
    },
    {
     "data": {
      "text/plain": [
       "'/azureml-share/chestxray/data/ChestX-ray8/test_images/00023162_025.png'"
      ]
     },
     "execution_count": 11,
     "metadata": {},
     "output_type": "execute_result"
    },
    {
     "name": "stdout",
     "output_type": "stream",
     "text": [
      "WARNING: image file 00026451_068.png already exists in /azureml-share/chestxray/data/ChestX-ray8/test_images\n"
     ]
    },
    {
     "data": {
      "text/plain": [
       "'/azureml-share/chestxray/data/ChestX-ray8/test_images/00026451_068.png'"
      ]
     },
     "execution_count": 11,
     "metadata": {},
     "output_type": "execute_result"
    },
    {
     "name": "stdout",
     "output_type": "stream",
     "text": [
      "WARNING: image file 00013209_018.png already exists in /azureml-share/chestxray/data/ChestX-ray8/test_images\n"
     ]
    },
    {
     "data": {
      "text/plain": [
       "'/azureml-share/chestxray/data/ChestX-ray8/test_images/00013209_018.png'"
      ]
     },
     "execution_count": 11,
     "metadata": {},
     "output_type": "execute_result"
    },
    {
     "name": "stdout",
     "output_type": "stream",
     "text": [
      "WARNING: image file 00013310_059.png already exists in /azureml-share/chestxray/data/ChestX-ray8/test_images\n"
     ]
    },
    {
     "data": {
      "text/plain": [
       "'/azureml-share/chestxray/data/ChestX-ray8/test_images/00013310_059.png'"
      ]
     },
     "execution_count": 11,
     "metadata": {},
     "output_type": "execute_result"
    },
    {
     "name": "stdout",
     "output_type": "stream",
     "text": [
      "WARNING: image file 00030111_007.png already exists in /azureml-share/chestxray/data/ChestX-ray8/test_images\n"
     ]
    },
    {
     "data": {
      "text/plain": [
       "'/azureml-share/chestxray/data/ChestX-ray8/test_images/00030111_007.png'"
      ]
     },
     "execution_count": 11,
     "metadata": {},
     "output_type": "execute_result"
    },
    {
     "name": "stdout",
     "output_type": "stream",
     "text": [
      "WARNING: image file 00025252_032.png already exists in /azureml-share/chestxray/data/ChestX-ray8/test_images\n"
     ]
    },
    {
     "data": {
      "text/plain": [
       "'/azureml-share/chestxray/data/ChestX-ray8/test_images/00025252_032.png'"
      ]
     },
     "execution_count": 11,
     "metadata": {},
     "output_type": "execute_result"
    },
    {
     "name": "stdout",
     "output_type": "stream",
     "text": [
      "WARNING: image file 00025787_050.png already exists in /azureml-share/chestxray/data/ChestX-ray8/test_images\n"
     ]
    },
    {
     "data": {
      "text/plain": [
       "'/azureml-share/chestxray/data/ChestX-ray8/test_images/00025787_050.png'"
      ]
     },
     "execution_count": 11,
     "metadata": {},
     "output_type": "execute_result"
    },
    {
     "name": "stdout",
     "output_type": "stream",
     "text": [
      "WARNING: image file 00009889_018.png already exists in /azureml-share/chestxray/data/ChestX-ray8/test_images\n"
     ]
    },
    {
     "data": {
      "text/plain": [
       "'/azureml-share/chestxray/data/ChestX-ray8/test_images/00009889_018.png'"
      ]
     },
     "execution_count": 11,
     "metadata": {},
     "output_type": "execute_result"
    },
    {
     "name": "stdout",
     "output_type": "stream",
     "text": [
      "WARNING: image file 00022141_030.png already exists in /azureml-share/chestxray/data/ChestX-ray8/test_images\n"
     ]
    },
    {
     "data": {
      "text/plain": [
       "'/azureml-share/chestxray/data/ChestX-ray8/test_images/00022141_030.png'"
      ]
     },
     "execution_count": 11,
     "metadata": {},
     "output_type": "execute_result"
    },
    {
     "name": "stdout",
     "output_type": "stream",
     "text": [
      "WARNING: image file 00020146_005.png already exists in /azureml-share/chestxray/data/ChestX-ray8/test_images\n"
     ]
    },
    {
     "data": {
      "text/plain": [
       "'/azureml-share/chestxray/data/ChestX-ray8/test_images/00020146_005.png'"
      ]
     },
     "execution_count": 11,
     "metadata": {},
     "output_type": "execute_result"
    },
    {
     "name": "stdout",
     "output_type": "stream",
     "text": [
      "WARNING: image file 00016429_015.png already exists in /azureml-share/chestxray/data/ChestX-ray8/test_images\n"
     ]
    },
    {
     "data": {
      "text/plain": [
       "'/azureml-share/chestxray/data/ChestX-ray8/test_images/00016429_015.png'"
      ]
     },
     "execution_count": 11,
     "metadata": {},
     "output_type": "execute_result"
    },
    {
     "name": "stdout",
     "output_type": "stream",
     "text": [
      "WARNING: image file 00026392_005.png already exists in /azureml-share/chestxray/data/ChestX-ray8/test_images\n"
     ]
    },
    {
     "data": {
      "text/plain": [
       "'/azureml-share/chestxray/data/ChestX-ray8/test_images/00026392_005.png'"
      ]
     },
     "execution_count": 11,
     "metadata": {},
     "output_type": "execute_result"
    },
    {
     "name": "stdout",
     "output_type": "stream",
     "text": [
      "WARNING: image file 00022141_023.png already exists in /azureml-share/chestxray/data/ChestX-ray8/test_images\n"
     ]
    },
    {
     "data": {
      "text/plain": [
       "'/azureml-share/chestxray/data/ChestX-ray8/test_images/00022141_023.png'"
      ]
     },
     "execution_count": 11,
     "metadata": {},
     "output_type": "execute_result"
    },
    {
     "name": "stdout",
     "output_type": "stream",
     "text": [
      "WARNING: image file 00017747_008.png already exists in /azureml-share/chestxray/data/ChestX-ray8/test_images\n"
     ]
    },
    {
     "data": {
      "text/plain": [
       "'/azureml-share/chestxray/data/ChestX-ray8/test_images/00017747_008.png'"
      ]
     },
     "execution_count": 11,
     "metadata": {},
     "output_type": "execute_result"
    },
    {
     "name": "stdout",
     "output_type": "stream",
     "text": [
      "WARNING: image file 00000732_005.png already exists in /azureml-share/chestxray/data/ChestX-ray8/test_images\n"
     ]
    },
    {
     "data": {
      "text/plain": [
       "'/azureml-share/chestxray/data/ChestX-ray8/test_images/00000732_005.png'"
      ]
     },
     "execution_count": 11,
     "metadata": {},
     "output_type": "execute_result"
    },
    {
     "name": "stderr",
     "output_type": "stream",
     "text": [
      "\r",
      " 93%|█████████▎| 919/984 [00:04<00:00, 205.43it/s]"
     ]
    },
    {
     "name": "stdout",
     "output_type": "stream",
     "text": [
      "WARNING: image file 00018496_007.png already exists in /azureml-share/chestxray/data/ChestX-ray8/test_images\n"
     ]
    },
    {
     "data": {
      "text/plain": [
       "'/azureml-share/chestxray/data/ChestX-ray8/test_images/00018496_007.png'"
      ]
     },
     "execution_count": 11,
     "metadata": {},
     "output_type": "execute_result"
    },
    {
     "name": "stdout",
     "output_type": "stream",
     "text": [
      "WARNING: image file 00005140_001.png already exists in /azureml-share/chestxray/data/ChestX-ray8/test_images\n"
     ]
    },
    {
     "data": {
      "text/plain": [
       "'/azureml-share/chestxray/data/ChestX-ray8/test_images/00005140_001.png'"
      ]
     },
     "execution_count": 11,
     "metadata": {},
     "output_type": "execute_result"
    },
    {
     "name": "stdout",
     "output_type": "stream",
     "text": [
      "WARNING: image file 00001248_038.png already exists in /azureml-share/chestxray/data/ChestX-ray8/test_images\n"
     ]
    },
    {
     "data": {
      "text/plain": [
       "'/azureml-share/chestxray/data/ChestX-ray8/test_images/00001248_038.png'"
      ]
     },
     "execution_count": 11,
     "metadata": {},
     "output_type": "execute_result"
    },
    {
     "name": "stdout",
     "output_type": "stream",
     "text": [
      "WARNING: image file 00018055_005.png already exists in /azureml-share/chestxray/data/ChestX-ray8/test_images\n"
     ]
    },
    {
     "data": {
      "text/plain": [
       "'/azureml-share/chestxray/data/ChestX-ray8/test_images/00018055_005.png'"
      ]
     },
     "execution_count": 11,
     "metadata": {},
     "output_type": "execute_result"
    },
    {
     "name": "stdout",
     "output_type": "stream",
     "text": [
      "WARNING: image file 00012094_047.png already exists in /azureml-share/chestxray/data/ChestX-ray8/test_images\n"
     ]
    },
    {
     "data": {
      "text/plain": [
       "'/azureml-share/chestxray/data/ChestX-ray8/test_images/00012094_047.png'"
      ]
     },
     "execution_count": 11,
     "metadata": {},
     "output_type": "execute_result"
    },
    {
     "name": "stdout",
     "output_type": "stream",
     "text": [
      "WARNING: image file 00008841_044.png already exists in /azureml-share/chestxray/data/ChestX-ray8/test_images\n"
     ]
    },
    {
     "data": {
      "text/plain": [
       "'/azureml-share/chestxray/data/ChestX-ray8/test_images/00008841_044.png'"
      ]
     },
     "execution_count": 11,
     "metadata": {},
     "output_type": "execute_result"
    },
    {
     "name": "stdout",
     "output_type": "stream",
     "text": [
      "WARNING: image file 00028876_027.png already exists in /azureml-share/chestxray/data/ChestX-ray8/test_images\n"
     ]
    },
    {
     "data": {
      "text/plain": [
       "'/azureml-share/chestxray/data/ChestX-ray8/test_images/00028876_027.png'"
      ]
     },
     "execution_count": 11,
     "metadata": {},
     "output_type": "execute_result"
    },
    {
     "name": "stdout",
     "output_type": "stream",
     "text": [
      "WARNING: image file 00002176_007.png already exists in /azureml-share/chestxray/data/ChestX-ray8/test_images\n"
     ]
    },
    {
     "data": {
      "text/plain": [
       "'/azureml-share/chestxray/data/ChestX-ray8/test_images/00002176_007.png'"
      ]
     },
     "execution_count": 11,
     "metadata": {},
     "output_type": "execute_result"
    },
    {
     "name": "stdout",
     "output_type": "stream",
     "text": [
      "WARNING: image file 00029259_027.png already exists in /azureml-share/chestxray/data/ChestX-ray8/test_images\n"
     ]
    },
    {
     "data": {
      "text/plain": [
       "'/azureml-share/chestxray/data/ChestX-ray8/test_images/00029259_027.png'"
      ]
     },
     "execution_count": 11,
     "metadata": {},
     "output_type": "execute_result"
    },
    {
     "name": "stdout",
     "output_type": "stream",
     "text": [
      "WARNING: image file 00025368_018.png already exists in /azureml-share/chestxray/data/ChestX-ray8/test_images\n"
     ]
    },
    {
     "data": {
      "text/plain": [
       "'/azureml-share/chestxray/data/ChestX-ray8/test_images/00025368_018.png'"
      ]
     },
     "execution_count": 11,
     "metadata": {},
     "output_type": "execute_result"
    },
    {
     "name": "stdout",
     "output_type": "stream",
     "text": [
      "WARNING: image file 00021321_002.png already exists in /azureml-share/chestxray/data/ChestX-ray8/test_images\n"
     ]
    },
    {
     "data": {
      "text/plain": [
       "'/azureml-share/chestxray/data/ChestX-ray8/test_images/00021321_002.png'"
      ]
     },
     "execution_count": 11,
     "metadata": {},
     "output_type": "execute_result"
    },
    {
     "name": "stdout",
     "output_type": "stream",
     "text": [
      "WARNING: image file 00027278_007.png already exists in /azureml-share/chestxray/data/ChestX-ray8/test_images\n"
     ]
    },
    {
     "data": {
      "text/plain": [
       "'/azureml-share/chestxray/data/ChestX-ray8/test_images/00027278_007.png'"
      ]
     },
     "execution_count": 11,
     "metadata": {},
     "output_type": "execute_result"
    },
    {
     "name": "stdout",
     "output_type": "stream",
     "text": [
      "WARNING: image file 00011831_010.png already exists in /azureml-share/chestxray/data/ChestX-ray8/test_images\n"
     ]
    },
    {
     "data": {
      "text/plain": [
       "'/azureml-share/chestxray/data/ChestX-ray8/test_images/00011831_010.png'"
      ]
     },
     "execution_count": 11,
     "metadata": {},
     "output_type": "execute_result"
    },
    {
     "name": "stdout",
     "output_type": "stream",
     "text": [
      "WARNING: image file 00002176_005.png already exists in /azureml-share/chestxray/data/ChestX-ray8/test_images\n"
     ]
    },
    {
     "data": {
      "text/plain": [
       "'/azureml-share/chestxray/data/ChestX-ray8/test_images/00002176_005.png'"
      ]
     },
     "execution_count": 11,
     "metadata": {},
     "output_type": "execute_result"
    },
    {
     "name": "stdout",
     "output_type": "stream",
     "text": [
      "WARNING: image file 00029807_003.png already exists in /azureml-share/chestxray/data/ChestX-ray8/test_images\n"
     ]
    },
    {
     "data": {
      "text/plain": [
       "'/azureml-share/chestxray/data/ChestX-ray8/test_images/00029807_003.png'"
      ]
     },
     "execution_count": 11,
     "metadata": {},
     "output_type": "execute_result"
    },
    {
     "name": "stdout",
     "output_type": "stream",
     "text": [
      "WARNING: image file 00009166_004.png already exists in /azureml-share/chestxray/data/ChestX-ray8/test_images\n"
     ]
    },
    {
     "data": {
      "text/plain": [
       "'/azureml-share/chestxray/data/ChestX-ray8/test_images/00009166_004.png'"
      ]
     },
     "execution_count": 11,
     "metadata": {},
     "output_type": "execute_result"
    },
    {
     "name": "stdout",
     "output_type": "stream",
     "text": [
      "WARNING: image file 00025368_033.png already exists in /azureml-share/chestxray/data/ChestX-ray8/test_images\n"
     ]
    },
    {
     "data": {
      "text/plain": [
       "'/azureml-share/chestxray/data/ChestX-ray8/test_images/00025368_033.png'"
      ]
     },
     "execution_count": 11,
     "metadata": {},
     "output_type": "execute_result"
    },
    {
     "name": "stdout",
     "output_type": "stream",
     "text": [
      "WARNING: image file 00020408_058.png already exists in /azureml-share/chestxray/data/ChestX-ray8/test_images\n"
     ]
    },
    {
     "data": {
      "text/plain": [
       "'/azureml-share/chestxray/data/ChestX-ray8/test_images/00020408_058.png'"
      ]
     },
     "execution_count": 11,
     "metadata": {},
     "output_type": "execute_result"
    },
    {
     "name": "stdout",
     "output_type": "stream",
     "text": [
      "WARNING: image file 00025954_025.png already exists in /azureml-share/chestxray/data/ChestX-ray8/test_images\n"
     ]
    },
    {
     "data": {
      "text/plain": [
       "'/azureml-share/chestxray/data/ChestX-ray8/test_images/00025954_025.png'"
      ]
     },
     "execution_count": 11,
     "metadata": {},
     "output_type": "execute_result"
    },
    {
     "name": "stdout",
     "output_type": "stream",
     "text": [
      "WARNING: image file 00021782_028.png already exists in /azureml-share/chestxray/data/ChestX-ray8/test_images\n"
     ]
    },
    {
     "data": {
      "text/plain": [
       "'/azureml-share/chestxray/data/ChestX-ray8/test_images/00021782_028.png'"
      ]
     },
     "execution_count": 11,
     "metadata": {},
     "output_type": "execute_result"
    },
    {
     "name": "stdout",
     "output_type": "stream",
     "text": [
      "WARNING: image file 00016568_026.png already exists in /azureml-share/chestxray/data/ChestX-ray8/test_images\n"
     ]
    },
    {
     "data": {
      "text/plain": [
       "'/azureml-share/chestxray/data/ChestX-ray8/test_images/00016568_026.png'"
      ]
     },
     "execution_count": 11,
     "metadata": {},
     "output_type": "execute_result"
    },
    {
     "name": "stdout",
     "output_type": "stream",
     "text": [
      "WARNING: image file 00029075_013.png already exists in /azureml-share/chestxray/data/ChestX-ray8/test_images\n"
     ]
    },
    {
     "data": {
      "text/plain": [
       "'/azureml-share/chestxray/data/ChestX-ray8/test_images/00029075_013.png'"
      ]
     },
     "execution_count": 11,
     "metadata": {},
     "output_type": "execute_result"
    },
    {
     "name": "stderr",
     "output_type": "stream",
     "text": [
      "\r",
      " 96%|█████████▌| 941/984 [00:04<00:00, 207.51it/s]"
     ]
    },
    {
     "name": "stdout",
     "output_type": "stream",
     "text": [
      "WARNING: image file 00012622_016.png already exists in /azureml-share/chestxray/data/ChestX-ray8/test_images\n"
     ]
    },
    {
     "data": {
      "text/plain": [
       "'/azureml-share/chestxray/data/ChestX-ray8/test_images/00012622_016.png'"
      ]
     },
     "execution_count": 11,
     "metadata": {},
     "output_type": "execute_result"
    },
    {
     "name": "stdout",
     "output_type": "stream",
     "text": [
      "WARNING: image file 00004342_050.png already exists in /azureml-share/chestxray/data/ChestX-ray8/test_images\n"
     ]
    },
    {
     "data": {
      "text/plain": [
       "'/azureml-share/chestxray/data/ChestX-ray8/test_images/00004342_050.png'"
      ]
     },
     "execution_count": 11,
     "metadata": {},
     "output_type": "execute_result"
    },
    {
     "name": "stdout",
     "output_type": "stream",
     "text": [
      "WARNING: image file 00026221_001.png already exists in /azureml-share/chestxray/data/ChestX-ray8/test_images\n"
     ]
    },
    {
     "data": {
      "text/plain": [
       "'/azureml-share/chestxray/data/ChestX-ray8/test_images/00026221_001.png'"
      ]
     },
     "execution_count": 11,
     "metadata": {},
     "output_type": "execute_result"
    },
    {
     "name": "stdout",
     "output_type": "stream",
     "text": [
      "WARNING: image file 00028861_009.png already exists in /azureml-share/chestxray/data/ChestX-ray8/test_images\n"
     ]
    },
    {
     "data": {
      "text/plain": [
       "'/azureml-share/chestxray/data/ChestX-ray8/test_images/00028861_009.png'"
      ]
     },
     "execution_count": 11,
     "metadata": {},
     "output_type": "execute_result"
    },
    {
     "name": "stdout",
     "output_type": "stream",
     "text": [
      "WARNING: image file 00021700_010.png already exists in /azureml-share/chestxray/data/ChestX-ray8/test_images\n"
     ]
    },
    {
     "data": {
      "text/plain": [
       "'/azureml-share/chestxray/data/ChestX-ray8/test_images/00021700_010.png'"
      ]
     },
     "execution_count": 11,
     "metadata": {},
     "output_type": "execute_result"
    },
    {
     "name": "stdout",
     "output_type": "stream",
     "text": [
      "WARNING: image file 00020318_022.png already exists in /azureml-share/chestxray/data/ChestX-ray8/test_images\n"
     ]
    },
    {
     "data": {
      "text/plain": [
       "'/azureml-share/chestxray/data/ChestX-ray8/test_images/00020318_022.png'"
      ]
     },
     "execution_count": 11,
     "metadata": {},
     "output_type": "execute_result"
    },
    {
     "name": "stdout",
     "output_type": "stream",
     "text": [
      "WARNING: image file 00007471_003.png already exists in /azureml-share/chestxray/data/ChestX-ray8/test_images\n"
     ]
    },
    {
     "data": {
      "text/plain": [
       "'/azureml-share/chestxray/data/ChestX-ray8/test_images/00007471_003.png'"
      ]
     },
     "execution_count": 11,
     "metadata": {},
     "output_type": "execute_result"
    },
    {
     "name": "stdout",
     "output_type": "stream",
     "text": [
      "WARNING: image file 00028628_008.png already exists in /azureml-share/chestxray/data/ChestX-ray8/test_images\n"
     ]
    },
    {
     "data": {
      "text/plain": [
       "'/azureml-share/chestxray/data/ChestX-ray8/test_images/00028628_008.png'"
      ]
     },
     "execution_count": 11,
     "metadata": {},
     "output_type": "execute_result"
    },
    {
     "name": "stdout",
     "output_type": "stream",
     "text": [
      "WARNING: image file 00011355_011.png already exists in /azureml-share/chestxray/data/ChestX-ray8/test_images\n"
     ]
    },
    {
     "data": {
      "text/plain": [
       "'/azureml-share/chestxray/data/ChestX-ray8/test_images/00011355_011.png'"
      ]
     },
     "execution_count": 11,
     "metadata": {},
     "output_type": "execute_result"
    },
    {
     "name": "stdout",
     "output_type": "stream",
     "text": [
      "WARNING: image file 00030606_006.png already exists in /azureml-share/chestxray/data/ChestX-ray8/test_images\n"
     ]
    },
    {
     "data": {
      "text/plain": [
       "'/azureml-share/chestxray/data/ChestX-ray8/test_images/00030606_006.png'"
      ]
     },
     "execution_count": 11,
     "metadata": {},
     "output_type": "execute_result"
    },
    {
     "name": "stdout",
     "output_type": "stream",
     "text": [
      "WARNING: image file 00027652_003.png already exists in /azureml-share/chestxray/data/ChestX-ray8/test_images\n"
     ]
    },
    {
     "data": {
      "text/plain": [
       "'/azureml-share/chestxray/data/ChestX-ray8/test_images/00027652_003.png'"
      ]
     },
     "execution_count": 11,
     "metadata": {},
     "output_type": "execute_result"
    },
    {
     "name": "stdout",
     "output_type": "stream",
     "text": [
      "WARNING: image file 00021896_003.png already exists in /azureml-share/chestxray/data/ChestX-ray8/test_images\n"
     ]
    },
    {
     "data": {
      "text/plain": [
       "'/azureml-share/chestxray/data/ChestX-ray8/test_images/00021896_003.png'"
      ]
     },
     "execution_count": 11,
     "metadata": {},
     "output_type": "execute_result"
    },
    {
     "name": "stdout",
     "output_type": "stream",
     "text": [
      "WARNING: image file 00011355_027.png already exists in /azureml-share/chestxray/data/ChestX-ray8/test_images\n"
     ]
    },
    {
     "data": {
      "text/plain": [
       "'/azureml-share/chestxray/data/ChestX-ray8/test_images/00011355_027.png'"
      ]
     },
     "execution_count": 11,
     "metadata": {},
     "output_type": "execute_result"
    },
    {
     "name": "stdout",
     "output_type": "stream",
     "text": [
      "WARNING: image file 00017243_010.png already exists in /azureml-share/chestxray/data/ChestX-ray8/test_images\n"
     ]
    },
    {
     "data": {
      "text/plain": [
       "'/azureml-share/chestxray/data/ChestX-ray8/test_images/00017243_010.png'"
      ]
     },
     "execution_count": 11,
     "metadata": {},
     "output_type": "execute_result"
    },
    {
     "name": "stdout",
     "output_type": "stream",
     "text": [
      "WARNING: image file 00028924_009.png already exists in /azureml-share/chestxray/data/ChestX-ray8/test_images\n"
     ]
    },
    {
     "data": {
      "text/plain": [
       "'/azureml-share/chestxray/data/ChestX-ray8/test_images/00028924_009.png'"
      ]
     },
     "execution_count": 11,
     "metadata": {},
     "output_type": "execute_result"
    },
    {
     "name": "stdout",
     "output_type": "stream",
     "text": [
      "WARNING: image file 00025787_039.png already exists in /azureml-share/chestxray/data/ChestX-ray8/test_images\n"
     ]
    },
    {
     "data": {
      "text/plain": [
       "'/azureml-share/chestxray/data/ChestX-ray8/test_images/00025787_039.png'"
      ]
     },
     "execution_count": 11,
     "metadata": {},
     "output_type": "execute_result"
    },
    {
     "name": "stdout",
     "output_type": "stream",
     "text": [
      "WARNING: image file 00018055_038.png already exists in /azureml-share/chestxray/data/ChestX-ray8/test_images\n"
     ]
    },
    {
     "data": {
      "text/plain": [
       "'/azureml-share/chestxray/data/ChestX-ray8/test_images/00018055_038.png'"
      ]
     },
     "execution_count": 11,
     "metadata": {},
     "output_type": "execute_result"
    },
    {
     "name": "stdout",
     "output_type": "stream",
     "text": [
      "WARNING: image file 00016937_014.png already exists in /azureml-share/chestxray/data/ChestX-ray8/test_images\n"
     ]
    },
    {
     "data": {
      "text/plain": [
       "'/azureml-share/chestxray/data/ChestX-ray8/test_images/00016937_014.png'"
      ]
     },
     "execution_count": 11,
     "metadata": {},
     "output_type": "execute_result"
    },
    {
     "name": "stdout",
     "output_type": "stream",
     "text": [
      "WARNING: image file 00019706_002.png already exists in /azureml-share/chestxray/data/ChestX-ray8/test_images\n"
     ]
    },
    {
     "data": {
      "text/plain": [
       "'/azureml-share/chestxray/data/ChestX-ray8/test_images/00019706_002.png'"
      ]
     },
     "execution_count": 11,
     "metadata": {},
     "output_type": "execute_result"
    },
    {
     "name": "stdout",
     "output_type": "stream",
     "text": [
      "WARNING: image file 00020671_010.png already exists in /azureml-share/chestxray/data/ChestX-ray8/test_images\n"
     ]
    },
    {
     "data": {
      "text/plain": [
       "'/azureml-share/chestxray/data/ChestX-ray8/test_images/00020671_010.png'"
      ]
     },
     "execution_count": 11,
     "metadata": {},
     "output_type": "execute_result"
    },
    {
     "name": "stdout",
     "output_type": "stream",
     "text": [
      "WARNING: image file 00030162_029.png already exists in /azureml-share/chestxray/data/ChestX-ray8/test_images\n"
     ]
    },
    {
     "data": {
      "text/plain": [
       "'/azureml-share/chestxray/data/ChestX-ray8/test_images/00030162_029.png'"
      ]
     },
     "execution_count": 11,
     "metadata": {},
     "output_type": "execute_result"
    },
    {
     "name": "stdout",
     "output_type": "stream",
     "text": [
      "WARNING: image file 00014626_017.png already exists in /azureml-share/chestxray/data/ChestX-ray8/test_images\n"
     ]
    },
    {
     "data": {
      "text/plain": [
       "'/azureml-share/chestxray/data/ChestX-ray8/test_images/00014626_017.png'"
      ]
     },
     "execution_count": 11,
     "metadata": {},
     "output_type": "execute_result"
    },
    {
     "name": "stdout",
     "output_type": "stream",
     "text": [
      "WARNING: image file 00019124_006.png already exists in /azureml-share/chestxray/data/ChestX-ray8/test_images\n"
     ]
    },
    {
     "data": {
      "text/plain": [
       "'/azureml-share/chestxray/data/ChestX-ray8/test_images/00019124_006.png'"
      ]
     },
     "execution_count": 11,
     "metadata": {},
     "output_type": "execute_result"
    },
    {
     "name": "stderr",
     "output_type": "stream",
     "text": [
      "\r",
      " 98%|█████████▊| 964/984 [00:04<00:00, 212.90it/s]"
     ]
    },
    {
     "name": "stdout",
     "output_type": "stream",
     "text": [
      "WARNING: image file 00018055_045.png already exists in /azureml-share/chestxray/data/ChestX-ray8/test_images\n"
     ]
    },
    {
     "data": {
      "text/plain": [
       "'/azureml-share/chestxray/data/ChestX-ray8/test_images/00018055_045.png'"
      ]
     },
     "execution_count": 11,
     "metadata": {},
     "output_type": "execute_result"
    },
    {
     "name": "stdout",
     "output_type": "stream",
     "text": [
      "WARNING: image file 00008814_010.png already exists in /azureml-share/chestxray/data/ChestX-ray8/test_images\n"
     ]
    },
    {
     "data": {
      "text/plain": [
       "'/azureml-share/chestxray/data/ChestX-ray8/test_images/00008814_010.png'"
      ]
     },
     "execution_count": 11,
     "metadata": {},
     "output_type": "execute_result"
    },
    {
     "name": "stdout",
     "output_type": "stream",
     "text": [
      "WARNING: image file 00000583_008.png already exists in /azureml-share/chestxray/data/ChestX-ray8/test_images\n"
     ]
    },
    {
     "data": {
      "text/plain": [
       "'/azureml-share/chestxray/data/ChestX-ray8/test_images/00000583_008.png'"
      ]
     },
     "execution_count": 11,
     "metadata": {},
     "output_type": "execute_result"
    },
    {
     "name": "stdout",
     "output_type": "stream",
     "text": [
      "WARNING: image file 00010828_039.png already exists in /azureml-share/chestxray/data/ChestX-ray8/test_images\n"
     ]
    },
    {
     "data": {
      "text/plain": [
       "'/azureml-share/chestxray/data/ChestX-ray8/test_images/00010828_039.png'"
      ]
     },
     "execution_count": 11,
     "metadata": {},
     "output_type": "execute_result"
    },
    {
     "name": "stdout",
     "output_type": "stream",
     "text": [
      "WARNING: image file 00019917_004.png already exists in /azureml-share/chestxray/data/ChestX-ray8/test_images\n"
     ]
    },
    {
     "data": {
      "text/plain": [
       "'/azureml-share/chestxray/data/ChestX-ray8/test_images/00019917_004.png'"
      ]
     },
     "execution_count": 11,
     "metadata": {},
     "output_type": "execute_result"
    },
    {
     "name": "stdout",
     "output_type": "stream",
     "text": [
      "WARNING: image file 00018253_059.png already exists in /azureml-share/chestxray/data/ChestX-ray8/test_images\n"
     ]
    },
    {
     "data": {
      "text/plain": [
       "'/azureml-share/chestxray/data/ChestX-ray8/test_images/00018253_059.png'"
      ]
     },
     "execution_count": 11,
     "metadata": {},
     "output_type": "execute_result"
    },
    {
     "name": "stdout",
     "output_type": "stream",
     "text": [
      "WARNING: image file 00030636_004.png already exists in /azureml-share/chestxray/data/ChestX-ray8/test_images\n"
     ]
    },
    {
     "data": {
      "text/plain": [
       "'/azureml-share/chestxray/data/ChestX-ray8/test_images/00030636_004.png'"
      ]
     },
     "execution_count": 11,
     "metadata": {},
     "output_type": "execute_result"
    },
    {
     "name": "stdout",
     "output_type": "stream",
     "text": [
      "WARNING: image file 00001153_004.png already exists in /azureml-share/chestxray/data/ChestX-ray8/test_images\n"
     ]
    },
    {
     "data": {
      "text/plain": [
       "'/azureml-share/chestxray/data/ChestX-ray8/test_images/00001153_004.png'"
      ]
     },
     "execution_count": 11,
     "metadata": {},
     "output_type": "execute_result"
    },
    {
     "name": "stdout",
     "output_type": "stream",
     "text": [
      "WARNING: image file 00012299_002.png already exists in /azureml-share/chestxray/data/ChestX-ray8/test_images\n"
     ]
    },
    {
     "data": {
      "text/plain": [
       "'/azureml-share/chestxray/data/ChestX-ray8/test_images/00012299_002.png'"
      ]
     },
     "execution_count": 11,
     "metadata": {},
     "output_type": "execute_result"
    },
    {
     "name": "stdout",
     "output_type": "stream",
     "text": [
      "WARNING: image file 00021703_001.png already exists in /azureml-share/chestxray/data/ChestX-ray8/test_images\n"
     ]
    },
    {
     "data": {
      "text/plain": [
       "'/azureml-share/chestxray/data/ChestX-ray8/test_images/00021703_001.png'"
      ]
     },
     "execution_count": 11,
     "metadata": {},
     "output_type": "execute_result"
    },
    {
     "name": "stdout",
     "output_type": "stream",
     "text": [
      "WARNING: image file 00029464_003.png already exists in /azureml-share/chestxray/data/ChestX-ray8/test_images\n"
     ]
    },
    {
     "data": {
      "text/plain": [
       "'/azureml-share/chestxray/data/ChestX-ray8/test_images/00029464_003.png'"
      ]
     },
     "execution_count": 11,
     "metadata": {},
     "output_type": "execute_result"
    },
    {
     "name": "stdout",
     "output_type": "stream",
     "text": [
      "WARNING: image file 00010815_006.png already exists in /azureml-share/chestxray/data/ChestX-ray8/test_images\n"
     ]
    },
    {
     "data": {
      "text/plain": [
       "'/azureml-share/chestxray/data/ChestX-ray8/test_images/00010815_006.png'"
      ]
     },
     "execution_count": 11,
     "metadata": {},
     "output_type": "execute_result"
    },
    {
     "name": "stdout",
     "output_type": "stream",
     "text": [
      "WARNING: image file 00001320_003.png already exists in /azureml-share/chestxray/data/ChestX-ray8/test_images\n"
     ]
    },
    {
     "data": {
      "text/plain": [
       "'/azureml-share/chestxray/data/ChestX-ray8/test_images/00001320_003.png'"
      ]
     },
     "execution_count": 11,
     "metadata": {},
     "output_type": "execute_result"
    },
    {
     "name": "stdout",
     "output_type": "stream",
     "text": [
      "WARNING: image file 00020482_032.png already exists in /azureml-share/chestxray/data/ChestX-ray8/test_images\n"
     ]
    },
    {
     "data": {
      "text/plain": [
       "'/azureml-share/chestxray/data/ChestX-ray8/test_images/00020482_032.png'"
      ]
     },
     "execution_count": 11,
     "metadata": {},
     "output_type": "execute_result"
    },
    {
     "name": "stdout",
     "output_type": "stream",
     "text": [
      "WARNING: image file 00013187_002.png already exists in /azureml-share/chestxray/data/ChestX-ray8/test_images\n"
     ]
    },
    {
     "data": {
      "text/plain": [
       "'/azureml-share/chestxray/data/ChestX-ray8/test_images/00013187_002.png'"
      ]
     },
     "execution_count": 11,
     "metadata": {},
     "output_type": "execute_result"
    },
    {
     "name": "stdout",
     "output_type": "stream",
     "text": [
      "WARNING: image file 00029464_015.png already exists in /azureml-share/chestxray/data/ChestX-ray8/test_images\n"
     ]
    },
    {
     "data": {
      "text/plain": [
       "'/azureml-share/chestxray/data/ChestX-ray8/test_images/00029464_015.png'"
      ]
     },
     "execution_count": 11,
     "metadata": {},
     "output_type": "execute_result"
    },
    {
     "name": "stdout",
     "output_type": "stream",
     "text": [
      "WARNING: image file 00025769_001.png already exists in /azureml-share/chestxray/data/ChestX-ray8/test_images\n"
     ]
    },
    {
     "data": {
      "text/plain": [
       "'/azureml-share/chestxray/data/ChestX-ray8/test_images/00025769_001.png'"
      ]
     },
     "execution_count": 11,
     "metadata": {},
     "output_type": "execute_result"
    },
    {
     "name": "stdout",
     "output_type": "stream",
     "text": [
      "WARNING: image file 00016837_002.png already exists in /azureml-share/chestxray/data/ChestX-ray8/test_images\n"
     ]
    },
    {
     "data": {
      "text/plain": [
       "'/azureml-share/chestxray/data/ChestX-ray8/test_images/00016837_002.png'"
      ]
     },
     "execution_count": 11,
     "metadata": {},
     "output_type": "execute_result"
    },
    {
     "name": "stdout",
     "output_type": "stream",
     "text": [
      "WARNING: image file 00020124_003.png already exists in /azureml-share/chestxray/data/ChestX-ray8/test_images\n"
     ]
    },
    {
     "data": {
      "text/plain": [
       "'/azureml-share/chestxray/data/ChestX-ray8/test_images/00020124_003.png'"
      ]
     },
     "execution_count": 11,
     "metadata": {},
     "output_type": "execute_result"
    },
    {
     "name": "stdout",
     "output_type": "stream",
     "text": [
      "WARNING: image file 00026920_000.png already exists in /azureml-share/chestxray/data/ChestX-ray8/test_images\n"
     ]
    },
    {
     "data": {
      "text/plain": [
       "'/azureml-share/chestxray/data/ChestX-ray8/test_images/00026920_000.png'"
      ]
     },
     "execution_count": 11,
     "metadata": {},
     "output_type": "execute_result"
    },
    {
     "name": "stderr",
     "output_type": "stream",
     "text": [
      "100%|██████████| 984/984 [00:04<00:00, 209.97it/s]\n"
     ]
    }
   ],
   "source": [
    "# move/copy all bbox images in test folder since these are not used for training anyway\n",
    "\n",
    "test_images_dir=os.path.join(data_base_input_dir, 'test_images')\n",
    "!mkdir -p {test_images_dir}\n",
    "\n",
    "bbox_images_list = list(bbox_df['Image Index'])\n",
    "for crt_file in tqdm.tqdm(bbox_images_list):\n",
    "        source_file = os.path.join(nih_chest_xray_data_dir,crt_file)\n",
    "        dest_file = os.path.join(test_images_dir,crt_file)\n",
    "        if os.path.exists(dest_file):\n",
    "            print('WARNING: image file '+crt_file+' already exists in '+test_images_dir)\n",
    "#         print('crt_file')\n",
    "\n",
    "        try:\n",
    "            shutil.copyfile(source_file,dest_file)\n",
    "        except IOError:\n",
    "            print('WARNING: File '+ src_file_path + ' does not exist when copying to '+test_images_dir )"
   ]
  },
  {
   "cell_type": "code",
   "execution_count": 12,
   "metadata": {},
   "outputs": [
    {
     "name": "stdout",
     "output_type": "stream",
     "text": [
      "first ten patient ids are [24303, 16035, 4967, 28624, 5378, 20335, 17069, 12271, 16975, 4469]\n",
      "train:21563 valid:3081 test:6161\n"
     ]
    }
   ],
   "source": [
    "random.seed(0)\n",
    "random.shuffle(patient_id)\n",
    "\n",
    "print(\"first ten patient ids are\", patient_id[:10])\n",
    "\n",
    "# training:valid:test=7:1:2\n",
    "patient_id_train = patient_id[:int(total_patient_number * 0.7)]\n",
    "patient_id_valid = patient_id[int(total_patient_number * 0.7):int(total_patient_number * 0.8)]\n",
    "# get the rest of the patient_id as the test set\n",
    "patient_id_test = patient_id[int(total_patient_number * 0.8):]\n",
    "patient_id_test.extend(bbox_patient_index_list)\n",
    "patient_id_test = list(set(patient_id_test))\n",
    "\n",
    "\n",
    "print(\"train:{} valid:{} test:{}\".format(len(patient_id_train), len(patient_id_valid), len(patient_id_test)))\n",
    "\n",
    "# test_set = test_set+left_out_patient_id\n",
    "# print(\"train:{} valid:{} test:{}\".format(len(train_set), len(valid_set), len(test_set)))"
   ]
  },
  {
   "cell_type": "code",
   "execution_count": 13,
   "metadata": {},
   "outputs": [],
   "source": [
    "# Add a few more project constants\n",
    "\n",
    "pathologies_name_list = prj_consts.DISEASE_list\n",
    "NIH_patients_and_labels_file = 'Data_Entry_2017.csv'"
   ]
  },
  {
   "cell_type": "markdown",
   "metadata": {},
   "source": [
    "#### Finally do preprocessing\n",
    "Save labels and partitions"
   ]
  },
  {
   "cell_type": "code",
   "execution_count": 14,
   "metadata": {},
   "outputs": [],
   "source": [
    "labels_df = pd.read_csv(os.path.join(other_data_dir, NIH_patients_and_labels_file))"
   ]
  },
  {
   "cell_type": "code",
   "execution_count": 15,
   "metadata": {},
   "outputs": [
    {
     "data": {
      "text/plain": [
       "836"
      ]
     },
     "execution_count": 15,
     "metadata": {},
     "output_type": "execute_result"
    },
    {
     "data": {
      "text/plain": [
       "[('No Finding', 60361),\n",
       " ('Infiltration', 9547),\n",
       " ('Atelectasis', 4215),\n",
       " ('Effusion', 3955),\n",
       " ('Nodule', 2705),\n",
       " ('Pneumothorax', 2194),\n",
       " ('Mass', 2139),\n",
       " ('Effusion|Infiltration', 1603),\n",
       " ('Atelectasis|Infiltration', 1350),\n",
       " ('Consolidation', 1310),\n",
       " ('Atelectasis|Effusion', 1165),\n",
       " ('Pleural_Thickening', 1126),\n",
       " ('Cardiomegaly', 1093),\n",
       " ('Emphysema', 892),\n",
       " ('Infiltration|Nodule', 829),\n",
       " ('Atelectasis|Effusion|Infiltration', 737),\n",
       " ('Fibrosis', 727),\n",
       " ('Edema', 628),\n",
       " ('Cardiomegaly|Effusion', 484),\n",
       " ('Consolidation|Infiltration', 441)]"
      ]
     },
     "execution_count": 15,
     "metadata": {},
     "output_type": "execute_result"
    },
    {
     "data": {
      "text/plain": [
       "[('Atelectasis|Cardiomegaly|Consolidation|Effusion|Pneumothorax', 1),\n",
       " ('Effusion|Emphysema|Infiltration|Mass|Nodule', 1),\n",
       " ('Atelectasis|Edema|Effusion|Infiltration|Pleural_Thickening', 1),\n",
       " ('Atelectasis|Cardiomegaly|Consolidation|Effusion|Infiltration|Pneumonia', 1),\n",
       " ('Cardiomegaly|Effusion|Infiltration|Pneumonia', 1),\n",
       " ('Atelectasis|Consolidation|Effusion|Fibrosis|Pleural_Thickening', 1),\n",
       " ('Effusion|Nodule|Pneumothorax|Mass', 1),\n",
       " ('Effusion|Fibrosis|Nodule', 1),\n",
       " ('Consolidation|Effusion|Mass|Nodule|Pneumothorax', 1),\n",
       " ('Atelectasis|Emphysema|Fibrosis|Nodule|Pleural_Thickening|Pneumothorax', 1)]"
      ]
     },
     "execution_count": 15,
     "metadata": {},
     "output_type": "execute_result"
    }
   ],
   "source": [
    "#show the label distribution\n",
    "\n",
    "# Unique IDs frequencies can be computed using list comprehension or collections lib\n",
    "# [[x,(list(crtData['fullID2'])).count(x)] for x in set(crtData['fullID2'])]\n",
    "# for tallying, collections lib is faster than list comprehension\n",
    "from collections import Counter\n",
    "pathology_distribution = Counter(list(labels_df['Finding Labels']))\n",
    "\n",
    "# Sort it by ID frequency (dict value)\n",
    "sorted_by_freq = sorted(pathology_distribution.items(), key=lambda x: x[1], reverse=True)\n",
    "len(sorted_by_freq)\n",
    "sorted_by_freq[:20]\n",
    "sorted_by_freq[-10:]"
   ]
  },
  {
   "cell_type": "code",
   "execution_count": 16,
   "metadata": {},
   "outputs": [
    {
     "data": {
      "text/plain": [
       "Atelectasis           11559\n",
       "Cardiomegaly           2776\n",
       "Consolidation          4667\n",
       "Edema                  2303\n",
       "Effusion              13317\n",
       "Emphysema              2516\n",
       "Fibrosis               1686\n",
       "Hernia                  227\n",
       "Infiltration          19894\n",
       "Mass                   5782\n",
       "No Finding            60361\n",
       "Nodule                 6331\n",
       "Pleural_Thickening     3385\n",
       "Pneumonia              1431\n",
       "Pneumothorax           5302\n",
       "dtype: int64"
      ]
     },
     "execution_count": 16,
     "metadata": {},
     "output_type": "execute_result"
    }
   ],
   "source": [
    "# now label distribution after spliting\n",
    "\n",
    "labels_df['Finding Labels'].str.split( '|', expand=False).str.join(sep='*').str.get_dummies(sep='*').sum()"
   ]
  },
  {
   "cell_type": "code",
   "execution_count": 17,
   "metadata": {},
   "outputs": [],
   "source": [
    "def process_data(current_df, patient_ids):\n",
    "    image_name_index = []\n",
    "    image_labels = {}\n",
    "    for individual_patient in tqdm.tqdm(patient_ids):\n",
    "        for _, row in current_df[current_df['Patient ID'] == individual_patient].iterrows():\n",
    "            processed_image_name = row['Image Index']\n",
    "            if processed_image_name in ignored_images_set:\n",
    "                pass\n",
    "            else:\n",
    "                image_name_index.append(processed_image_name)\n",
    "                image_labels[processed_image_name] = np.zeros(14, dtype=np.uint8)\n",
    "                for disease_index, ele in enumerate(pathologies_name_list):\n",
    "                    if re.search(ele, row['Finding Labels'], re.IGNORECASE):\n",
    "                        image_labels[processed_image_name][disease_index] = 1\n",
    "                    else:\n",
    "                        # redundant code but just to make it more readable\n",
    "                        image_labels[processed_image_name][disease_index] = 0\n",
    "                # print(\"processed\", row['Image Index'])\n",
    "    return image_name_index, image_labels\n"
   ]
  },
  {
   "cell_type": "code",
   "execution_count": 18,
   "metadata": {},
   "outputs": [
    {
     "name": "stderr",
     "output_type": "stream",
     "text": [
      "100%|██████████| 21563/21563 [00:36<00:00, 592.48it/s]\n",
      "100%|██████████| 3081/3081 [00:05<00:00, 595.83it/s]\n",
      "100%|██████████| 6161/6161 [00:14<00:00, 436.44it/s]\n"
     ]
    },
    {
     "name": "stdout",
     "output_type": "stream",
     "text": [
      "train, valid, test image number is: 69190 9594 33281\n"
     ]
    }
   ],
   "source": [
    "# # create and save train/test/validation partitions list\n",
    "\n",
    "train_data_index, train_labels = process_data(labels_df, patient_id_train)\n",
    "valid_data_index, valid_labels = process_data(labels_df, patient_id_valid)\n",
    "test_data_index, test_labels = process_data(labels_df, patient_id_test)\n",
    "\n",
    "print(\"train, valid, test image number is:\", len(train_data_index), len(valid_data_index), len(test_data_index))\n",
    "\n",
    "# save the data\n",
    "labels_all = {}\n",
    "labels_all.update(train_labels)\n",
    "labels_all.update(valid_labels)\n",
    "labels_all.update(test_labels)\n",
    "\n",
    "partition_dict = {'train': train_data_index, 'test': test_data_index, 'valid': valid_data_index}\n",
    "\n",
    "with open(os.path.join(data_partitions_dir,'labels14_unormalized_cleaned.pickle'), 'wb') as f:\n",
    "    pickle.dump(labels_all, f)\n",
    "\n",
    "with open(os.path.join(data_partitions_dir,'partition14_unormalized_cleaned.pickle'), 'wb') as f:\n",
    "    pickle.dump(partition_dict, f)\n",
    "    \n",
    "# also save the patient id partitions for pytorch training    \n",
    "with open(os.path.join(data_partitions_dir,'train_test_valid_data_partitions.pickle'), 'wb') as f:\n",
    "    pickle.dump([patient_id_train,patient_id_valid,\n",
    "                 patient_id_test,\n",
    "                list(set(bbox_patient_index_list))], f)    \n"
   ]
  },
  {
   "cell_type": "code",
   "execution_count": 19,
   "metadata": {},
   "outputs": [
    {
     "data": {
      "text/plain": [
       "dict"
      ]
     },
     "execution_count": 19,
     "metadata": {},
     "output_type": "execute_result"
    },
    {
     "data": {
      "text/plain": [
       "{'00018080_007.png': array([0, 0, 1, 0, 0, 0, 0, 0, 0, 0, 0, 0, 0, 0], dtype=uint8),\n",
       " '00021033_000.png': array([0, 0, 0, 0, 0, 0, 0, 0, 0, 0, 0, 0, 0, 0], dtype=uint8),\n",
       " '00021362_000.png': array([0, 0, 0, 0, 0, 0, 0, 0, 0, 0, 0, 0, 0, 0], dtype=uint8),\n",
       " '00024930_000.png': array([0, 0, 0, 0, 0, 0, 0, 0, 0, 0, 0, 0, 0, 0], dtype=uint8),\n",
       " '00030379_002.png': array([1, 0, 0, 1, 0, 0, 0, 0, 0, 0, 0, 0, 0, 0], dtype=uint8)}"
      ]
     },
     "execution_count": 19,
     "metadata": {},
     "output_type": "execute_result"
    }
   ],
   "source": [
    "# sanity check, see train labels\n",
    "\n",
    "type(train_labels)\n",
    "{k: train_labels[k] for k in list(train_labels)[:5]}"
   ]
  },
  {
   "cell_type": "code",
   "execution_count": 20,
   "metadata": {},
   "outputs": [],
   "source": [
    "# jupyter nbconvert --to html .\\Code\\02_Model\\000_preprocess.ipynb"
   ]
  }
 ],
 "metadata": {
  "kernelspec": {
   "display_name": "azure_chestxray_lung_disease gpucomputecontext",
   "language": "python",
   "name": "azure_chestxray_lung_disease_gpucomputecontext"
  },
  "language_info": {
   "codemirror_mode": {
    "name": "ipython",
    "version": 3
   },
   "file_extension": ".py",
   "mimetype": "text/x-python",
   "name": "python",
   "nbconvert_exporter": "python",
   "pygments_lexer": "ipython3",
   "version": "3.5.2"
  }
 },
 "nbformat": 4,
 "nbformat_minor": 2
}
