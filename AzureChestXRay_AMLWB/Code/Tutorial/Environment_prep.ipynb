{
 "cells": [
  {
   "cell_type": "markdown",
   "metadata": {},
   "source": [
    "# Dependency"
   ]
  },
  {
   "cell_type": "code",
   "execution_count": null,
   "metadata": {
    "scrolled": false
   },
   "outputs": [],
   "source": [
    "!wget https://raw.githubusercontent.com/Azure/AzureChestXRay/master/AzureChestXRay_AMLWB/Code/Tutorial/Tutorial_Using_Microsoft_AI_to_Build_a_Lung-Disease_Prediction_Model_Using_Chest_X-Ray_Images.ipynb\n",
    "!sudo /anaconda/envs/py35/bin/python -m pip install --upgrade pip\n",
    "!sudo /anaconda/envs/py35/bin/python -m pip uninstall tensorflow protobuf keras --yes\n",
    "!sudo /anaconda/envs/py35/bin/python -m pip install tensorflow==1.8.1 --ignore-installed --no-cache-dir \n",
    "!sudo /anaconda/envs/py35/bin/python -m pip install keras  --ignore-installed \n",
    "!sudo /anaconda/envs/py35/bin/python -m pip install git+https://www.github.com/keras-team/keras-contrib.git\n",
    "!sudo /anaconda/envs/py35/bin/python -m pip install git+https://github.com/onnx/onnxmltools\n",
    "!sudo /anaconda/envs/py35/bin/python -m pip install git+https://github.com/apple/coremltools\n",
    "!sudo mkdir -p /usr/local/share/xraytutorial\n",
    "!sudo chmod 666 /usr/local/share/xraytutorial"
   ]
  },
  {
   "cell_type": "markdown",
   "metadata": {},
   "source": [
    "# Create Users"
   ]
  },
  {
   "cell_type": "code",
   "execution_count": 9,
   "metadata": {},
   "outputs": [],
   "source": [
    "!sudo mkdir -p /usr/local/share/xraytutorial\n",
    "!sudo chmod 777 /usr/local/share/xraytutorial"
   ]
  },
  {
   "cell_type": "code",
   "execution_count": 10,
   "metadata": {
    "scrolled": false
   },
   "outputs": [
    {
     "name": "stdout",
     "output_type": "stream",
     "text": [
      "sudo useradd -p22tFtxxh45K.Y xrayuser0 -m\n",
      "xrayuser0 creation failed\n",
      "sudo useradd -p22tFtxxh45K.Y xrayuser1 -m\n",
      "xrayuser1 creation failed\n",
      "sudo useradd -p22tFtxxh45K.Y xrayuser2 -m\n",
      "xrayuser2 creation failed\n",
      "sudo useradd -p22tFtxxh45K.Y xrayuser3 -m\n",
      "xrayuser3 creation failed\n"
     ]
    }
   ],
   "source": [
    "import os\n",
    "import crypt\n",
    "import shutil \n",
    "\n",
    "total_user_amount = 4\n",
    "username_prefix = \"xrayuser\"\n",
    "password =\"xrayuserpw\" \n",
    "\n",
    "for i in range(total_user_amount):\n",
    "    username = username_prefix+str(i)\n",
    "    encPass = crypt.crypt(password,\"22\")\n",
    "    cmd = \"sudo useradd -p\"+encPass+\" \" + username + \" -m\"\n",
    "    print(cmd)\n",
    "    ret = os.system(cmd)\n",
    "    if ret == 0:\n",
    "        cmd = \"sudo cp Tutorial_Using_Microsoft_AI_to_Build_a_Lung-Disease_Prediction_Model_Using_Chest_X-Ray_Images.ipynb  /home/\" + username + \"/notebooks/\"\n",
    "        print(cmd)\n",
    "        os.system(cmd)\n",
    "        print(username, \"is created!\")\n",
    "        \n",
    "    else:\n",
    "        print(username, \"creation failed\")\n",
    "# os.system(\"sudo useradd -m LOGIN\")\n",
    "\n",
    "\n"
   ]
  },
  {
   "cell_type": "markdown",
   "metadata": {},
   "source": [
    "# Prep the files"
   ]
  },
  {
   "cell_type": "code",
   "execution_count": 11,
   "metadata": {},
   "outputs": [],
   "source": [
    "from requests import get  # to make GET request\n",
    "def download(url, file_name):\n",
    "    # open in binary mode\n",
    "    with open(file_name, \"wb\") as file:\n",
    "        # get request\n",
    "        response = get(url)\n",
    "        # write to file\n",
    "        file.write(response.content)\n",
    "\n",
    "data_path = \"/usr/local/share/xraytutorial\"\n",
    "images_path = os.path.join(data_path, 'images.zip')\n",
    "images_extracted_path = os.path.join(data_path, 'images')\n",
    "pre_trained_model_path = os.path.join(data_path, 'chexray_14_weights_712split_epoch_054_val_loss_191.2588.hdf5')\n",
    "label_path = os.path.join(data_path, 'Data_Entry_2017.csv')\n",
    "\n",
    "download('https://chestxray.blob.core.windows.net/chestxraytutorial/tutorial_xray/images.zip', images_path)\n",
    "download('https://chestxray.blob.core.windows.net/chestxraytutorial/tutorial_xray/Data_Entry_2017.csv', label_path)\n",
    "download('https://chestxray.blob.core.windows.net/chestxraytutorial/tutorial_xray/chexray_14_weights_712split_epoch_054_val_loss_191.2588.hdf5', pre_trained_model_path)\n",
    "\n",
    "import zipfile\n",
    "with zipfile.ZipFile(images_path,\"r\") as zip_ref:\n",
    "    zip_ref.extractall(images_extracted_path)"
   ]
  },
  {
   "cell_type": "markdown",
   "metadata": {},
   "source": [
    "# Clean up users"
   ]
  },
  {
   "cell_type": "code",
   "execution_count": 5,
   "metadata": {},
   "outputs": [],
   "source": [
    "#cleanup function\n",
    "for i in range(total_user_amount):\n",
    "    username = \"xrayuser\"+str(i)\n",
    "    os.system(\"sudo userdel -r \" + username)\n"
   ]
  },
  {
   "cell_type": "code",
   "execution_count": null,
   "metadata": {},
   "outputs": [],
   "source": []
  }
 ],
 "metadata": {
  "kernelspec": {
   "display_name": "Python 3",
   "language": "python",
   "name": "python3"
  },
  "language_info": {
   "codemirror_mode": {
    "name": "ipython",
    "version": 3
   },
   "file_extension": ".py",
   "mimetype": "text/x-python",
   "name": "python",
   "nbconvert_exporter": "python",
   "pygments_lexer": "ipython3",
   "version": "3.5.5"
  }
 },
 "nbformat": 4,
 "nbformat_minor": 2
}
