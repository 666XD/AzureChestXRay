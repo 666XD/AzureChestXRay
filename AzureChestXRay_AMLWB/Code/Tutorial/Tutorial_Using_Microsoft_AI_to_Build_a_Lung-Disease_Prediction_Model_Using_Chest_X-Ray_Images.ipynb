{
 "cells": [
  {
   "cell_type": "markdown",
   "metadata": {},
   "source": [
    "# Using Microsoft AI to Build a Lung-Disease Prediction Model Using Chest X-Ray Images - Tutorial"
   ]
  },
  {
   "cell_type": "markdown",
   "metadata": {},
   "source": [
    "## Introduction "
   ]
  },
  {
   "cell_type": "markdown",
   "metadata": {},
   "source": [
    "This Jupyter Notebook is the tutorial to walk people through how to build a lung-dissease prediction model using Chest X-ray Images. The full code is in this github repo (https://github.com/Azure/AzureChestXRay) and the blogpost is here (https://blogs.technet.microsoft.com/machinelearning/2018/03/07/using-microsoft-ai-to-build-a-lung-disease-prediction-model-using-chest-x-ray-images/)"
   ]
  },
  {
   "cell_type": "markdown",
   "metadata": {},
   "source": [
    "This tutorial consists of a few parts:\n",
    "- Build a lung disease prediction model\n",
    "- Validate model and get metrics\n",
    "- Visulaizing the model result"
   ]
  },
  {
   "cell_type": "markdown",
   "metadata": {},
   "source": [
    "Here are all the resources that are used in this \n",
    "- _Dataset_\n",
    "\n",
    "  - National Institutes of Health ( [NIH](https://www.nih.gov/)) chest x-ray dataset. This dataset is a  [publicly](https://www.nih.gov/news-events/news-releases/nih-clinical-center-provides-one-largest-publicly-available-chest-x-ray-datasets-scientific-community)  [available](https://nihcc.app.box.com/v/ChestXray-NIHCC) and medically  [curated](http://openaccess.thecvf.com/content_cvpr_2017/papers/Wang_ChestX-ray8_Hospital-Scale_Chest_CVPR_2017_paper.pdf) dataset.\n",
    "\n",
    "- _Technique_\n",
    "\n",
    "  - State-of-the art  [DenseNet](https://arxiv.org/pdf/1608.06993.pdf) for image classification. DenseNet is an open-source deep learning algorithm with implementations available in  [Keras](https://github.com/keras-team/keras-contrib/blob/master/keras_contrib/applications/densenet.py) (using  [TensorFlow](https://www.tensorflow.org/) as a back-end). We also explored the  [PyTorch](http://pytorch.org/) version of DenseNet.\n",
    "\n",
    "  - [Class Activation Maps](http://cnnlocalization.csail.mit.edu/) are used to understand model activation and visualize it.\n",
    "\n",
    "- _Tools and Platforms_\n",
    "\n",
    "  - [Deep Learning VMs with GPU acceleration](https://docs.microsoft.com/en-us/azure/machine-learning/data-science-virtual-machine/deep-learning-dsvm-overview) are used as the compute environment.\n",
    "\n",
    "  - [Azure Machine Learning](https://azure.microsoft.com/en-us/services/machine-learning-services/) is used as a managed machine learning service for project management, run history and version control, and model deployment.\n"
   ]
  },
  {
   "cell_type": "markdown",
   "metadata": {},
   "source": [
    "The  [source code we provide on GitHub](https://github.com/Azure/AzureChestXRay) allows you to build the x-ray image pathology classification system in less than an hour using the model pretrained on ChestX-ray14 data. If needed, one can also recreate and expand the full multi-GPU training pipeline starting with a model pretrained using the  [ImageNet](http://image-net.org/) dataset.\n",
    "\n",
    "The source code, tools, and discussion below are provided to assist data scientists in understanding the potential for developing deep learning -driven intelligent applications using Azure AI services and are intended for research and development use only. The x-ray image pathology classification system is not intended for use in clinical diagnosis or clinical decision-making or for any other clinical use. The performance of this model for clinical use has not been established."
   ]
  },
  {
   "cell_type": "markdown",
   "metadata": {},
   "source": [
    "### Downloading nececcary packages and data\n",
    "We will install a few packages that will be required later on. We will also download a small portion of data (1% of the original dataset) for tutorial purpose."
   ]
  },
  {
   "cell_type": "code",
   "execution_count": 2,
   "metadata": {},
   "outputs": [
    {
     "name": "stdout",
     "output_type": "stream",
     "text": [
      "/bin/sh: line 0: source: activate: file not found\r\n"
     ]
    }
   ],
   "source": [
    "!source activate xraypython"
   ]
  },
  {
   "cell_type": "code",
   "execution_count": 1,
   "metadata": {
    "nbpresent": {
     "id": "7621a489-65e6-43ec-a460-bbef6bb9e0c1"
    }
   },
   "outputs": [
    {
     "name": "stderr",
     "output_type": "stream",
     "text": [
      "Using TensorFlow backend.\n"
     ]
    },
    {
     "ename": "ImportError",
     "evalue": "cannot import name 'abs'",
     "output_type": "error",
     "traceback": [
      "\u001b[0;31m---------------------------------------------------------------------------\u001b[0m",
      "\u001b[0;31mImportError\u001b[0m                               Traceback (most recent call last)",
      "\u001b[0;32m<ipython-input-1-384da3ff3daa>\u001b[0m in \u001b[0;36m<module>\u001b[0;34m()\u001b[0m\n\u001b[1;32m      8\u001b[0m \u001b[0;34m\u001b[0m\u001b[0m\n\u001b[1;32m      9\u001b[0m \u001b[0;32mimport\u001b[0m \u001b[0mcv2\u001b[0m\u001b[0;34m\u001b[0m\u001b[0m\n\u001b[0;32m---> 10\u001b[0;31m \u001b[0;32mimport\u001b[0m \u001b[0mkeras\u001b[0m\u001b[0;34m\u001b[0m\u001b[0m\n\u001b[0m\u001b[1;32m     11\u001b[0m \u001b[0;32mimport\u001b[0m \u001b[0mkeras\u001b[0m\u001b[0;34m.\u001b[0m\u001b[0mbackend\u001b[0m \u001b[0;32mas\u001b[0m \u001b[0mK\u001b[0m\u001b[0;34m\u001b[0m\u001b[0m\n\u001b[1;32m     12\u001b[0m \u001b[0;32mimport\u001b[0m \u001b[0mnumpy\u001b[0m \u001b[0;32mas\u001b[0m \u001b[0mnp\u001b[0m\u001b[0;34m\u001b[0m\u001b[0m\n",
      "\u001b[0;32m/anaconda/envs/py35/lib/python3.5/site-packages/keras/__init__.py\u001b[0m in \u001b[0;36m<module>\u001b[0;34m()\u001b[0m\n\u001b[1;32m      1\u001b[0m \u001b[0;32mfrom\u001b[0m \u001b[0m__future__\u001b[0m \u001b[0;32mimport\u001b[0m \u001b[0mabsolute_import\u001b[0m\u001b[0;34m\u001b[0m\u001b[0m\n\u001b[1;32m      2\u001b[0m \u001b[0;34m\u001b[0m\u001b[0m\n\u001b[0;32m----> 3\u001b[0;31m \u001b[0;32mfrom\u001b[0m \u001b[0;34m.\u001b[0m \u001b[0;32mimport\u001b[0m \u001b[0mutils\u001b[0m\u001b[0;34m\u001b[0m\u001b[0m\n\u001b[0m\u001b[1;32m      4\u001b[0m \u001b[0;32mfrom\u001b[0m \u001b[0;34m.\u001b[0m \u001b[0;32mimport\u001b[0m \u001b[0mactivations\u001b[0m\u001b[0;34m\u001b[0m\u001b[0m\n\u001b[1;32m      5\u001b[0m \u001b[0;32mfrom\u001b[0m \u001b[0;34m.\u001b[0m \u001b[0;32mimport\u001b[0m \u001b[0mapplications\u001b[0m\u001b[0;34m\u001b[0m\u001b[0m\n",
      "\u001b[0;32m/anaconda/envs/py35/lib/python3.5/site-packages/keras/utils/__init__.py\u001b[0m in \u001b[0;36m<module>\u001b[0;34m()\u001b[0m\n\u001b[1;32m      4\u001b[0m \u001b[0;32mfrom\u001b[0m \u001b[0;34m.\u001b[0m \u001b[0;32mimport\u001b[0m \u001b[0mdata_utils\u001b[0m\u001b[0;34m\u001b[0m\u001b[0m\n\u001b[1;32m      5\u001b[0m \u001b[0;32mfrom\u001b[0m \u001b[0;34m.\u001b[0m \u001b[0;32mimport\u001b[0m \u001b[0mio_utils\u001b[0m\u001b[0;34m\u001b[0m\u001b[0m\n\u001b[0;32m----> 6\u001b[0;31m \u001b[0;32mfrom\u001b[0m \u001b[0;34m.\u001b[0m \u001b[0;32mimport\u001b[0m \u001b[0mconv_utils\u001b[0m\u001b[0;34m\u001b[0m\u001b[0m\n\u001b[0m\u001b[1;32m      7\u001b[0m \u001b[0;34m\u001b[0m\u001b[0m\n\u001b[1;32m      8\u001b[0m \u001b[0;31m# Globally-importable utils.\u001b[0m\u001b[0;34m\u001b[0m\u001b[0;34m\u001b[0m\u001b[0m\n",
      "\u001b[0;32m/anaconda/envs/py35/lib/python3.5/site-packages/keras/utils/conv_utils.py\u001b[0m in \u001b[0;36m<module>\u001b[0;34m()\u001b[0m\n\u001b[1;32m      7\u001b[0m \u001b[0;32mfrom\u001b[0m \u001b[0msix\u001b[0m\u001b[0;34m.\u001b[0m\u001b[0mmoves\u001b[0m \u001b[0;32mimport\u001b[0m \u001b[0mrange\u001b[0m\u001b[0;34m\u001b[0m\u001b[0m\n\u001b[1;32m      8\u001b[0m \u001b[0;32mimport\u001b[0m \u001b[0mnumpy\u001b[0m \u001b[0;32mas\u001b[0m \u001b[0mnp\u001b[0m\u001b[0;34m\u001b[0m\u001b[0m\n\u001b[0;32m----> 9\u001b[0;31m \u001b[0;32mfrom\u001b[0m \u001b[0;34m.\u001b[0m\u001b[0;34m.\u001b[0m \u001b[0;32mimport\u001b[0m \u001b[0mbackend\u001b[0m \u001b[0;32mas\u001b[0m \u001b[0mK\u001b[0m\u001b[0;34m\u001b[0m\u001b[0m\n\u001b[0m\u001b[1;32m     10\u001b[0m \u001b[0;34m\u001b[0m\u001b[0m\n\u001b[1;32m     11\u001b[0m \u001b[0;34m\u001b[0m\u001b[0m\n",
      "\u001b[0;32m/anaconda/envs/py35/lib/python3.5/site-packages/keras/backend/__init__.py\u001b[0m in \u001b[0;36m<module>\u001b[0;34m()\u001b[0m\n\u001b[1;32m     87\u001b[0m \u001b[0;32melif\u001b[0m \u001b[0m_BACKEND\u001b[0m \u001b[0;34m==\u001b[0m \u001b[0;34m'tensorflow'\u001b[0m\u001b[0;34m:\u001b[0m\u001b[0;34m\u001b[0m\u001b[0m\n\u001b[1;32m     88\u001b[0m     \u001b[0msys\u001b[0m\u001b[0;34m.\u001b[0m\u001b[0mstderr\u001b[0m\u001b[0;34m.\u001b[0m\u001b[0mwrite\u001b[0m\u001b[0;34m(\u001b[0m\u001b[0;34m'Using TensorFlow backend.\\n'\u001b[0m\u001b[0;34m)\u001b[0m\u001b[0;34m\u001b[0m\u001b[0m\n\u001b[0;32m---> 89\u001b[0;31m     \u001b[0;32mfrom\u001b[0m \u001b[0;34m.\u001b[0m\u001b[0mtensorflow_backend\u001b[0m \u001b[0;32mimport\u001b[0m \u001b[0;34m*\u001b[0m\u001b[0;34m\u001b[0m\u001b[0m\n\u001b[0m\u001b[1;32m     90\u001b[0m \u001b[0;32melse\u001b[0m\u001b[0;34m:\u001b[0m\u001b[0;34m\u001b[0m\u001b[0m\n\u001b[1;32m     91\u001b[0m     \u001b[0;31m# Try and load external backend.\u001b[0m\u001b[0;34m\u001b[0m\u001b[0;34m\u001b[0m\u001b[0m\n",
      "\u001b[0;32m/anaconda/envs/py35/lib/python3.5/site-packages/keras/backend/tensorflow_backend.py\u001b[0m in \u001b[0;36m<module>\u001b[0;34m()\u001b[0m\n\u001b[1;32m      3\u001b[0m \u001b[0;32mfrom\u001b[0m \u001b[0m__future__\u001b[0m \u001b[0;32mimport\u001b[0m \u001b[0mprint_function\u001b[0m\u001b[0;34m\u001b[0m\u001b[0m\n\u001b[1;32m      4\u001b[0m \u001b[0;34m\u001b[0m\u001b[0m\n\u001b[0;32m----> 5\u001b[0;31m \u001b[0;32mimport\u001b[0m \u001b[0mtensorflow\u001b[0m \u001b[0;32mas\u001b[0m \u001b[0mtf\u001b[0m\u001b[0;34m\u001b[0m\u001b[0m\n\u001b[0m\u001b[1;32m      6\u001b[0m \u001b[0;32mfrom\u001b[0m \u001b[0mtensorflow\u001b[0m\u001b[0;34m.\u001b[0m\u001b[0mpython\u001b[0m\u001b[0;34m.\u001b[0m\u001b[0mframework\u001b[0m \u001b[0;32mimport\u001b[0m \u001b[0mops\u001b[0m \u001b[0;32mas\u001b[0m \u001b[0mtf_ops\u001b[0m\u001b[0;34m\u001b[0m\u001b[0m\n\u001b[1;32m      7\u001b[0m \u001b[0;32mfrom\u001b[0m \u001b[0mtensorflow\u001b[0m\u001b[0;34m.\u001b[0m\u001b[0mpython\u001b[0m\u001b[0;34m.\u001b[0m\u001b[0mtraining\u001b[0m \u001b[0;32mimport\u001b[0m \u001b[0mmoving_averages\u001b[0m\u001b[0;34m\u001b[0m\u001b[0m\n",
      "\u001b[0;32m/anaconda/envs/py35/lib/python3.5/site-packages/tensorflow/__init__.py\u001b[0m in \u001b[0;36m<module>\u001b[0;34m()\u001b[0m\n\u001b[1;32m     20\u001b[0m \u001b[0;34m\u001b[0m\u001b[0m\n\u001b[1;32m     21\u001b[0m \u001b[0;31m# pylint: disable=g-bad-import-order\u001b[0m\u001b[0;34m\u001b[0m\u001b[0;34m\u001b[0m\u001b[0m\n\u001b[0;32m---> 22\u001b[0;31m \u001b[0;32mfrom\u001b[0m \u001b[0mtensorflow\u001b[0m\u001b[0;34m.\u001b[0m\u001b[0mpython\u001b[0m \u001b[0;32mimport\u001b[0m \u001b[0mpywrap_tensorflow\u001b[0m  \u001b[0;31m# pylint: disable=unused-import\u001b[0m\u001b[0;34m\u001b[0m\u001b[0m\n\u001b[0m\u001b[1;32m     23\u001b[0m \u001b[0;34m\u001b[0m\u001b[0m\n\u001b[1;32m     24\u001b[0m \u001b[0;32mtry\u001b[0m\u001b[0;34m:\u001b[0m\u001b[0;34m\u001b[0m\u001b[0m\n",
      "\u001b[0;32m/anaconda/envs/py35/lib/python3.5/site-packages/tensorflow/python/__init__.py\u001b[0m in \u001b[0;36m<module>\u001b[0;34m()\u001b[0m\n\u001b[1;32m     79\u001b[0m \u001b[0;31m# Bring in subpackages.\u001b[0m\u001b[0;34m\u001b[0m\u001b[0;34m\u001b[0m\u001b[0m\n\u001b[1;32m     80\u001b[0m \u001b[0;32mfrom\u001b[0m \u001b[0mtensorflow\u001b[0m\u001b[0;34m.\u001b[0m\u001b[0mpython\u001b[0m \u001b[0;32mimport\u001b[0m \u001b[0mdata\u001b[0m\u001b[0;34m\u001b[0m\u001b[0m\n\u001b[0;32m---> 81\u001b[0;31m \u001b[0;32mfrom\u001b[0m \u001b[0mtensorflow\u001b[0m\u001b[0;34m.\u001b[0m\u001b[0mpython\u001b[0m \u001b[0;32mimport\u001b[0m \u001b[0mkeras\u001b[0m\u001b[0;34m\u001b[0m\u001b[0m\n\u001b[0m\u001b[1;32m     82\u001b[0m \u001b[0;32mfrom\u001b[0m \u001b[0mtensorflow\u001b[0m\u001b[0;34m.\u001b[0m\u001b[0mpython\u001b[0m\u001b[0;34m.\u001b[0m\u001b[0mfeature_column\u001b[0m \u001b[0;32mimport\u001b[0m \u001b[0mfeature_column_lib\u001b[0m \u001b[0;32mas\u001b[0m \u001b[0mfeature_column\u001b[0m\u001b[0;34m\u001b[0m\u001b[0m\n\u001b[1;32m     83\u001b[0m \u001b[0;32mfrom\u001b[0m \u001b[0mtensorflow\u001b[0m\u001b[0;34m.\u001b[0m\u001b[0mpython\u001b[0m\u001b[0;34m.\u001b[0m\u001b[0mlayers\u001b[0m \u001b[0;32mimport\u001b[0m \u001b[0mlayers\u001b[0m\u001b[0;34m\u001b[0m\u001b[0m\n",
      "\u001b[0;32m/anaconda/envs/py35/lib/python3.5/site-packages/tensorflow/python/keras/__init__.py\u001b[0m in \u001b[0;36m<module>\u001b[0;34m()\u001b[0m\n\u001b[1;32m     22\u001b[0m \u001b[0;32mfrom\u001b[0m \u001b[0m__future__\u001b[0m \u001b[0;32mimport\u001b[0m \u001b[0mprint_function\u001b[0m\u001b[0;34m\u001b[0m\u001b[0m\n\u001b[1;32m     23\u001b[0m \u001b[0;34m\u001b[0m\u001b[0m\n\u001b[0;32m---> 24\u001b[0;31m \u001b[0;32mfrom\u001b[0m \u001b[0mtensorflow\u001b[0m\u001b[0;34m.\u001b[0m\u001b[0mpython\u001b[0m\u001b[0;34m.\u001b[0m\u001b[0mkeras\u001b[0m \u001b[0;32mimport\u001b[0m \u001b[0mactivations\u001b[0m\u001b[0;34m\u001b[0m\u001b[0m\n\u001b[0m\u001b[1;32m     25\u001b[0m \u001b[0;32mfrom\u001b[0m \u001b[0mtensorflow\u001b[0m\u001b[0;34m.\u001b[0m\u001b[0mpython\u001b[0m\u001b[0;34m.\u001b[0m\u001b[0mkeras\u001b[0m \u001b[0;32mimport\u001b[0m \u001b[0mapplications\u001b[0m\u001b[0;34m\u001b[0m\u001b[0m\n\u001b[1;32m     26\u001b[0m \u001b[0;32mfrom\u001b[0m \u001b[0mtensorflow\u001b[0m\u001b[0;34m.\u001b[0m\u001b[0mpython\u001b[0m\u001b[0;34m.\u001b[0m\u001b[0mkeras\u001b[0m \u001b[0;32mimport\u001b[0m \u001b[0mbackend\u001b[0m\u001b[0;34m\u001b[0m\u001b[0m\n",
      "\u001b[0;32m/anaconda/envs/py35/lib/python3.5/site-packages/tensorflow/python/keras/activations/__init__.py\u001b[0m in \u001b[0;36m<module>\u001b[0;34m()\u001b[0m\n\u001b[1;32m     20\u001b[0m \u001b[0;34m\u001b[0m\u001b[0m\n\u001b[1;32m     21\u001b[0m \u001b[0;31m# Activation functions.\u001b[0m\u001b[0;34m\u001b[0m\u001b[0;34m\u001b[0m\u001b[0m\n\u001b[0;32m---> 22\u001b[0;31m \u001b[0;32mfrom\u001b[0m \u001b[0mtensorflow\u001b[0m\u001b[0;34m.\u001b[0m\u001b[0mpython\u001b[0m\u001b[0;34m.\u001b[0m\u001b[0mkeras\u001b[0m\u001b[0;34m.\u001b[0m\u001b[0m_impl\u001b[0m\u001b[0;34m.\u001b[0m\u001b[0mkeras\u001b[0m\u001b[0;34m.\u001b[0m\u001b[0mactivations\u001b[0m \u001b[0;32mimport\u001b[0m \u001b[0melu\u001b[0m\u001b[0;34m\u001b[0m\u001b[0m\n\u001b[0m\u001b[1;32m     23\u001b[0m \u001b[0;32mfrom\u001b[0m \u001b[0mtensorflow\u001b[0m\u001b[0;34m.\u001b[0m\u001b[0mpython\u001b[0m\u001b[0;34m.\u001b[0m\u001b[0mkeras\u001b[0m\u001b[0;34m.\u001b[0m\u001b[0m_impl\u001b[0m\u001b[0;34m.\u001b[0m\u001b[0mkeras\u001b[0m\u001b[0;34m.\u001b[0m\u001b[0mactivations\u001b[0m \u001b[0;32mimport\u001b[0m \u001b[0mhard_sigmoid\u001b[0m\u001b[0;34m\u001b[0m\u001b[0m\n\u001b[1;32m     24\u001b[0m \u001b[0;32mfrom\u001b[0m \u001b[0mtensorflow\u001b[0m\u001b[0;34m.\u001b[0m\u001b[0mpython\u001b[0m\u001b[0;34m.\u001b[0m\u001b[0mkeras\u001b[0m\u001b[0;34m.\u001b[0m\u001b[0m_impl\u001b[0m\u001b[0;34m.\u001b[0m\u001b[0mkeras\u001b[0m\u001b[0;34m.\u001b[0m\u001b[0mactivations\u001b[0m \u001b[0;32mimport\u001b[0m \u001b[0mlinear\u001b[0m\u001b[0;34m\u001b[0m\u001b[0m\n",
      "\u001b[0;32m/anaconda/envs/py35/lib/python3.5/site-packages/tensorflow/python/keras/_impl/keras/__init__.py\u001b[0m in \u001b[0;36m<module>\u001b[0;34m()\u001b[0m\n\u001b[1;32m     19\u001b[0m \u001b[0;32mfrom\u001b[0m \u001b[0m__future__\u001b[0m \u001b[0;32mimport\u001b[0m \u001b[0mprint_function\u001b[0m\u001b[0;34m\u001b[0m\u001b[0m\n\u001b[1;32m     20\u001b[0m \u001b[0;34m\u001b[0m\u001b[0m\n\u001b[0;32m---> 21\u001b[0;31m \u001b[0;32mfrom\u001b[0m \u001b[0mtensorflow\u001b[0m\u001b[0;34m.\u001b[0m\u001b[0mpython\u001b[0m\u001b[0;34m.\u001b[0m\u001b[0mkeras\u001b[0m\u001b[0;34m.\u001b[0m\u001b[0m_impl\u001b[0m\u001b[0;34m.\u001b[0m\u001b[0mkeras\u001b[0m \u001b[0;32mimport\u001b[0m \u001b[0mactivations\u001b[0m\u001b[0;34m\u001b[0m\u001b[0m\n\u001b[0m\u001b[1;32m     22\u001b[0m \u001b[0;32mfrom\u001b[0m \u001b[0mtensorflow\u001b[0m\u001b[0;34m.\u001b[0m\u001b[0mpython\u001b[0m\u001b[0;34m.\u001b[0m\u001b[0mkeras\u001b[0m\u001b[0;34m.\u001b[0m\u001b[0m_impl\u001b[0m\u001b[0;34m.\u001b[0m\u001b[0mkeras\u001b[0m \u001b[0;32mimport\u001b[0m \u001b[0mapplications\u001b[0m\u001b[0;34m\u001b[0m\u001b[0m\n\u001b[1;32m     23\u001b[0m \u001b[0;32mfrom\u001b[0m \u001b[0mtensorflow\u001b[0m\u001b[0;34m.\u001b[0m\u001b[0mpython\u001b[0m\u001b[0;34m.\u001b[0m\u001b[0mkeras\u001b[0m\u001b[0;34m.\u001b[0m\u001b[0m_impl\u001b[0m\u001b[0;34m.\u001b[0m\u001b[0mkeras\u001b[0m \u001b[0;32mimport\u001b[0m \u001b[0mbackend\u001b[0m\u001b[0;34m\u001b[0m\u001b[0m\n",
      "\u001b[0;32m/anaconda/envs/py35/lib/python3.5/site-packages/tensorflow/python/keras/_impl/keras/activations.py\u001b[0m in \u001b[0;36m<module>\u001b[0;34m()\u001b[0m\n\u001b[1;32m     21\u001b[0m \u001b[0;32mimport\u001b[0m \u001b[0msix\u001b[0m\u001b[0;34m\u001b[0m\u001b[0m\n\u001b[1;32m     22\u001b[0m \u001b[0;34m\u001b[0m\u001b[0m\n\u001b[0;32m---> 23\u001b[0;31m \u001b[0;32mfrom\u001b[0m \u001b[0mtensorflow\u001b[0m\u001b[0;34m.\u001b[0m\u001b[0mpython\u001b[0m\u001b[0;34m.\u001b[0m\u001b[0mkeras\u001b[0m\u001b[0;34m.\u001b[0m\u001b[0m_impl\u001b[0m\u001b[0;34m.\u001b[0m\u001b[0mkeras\u001b[0m \u001b[0;32mimport\u001b[0m \u001b[0mbackend\u001b[0m \u001b[0;32mas\u001b[0m \u001b[0mK\u001b[0m\u001b[0;34m\u001b[0m\u001b[0m\n\u001b[0m\u001b[1;32m     24\u001b[0m \u001b[0;32mfrom\u001b[0m \u001b[0mtensorflow\u001b[0m\u001b[0;34m.\u001b[0m\u001b[0mpython\u001b[0m\u001b[0;34m.\u001b[0m\u001b[0mkeras\u001b[0m\u001b[0;34m.\u001b[0m\u001b[0m_impl\u001b[0m\u001b[0;34m.\u001b[0m\u001b[0mkeras\u001b[0m\u001b[0;34m.\u001b[0m\u001b[0mutils\u001b[0m\u001b[0;34m.\u001b[0m\u001b[0mgeneric_utils\u001b[0m \u001b[0;32mimport\u001b[0m \u001b[0mdeserialize_keras_object\u001b[0m\u001b[0;34m\u001b[0m\u001b[0m\n\u001b[1;32m     25\u001b[0m \u001b[0;32mfrom\u001b[0m \u001b[0mtensorflow\u001b[0m\u001b[0;34m.\u001b[0m\u001b[0mpython\u001b[0m\u001b[0;34m.\u001b[0m\u001b[0mlayers\u001b[0m\u001b[0;34m.\u001b[0m\u001b[0mbase\u001b[0m \u001b[0;32mimport\u001b[0m \u001b[0mLayer\u001b[0m\u001b[0;34m\u001b[0m\u001b[0m\n",
      "\u001b[0;32m/anaconda/envs/py35/lib/python3.5/site-packages/tensorflow/python/keras/_impl/keras/backend.py\u001b[0m in \u001b[0;36m<module>\u001b[0;34m()\u001b[0m\n\u001b[1;32m     36\u001b[0m \u001b[0;32mfrom\u001b[0m \u001b[0mtensorflow\u001b[0m\u001b[0;34m.\u001b[0m\u001b[0mpython\u001b[0m\u001b[0;34m.\u001b[0m\u001b[0mframework\u001b[0m \u001b[0;32mimport\u001b[0m \u001b[0msparse_tensor\u001b[0m\u001b[0;34m\u001b[0m\u001b[0m\n\u001b[1;32m     37\u001b[0m \u001b[0;32mfrom\u001b[0m \u001b[0mtensorflow\u001b[0m\u001b[0;34m.\u001b[0m\u001b[0mpython\u001b[0m\u001b[0;34m.\u001b[0m\u001b[0mframework\u001b[0m \u001b[0;32mimport\u001b[0m \u001b[0mtensor_util\u001b[0m\u001b[0;34m\u001b[0m\u001b[0m\n\u001b[0;32m---> 38\u001b[0;31m \u001b[0;32mfrom\u001b[0m \u001b[0mtensorflow\u001b[0m\u001b[0;34m.\u001b[0m\u001b[0mpython\u001b[0m\u001b[0;34m.\u001b[0m\u001b[0mlayers\u001b[0m \u001b[0;32mimport\u001b[0m \u001b[0mbase\u001b[0m \u001b[0;32mas\u001b[0m \u001b[0mtf_base_layers\u001b[0m\u001b[0;34m\u001b[0m\u001b[0m\n\u001b[0m\u001b[1;32m     39\u001b[0m \u001b[0;32mfrom\u001b[0m \u001b[0mtensorflow\u001b[0m\u001b[0;34m.\u001b[0m\u001b[0mpython\u001b[0m\u001b[0;34m.\u001b[0m\u001b[0mops\u001b[0m \u001b[0;32mimport\u001b[0m \u001b[0marray_ops\u001b[0m\u001b[0;34m\u001b[0m\u001b[0m\n\u001b[1;32m     40\u001b[0m \u001b[0;32mfrom\u001b[0m \u001b[0mtensorflow\u001b[0m\u001b[0;34m.\u001b[0m\u001b[0mpython\u001b[0m\u001b[0;34m.\u001b[0m\u001b[0mops\u001b[0m \u001b[0;32mimport\u001b[0m \u001b[0mclip_ops\u001b[0m\u001b[0;34m\u001b[0m\u001b[0m\n",
      "\u001b[0;32m/anaconda/envs/py35/lib/python3.5/site-packages/tensorflow/python/layers/base.py\u001b[0m in \u001b[0;36m<module>\u001b[0;34m()\u001b[0m\n\u001b[1;32m     23\u001b[0m \u001b[0;32mfrom\u001b[0m \u001b[0mtensorflow\u001b[0m\u001b[0;34m.\u001b[0m\u001b[0mpython\u001b[0m\u001b[0;34m.\u001b[0m\u001b[0mframework\u001b[0m \u001b[0;32mimport\u001b[0m \u001b[0mdtypes\u001b[0m\u001b[0;34m\u001b[0m\u001b[0m\n\u001b[1;32m     24\u001b[0m \u001b[0;32mfrom\u001b[0m \u001b[0mtensorflow\u001b[0m\u001b[0;34m.\u001b[0m\u001b[0mpython\u001b[0m\u001b[0;34m.\u001b[0m\u001b[0mframework\u001b[0m \u001b[0;32mimport\u001b[0m \u001b[0mops\u001b[0m\u001b[0;34m\u001b[0m\u001b[0m\n\u001b[0;32m---> 25\u001b[0;31m \u001b[0;32mfrom\u001b[0m \u001b[0mtensorflow\u001b[0m\u001b[0;34m.\u001b[0m\u001b[0mpython\u001b[0m\u001b[0;34m.\u001b[0m\u001b[0mkeras\u001b[0m\u001b[0;34m.\u001b[0m\u001b[0mengine\u001b[0m \u001b[0;32mimport\u001b[0m \u001b[0mbase_layer\u001b[0m\u001b[0;34m\u001b[0m\u001b[0m\n\u001b[0m\u001b[1;32m     26\u001b[0m \u001b[0;32mfrom\u001b[0m \u001b[0mtensorflow\u001b[0m\u001b[0;34m.\u001b[0m\u001b[0mpython\u001b[0m\u001b[0;34m.\u001b[0m\u001b[0mops\u001b[0m \u001b[0;32mimport\u001b[0m \u001b[0mvariable_scope\u001b[0m \u001b[0;32mas\u001b[0m \u001b[0mvs\u001b[0m\u001b[0;34m\u001b[0m\u001b[0m\n\u001b[1;32m     27\u001b[0m \u001b[0;32mfrom\u001b[0m \u001b[0mtensorflow\u001b[0m\u001b[0;34m.\u001b[0m\u001b[0mpython\u001b[0m\u001b[0;34m.\u001b[0m\u001b[0mops\u001b[0m \u001b[0;32mimport\u001b[0m \u001b[0mvariables\u001b[0m \u001b[0;32mas\u001b[0m \u001b[0mtf_variables\u001b[0m\u001b[0;34m\u001b[0m\u001b[0m\n",
      "\u001b[0;32m/anaconda/envs/py35/lib/python3.5/site-packages/tensorflow/python/keras/engine/__init__.py\u001b[0m in \u001b[0;36m<module>\u001b[0;34m()\u001b[0m\n\u001b[1;32m     21\u001b[0m \u001b[0;31m# TODO(fchollet): Remove hourglass imports once external code is done importing\u001b[0m\u001b[0;34m\u001b[0m\u001b[0;34m\u001b[0m\u001b[0m\n\u001b[1;32m     22\u001b[0m \u001b[0;31m# non-public APIs.\u001b[0m\u001b[0;34m\u001b[0m\u001b[0;34m\u001b[0m\u001b[0m\n\u001b[0;32m---> 23\u001b[0;31m \u001b[0;32mfrom\u001b[0m \u001b[0mtensorflow\u001b[0m\u001b[0;34m.\u001b[0m\u001b[0mpython\u001b[0m\u001b[0;34m.\u001b[0m\u001b[0mkeras\u001b[0m\u001b[0;34m.\u001b[0m\u001b[0mengine\u001b[0m\u001b[0;34m.\u001b[0m\u001b[0mbase_layer\u001b[0m \u001b[0;32mimport\u001b[0m \u001b[0mInputSpec\u001b[0m\u001b[0;34m\u001b[0m\u001b[0m\n\u001b[0m\u001b[1;32m     24\u001b[0m \u001b[0;32mfrom\u001b[0m \u001b[0mtensorflow\u001b[0m\u001b[0;34m.\u001b[0m\u001b[0mpython\u001b[0m\u001b[0;34m.\u001b[0m\u001b[0mkeras\u001b[0m\u001b[0;34m.\u001b[0m\u001b[0mengine\u001b[0m\u001b[0;34m.\u001b[0m\u001b[0mbase_layer\u001b[0m \u001b[0;32mimport\u001b[0m \u001b[0mLayer\u001b[0m\u001b[0;34m\u001b[0m\u001b[0m\n\u001b[1;32m     25\u001b[0m \u001b[0;32mfrom\u001b[0m \u001b[0mtensorflow\u001b[0m\u001b[0;34m.\u001b[0m\u001b[0mpython\u001b[0m\u001b[0;34m.\u001b[0m\u001b[0mkeras\u001b[0m\u001b[0;34m.\u001b[0m\u001b[0mengine\u001b[0m\u001b[0;34m.\u001b[0m\u001b[0minput_layer\u001b[0m \u001b[0;32mimport\u001b[0m \u001b[0mInput\u001b[0m\u001b[0;34m\u001b[0m\u001b[0m\n",
      "\u001b[0;32m/anaconda/envs/py35/lib/python3.5/site-packages/tensorflow/python/keras/engine/base_layer.py\u001b[0m in \u001b[0;36m<module>\u001b[0;34m()\u001b[0m\n\u001b[1;32m     31\u001b[0m \u001b[0;32mfrom\u001b[0m \u001b[0mtensorflow\u001b[0m\u001b[0;34m.\u001b[0m\u001b[0mpython\u001b[0m\u001b[0;34m.\u001b[0m\u001b[0mframework\u001b[0m \u001b[0;32mimport\u001b[0m \u001b[0mtensor_shape\u001b[0m\u001b[0;34m\u001b[0m\u001b[0m\n\u001b[1;32m     32\u001b[0m \u001b[0;32mfrom\u001b[0m \u001b[0mtensorflow\u001b[0m\u001b[0;34m.\u001b[0m\u001b[0mpython\u001b[0m\u001b[0;34m.\u001b[0m\u001b[0mframework\u001b[0m \u001b[0;32mimport\u001b[0m \u001b[0mtensor_util\u001b[0m\u001b[0;34m\u001b[0m\u001b[0m\n\u001b[0;32m---> 33\u001b[0;31m \u001b[0;32mfrom\u001b[0m \u001b[0mtensorflow\u001b[0m\u001b[0;34m.\u001b[0m\u001b[0mpython\u001b[0m\u001b[0;34m.\u001b[0m\u001b[0mkeras\u001b[0m \u001b[0;32mimport\u001b[0m \u001b[0mbackend\u001b[0m\u001b[0;34m\u001b[0m\u001b[0m\n\u001b[0m\u001b[1;32m     34\u001b[0m \u001b[0;32mfrom\u001b[0m \u001b[0mtensorflow\u001b[0m\u001b[0;34m.\u001b[0m\u001b[0mpython\u001b[0m\u001b[0;34m.\u001b[0m\u001b[0mkeras\u001b[0m \u001b[0;32mimport\u001b[0m \u001b[0mconstraints\u001b[0m\u001b[0;34m\u001b[0m\u001b[0m\n\u001b[1;32m     35\u001b[0m \u001b[0;32mfrom\u001b[0m \u001b[0mtensorflow\u001b[0m\u001b[0;34m.\u001b[0m\u001b[0mpython\u001b[0m\u001b[0;34m.\u001b[0m\u001b[0mkeras\u001b[0m \u001b[0;32mimport\u001b[0m \u001b[0minitializers\u001b[0m\u001b[0;34m\u001b[0m\u001b[0m\n",
      "\u001b[0;32m/anaconda/envs/py35/lib/python3.5/site-packages/tensorflow/python/keras/backend/__init__.py\u001b[0m in \u001b[0;36m<module>\u001b[0;34m()\u001b[0m\n\u001b[1;32m     20\u001b[0m \u001b[0;34m\u001b[0m\u001b[0m\n\u001b[1;32m     21\u001b[0m \u001b[0;31m# pylint: disable=redefined-builtin\u001b[0m\u001b[0;34m\u001b[0m\u001b[0;34m\u001b[0m\u001b[0m\n\u001b[0;32m---> 22\u001b[0;31m \u001b[0;32mfrom\u001b[0m \u001b[0mtensorflow\u001b[0m\u001b[0;34m.\u001b[0m\u001b[0mpython\u001b[0m\u001b[0;34m.\u001b[0m\u001b[0mkeras\u001b[0m\u001b[0;34m.\u001b[0m\u001b[0m_impl\u001b[0m\u001b[0;34m.\u001b[0m\u001b[0mkeras\u001b[0m\u001b[0;34m.\u001b[0m\u001b[0mbackend\u001b[0m \u001b[0;32mimport\u001b[0m \u001b[0mabs\u001b[0m\u001b[0;34m\u001b[0m\u001b[0m\n\u001b[0m\u001b[1;32m     23\u001b[0m \u001b[0;32mfrom\u001b[0m \u001b[0mtensorflow\u001b[0m\u001b[0;34m.\u001b[0m\u001b[0mpython\u001b[0m\u001b[0;34m.\u001b[0m\u001b[0mkeras\u001b[0m\u001b[0;34m.\u001b[0m\u001b[0m_impl\u001b[0m\u001b[0;34m.\u001b[0m\u001b[0mkeras\u001b[0m\u001b[0;34m.\u001b[0m\u001b[0mbackend\u001b[0m \u001b[0;32mimport\u001b[0m \u001b[0mall\u001b[0m\u001b[0;34m\u001b[0m\u001b[0m\n\u001b[1;32m     24\u001b[0m \u001b[0;32mfrom\u001b[0m \u001b[0mtensorflow\u001b[0m\u001b[0;34m.\u001b[0m\u001b[0mpython\u001b[0m\u001b[0;34m.\u001b[0m\u001b[0mkeras\u001b[0m\u001b[0;34m.\u001b[0m\u001b[0m_impl\u001b[0m\u001b[0;34m.\u001b[0m\u001b[0mkeras\u001b[0m\u001b[0;34m.\u001b[0m\u001b[0mbackend\u001b[0m \u001b[0;32mimport\u001b[0m \u001b[0many\u001b[0m\u001b[0;34m\u001b[0m\u001b[0m\n",
      "\u001b[0;31mImportError\u001b[0m: cannot import name 'abs'"
     ]
    }
   ],
   "source": [
    "import os\n",
    "import re\n",
    "import timeit\n",
    "\n",
    "os.environ[\"CUDA_DEVICE_ORDER\"] = \"PCI_BUS_ID\"  # see issue #152\n",
    "os.environ[\"CUDA_VISIBLE_DEVICES\"] = \"0\"\n",
    "\n",
    "\n",
    "import cv2\n",
    "import keras\n",
    "import keras.backend as K\n",
    "import numpy as np\n",
    "import pandas as pd\n",
    "import tqdm\n",
    "from keras.callbacks import ReduceLROnPlateau, ModelCheckpoint, TensorBoard\n",
    "from keras.layers import Dense, Input, GlobalAveragePooling2D, Flatten\n",
    "from keras.models import Model\n",
    "from keras.optimizers import Adam\n",
    "from keras.utils import Sequence\n",
    "from keras_contrib.applications.densenet import DenseNetImageNet121\n",
    "from tensorflow.python.client import device_lib\n",
    "import onnxmltools\n",
    "from sklearn import metrics\n",
    "import matplotlib.pyplot as plt\n",
    "import matplotlib.image as mpimg\n",
    "import pathlib"
   ]
  },
  {
   "cell_type": "code",
   "execution_count": null,
   "metadata": {
    "nbpresent": {
     "id": "6576e584-dd7e-40b5-a95f-8f43e5a69bf0"
    }
   },
   "outputs": [],
   "source": [
    "# TODO change this to be user name based\n",
    "import getpass\n",
    "username = getpass.getuser()\n",
    "data_path = \"/usr/local/share/xraytutorial\"\n",
    "output_path = os.path.join(\"/mnt/\", username)\n",
    "print(\"root folder for all the output would be\", output_path, \"input would be\", data_path)\n",
    "pathlib.Path(data_path).mkdir(parents=True, exist_ok=True) \n",
    "pathlib.Path(output_path).mkdir(parents=True, exist_ok=True) \n",
    "\n",
    "\n",
    "images_path = os.path.join(data_path, 'images.zip')\n",
    "images_extracted_path = os.path.join(data_path, 'images')\n",
    "pre_trained_model_path = os.path.join(data_path, 'chexray_14_weights_712split_epoch_054_val_loss_191.2588.hdf5')\n",
    "label_path = os.path.join(data_path, 'Data_Entry_2017.csv')\n",
    "\n",
    "# global variables\n",
    "tensorboard_dir = os.path.join(output_path, 'tensorboard')\n",
    "weights_dir = os.path.join(output_path, 'modelweights')\n",
    "weights_file = os.path.join(weights_dir, 'chexnet_14_weights_712split_epoch_{epoch:03d}_val_loss_{val_loss:.4f}_withoutDenseLayers.hdf5')\n",
    "\n",
    "\n",
    "#onnx model path\n",
    "onnx_model_save_path = os.path.join(data_path, 'chestxray.onnx')"
   ]
  },
  {
   "cell_type": "markdown",
   "metadata": {
    "nbpresent": {
     "id": "e030c57b-1185-4115-9961-14c83b280ebb"
    }
   },
   "source": [
    "# Dataset introduction and download sample data\n",
    "We use a weakly labelled dataset that was released by the NIH a few months ago. The dataset is described in  [this paper](https://arxiv.org/abs/1705.02315), and you can download it from  [here](https://nihcc.app.box.com/v/ChestXray-NIHCC). It includes over 30,805 unique patients and 112,120 frontal-view X-ray images with 14 different pathology labels (e.g. atelectasis, pneumonia, etc.) mined from radiology reports using NLP methods such as keyword search and semantic data integration. The NIH-released data also has 983 hand-labelled images covering 8 pathologies, which can be considered as strong labels. We train our model excluding those human labelled data and will use them for later visualization."
   ]
  },
  {
   "cell_type": "code",
   "execution_count": null,
   "metadata": {
    "scrolled": false
   },
   "outputs": [],
   "source": [
    "\n",
    "img = mpimg.imread(os.path.join(data_path, 'images','00000700_000.png'))\n",
    "plt.figure(figsize=(8,8))\n",
    "imgplot = plt.imshow(img, cmap='gray')"
   ]
  },
  {
   "cell_type": "code",
   "execution_count": null,
   "metadata": {
    "nbpresent": {
     "id": "2c30b0ad-0f23-4d3a-a04a-c8572d147183"
    },
    "scrolled": true
   },
   "outputs": [],
   "source": [
    "\n",
    "total_patient_number = 100\n",
    "patient_id_original = [i for i in range(700, 800)]\n",
    "\n",
    "\n",
    "name_list = ['Atelectasis', 'Cardiomegaly', 'Effusion', 'Infiltration', 'Mass', 'Nodule', 'Pneumonia', 'Pneumothorax',\n",
    "             'Consolidation', 'Edema', 'Emphysema', 'Fibrosis', 'Pleural_Thickening', 'Hernia']\n",
    "\n",
    "labels_df = pd.read_csv(label_path)\n",
    "\n",
    "patient_id = patient_id_original\n",
    "print(\"len of patient id is\", len(patient_id))\n",
    "\n",
    "print(\"first ten patient ids are\", patient_id[:10])\n",
    "\n",
    "# training:valid:test 7:1:2\n",
    "patient_id_train = patient_id[:int(total_patient_number * 0.7)]\n",
    "patient_id_valid = patient_id[int(total_patient_number * 0.7):int(total_patient_number * 0.8)]\n",
    "# get the rest of the patient_id as the test set\n",
    "patient_id_test = patient_id[int(total_patient_number * 0.8):]\n",
    "\n",
    "print(\"train, valid, test patients numbers are:\", len(patient_id_train), len(patient_id_valid), len(patient_id_test))\n",
    "\n",
    "\n",
    "def process_data(current_df, patient_ids):\n",
    "    image_name_index = []\n",
    "    image_labels = {}\n",
    "    for individual_patient in tqdm.tqdm(patient_ids):\n",
    "        for _, row in current_df[current_df['Patient ID'] == individual_patient].iterrows():\n",
    "            processed_image_name = row['Image Index']\n",
    "            image_name_index.append(processed_image_name)\n",
    "            image_labels[processed_image_name] = np.zeros(14, dtype=np.uint8)\n",
    "            for disease_index, ele in enumerate(name_list):\n",
    "                if re.search(ele, row['Finding Labels'], re.IGNORECASE):\n",
    "                    image_labels[processed_image_name][disease_index] = 1\n",
    "                else:\n",
    "                    # redundant code but just to make it more readable\n",
    "                    image_labels[processed_image_name][disease_index] = 0\n",
    "                # print(\"processed\", row['Image Index'])\n",
    "    return image_name_index, image_labels\n",
    "\n",
    "\n",
    "train_data_index, train_labels = process_data(labels_df, patient_id_train)\n",
    "valid_data_index, valid_labels = process_data(labels_df, patient_id_valid)\n",
    "test_data_index, test_labels = process_data(labels_df, patient_id_test)\n",
    "\n",
    "print(\"train, valid, test image number is:\", len(train_data_index), len(valid_data_index), len(test_data_index))\n",
    "\n",
    "# save the data\n",
    "labels_all = {}\n",
    "labels_all.update(train_labels)\n",
    "labels_all.update(valid_labels)\n",
    "labels_all.update(test_labels)\n",
    "\n",
    "partition_dict = {'train': train_data_index, 'test': test_data_index, 'valid': valid_data_index}\n"
   ]
  },
  {
   "cell_type": "markdown",
   "metadata": {},
   "source": [
    "# Defining the input pipeline\n",
    "We want to define the input pipeline, so that all the transformation (such as resizing the images) can be done and will be put in a queue, which is ready to be served on GPUs\n",
    "\n",
    "A few other settings:\n",
    "- Learning rate set to 0.01\n",
    "- Learning rate decays by 10 if the training loss does not decrease for 5 consecutive epochs\n",
    "- Train/validation/test dataset: 7:1:2\n",
    "- Using Adam optimizer and using standard parameters \n",
    "- Sigmoid function as the output since this is a multi-label problem and binary cross entropy as the loss function \n",
    "- Training for 100 epochs and select the one with smallest validation loss (In this tutorial we only train 2 epochs)"
   ]
  },
  {
   "cell_type": "code",
   "execution_count": null,
   "metadata": {},
   "outputs": [],
   "source": [
    "initial_lr = 0.001\n",
    "resized_height = 224\n",
    "resized_width = 224\n",
    "num_channel = 3\n",
    "num_classes = 14\n",
    "epochs = 2\n",
    "batch_size = 16\n",
    "\n",
    "\n",
    "# generator for train and validation data\n",
    "# use the Sequence class per issue https://github.com/keras-team/keras/issues/1638\n",
    "class DataGenSequence(Sequence):\n",
    "    def __init__(self, labels, image_file_index, current_state):\n",
    "        self.batch_size = batch_size\n",
    "        self.labels = labels\n",
    "        self.img_file_index = image_file_index\n",
    "        self.current_state = current_state\n",
    "        self.len = len(self.img_file_index) // self.batch_size\n",
    "        self.labels_df = pd.read_csv(label_path)\n",
    "        self.entry_times = 0\n",
    "        print(\"for DataGenSequence\", current_state, \"total rows are:\", len(self.img_file_index), \", len is\", self.len)\n",
    "\n",
    "    def __len__(self):\n",
    "        return self.len\n",
    "\n",
    "    def __getitem__(self, idx):\n",
    "        start_time = timeit.default_timer()\n",
    "        # make sure each batch size has the same amount of data\n",
    "        current_batch = self.img_file_index[idx * self.batch_size: (idx + 1) * self.batch_size]\n",
    "        X = np.empty((self.batch_size, resized_height, resized_width, num_channel))\n",
    "        y = np.empty((self.batch_size, num_classes))\n",
    "\n",
    "        for i, image_name in enumerate(current_batch):\n",
    "            path = os.path.join(images_extracted_path, image_name)\n",
    "            if not os.path.exists(path):\n",
    "                print(path)\n",
    "            x = cv2.imread(path)\n",
    "            img = cv2.resize(cv2.imread(path), (resized_height, resized_width)).astype(np.float32)\n",
    "\n",
    "            X[i, :, :, :] = img\n",
    "            y[i, :] = labels[image_name]\n",
    "\n",
    "            # only do random flipping in training status\n",
    "            x_augmented = X\n",
    "\n",
    "        # code you want to evaluate\n",
    "        self.entry_times += 1\n",
    "        elapsed = timeit.default_timer() - start_time\n",
    "        return x_augmented, y\n",
    "\n"
   ]
  },
  {
   "attachments": {
    "image.png": {
     "image/png": "[encoded data removed]"
    }
   },
   "cell_type": "markdown",
   "metadata": {},
   "source": [
    "# Network Architecture (DenseNet)\n",
    "\n",
    "Deep neural networks are notoriously hard to train well, especially when the neural networks get deeper. Inspired by the  [Stanford team](https://stanfordmlgroup.github.io/projects/chexnet/), we use the [DenseNet](https://arxiv.org/abs/1608.06993)-121 architecture with pre-trained weights from ImageNet as initialization parameters. This allows us to both pass the gradient more efficiently and train a deeper model. This architecture alleviates the vanishing-gradient problem and enables feature map reuse, which makes it possible to train very deep neural networks.\n",
    "\n",
    "![image.png](attachment:image.png)\n",
    "\n",
    "We will  use 100 patients for testing purpose, which is around 1% of the total dataset."
   ]
  },
  {
   "cell_type": "code",
   "execution_count": null,
   "metadata": {},
   "outputs": [],
   "source": [
    "def build_model():\n",
    "    \"\"\"\n",
    "\n",
    "    Returns: a model with specified weights\n",
    "\n",
    "    \"\"\"\n",
    "    # define the model, use pre-trained weights for image_net\n",
    "    base_model = DenseNetImageNet121(input_shape=(resized_height, resized_width, num_channel),\n",
    "                                     weights='imagenet',\n",
    "                                     include_top=False,\n",
    "                                     pooling='avg')\n",
    "\n",
    "    x = base_model.output\n",
    "    x = Dense(100, activation='relu')(x)\n",
    "    predictions = Dense(14, activation='sigmoid', name=\"final_classifier\")(x)\n",
    "    model = Model(inputs=base_model.input, outputs=predictions)\n",
    "    return model\n",
    "\n",
    "\n",
    "# loss function\n",
    "def unweighted_binary_crossentropy(y_true, y_pred):\n",
    "    \"\"\"\n",
    "    Args:\n",
    "        y_true: true labels\n",
    "        y_pred: predicted labels\n",
    "\n",
    "    Returns: the sum of binary cross entropy loss across all the classes\n",
    "\n",
    "    \"\"\"\n",
    "    return K.sum(K.binary_crossentropy(y_true, y_pred))"
   ]
  },
  {
   "cell_type": "markdown",
   "metadata": {},
   "source": [
    "# Build and Run the model"
   ]
  },
  {
   "cell_type": "code",
   "execution_count": null,
   "metadata": {},
   "outputs": [],
   "source": [
    "model_gpu = build_model()\n",
    "model_checkpoint = ModelCheckpoint(\n",
    "    weights_file,\n",
    "    monitor='val_loss', save_weights_only=False)\n",
    "\n",
    "num_workers = 6\n",
    "\n",
    "model_gpu.compile(optimizer=Adam(lr=initial_lr), loss=unweighted_binary_crossentropy)\n",
    "\n",
    "reduce_lr_on_plateau = ReduceLROnPlateau(monitor='val_loss', factor=0.33333, patience=5, verbose=1, min_lr=1e-4)\n",
    "\n",
    "tensor_board = TensorBoard(log_dir=tensorboard_dir)\n",
    "callbacks = [model_checkpoint, reduce_lr_on_plateau, tensor_board]\n",
    "\n",
    "labels = labels_all\n",
    "partition = partition_dict\n",
    "\n",
    "model_gpu.fit_generator(generator=DataGenSequence(labels, partition['train'], current_state='train'),\n",
    "                              # steps_per_epoch=100,\n",
    "                              epochs=epochs,\n",
    "                              verbose=1,\n",
    "                              callbacks=callbacks,\n",
    "                              workers=num_workers,\n",
    "                              # validation_steps=100,\n",
    "                              # max_queue_size=32,\n",
    "                              shuffle=False,\n",
    "                              validation_data=DataGenSequence(labels, partition['valid'], current_state='validation')\n",
    "                              # validation_steps=1\n",
    "                              )\n"
   ]
  },
  {
   "attachments": {
    "image.png": {
     "image/png": "[encoded data removed]"
    }
   },
   "cell_type": "markdown",
   "metadata": {
    "nbpresent": {
     "id": "d50dd0b1-2c8d-4e17-a23e-ccdc1774fa6b"
    }
   },
   "source": [
    "# Testing the actual model to get AUROC score\n",
    "\n",
    "\n",
    "We use ROC (Receiver Operating Characteristic) and the AUC score (area under ROC curve) as the final metric\n",
    "The reason is that medical dataset is usually highly unbalanced (for example Pneumonia only accounts for 1/77 of the data), and ROC can have a good balance between the True Positive Rate and the False Negative Rate\n",
    "\n",
    "We don’t use accuracy here as accuracy usually don’t make sense\n",
    "\n",
    "Note the score will be very high since 1) the test set is very small for experimentation purpose; 2) the pre-trained model was trained using a random set of data which includes a lot of the testing data. The actual AUROC is around 0.845\n",
    "\n",
    "![image.png](attachment:image.png)"
   ]
  },
  {
   "cell_type": "code",
   "execution_count": null,
   "metadata": {
    "nbpresent": {
     "id": "7bc0b2e0-af88-427d-b65a-0ffce4896712"
    }
   },
   "outputs": [],
   "source": [
    "# load test data\n",
    "X_test = np.empty((len(partition['test']), 224, 224, 3), dtype=np.float32)\n",
    "y_test = np.empty((len(partition['test']) - len(partition['test']) % batch_size, 14), dtype=np.float32)\n",
    "\n",
    "for i, npy in enumerate(partition['test']):\n",
    "    if (i < len(y_test)):\n",
    "        # round to batch_size\n",
    "        y_test[i, :] = labels[npy]\n",
    "\n",
    "print(\"len of result is\", len(y_test))\n",
    "y_pred_list = np.empty((len(partition['test']), 14), dtype=np.float32)\n",
    "\n",
    "# individual models\n",
    "\n",
    "print(pre_trained_model_path)\n",
    "#    model = load_model(current_model_file)\n",
    "model = keras.models.load_model(pre_trained_model_path)\n",
    "\n",
    "print('evaluation for model', pre_trained_model_path)\n",
    "# y_pred = model.predict(X_test)\n",
    "\n",
    "y_pred = model.predict_generator(generator=DataGenSequence(labels, partition['test'], current_state='test'),\n",
    "                                 workers=32, verbose=1, max_queue_size=1)\n",
    "print(\"result shape\", y_pred.shape)\n",
    "\n",
    "# add one fake row of ones in both test and pred values to avoid:\n",
    "# ValueError: Only one class present in y_true. ROC AUC score is not defined in that case.\n",
    "y_test = np.insert(y_test, 0, np.ones((y_test.shape[1],)), 0)\n",
    "y_pred = np.insert(y_pred, 0, np.ones((y_pred.shape[1],)), 0)\n",
    "\n",
    "df = pd.DataFrame(columns=['Disease', 'Our AUC Score'])\n",
    "for d in range(14):\n",
    "    df.loc[d] = [name_list[d],\n",
    "                 metrics.roc_auc_score(y_test[:, d], y_pred[:, d])]\n",
    "\n",
    "print(df)"
   ]
  },
  {
   "cell_type": "markdown",
   "metadata": {},
   "source": [
    "This is the actual AUROC score we get for the model running on actual test dataset:\n",
    "\n",
    "| Disease | AUC Score | Disease | AUC Score |\n",
    "| --- | --- | --- | --- |\n",
    "| Atelectasis | 0.828543 | Pneumothorax | 0.881838 |\n",
    "| Cardiomegaly | 0.891449 | Consolidation | 0.721818 |\n",
    "| Effusion | 0.817697 | Edema | 0.868002 |\n",
    "| Infiltration | 0.907302 | Emphysema | 0.787202 |\n",
    "| Mass | 0.895815 | Fibrosis | 0.826822 |\n",
    "| Nodule | 0.907841 | Pleural Thickening | 0.793416 |\n",
    "| Pneumonia | 0.817601 | Hernia | 0.889089 |\n"
   ]
  },
  {
   "cell_type": "markdown",
   "metadata": {},
   "source": [
    "\n",
    "# Visualizing the models (Class Activation Mapping)\n",
    "\n",
    "Individual prediction activation maps like Class Activation Mapping ( [CAM](http://cnnlocalization.csail.mit.edu/)) images allow one to understand what the model learns and thus explain a prediction/score. CAM methods are useful to help understand and explain model predictions. Aside from explaining model output, CAM images can also be used for model improvement through guided training. For example, one can modify the training data by removing (or relabeling) areas in the image that should not be the focus for prediction.\n",
    "\n",
    "We use CAM visualization to understand how to interpret the classification results for new chest X-ray images. The cardiomegaly pathology bounding box from the NIH annotated data and peak CAM image show a good visual overlap, indicating that the model focuses on the right area of the image when issuing the prediction.\n"
   ]
  },
  {
   "cell_type": "code",
   "execution_count": null,
   "metadata": {
    "nbpresent": {
     "id": "14593eb3-9121-4578-94ef-5b6e859179a9"
    },
    "scrolled": true
   },
   "outputs": [],
   "source": [
    "model.summary()\n",
    "# replace mode weights with the ones computing by training in chest xray\n"
   ]
  },
  {
   "cell_type": "code",
   "execution_count": null,
   "metadata": {
    "nbpresent": {
     "id": "cf25345f-df83-4932-951d-90bd83cb6998"
    }
   },
   "outputs": [],
   "source": [
    "# get diseases prediction and feature maps used for cam just as FYI\n",
    "#  a cam image is class_weights[:, some_pathology]*conv_features[:,:,i]\n",
    "\n",
    "from keras.models import Model\n",
    "test_image_path = os.path.join(data_path, 'images','00000728_000.png') #.png \n",
    "\n",
    "\n",
    "\n",
    "cv2_image = cv2.resize(cv2.imread(test_image_path), (resized_height, resized_width))\n",
    "predictions = model.predict(cv2_image[None,:,:,:])\n",
    "predictions\n",
    "conv_map_model = Model(inputs=model.input, outputs=model.get_layer(index=-3).output)\n",
    "conv_features = conv_map_model.predict(cv2_image[None,:,:,:])\n",
    "conv_features = conv_features[0, :, :, :] #np.squeeze(conv_features)\n",
    "class_weights = model.layers[-1].get_weights()\n",
    "\n",
    "plt.figure(figsize=(8,8))\n",
    "imgplot = plt.imshow(cv2_image, cmap='gray')"
   ]
  },
  {
   "cell_type": "code",
   "execution_count": null,
   "metadata": {
    "nbpresent": {
     "id": "f39ead57-a524-4e84-9f24-23f086e983e4"
    }
   },
   "outputs": [],
   "source": [
    "def get_score_and_cam_picture(cv2_input_image, DenseNetImageNet121_model):\n",
    "# based on https://github.com/jacobgil/keras-cam/blob/master/cam.py\n",
    "    width, height, _ = cv2_input_image.shape\n",
    "    class_weights = DenseNetImageNet121_model.layers[-1].get_weights()[0]\n",
    "    final_conv_layer = DenseNetImageNet121_model.layers[-3]\n",
    "    get_output = K.function([DenseNetImageNet121_model.layers[0].input], \n",
    "                            [final_conv_layer.output, \\\n",
    "                             DenseNetImageNet121_model.layers[-1].output])\n",
    "    [conv_outputs, prediction] = get_output([cv2_input_image[None,:,:,:]])\n",
    "    conv_outputs = conv_outputs[0, :, :, :]\n",
    "    prediction = prediction[0,:]\n",
    "    \n",
    "    #Create the class activation map.\n",
    "    predicted_disease = np.argmax(prediction)\n",
    "    cam = np.zeros(dtype = np.float32, shape = conv_outputs.shape[:2])\n",
    "    for i, w in enumerate(class_weights[:, predicted_disease]):\n",
    "            cam += w * conv_outputs[:, :, i]\n",
    "    \n",
    "    return prediction, cam, predicted_disease\n",
    "\n",
    "\n",
    "def process_cam_image(crt_cam_image, xray_image, crt_alpha = .5):\n",
    "    im_width, im_height, _ = xray_image.shape\n",
    "    crt_cam_image = cv2.resize(crt_cam_image, (im_width, im_height), \\\n",
    "                               interpolation=cv2.INTER_CUBIC)\n",
    "    \n",
    "#     do some gamma enhancement, e is too much\n",
    "    crt_cam_image = np.power(1.1, crt_cam_image)\n",
    "    crt_cam_image = normalize_nd_array(crt_cam_image)\n",
    "    # crt_cam_image[np.where(crt_cam_image < 0.5)] = 0 \n",
    "    crt_cam_image = 255*crt_cam_image\n",
    "\n",
    "    # make cam an rgb image\n",
    "    empty_image_channel = np.zeros(dtype = np.float32, shape = crt_cam_image.shape[:2])\n",
    "    crt_cam_image = cv2.merge((crt_cam_image,empty_image_channel,empty_image_channel))\n",
    "    \n",
    "    blended_image = cv2.addWeighted(xray_image.astype('uint8'),crt_alpha,\\\n",
    "                                    crt_cam_image.astype('uint8'),(1-crt_alpha),0)\n",
    "    return(blended_image)\n",
    "\n",
    "def plot_cam_results(crt_blended_image, crt_cam_image, crt_xray_image, map_caption):\n",
    "    import matplotlib.pyplot as plt\n",
    "\n",
    "    fig = plt.figure(figsize = (15,7))\n",
    "\n",
    "    ax1 = fig.add_subplot(2, 3, 1)\n",
    "    ax1.imshow(crt_xray_image, cmap = 'gray', interpolation = 'bicubic')\n",
    "    ax1.set_title('Orig X Ray')\n",
    "    plt.axis('off')\n",
    "\n",
    "    ax2 = fig.add_subplot(2,3, 2)\n",
    "    cam_plot = ax2.imshow(crt_cam_image, cmap=plt.get_cmap('OrRd'), interpolation = 'bicubic')\n",
    "    plt.colorbar(cam_plot, ax=ax2)\n",
    "    ax2.set_title('Activation Map')\n",
    "    plt.axis('off')\n",
    "\n",
    "    ax3 = fig.add_subplot(2,3, 3)\n",
    "    blended_plot = ax3.imshow(crt_blended_image, interpolation = 'bicubic')\n",
    "    plt.colorbar(cam_plot, ax=ax3)\n",
    "    ax3.set_title(map_caption)\n",
    "    plt.axis('off')\n",
    "    \n",
    "    # serialize blended image plot padded in the x/y-direction\n",
    "    import io\n",
    "    image_as_BytesIO = io.BytesIO()\n",
    "    x_direction_pad = 1.05;y_direction_pad=1.2\n",
    "    extent = ax3.get_window_extent().transformed(fig.dpi_scale_trans.inverted())\n",
    "    fig.savefig(image_as_BytesIO, \n",
    "                bbox_inches=extent.expanded(x_direction_pad, \n",
    "                                            y_direction_pad),\n",
    "               format='png')\n",
    "    image_as_BytesIO.seek(0)\n",
    "    return(image_as_BytesIO)\n",
    "    \n",
    "\n",
    "    \n",
    "def process_xray_image(crt_xray_image, DenseNetImageNet121_model):\n",
    "    crt_xray_image = normalize_nd_array(crt_xray_image)\n",
    "    crt_xray_image = 255*crt_xray_image\n",
    "    crt_xray_image=crt_xray_image.astype('uint8')\n",
    "\n",
    "    crt_predictions, crt_cam_image, predicted_disease_index = \\\n",
    "    get_score_and_cam_picture(crt_xray_image, \n",
    "                              DenseNetImageNet121_model)\n",
    "    \n",
    "    prj_consts = chestxray_consts()\n",
    "    likely_disease=name_list[predicted_disease_index]\n",
    "    likely_disease_prob = 100*crt_predictions[predicted_disease_index]\n",
    "    likely_disease_prob_ratio=100*crt_predictions[predicted_disease_index]/sum(crt_predictions)\n",
    "    print('predictions: ', crt_predictions)\n",
    "    print('likely disease: ', likely_disease)\n",
    "    print('likely disease prob: ', likely_disease_prob)\n",
    "    print('likely disease prob ratio: ', likely_disease_prob_ratio)\n",
    "    \n",
    "    crt_blended_image = process_cam_image(crt_cam_image, crt_xray_image)\n",
    "    plot_cam_results(crt_blended_image, crt_cam_image, crt_xray_image,\n",
    "                    str(likely_disease)+ ' ' +\n",
    "                    \"{0:.1f}\".format(likely_disease_prob)+ '% (weight ' +\n",
    "                    \"{0:.1f}\".format(likely_disease_prob_ratio)+ '%)')\n",
    "      \n",
    "\n",
    "def normalize_nd_array(crt_array):\n",
    "    # Normalised [0,1]\n",
    "    crt_array = crt_array - np.min(crt_array)\n",
    "    return(crt_array/np.ptp(crt_array))"
   ]
  },
  {
   "cell_type": "code",
   "execution_count": null,
   "metadata": {
    "nbpresent": {
     "id": "d5234b14-98f4-4b57-a222-7e564ecf1be7"
    },
    "scrolled": true
   },
   "outputs": [],
   "source": [
    "# get diseases prediction and cam\n",
    "\n",
    "\n",
    "cv2_image = normalize_nd_array(cv2_image)\n",
    "cv2_image = 255*cv2_image\n",
    "cv2_image=cv2_image.astype('uint8')\n",
    "\n",
    "predictions, cam_image, predicted_disease_index = \\\n",
    "get_score_and_cam_picture(cv2_image, model)\n",
    "predictions\n",
    "\n",
    "name_list[predicted_disease_index]\n",
    "print('likely disease: ', name_list[predicted_disease_index])\n",
    "print('likely disease prob ratio: ', \\\n",
    "          predictions[predicted_disease_index]/sum(predictions))\n",
    "\n",
    "blended_image = process_cam_image(cam_image, cv2_image)\n",
    "plot_cam_results(blended_image, cam_image, cv2_image, \\\n",
    "                 name_list[predicted_disease_index])"
   ]
  },
  {
   "cell_type": "markdown",
   "metadata": {
    "nbpresent": {
     "id": "bb614002-407c-44cf-a04b-568edea90e85"
    }
   },
   "source": [
    "# Exporting Models to ONNX and view model structure\n",
    "\n",
    "[Open Neural Network Exchange (ONNX)](http://onnx.ai/) provides an open source format for AI models, empowering AI developers to choose the right tools as their projects evolve. For example, you can train with your favorite framework (such as PyTorch), save your model in ONNX, then operationalize the model using another framework such as TensorFlow on the Azure ML platform.\n",
    "\n",
    "After exporting the model, you can visualize the ONNX model using a  [ONNX Viewer called Netron](https://lutzroeder.github.io/Netron/):\n",
    "\n",
    "\n",
    "ONNX exporter is a trace-based exporter. A trace-based exporter will execute your model once and export the relevant operators that are executed during the run. This is why we need to provide a &quot;dummy input&quot; in the export parameters so the model can be run using the input tensors.\n"
   ]
  },
  {
   "cell_type": "code",
   "execution_count": null,
   "metadata": {
    "nbpresent": {
     "id": "2f74ac76-231c-4584-b138-95ffa40320d1"
    }
   },
   "outputs": [],
   "source": [
    "# It is this simple using just 2 lines of code!\n",
    "onnx_model = onnxmltools.convert_keras(model)\n",
    "onnxmltools.utils.save_model(onnx_model, onnx_model_save_path)"
   ]
  },
  {
   "cell_type": "code",
   "execution_count": null,
   "metadata": {
    "nbpresent": {
     "id": "7e0d8384-8817-4cab-9acb-58d70cba9eb1"
    }
   },
   "outputs": [],
   "source": [
    "!ls $onnx_model_save_path"
   ]
  },
  {
   "cell_type": "markdown",
   "metadata": {},
   "source": [
    "You can also download the already converted onnx model from here: https://chestxray.blob.core.windows.net/chestxraytutorial/tutorial_xray/chestxray_converted.onnx"
   ]
  },
  {
   "cell_type": "code",
   "execution_count": null,
   "metadata": {},
   "outputs": [],
   "source": []
  }
 ],
 "metadata": {
  "kernelspec": {
   "display_name": "Python 3",
   "language": "python",
   "name": "python3"
  },
  "language_info": {
   "codemirror_mode": {
    "name": "ipython",
    "version": 3
   },
   "file_extension": ".py",
   "mimetype": "text/x-python",
   "name": "python",
   "nbconvert_exporter": "python",
   "pygments_lexer": "ipython3",
   "version": "3.5.5"
  },
  "nbpresent": {
   "slides": {
    "03f38d99-29f2-47be-951a-c897a50bc49f": {
     "id": "03f38d99-29f2-47be-951a-c897a50bc49f",
     "prev": "7834f714-bc01-4bea-8f34-983835c77374",
     "regions": {
      "34aab5f6-136a-418b-adc1-c33176ca8964": {
       "attrs": {
        "height": 0.8,
        "width": 0.8,
        "x": 0.1,
        "y": 0.1
       },
       "content": {
        "cell": "d5234b14-98f4-4b57-a222-7e564ecf1be7",
        "part": "whole"
       },
       "id": "34aab5f6-136a-418b-adc1-c33176ca8964"
      }
     }
    },
    "06258075-9b16-4f53-af28-72c7cb9a3971": {
     "id": "06258075-9b16-4f53-af28-72c7cb9a3971",
     "prev": "3cb55e7a-5165-4e03-9d39-6e330e1d1e2d",
     "regions": {
      "85374a9e-3632-4bfd-a343-02a88d54e5d1": {
       "attrs": {
        "height": 0.8,
        "width": 0.8,
        "x": 0.1,
        "y": 0.1
       },
       "content": {
        "cell": "6576e584-dd7e-40b5-a95f-8f43e5a69bf0",
        "part": "whole"
       },
       "id": "85374a9e-3632-4bfd-a343-02a88d54e5d1"
      }
     }
    },
    "0baa751b-e21a-40ab-89fb-26615764ceed": {
     "id": "0baa751b-e21a-40ab-89fb-26615764ceed",
     "prev": "6d61e9b6-578d-4f2c-be51-d6f64c7ddc63",
     "regions": {
      "5e2ccdae-408a-486a-9c63-4e1904b897df": {
       "attrs": {
        "height": 0.8,
        "width": 0.8,
        "x": 0.1,
        "y": 0.1
       },
       "content": {
        "cell": "975b0933-3372-4d46-aafd-606fa577e19d",
        "part": "whole"
       },
       "id": "5e2ccdae-408a-486a-9c63-4e1904b897df"
      }
     }
    },
    "0c2d8da1-27e2-47d4-b74f-635c5beb70d8": {
     "id": "0c2d8da1-27e2-47d4-b74f-635c5beb70d8",
     "prev": "03f38d99-29f2-47be-951a-c897a50bc49f",
     "regions": {
      "c155282e-efcc-4a6a-98a0-68dba99614cd": {
       "attrs": {
        "height": 0.8,
        "width": 0.8,
        "x": 0.1,
        "y": 0.1
       },
       "content": {
        "cell": "56145618-2d6a-411c-b528-a23a1b97ac98",
        "part": "whole"
       },
       "id": "c155282e-efcc-4a6a-98a0-68dba99614cd"
      }
     }
    },
    "107cd114-0747-4c9b-a8dc-93cd6e94e75d": {
     "id": "107cd114-0747-4c9b-a8dc-93cd6e94e75d",
     "prev": "31eb2227-f312-475a-821e-523aa45e8887",
     "regions": {
      "612c63c5-3466-4301-ada2-f431c45b3564": {
       "attrs": {
        "height": 0.8,
        "width": 0.8,
        "x": 0.1,
        "y": 0.1
       },
       "content": {
        "cell": "7e0d8384-8817-4cab-9acb-58d70cba9eb1",
        "part": "whole"
       },
       "id": "612c63c5-3466-4301-ada2-f431c45b3564"
      }
     }
    },
    "1dda7f04-f6ea-495a-a580-1fc6a4f4f67b": {
     "id": "1dda7f04-f6ea-495a-a580-1fc6a4f4f67b",
     "prev": "2e49ed2d-4693-4639-82a2-2d279b7f6bb8",
     "regions": {
      "ebc46873-fde9-490a-97da-964d47eb5eaf": {
       "attrs": {
        "height": 0.8,
        "width": 0.8,
        "x": 0.1,
        "y": 0.1
       },
       "content": {
        "cell": "2c30b0ad-0f23-4d3a-a04a-c8572d147183",
        "part": "whole"
       },
       "id": "ebc46873-fde9-490a-97da-964d47eb5eaf"
      }
     }
    },
    "2187a5d9-a46d-4f52-9655-5ccb82bb805d": {
     "id": "2187a5d9-a46d-4f52-9655-5ccb82bb805d",
     "prev": "5f73e149-42ae-4e08-8a62-300939ab2c59",
     "regions": {
      "c6fd5522-6400-4b4c-95dc-4099d8453882": {
       "attrs": {
        "height": 0.8,
        "width": 0.8,
        "x": 0.1,
        "y": 0.1
       },
       "content": {
        "cell": "564c8898-d6b6-44bb-ba23-ca78cce04812",
        "part": "whole"
       },
       "id": "c6fd5522-6400-4b4c-95dc-4099d8453882"
      }
     }
    },
    "2a31759b-6572-42d1-be3b-b4fac9be41fc": {
     "id": "2a31759b-6572-42d1-be3b-b4fac9be41fc",
     "prev": "ad07e0e3-da73-4f46-8940-6ef04cff4452",
     "regions": {
      "faf5054b-56bd-45e8-afcf-afe6c167da0c": {
       "attrs": {
        "height": 0.8,
        "width": 0.8,
        "x": 0.1,
        "y": 0.1
       },
       "content": {
        "cell": "24a27feb-b8ba-40d7-b122-ed91e6a9e3f6",
        "part": "whole"
       },
       "id": "faf5054b-56bd-45e8-afcf-afe6c167da0c"
      }
     }
    },
    "2e49ed2d-4693-4639-82a2-2d279b7f6bb8": {
     "id": "2e49ed2d-4693-4639-82a2-2d279b7f6bb8",
     "prev": "0baa751b-e21a-40ab-89fb-26615764ceed",
     "regions": {
      "c2ea9eb6-de0d-45bf-bb2e-de5991e757b7": {
       "attrs": {
        "height": 0.8,
        "width": 0.8,
        "x": 0.1,
        "y": 0.1
       },
       "content": {
        "cell": "46f63b77-4f47-4de5-ac1f-25f8ae3c46ec",
        "part": "whole"
       },
       "id": "c2ea9eb6-de0d-45bf-bb2e-de5991e757b7"
      }
     }
    },
    "31eb2227-f312-475a-821e-523aa45e8887": {
     "id": "31eb2227-f312-475a-821e-523aa45e8887",
     "prev": "e9280df3-84a6-4c47-9d14-6e30272f869b",
     "regions": {
      "1a39ced2-7288-4d44-bcbd-00d48b125e99": {
       "attrs": {
        "height": 0.8,
        "width": 0.8,
        "x": 0.1,
        "y": 0.1
       },
       "content": {
        "cell": "2f74ac76-231c-4584-b138-95ffa40320d1",
        "part": "whole"
       },
       "id": "1a39ced2-7288-4d44-bcbd-00d48b125e99"
      }
     }
    },
    "3cb55e7a-5165-4e03-9d39-6e330e1d1e2d": {
     "id": "3cb55e7a-5165-4e03-9d39-6e330e1d1e2d",
     "prev": "f4e2ba66-355a-4265-9ac4-37541e44d2fe",
     "regions": {
      "49a15873-2b9c-4c50-988b-14d0b6bcd183": {
       "attrs": {
        "height": 0.8,
        "width": 0.8,
        "x": 0.1,
        "y": 0.1
       },
       "content": {
        "cell": "7621a489-65e6-43ec-a460-bbef6bb9e0c1",
        "part": "whole"
       },
       "id": "49a15873-2b9c-4c50-988b-14d0b6bcd183"
      }
     }
    },
    "5f73e149-42ae-4e08-8a62-300939ab2c59": {
     "id": "5f73e149-42ae-4e08-8a62-300939ab2c59",
     "prev": "653ca55c-9d51-491f-9be3-d44a4899d82c",
     "regions": {
      "884e7e39-de3d-4eff-a7d1-c1a481694f9c": {
       "attrs": {
        "height": 0.8,
        "width": 0.8,
        "x": 0.1,
        "y": 0.1
       },
       "content": {
        "cell": "7bc0b2e0-af88-427d-b65a-0ffce4896712",
        "part": "whole"
       },
       "id": "884e7e39-de3d-4eff-a7d1-c1a481694f9c"
      }
     }
    },
    "653ca55c-9d51-491f-9be3-d44a4899d82c": {
     "id": "653ca55c-9d51-491f-9be3-d44a4899d82c",
     "prev": "1dda7f04-f6ea-495a-a580-1fc6a4f4f67b",
     "regions": {
      "808f0671-9ff3-4757-b1bb-76a781ae3c94": {
       "attrs": {
        "height": 0.8,
        "width": 0.8,
        "x": 0.1,
        "y": 0.1
       },
       "content": {
        "cell": "d50dd0b1-2c8d-4e17-a23e-ccdc1774fa6b",
        "part": "whole"
       },
       "id": "808f0671-9ff3-4757-b1bb-76a781ae3c94"
      }
     }
    },
    "6d61e9b6-578d-4f2c-be51-d6f64c7ddc63": {
     "id": "6d61e9b6-578d-4f2c-be51-d6f64c7ddc63",
     "prev": "8f7cb81a-ba93-4762-b5b3-d56d87921056",
     "regions": {
      "c39df826-6d15-4050-a492-ff1dd19644bf": {
       "attrs": {
        "height": 0.8,
        "width": 0.8,
        "x": 0.1,
        "y": 0.1
       },
       "content": {
        "cell": "e29b8ef8-ce16-4ab1-9817-6bffe3d4462f",
        "part": "whole"
       },
       "id": "c39df826-6d15-4050-a492-ff1dd19644bf"
      }
     }
    },
    "7834f714-bc01-4bea-8f34-983835c77374": {
     "id": "7834f714-bc01-4bea-8f34-983835c77374",
     "prev": "b90ebd3a-4274-4eb5-bcd3-798a4692548b",
     "regions": {
      "9f55bb01-be86-45b7-bd4d-fcd9be9a2064": {
       "attrs": {
        "height": 0.8,
        "width": 0.8,
        "x": 0.1,
        "y": 0.1
       },
       "content": {
        "cell": "f39ead57-a524-4e84-9f24-23f086e983e4",
        "part": "whole"
       },
       "id": "9f55bb01-be86-45b7-bd4d-fcd9be9a2064"
      }
     }
    },
    "8f7cb81a-ba93-4762-b5b3-d56d87921056": {
     "id": "8f7cb81a-ba93-4762-b5b3-d56d87921056",
     "prev": "c488bf19-e84a-4525-9c1f-04cec62eab4d",
     "regions": {
      "19782829-ffa1-4ed1-b078-393eda78bd3d": {
       "attrs": {
        "height": 0.8,
        "width": 0.8,
        "x": 0.1,
        "y": 0.1
       },
       "content": {
        "cell": "e030c57b-1185-4115-9961-14c83b280ebb",
        "part": "whole"
       },
       "id": "19782829-ffa1-4ed1-b078-393eda78bd3d"
      }
     }
    },
    "ac6e8d4d-b56d-4c46-add9-3d357cf5d47e": {
     "id": "ac6e8d4d-b56d-4c46-add9-3d357cf5d47e",
     "prev": "b0cdd7e7-09fa-492b-aa11-853866b6c554",
     "regions": {
      "0df909de-8560-4eff-a61f-d09af6a2ba66": {
       "attrs": {
        "height": 0.8,
        "width": 0.8,
        "x": 0.1,
        "y": 0.1
       },
       "content": {
        "cell": "14593eb3-9121-4578-94ef-5b6e859179a9",
        "part": "whole"
       },
       "id": "0df909de-8560-4eff-a61f-d09af6a2ba66"
      }
     }
    },
    "ad07e0e3-da73-4f46-8940-6ef04cff4452": {
     "id": "ad07e0e3-da73-4f46-8940-6ef04cff4452",
     "prev": "0c2d8da1-27e2-47d4-b74f-635c5beb70d8",
     "regions": {
      "52a8cae3-5e63-49b6-82f2-70e6beb83129": {
       "attrs": {
        "height": 0.8,
        "width": 0.8,
        "x": 0.1,
        "y": 0.1
       },
       "content": {
        "cell": "e7eea542-736c-48c5-abde-80ec4b1614bc",
        "part": "whole"
       },
       "id": "52a8cae3-5e63-49b6-82f2-70e6beb83129"
      }
     }
    },
    "b0cdd7e7-09fa-492b-aa11-853866b6c554": {
     "id": "b0cdd7e7-09fa-492b-aa11-853866b6c554",
     "prev": "2187a5d9-a46d-4f52-9655-5ccb82bb805d",
     "regions": {
      "f72f7126-5474-4257-bab4-0a449b961715": {
       "attrs": {
        "height": 0.8,
        "width": 0.8,
        "x": 0.1,
        "y": 0.1
       },
       "content": {
        "cell": "f67b6cc6-e989-465d-a0b7-278119fd2a8a",
        "part": "whole"
       },
       "id": "f72f7126-5474-4257-bab4-0a449b961715"
      }
     }
    },
    "b90ebd3a-4274-4eb5-bcd3-798a4692548b": {
     "id": "b90ebd3a-4274-4eb5-bcd3-798a4692548b",
     "prev": "ac6e8d4d-b56d-4c46-add9-3d357cf5d47e",
     "regions": {
      "5da75864-8e4a-4868-9e02-af4057afa02e": {
       "attrs": {
        "height": 0.8,
        "width": 0.8,
        "x": 0.1,
        "y": 0.1
       },
       "content": {
        "cell": "cf25345f-df83-4932-951d-90bd83cb6998",
        "part": "whole"
       },
       "id": "5da75864-8e4a-4868-9e02-af4057afa02e"
      }
     }
    },
    "c488bf19-e84a-4525-9c1f-04cec62eab4d": {
     "id": "c488bf19-e84a-4525-9c1f-04cec62eab4d",
     "prev": "06258075-9b16-4f53-af28-72c7cb9a3971",
     "regions": {
      "d8b55cfd-4646-4df5-8292-94cafc17eeef": {
       "attrs": {
        "height": 0.8,
        "width": 0.8,
        "x": 0.1,
        "y": 0.1
       },
       "content": {
        "cell": "48c3c69a-8ccb-48a7-a3fc-2edbc5dc1ddb",
        "part": "whole"
       },
       "id": "d8b55cfd-4646-4df5-8292-94cafc17eeef"
      }
     }
    },
    "e9280df3-84a6-4c47-9d14-6e30272f869b": {
     "id": "e9280df3-84a6-4c47-9d14-6e30272f869b",
     "prev": "2a31759b-6572-42d1-be3b-b4fac9be41fc",
     "regions": {
      "3aa6b2be-b9cb-4574-aeeb-f976310beecf": {
       "attrs": {
        "height": 0.8,
        "width": 0.8,
        "x": 0.1,
        "y": 0.1
       },
       "content": {
        "cell": "bb614002-407c-44cf-a04b-568edea90e85",
        "part": "whole"
       },
       "id": "3aa6b2be-b9cb-4574-aeeb-f976310beecf"
      }
     }
    },
    "f4e2ba66-355a-4265-9ac4-37541e44d2fe": {
     "id": "f4e2ba66-355a-4265-9ac4-37541e44d2fe",
     "prev": null,
     "regions": {
      "d016774e-b49e-48bc-8898-38d257e01f98": {
       "attrs": {
        "height": 0.8,
        "width": 0.8,
        "x": 0.1,
        "y": 0.1
       },
       "content": {
        "cell": "4ef25792-bb59-4423-9595-362550e8d4db",
        "part": "whole"
       },
       "id": "d016774e-b49e-48bc-8898-38d257e01f98"
      }
     }
    }
   },
   "themes": {}
  }
 },
 "nbformat": 4,
 "nbformat_minor": 2
}
